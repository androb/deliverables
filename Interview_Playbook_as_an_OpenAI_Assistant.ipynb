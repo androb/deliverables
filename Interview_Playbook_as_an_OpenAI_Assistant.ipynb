{
  "cells": [
    {
      "cell_type": "code",
      "execution_count": 3,
      "metadata": {
        "id": "VUl5weFbTGj4"
      },
      "outputs": [],
      "source": [
        "# !apt-get update\n",
        "# !apt-get install wkhtmltopdf pandoc libfontconfig1 libxrender1 libxext6\n",
        "# !apt --fix-broken install"
      ]
    },
    {
      "cell_type": "code",
      "execution_count": 4,
      "metadata": {
        "colab": {
          "base_uri": "https://localhost:8080/"
        },
        "id": "azLYd2_T9j3p",
        "outputId": "f99c4218-325c-4b2c-dea4-fe8a12b2f281"
      },
      "outputs": [
        {
          "name": "stdout",
          "output_type": "stream",
          "text": [
            "Requirement already satisfied: OpenAI in /Users/andrewroberts/anaconda3/envs/deliverables/lib/python3.12/site-packages (1.6.0)\n",
            "Requirement already satisfied: markdown in /Users/andrewroberts/anaconda3/envs/deliverables/lib/python3.12/site-packages (3.5.1)\n",
            "Requirement already satisfied: mdx_truly_sane_lists in /Users/andrewroberts/anaconda3/envs/deliverables/lib/python3.12/site-packages (1.3)\n",
            "Requirement already satisfied: weasyprint in /Users/andrewroberts/anaconda3/envs/deliverables/lib/python3.12/site-packages (60.2)\n",
            "Requirement already satisfied: python-dotenv in /Users/andrewroberts/anaconda3/envs/deliverables/lib/python3.12/site-packages (1.0.0)\n",
            "Requirement already satisfied: pango in /Users/andrewroberts/anaconda3/envs/deliverables/lib/python3.12/site-packages (0.0.1)\n",
            "Requirement already satisfied: anyio<5,>=3.5.0 in /Users/andrewroberts/anaconda3/envs/deliverables/lib/python3.12/site-packages (from OpenAI) (4.2.0)\n",
            "Requirement already satisfied: distro<2,>=1.7.0 in /Users/andrewroberts/anaconda3/envs/deliverables/lib/python3.12/site-packages (from OpenAI) (1.8.0)\n",
            "Requirement already satisfied: httpx<1,>=0.23.0 in /Users/andrewroberts/anaconda3/envs/deliverables/lib/python3.12/site-packages (from OpenAI) (0.25.2)\n",
            "Requirement already satisfied: pydantic<3,>=1.9.0 in /Users/andrewroberts/anaconda3/envs/deliverables/lib/python3.12/site-packages (from OpenAI) (2.5.2)\n",
            "Requirement already satisfied: sniffio in /Users/andrewroberts/anaconda3/envs/deliverables/lib/python3.12/site-packages (from OpenAI) (1.3.0)\n",
            "Requirement already satisfied: tqdm>4 in /Users/andrewroberts/anaconda3/envs/deliverables/lib/python3.12/site-packages (from OpenAI) (4.66.1)\n",
            "Requirement already satisfied: typing-extensions<5,>=4.7 in /Users/andrewroberts/anaconda3/envs/deliverables/lib/python3.12/site-packages (from OpenAI) (4.9.0)\n",
            "Requirement already satisfied: pydyf>=0.8.0 in /Users/andrewroberts/anaconda3/envs/deliverables/lib/python3.12/site-packages (from weasyprint) (0.8.0)\n",
            "Requirement already satisfied: cffi>=0.6 in /Users/andrewroberts/anaconda3/envs/deliverables/lib/python3.12/site-packages (from weasyprint) (1.16.0)\n",
            "Requirement already satisfied: html5lib>=1.1 in /Users/andrewroberts/anaconda3/envs/deliverables/lib/python3.12/site-packages (from weasyprint) (1.1)\n",
            "Requirement already satisfied: tinycss2>=1.0.0 in /Users/andrewroberts/anaconda3/envs/deliverables/lib/python3.12/site-packages (from weasyprint) (1.2.1)\n",
            "Requirement already satisfied: cssselect2>=0.1 in /Users/andrewroberts/anaconda3/envs/deliverables/lib/python3.12/site-packages (from weasyprint) (0.7.0)\n",
            "Requirement already satisfied: Pyphen>=0.9.1 in /Users/andrewroberts/anaconda3/envs/deliverables/lib/python3.12/site-packages (from weasyprint) (0.14.0)\n",
            "Requirement already satisfied: Pillow>=9.1.0 in /Users/andrewroberts/anaconda3/envs/deliverables/lib/python3.12/site-packages (from weasyprint) (10.1.0)\n",
            "Requirement already satisfied: fonttools>=4.0.0 in /Users/andrewroberts/anaconda3/envs/deliverables/lib/python3.12/site-packages (from fonttools[woff]>=4.0.0->weasyprint) (4.47.0)\n",
            "Requirement already satisfied: idna>=2.8 in /Users/andrewroberts/anaconda3/envs/deliverables/lib/python3.12/site-packages (from anyio<5,>=3.5.0->OpenAI) (3.6)\n",
            "Requirement already satisfied: pycparser in /Users/andrewroberts/anaconda3/envs/deliverables/lib/python3.12/site-packages (from cffi>=0.6->weasyprint) (2.21)\n",
            "Requirement already satisfied: webencodings in /Users/andrewroberts/anaconda3/envs/deliverables/lib/python3.12/site-packages (from cssselect2>=0.1->weasyprint) (0.5.1)\n",
            "Requirement already satisfied: zopfli>=0.1.4 in /Users/andrewroberts/anaconda3/envs/deliverables/lib/python3.12/site-packages (from fonttools[woff]>=4.0.0->weasyprint) (0.2.3)\n",
            "Requirement already satisfied: brotli>=1.0.1 in /Users/andrewroberts/anaconda3/envs/deliverables/lib/python3.12/site-packages (from fonttools[woff]>=4.0.0->weasyprint) (1.1.0)\n",
            "Requirement already satisfied: six>=1.9 in /Users/andrewroberts/anaconda3/envs/deliverables/lib/python3.12/site-packages (from html5lib>=1.1->weasyprint) (1.16.0)\n",
            "Requirement already satisfied: certifi in /Users/andrewroberts/anaconda3/envs/deliverables/lib/python3.12/site-packages (from httpx<1,>=0.23.0->OpenAI) (2023.11.17)\n",
            "Requirement already satisfied: httpcore==1.* in /Users/andrewroberts/anaconda3/envs/deliverables/lib/python3.12/site-packages (from httpx<1,>=0.23.0->OpenAI) (1.0.2)\n",
            "Requirement already satisfied: h11<0.15,>=0.13 in /Users/andrewroberts/anaconda3/envs/deliverables/lib/python3.12/site-packages (from httpcore==1.*->httpx<1,>=0.23.0->OpenAI) (0.14.0)\n",
            "Requirement already satisfied: annotated-types>=0.4.0 in /Users/andrewroberts/anaconda3/envs/deliverables/lib/python3.12/site-packages (from pydantic<3,>=1.9.0->OpenAI) (0.6.0)\n",
            "Requirement already satisfied: pydantic-core==2.14.5 in /Users/andrewroberts/anaconda3/envs/deliverables/lib/python3.12/site-packages (from pydantic<3,>=1.9.0->OpenAI) (2.14.5)\n",
            "Note: you may need to restart the kernel to use updated packages.\n"
          ]
        }
      ],
      "source": [
        "%pip install OpenAI markdown mdx_truly_sane_lists weasyprint python-dotenv pango"
      ]
    },
    {
      "cell_type": "code",
      "execution_count": 5,
      "metadata": {
        "id": "3_jkcGWaQvvs"
      },
      "outputs": [
        {
          "data": {
            "text/plain": [
              "True"
            ]
          },
          "execution_count": 5,
          "metadata": {},
          "output_type": "execute_result"
        }
      ],
      "source": [
        "import os\n",
        "\n",
        "from dotenv import load_dotenv\n",
        "load_dotenv()  # Load the environment variables from .env file\n",
        "\n",
        "# for Google Colab\n",
        "#from google.colab import userdata\n",
        "#os.environ['OPENAI_API_KEY'] = userdata.get('OPENAI_API_KEY')\n",
        "\n",
        "#print(os.environ['OPENAI_API_KEY'])"
      ]
    },
    {
      "cell_type": "markdown",
      "metadata": {
        "id": "G06pKHgsTTNg"
      },
      "source": [
        "# Setup"
      ]
    },
    {
      "cell_type": "code",
      "execution_count": 6,
      "metadata": {
        "id": "ianKdgCtS-Yp"
      },
      "outputs": [],
      "source": [
        "from openai import OpenAI\n",
        "\n",
        "client = OpenAI()\n",
        "\n",
        "# retrieve the Assistant\n",
        "my_assistant = client.beta.assistants.retrieve(\"asst_3WQiw8VJ91XWikievImBqwrZ\")\n",
        "\n",
        "# create a thread\n",
        "my_thread = client.beta.threads.create()\n"
      ]
    },
    {
      "cell_type": "code",
      "execution_count": 7,
      "metadata": {
        "id": "Ic6LwTYy5Dus"
      },
      "outputs": [],
      "source": [
        "import time\n",
        "\n",
        "def create_run_and_display_response(client, my_thread, my_assistant, content, file_ids=None):\n",
        "    \"\"\"\n",
        "    Create a message, run it, and display the response.\n",
        "\n",
        "    Args:\n",
        "    client (Client): The API client.\n",
        "    my_thread (Thread): The thread to post the message to.\n",
        "    my_assistant (Assistant): The assistant to use for the run.\n",
        "    content (str): The content of the message.\n",
        "    file_ids (list, optional): List of file IDs to attach to the message.\n",
        "\n",
        "    Returns:\n",
        "    str: The response content.\n",
        "\n",
        "    Raises:\n",
        "    ValueError: If any of the parameters are invalid.\n",
        "    RuntimeError: If the run does not complete successfully.\n",
        "    \"\"\"\n",
        "\n",
        "    if not all([client, my_thread, my_assistant, content]):\n",
        "        raise ValueError(\"Invalid parameters provided.\")\n",
        "\n",
        "    extra_instructions = \"\"\" ONLY return the content as markdown (with no delimiters) and with no commentary what so ever.\"\"\"\n",
        "\n",
        "    # Create the message\n",
        "    thread_message = client.beta.threads.messages.create(\n",
        "        my_thread.id,\n",
        "        role=\"user\",\n",
        "        content=content + extra_instructions,\n",
        "        file_ids=file_ids or []\n",
        "    )\n",
        "\n",
        "    # Hard code the values for max_retries and wait_seconds\n",
        "    max_retries = 120\n",
        "    wait_seconds = 0.5\n",
        "\n",
        "    # Create a run\n",
        "    run = client.beta.threads.runs.create(\n",
        "        thread_id=my_thread.id,\n",
        "        assistant_id=my_assistant.id\n",
        "    )\n",
        "\n",
        "    # Check the run's status\n",
        "    for _ in range(max_retries):\n",
        "        run = client.beta.threads.runs.retrieve(\n",
        "            thread_id=my_thread.id,\n",
        "            run_id=run.id)\n",
        "        if run.status == \"completed\":\n",
        "            break\n",
        "        time.sleep(wait_seconds)\n",
        "    else:\n",
        "        raise RuntimeError(\"Run did not complete successfully.\")\n",
        "\n",
        "    # Retrieve and return the response\n",
        "    all_messages = client.beta.threads.messages.list(thread_id=my_thread.id)\n",
        "    return all_messages.data[0].content[0].text.value + \"\\n\\n\"\n",
        "\n"
      ]
    },
    {
      "cell_type": "markdown",
      "metadata": {
        "id": "DxSAZm5tzT62"
      },
      "source": [
        "# Initial File Upload and Prompt"
      ]
    },
    {
      "cell_type": "code",
      "execution_count": 8,
      "metadata": {
        "colab": {
          "base_uri": "https://localhost:8080/"
        },
        "id": "G23reYVLTmQc",
        "outputId": "e29e96de-754f-455e-d526-b5e3f459e266"
      },
      "outputs": [
        {
          "name": "stdout",
          "output_type": "stream",
          "text": [
            "--2023-12-19 20:09:03--  https://raw.githubusercontent.com/androb/deliverables/main/interviewplaybook/examples/medical-assistant/job-description.md\n",
            "Resolving raw.githubusercontent.com (raw.githubusercontent.com)... 185.199.109.133, 185.199.111.133, 185.199.108.133, ...\n",
            "Connecting to raw.githubusercontent.com (raw.githubusercontent.com)|185.199.109.133|:443... connected.\n",
            "HTTP request sent, awaiting response... 200 OK\n",
            "Length: 2483 (2.4K) [text/plain]\n",
            "Saving to: ‘temp_files/jobdescription.txt’\n",
            "\n",
            "temp_files/jobdescr 100%[===================>]   2.42K  --.-KB/s    in 0s      \n",
            "\n",
            "2023-12-19 20:09:03 (19.3 MB/s) - ‘temp_files/jobdescription.txt’ saved [2483/2483]\n",
            "\n",
            "--2023-12-19 20:09:03--  https://raw.githubusercontent.com/androb/deliverables/main/interviewplaybook/examples/medical-assistant/about-company.md\n",
            "Resolving raw.githubusercontent.com (raw.githubusercontent.com)... 185.199.111.133, 185.199.108.133, 185.199.110.133, ...\n",
            "Connecting to raw.githubusercontent.com (raw.githubusercontent.com)|185.199.111.133|:443... connected.\n",
            "HTTP request sent, awaiting response... 200 OK\n",
            "Length: 2866 (2.8K) [text/plain]\n",
            "Saving to: ‘temp_files/companyvalues.txt’\n",
            "\n",
            "temp_files/companyv 100%[===================>]   2.80K  --.-KB/s    in 0s      \n",
            "\n",
            "2023-12-19 20:09:04 (12.7 MB/s) - ‘temp_files/companyvalues.txt’ saved [2866/2866]\n",
            "\n"
          ]
        }
      ],
      "source": [
        "# get the job description from GitHub\n",
        "import time\n",
        "\n",
        "\n",
        "file_path = 'temp_files/jobdescription.txt'\n",
        "# infra engineer example\n",
        "#!wget -O file_path https://raw.githubusercontent.com/androb/deliverables/main/interviewplaybook/examples/infra-engineer/job-description.md\n",
        "# medical assistant example\n",
        "!wget -O 'temp_files/jobdescription.txt' https://raw.githubusercontent.com/androb/deliverables/main/interviewplaybook/examples/medical-assistant/job-description.md\n",
        "\n",
        "# load it into a variable for later use\n",
        "with open(file_path, 'r') as file:\n",
        "    job_description = file.read()\n",
        "\n",
        "# infra engineer example\n",
        "# !wget -O companyvalues.txt https://raw.githubusercontent.com/androb/deliverables/main/interviewplaybook/examples/infra-engineer/company-values.md\n",
        "# medical assistant example\n",
        "!wget -O 'temp_files/companyvalues.txt' https://raw.githubusercontent.com/androb/deliverables/main/interviewplaybook/examples/medical-assistant/about-company.md\n",
        "# time.sleep(5)\n",
        "\n",
        "\n",
        "# Upload the file\n",
        "file_company_values = client.files.create(\n",
        "  file=open(\"temp_files/companyvalues.txt\", \"rb\"),\n",
        "  purpose=\"assistants\"\n",
        ")\n",
        "\n",
        "# Upload the file\n",
        "file_job_description = client.files.create(\n",
        "  file=open(\"temp_files/jobdescription.txt\", \"rb\"),\n",
        "  purpose=\"assistants\"\n",
        ")\n",
        "time.sleep(5)\n",
        "\n"
      ]
    },
    {
      "cell_type": "markdown",
      "metadata": {
        "id": "1wzWtt6hzFsR"
      },
      "source": [
        "# Priming the Pump"
      ]
    },
    {
      "cell_type": "code",
      "execution_count": 9,
      "metadata": {
        "colab": {
          "base_uri": "https://localhost:8080/"
        },
        "id": "ip0AjmHHB2nQ",
        "outputId": "445a12aa-467a-4aaf-a22f-1ebc0a5e14d7"
      },
      "outputs": [
        {
          "name": "stdout",
          "output_type": "stream",
          "text": [
            "# About Stanford Health Care - University Healthcare Alliance\n",
            "\n",
            "## Mission\n",
            "To be the premier community network for the Stanford Health Care System, delivering the best patient experience with the most effective clinical outcomes.  \n",
            "\n",
            "## Vision  \n",
            "Healing humanity through science and compassion, one patient at a time.\n",
            "\n",
            "## Values\n",
            "- **Innovation**: Embracing innovation, change and continuous improvement to raise the quality of care and shape the future of medicine.\n",
            "- **Connection**: Cultivating community, connection and care for each other to nurture trust, respect, belonging and shared purpose.\n",
            "- **Teamwork**: Collaborating across roles, ranks, units, and departments to unlock possibilities for greater impact and fulfillment.\n",
            "- **Mentorship**: Nurturing and pursuing ongoing professional growth to enjoy impactful and fulfilling careers.\n",
            "- **Participation**: Freely sharing opinions and valuing diverse backgrounds and contributions to improve decision-making, outcomes, and engagement.\n",
            "- **Action**: Uniting diverse perspectives and expertise for the greater good.\n",
            "\n",
            "\n"
          ]
        }
      ],
      "source": [
        "# Refresh the context to ensure it has read the files\n",
        "pump_primer = create_run_and_display_response(client,my_thread,my_assistant,\"\"\"\n",
        "            Write a detailed description of the company values from the company values file, using the company name.\n",
        "            Then, write the job title contained in the job description file.\n",
        "            Then, create the list of technical competencies, which MUST cover the areas mentioned in the\n",
        "            requirements in the job description (and no more). Create the list of behavioral\n",
        "            competencies, with a focus on the company values but still covering all requirements in the\n",
        "            job description. Where possible, describe a competency in a way that aligns with the company values.\n",
        "            Each competency should have a title followed by a short description.\n",
        "            \"\"\", [file_job_description.id, file_company_values.id])\n",
        "print(pump_primer)\n"
      ]
    },
    {
      "cell_type": "markdown",
      "metadata": {
        "id": "IlR4qmAwOGV3"
      },
      "source": [
        "# Create Introduction"
      ]
    },
    {
      "cell_type": "code",
      "execution_count": 10,
      "metadata": {
        "colab": {
          "base_uri": "https://localhost:8080/"
        },
        "id": "C5zuFj7K5r9z",
        "outputId": "882110c3-fe5b-489c-b865-66e1a185b383"
      },
      "outputs": [
        {
          "name": "stdout",
          "output_type": "stream",
          "text": [
            "# Interview Playbook for Medical Assistant II\n",
            "\n",
            "## Introduction\n",
            "\n",
            "Welcome to the Interview Playbook for the Medical Assistant II position at Stanford Health Care - University Healthcare Alliance. This guide is engineered to equip the hiring team with a values-driven approach for identifying and selecting \"A players\" who will not only excel technically but also align with the premier community network's culture and values.\n",
            "\n",
            "The Medical Assistant II role is foundational in providing clinical support to deliver unparalleled patient care. The successful candidate will contribute substantially to our mission of delivering the best patient experience and effective clinical outcomes. During the interview, the objective is to evaluate candidates' technical competencies, such as their clinical acumen and computer proficiency, as well as behavioral competencies that resonate with our values, including innovation, connection, teamwork, mentorship, participation, and decisive action.\n",
            "\n",
            "### Interview Structure\n",
            "\n",
            "The interview will be arranged in the following segments, providing a comprehensive assessment of both technical and behavioral skills, and ensuring alignment with our core values:\n",
            "\n",
            "1. **Introduction and Rapport Building** (5-10 minutes):\n",
            "   - Welcoming the candidate.\n",
            "   - Outlining the interview process.\n",
            "\n",
            "2. **Review of Candidate's Background** (10-15 minutes):\n",
            "   - Discussing previous experience.\n",
            "   - Understanding their path to the Medical Assistant II role.\n",
            "\n",
            "3. **Technical Assessment** (20-30 minutes):\n",
            "   - Evaluating the candidate's clinical competencies and job-related skills.\n",
            "   - Understanding their proficiency with computer systems and electronic medical records.\n",
            "\n",
            "4. **Behavioral Assessment** (20-30 minutes):\n",
            "   - Exploring how the candidate's values align with our company culture.\n",
            "   - Assessing their approach to teamwork, communication, and continuous improvement.\n",
            "\n",
            "5. **Practical Assignment Review** (if applicable) (15-20 minutes):\n",
            "   - Presenting a task relevant to their role.\n",
            "   - Observing their problem-solving and application of knowledge.\n",
            "\n",
            "6. **Team Interaction** (optional, based on role requirements) (15-20 minutes):\n",
            "   - Introducing the candidate to potential team members.\n",
            "   - Gauging team dynamics and fit.\n",
            "\n",
            "7. **Candidate's Questions and Concluding the Interview** (10-15 minutes):\n",
            "   - Answering any questions the candidate may have about the role or company.\n",
            "   - Thanking the candidate for their time and explaining the next steps.\n",
            "\n",
            "The expected length of the interview should range from 60 to 90 minutes, ensuring a comprehensive evaluation of the candidate's fit for the Medical Assistant II position. The competencies listed will be the focus of both the Technical and Behavioral Assessments during the interview.\n",
            "\n",
            "\n"
          ]
        }
      ],
      "source": [
        "introduction = create_run_and_display_response(client,my_thread,my_assistant,\"Generate the Introduction with the Candidate Profle (only if applicable) and Interview Structure. Be sure to include mention of the competencies in the interview structure.\")\n",
        "print(introduction)"
      ]
    },
    {
      "cell_type": "markdown",
      "metadata": {
        "id": "wbojM0Og4s_m"
      },
      "source": [
        "# Create Evaluation Criteria"
      ]
    },
    {
      "cell_type": "code",
      "execution_count": 11,
      "metadata": {
        "colab": {
          "base_uri": "https://localhost:8080/"
        },
        "id": "WoY0tlUkkCdk",
        "outputId": "4867b20f-788c-41c4-fb5a-76fb49d99171"
      },
      "outputs": [
        {
          "name": "stdout",
          "output_type": "stream",
          "text": [
            "## Evaluation Criteria\n",
            "\n",
            "This Evaluation Criteria section outlines how to objectively assess the candidate's qualifications for the Medical Assistant II position. Use this guide to keep track of observations and provide comments during the interview process.\n",
            "\n",
            "| Competency                 | Assessment | Comments |\n",
            "|----------------------------|------------|----------|\n",
            "| Clinical Skills            |            |          |\n",
            "| Communication Skills       |            |          |\n",
            "| Computer Proficiency       |            |          |\n",
            "| Organizational Ability     |            |          |\n",
            "| Policy and Procedure Adherence |        |          |\n",
            "| Problem-Solving            |            |          |\n",
            "| Team Collaboration         |            |          |\n",
            "| Initiative Taking          |            |          |\n",
            "| Adaptability to Change     |            |          |\n",
            "| Commitment to Patient Care |            |          |\n",
            "| Practical Assignment       |            |          |\n",
            "| Team Interaction           |            |          |\n",
            "\n",
            "### Rating Guide\n",
            "\n",
            "1. Poor - The candidate's performance fails to meet the job requirements in this area.\n",
            "2. Fair - The candidate meets some but not all of the job requirements.\n",
            "3. Good - The candidate meets the job requirements and displays average competence.\n",
            "4. Very Good - The candidate exceeds expectations and displays advanced proficiency.\n",
            "5. Excellent - The candidate demonstrates exceptional performance and mastery in this area.\n",
            "\n",
            "\n"
          ]
        }
      ],
      "source": [
        "eval_criteria = create_run_and_display_response(client,my_thread,my_assistant,\"\"\"\n",
        "    Generate the Evaluation Critera section.\n",
        "    \"\"\")\n",
        "print(eval_criteria)"
      ]
    },
    {
      "cell_type": "markdown",
      "metadata": {
        "id": "9XgTU1JEzfEa"
      },
      "source": [
        "# Create Technical Assessment"
      ]
    },
    {
      "cell_type": "code",
      "execution_count": 12,
      "metadata": {
        "colab": {
          "base_uri": "https://localhost:8080/"
        },
        "id": "6W7Mp4JwzhNW",
        "outputId": "1cf9a68e-dae6-46fc-ccc6-3c614387094c"
      },
      "outputs": [
        {
          "name": "stdout",
          "output_type": "stream",
          "text": [
            "## Technical Assessment\n",
            "\n",
            "Assessing the mastery of clinical procedures and the ability to provide exceptional patient care is critical for a Medical Assistant II. The candidate must demonstrate an advanced understanding of job skills, including the use of C-I-CARE templates for world-class service standards, and patient care protocols.\n",
            "\n",
            "### Technical Competence 1: Clinical Skills\n",
            "\n",
            "Clinical skills are the cornerstone of the Medical Assistant II role at Stanford Health Care - University Healthcare Alliance. This competency ensures the candidate has the ability to perform clinical tasks, utilize C-I-CARE standards effectively, and support patient care with the required finesse and expertise.\n",
            "\n",
            "#### Lead Question\n",
            "\n",
            "Describe a time when you had to go beyond the standard care procedures to accommodate a patient's needs. How did you ensure that your actions were in line with C-I-CARE standards, and what was the outcome?\n",
            "\n",
            "#### Probing Questions\n",
            "\n",
            "- Can you walk me through the steps you take to prepare for and assist with physician procedures?\n",
            "- How do you manage patient portal messages to ensure timely and accurate communication?\n",
            "- What strategies do you use to stay up-to-date with the latest patient care protocols and clinical best practices?\n",
            "- Tell me about a situation where you had to adapt the use of C-I-CARE templates to a unique clinical scenario.\n",
            "\n",
            "#### Scenario\n",
            "\n",
            "Imagine you are the Medical Assistant II at Stanford Health Care - University Healthcare Alliance, and you're assigned a patient who is anxious about an upcoming invasive procedure. How would you use the C-I-CARE templates to provide care and comfort to the patient while assisting the physician with the procedure?\n",
            "\n",
            "#### Tips\n",
            "\n",
            "Listen for the candidate's ability to articulate their clinical experience and alignment with C-I-CARE values. Evaluate not only their technical knowledge but also their empathy, problem-solving, and adaptability in handling patient care scenarios.\n",
            "\n",
            "\n"
          ]
        }
      ],
      "source": [
        "technical_assessment_1 = create_run_and_display_response(client,my_thread,my_assistant,\"Generate the first Technical Assessment\")\n",
        "print(technical_assessment_1)\n"
      ]
    },
    {
      "cell_type": "code",
      "execution_count": 13,
      "metadata": {
        "colab": {
          "base_uri": "https://localhost:8080/"
        },
        "id": "xf9T4lGVTLoI",
        "outputId": "6f3a3677-a864-4d9e-8370-872d9851b091"
      },
      "outputs": [
        {
          "name": "stdout",
          "output_type": "stream",
          "text": [
            "### Technical Competence 2: Computer Proficiency\n",
            "\n",
            "Computer proficiency is crucial for a Medical Assistant II to manage electronic medical records and utilize various software tools effectively. This competency ensures the candidate can handle the digital aspects of the role, including mastery of Microsoft Office and other relevant systems for efficient operation within a healthcare setting.\n",
            "\n",
            "#### Lead Question\n",
            "\n",
            "How do you ensure accuracy and efficiency when managing electronic medical records, and can you give an example of how you've used Microsoft Office to streamline clinical processes?\n",
            "\n",
            "#### Probing Questions\n",
            "\n",
            "- Describe a challenging situation you faced with electronic medical records and how you overcame it.\n",
            "- How have you used Microsoft Excel or other Office tools to support patient care or administrative duties?\n",
            "- Can you provide an instance where your computer skills significantly improved the outcome of a patient care task?\n",
            "- What systems have you used in previous roles, and how did you ensure you stayed up to date with their updates and changes?\n",
            "\n",
            "#### Scenario\n",
            "\n",
            "As a Medical Assistant II at Stanford Health Care - University Healthcare Alliance, you're tasked with creating a report using patient data from electronic medical records that will be used to improve clinic procedures. Detail your approach to this task, highlighting your use of Microsoft Office tools, and describe the steps you would take to ensure data accuracy and confidentiality.\n",
            "\n",
            "#### Tips\n",
            "\n",
            "The candidate's response should indicate a thorough understanding of electronic medical records, proficiency with Microsoft Office, and the ability to leverage technology to enhance patient care. Look for examples of problem-solving, attention to detail, and ongoing learning in their approach to computer tasks.\n",
            "\n",
            "\n"
          ]
        }
      ],
      "source": [
        "technical_assessment_2 = create_run_and_display_response(client,my_thread,my_assistant,\"Generate the 2nd Technical Assessment. Don't include the main section header.\")\n",
        "print(technical_assessment_2)"
      ]
    },
    {
      "cell_type": "code",
      "execution_count": 14,
      "metadata": {
        "colab": {
          "base_uri": "https://localhost:8080/"
        },
        "id": "7nLQIDWITOVT",
        "outputId": "3795c8bd-60b3-4f36-b717-79fe16e370ef"
      },
      "outputs": [
        {
          "name": "stdout",
          "output_type": "stream",
          "text": [
            "### Technical Competence 3: Organizational Ability\n",
            "\n",
            "Organizational skills are essential for managing the multi-faceted responsibilities of a Medical Assistant II. This competency highlights the candidate’s effectiveness in prioritizing tasks, managing time efficiently, and multi-tasking in a high-paced medical environment.\n",
            "\n",
            "#### Lead Question\n",
            "\n",
            "How do you prioritize and organize your daily tasks to ensure the smooth operation of the clinic, and can you provide an example of how your organizational skills have positively impacted patient care?\n",
            "\n",
            "#### Probing Questions\n",
            "\n",
            "- Discuss how you manage the demands of multiple tasks while ensuring accuracy and attention to detail.\n",
            "- Explain your system for keeping track of patient appointments, procedures, and follow-up care.\n",
            "- Describe a time when you had to adjust your planned schedule due to unexpected circumstances and how you handled it.\n",
            "- Can you tell us about a time your organizational skills helped to improve a process or procedure in the healthcare setting?\n",
            "\n",
            "#### Scenario\n",
            "\n",
            "You are a Medical Assistant II at Stanford Health Care - University Healthcare Alliance, and on a particularly busy day, you're responsible for coordinating patient flow, assisting with clinical procedures, and managing administrative tasks. Outline how you would organize your responsibilities to ensure efficient and effective patient care without compromising the quality of work.\n",
            "\n",
            "#### Tips\n",
            "\n",
            "Evaluate the candidate’s ability to articulate their prioritization strategies, as well as their capacity to adapt to changing environments. Assess their multitasking skills and the impact of their organizational abilities on the overall patient experience and clinical outcomes.\n",
            "\n",
            "\n"
          ]
        }
      ],
      "source": [
        "technical_assessment_3 = create_run_and_display_response(client,my_thread,my_assistant,\"Generate the 3rd Technical Assessment. Don't include the main section header.\")\n",
        "print(technical_assessment_3)"
      ]
    },
    {
      "cell_type": "code",
      "execution_count": 15,
      "metadata": {
        "colab": {
          "base_uri": "https://localhost:8080/"
        },
        "id": "18RhkvioTRTW",
        "outputId": "84099d49-b302-4a1f-da7c-a0eaf770596f"
      },
      "outputs": [
        {
          "name": "stdout",
          "output_type": "stream",
          "text": [
            "### Technical Competence 4: Policy and Procedure Adherence\n",
            "\n",
            "Adhering to policies and procedures is necessary to maintain safety and compliance in a healthcare environment. This competency ensures the candidate follows strict guidelines for Basic Life Support (BLS) certification, physical activities, and handling biohazard materials.\n",
            "\n",
            "#### Lead Question\n",
            "\n",
            "Discuss how you ensure adherence to healthcare policies and procedures, especially relating to Basic Life Support and the handling of biohazards.\n",
            "\n",
            "#### Probing Questions\n",
            "\n",
            "- Can you detail your experience with Basic Life Support in a clinical setting and how you maintain your certification?\n",
            "- Describe a situation where you had to follow specific procedures for interacting with clinical equipment and machinery.\n",
            "- Explain the precautions you take when working with biohazards like bloodborne pathogens.\n",
            "- Share an example of how you've contributed to a safe and compliant work environment through your understanding and application of workplace policies.\n",
            "\n",
            "#### Scenario\n",
            "\n",
            "At Stanford Health Care - University Healthcare Alliance, you encounter a situation where a patient is experiencing severe respiratory distress. Walk me through the steps you would take according to BLS guidelines and detail your method for documentation and compliance with our procedures.\n",
            "\n",
            "#### Tips\n",
            "\n",
            "Assess the candidate’s knowledge of BLS and other pertinent certifications, as well as their practical experience with safety protocols. Their responses should highlight a commitment to maintaining a safe working environment and ability to respond to emergencies in compliance with established guidelines.\n",
            "\n",
            "\n"
          ]
        }
      ],
      "source": [
        "technical_assessment_4 = create_run_and_display_response(client,my_thread,my_assistant,\"Generate the 4th Technical Assessment. Don't include the main section header.\")\n",
        "print(technical_assessment_4)"
      ]
    },
    {
      "cell_type": "code",
      "execution_count": 16,
      "metadata": {
        "colab": {
          "base_uri": "https://localhost:8080/"
        },
        "id": "2W1k4KMwTWYo",
        "outputId": "c8b18291-db52-4cdc-d768-601f1d0ed93e"
      },
      "outputs": [
        {
          "name": "stdout",
          "output_type": "stream",
          "text": [
            "### Technical Competence 5: Team Collaboration\n",
            "\n",
            "Team collaboration is essential for the seamless integration of a Medical Assistant II into the patient care team, ensuring the highest standards of care. This competency is about the ability to work effectively with colleagues, communicate clearly, and contribute to a cohesive team environment.\n",
            "\n",
            "#### Lead Question\n",
            "\n",
            "Can you share an experience where your ability to collaborate with a team led to a positive outcome for patient care?\n",
            "\n",
            "#### Probing Questions\n",
            "\n",
            "- How do you communicate and coordinate with other team members to ensure a consistent and efficient patient experience?\n",
            "- Tell us about a time when you had to work closely with other healthcare professionals and how you managed to align your efforts.\n",
            "- Describe how you approach conflicts or differing opinions within the team.\n",
            "- What strategies do you use to support and enhance teamwork in a busy healthcare environment?\n",
            "\n",
            "#### Scenario\n",
            "\n",
            "You are part of the clinic patient care team at Stanford Health Care - University Healthcare Alliance, and a scenario arises where quick and decisive team action is required to handle a clinical emergency. Outline the steps you would take to collaborate with your team members and ensure a coordinated response.\n",
            "\n",
            "#### Tips\n",
            "\n",
            "Look for indicators of the candidate's communication style, conflict resolution abilities, and how they contribute to a team setting. They should demonstrate a track record of partnership, mutual respect, and shared responsibility in team scenarios, aligned with our values of connection and teamwork.\n",
            "\n",
            "\n"
          ]
        }
      ],
      "source": [
        "technical_assessment_5 = create_run_and_display_response(client,my_thread,my_assistant,\"Generate the 5th Technical Assessment. Don't include the main section header.\")\n",
        "print(technical_assessment_5)"
      ]
    },
    {
      "cell_type": "code",
      "execution_count": 17,
      "metadata": {
        "id": "TqPsbclGTZmJ"
      },
      "outputs": [],
      "source": [
        "technical_assessment = technical_assessment_1 + technical_assessment_2 + technical_assessment_3 + technical_assessment_4 + technical_assessment_5"
      ]
    },
    {
      "cell_type": "markdown",
      "metadata": {
        "id": "GXQquee34Q9k"
      },
      "source": [
        "# Create Behavioral Assessment"
      ]
    },
    {
      "cell_type": "code",
      "execution_count": 18,
      "metadata": {
        "colab": {
          "base_uri": "https://localhost:8080/"
        },
        "id": "_14Q6lQO4N9R",
        "outputId": "88dc7806-c0c0-4633-d569-05600795c014"
      },
      "outputs": [
        {
          "name": "stdout",
          "output_type": "stream",
          "text": [
            "### Behavioral Competence 1: Innovation\n",
            "\n",
            "Innovation at Stanford Health Care - University Healthcare Alliance involves embracing change and continuously improving to elevate the quality of care. It's about finding and applying new solutions and approaches that will shape the future of healthcare.\n",
            "\n",
            "#### Lead Question\n",
            "\n",
            "Tell me about a time when you initiated a change in your work environment that led to an improvement in patient care or clinic operations.\n",
            "\n",
            "#### Probing Questions\n",
            "\n",
            "- How do you keep up with the latest advancements in healthcare to incorporate into your role?\n",
            "- Share an example where you had to be creative to solve a patient care challenge.\n",
            "- What's the most innovative change you've applied to your work, and what impact did it have?\n",
            "- How do you approach risk when trying a new method or technology in your work?\n",
            "\n",
            "#### Scenario\n",
            "\n",
            "A procedure at Stanford Health Care - University Healthcare Alliance has been identified as in need of improvement to enhance patient satisfaction and care quality. How would you go about innovating a new approach, and what steps would you take to implement and assess its effectiveness?\n",
            "\n",
            "#### Tips\n",
            "\n",
            "Evaluate the candidate's capacity to suggest and implement innovative ideas in alignment with improving patient care. Look for creativity, initiative, and the ability to adapt to and drive change in their responses.\n",
            "\n",
            "\n"
          ]
        }
      ],
      "source": [
        "behavioral_assessment_1 = create_run_and_display_response(client,my_thread,my_assistant,\"Generate the 1st Behavioral Assessment section.\")\n",
        "print(behavioral_assessment_1)"
      ]
    },
    {
      "cell_type": "code",
      "execution_count": 19,
      "metadata": {
        "colab": {
          "base_uri": "https://localhost:8080/"
        },
        "id": "HT3Q_lDjg6SO",
        "outputId": "67bc20fe-4fab-48db-987f-5b48d582516e"
      },
      "outputs": [
        {
          "name": "stdout",
          "output_type": "stream",
          "text": [
            "### Behavioral Competence 2: Connection\n",
            "\n",
            "Connection is about cultivating a sense of community and caring for both patients and colleagues to foster trust, respect, belonging, and shared purpose within Stanford Health Care - University Healthcare Alliance.\n",
            "\n",
            "#### Lead Question\n",
            "\n",
            "Can you describe a time when fostering a connection with a patient or a team member made a significant difference in the outcome of treatment or team dynamics?\n",
            "\n",
            "#### Probing Questions\n",
            "\n",
            "- How do you build connections with new patients and make them feel at ease?\n",
            "- Tell us about a time you went the extra mile to support a colleague or improve team morale.\n",
            "- In what ways do you contribute to creating a positive work environment that reflects our value of connection?\n",
            "- How do you handle a situation where you perceive a lack of trust or connection with a patient or team member?\n",
            "\n",
            "#### Scenario\n",
            "\n",
            "Imagine you’re starting in a new department at Stanford Health Care - University Healthcare Alliance, and you notice a disconnect between staff members, which impacts team cohesion and patient experience. What steps would you take to build a stronger sense of community and connection among your colleagues?\n",
            "\n",
            "#### Tips\n",
            "\n",
            "Look for examples that demonstrate the candidate's ability to engage with patients and colleagues, creating meaningful relationships that enhance the healthcare experience. The candidate should exhibit strong interpersonal skills, empathy, and the drive to maintain a collaborative and supportive work environment.\n",
            "\n",
            "\n"
          ]
        }
      ],
      "source": [
        "behavioral_assessment_2 = create_run_and_display_response(client,my_thread,my_assistant,\"Generate the 2nd Behavioral Assessment section. Don't include the main section header.\")\n",
        "print(behavioral_assessment_2)"
      ]
    },
    {
      "cell_type": "code",
      "execution_count": 20,
      "metadata": {
        "colab": {
          "base_uri": "https://localhost:8080/"
        },
        "id": "lWl-q-ZFhQNU",
        "outputId": "b318ec29-e27e-4df6-ea4b-b2c899155452"
      },
      "outputs": [
        {
          "name": "stdout",
          "output_type": "stream",
          "text": [
            "### Behavioral Competence 3: Teamwork\n",
            "\n",
            "Teamwork at Stanford Health Care - University Healthcare Alliance is about collaborating across different roles, ranks, and departments to unlock new possibilities and achieving a greater impact. It emphasizes the ability to work cohesively within a team to fulfill the shared mission of the organization.\n",
            "\n",
            "#### Lead Question\n",
            "\n",
            "Describe a project or instance where you had to collaborate with a diverse team. How did you ensure effective teamwork and what was the result?\n",
            "\n",
            "#### Probing Questions\n",
            "\n",
            "- How do you handle situations where team members have conflicting ideas about patient care?\n",
            "- Can you give an example of how you have fostered a team environment that is conducive to open discussion and shared decision-making?\n",
            "- What role do you typically take on in a team setting and why?\n",
            "- Tell us about a time when you had to depend on other team members to complete a task. How did you manage and facilitate collaboration?\n",
            "\n",
            "#### Scenario\n",
            "\n",
            "You’re tasked with coordinating a multi-disciplinary team at Stanford Health Care - University Healthcare Alliance, which includes various levels of staff, to implement a new patient care initiative. Detail your approach to assembling the team, delegating responsibilities, and ensuring alignment towards the common goal.\n",
            "\n",
            "#### Tips\n",
            "\n",
            "Focus on the candidate's ability to communicate, delegate, and build consensus within a team setting. Evaluate their understanding of the importance of diverse perspectives and their strategies for harnessing these to achieve the organization's objectives.\n",
            "\n",
            "\n"
          ]
        }
      ],
      "source": [
        "behavioral_assessment_3 = create_run_and_display_response(client,my_thread,my_assistant,\"Generate the 3rd Behavioral Assessment section. Don't include the main section header.\")\n",
        "print(behavioral_assessment_3)"
      ]
    },
    {
      "cell_type": "code",
      "execution_count": 21,
      "metadata": {
        "colab": {
          "base_uri": "https://localhost:8080/"
        },
        "id": "wQKG2ZxmhTbF",
        "outputId": "47f44f15-4bc9-496e-8d2a-89e1e4852337"
      },
      "outputs": [
        {
          "name": "stdout",
          "output_type": "stream",
          "text": [
            "### Behavioral Competence 4: Mentorship\n",
            "\n",
            "Mentorship at Stanford Health Care - University Healthcare Alliance encompasses fostering a culture of professional growth to ensure all team members have impactful and fulfilling careers. This value reflects the organization's commitment to nurturing individual development and sharing knowledge.\n",
            "\n",
            "#### Lead Question\n",
            "\n",
            "Tell us about a time when you mentored someone or were mentored. How did this experience contribute to your professional growth or the growth of others?\n",
            "\n",
            "#### Probing Questions\n",
            "\n",
            "- How do you approach sharing knowledge with new or less experienced colleagues?\n",
            "- What strategies do you use to encourage and support ongoing learning in your team?\n",
            "- Describe how mentorship has influenced your career and how you envision it playing a role at Stanford Health Care - University Healthcare Alliance.\n",
            "- Share an experience when you had to step into a mentor-like role unexpectedly and how you handled it.\n",
            "\n",
            "#### Scenario\n",
            "\n",
            "You observed that a newer colleague at Stanford Health Care - University Healthcare Alliance is struggling with a complex procedure that you’re well-versed in. Develop a plan for how you would mentor this individual to enhance their skills and confidence.\n",
            "\n",
            "#### Tips\n",
            "\n",
            "Assess the candidate's ability to lead by example and their willingness to invest time in mentoring others for shared success. Look for signs of patience, communication, and the initiative to support the growth of their colleagues in alignment with our ethos of mentorship.\n",
            "\n",
            "\n"
          ]
        }
      ],
      "source": [
        "behavioral_assessment_4 = create_run_and_display_response(client,my_thread,my_assistant,\"Generate the 4th Behavioral Assessment section. Don't include the main section header.\")\n",
        "print(behavioral_assessment_4)"
      ]
    },
    {
      "cell_type": "code",
      "execution_count": 22,
      "metadata": {
        "colab": {
          "base_uri": "https://localhost:8080/"
        },
        "id": "gwcBpL0ZhWxW",
        "outputId": "181af5bf-40d9-4c21-d709-4b2fac9062c5"
      },
      "outputs": [
        {
          "name": "stdout",
          "output_type": "stream",
          "text": [
            "### Behavioral Competence 5: Participation\n",
            "\n",
            "Participation within Stanford Health Care - University Healthcare Alliance means actively sharing opinions and valuing diverse backgrounds to enhance decision-making, outcomes, and engagement. It illustrates an inclusive culture where diverse perspectives lead to improved patient care.\n",
            "\n",
            "#### Lead Question\n",
            "\n",
            "Can you discuss a time when your active participation and sharing of opinions led to better decision-making or results in your professional setting?\n",
            "\n",
            "#### Probing Questions\n",
            "\n",
            "- How do you ensure that your voice is heard in a complex healthcare environment?\n",
            "- Describe a scenario where embracing diverse perspectives within a team made a significant impact.\n",
            "- In what ways do you encourage others to participate and express their opinions?\n",
            "- Share an instance where your contribution to a discussion led to a positive change in policy or practice.\n",
            "\n",
            "#### Scenario\n",
            "\n",
            "You are involved in a meeting at Stanford Health Care - University Healthcare Alliance to discuss the improvement of a clinic-wide process. Everyone's opinion is being sought, and there is a range of perspectives on the table. Outline how you would actively participate and help guide the team towards a consensus.\n",
            "\n",
            "#### Tips\n",
            "\n",
            "Evaluate how the candidate demonstrates their commitment to inclusive participation and their methods for fostering an environment where all voices are heard. Look for an understanding of the value of diverse input and real examples of how they have influenced outcomes through active engagement.\n",
            "\n",
            "\n"
          ]
        }
      ],
      "source": [
        "behavioral_assessment_5 = create_run_and_display_response(client,my_thread,my_assistant,\"Generate the 5th Behavioral Assessment section. Don't include the main section header.\")\n",
        "print(behavioral_assessment_5)"
      ]
    },
    {
      "cell_type": "code",
      "execution_count": 23,
      "metadata": {
        "id": "GN20fqZPhhkS"
      },
      "outputs": [],
      "source": [
        "behavioral_assessment = behavioral_assessment_1 + behavioral_assessment_2 + behavioral_assessment_3 + behavioral_assessment_4 + behavioral_assessment_5"
      ]
    },
    {
      "cell_type": "markdown",
      "metadata": {
        "id": "7A6ZM1-G4dQn"
      },
      "source": [
        "# Create Practical Assignment"
      ]
    },
    {
      "cell_type": "code",
      "execution_count": 24,
      "metadata": {
        "colab": {
          "base_uri": "https://localhost:8080/"
        },
        "id": "N_xZRljj4cMB",
        "outputId": "1cfa5c1e-2bea-48d8-a100-1036e0dcfd4b"
      },
      "outputs": [
        {
          "name": "stdout",
          "output_type": "stream",
          "text": [
            "## Practical Assignment\n",
            "\n",
            "The Practical Assignment for the Medical Assistant II position is designed to evaluate the hands-on capabilities of the candidate in real-world scenarios that they would encounter at Stanford Health Care - University Healthcare Alliance. It should focus on measuring not only their technical skills but also how they embody our values, including innovation, connection, teamwork, mentorship, and participation.\n",
            "\n",
            "The assignment could involve:\n",
            "\n",
            "- Conducting a mock patient interview to gather health history and presenting symptoms.\n",
            "- Demonstrating proper sanitization and setup for a medical procedure.\n",
            "- Simulating documentation of patient information into our electronic medical records system.\n",
            "\n",
            "The objective is to observe the candidate in action, assessing their clinical acumen, problem-solving abilities, and how they communicate and interact with patients and staff under simulated conditions.\n",
            "\n",
            "During the evaluation of the Practical Assignment, interviewers should consider:\n",
            "\n",
            "- The candidate's technical proficiency and adherence to clinical best practices.\n",
            "- Their approach to problem-solving and innovation when faced with a clinical challenge.\n",
            "- The effectiveness of their communication skills and ability to build connections with the patient (even in a simulated environment).\n",
            "- How well they collaborate with team members during the simulation.\n",
            "- The initiative they take to ensure patient care and safety, and their participation in the exercise.\n",
            "\n",
            "Interviewers should provide feedback focusing on these elements to assess the candidate’s suitability for the Medical Assistant II role and their potential fit within the organizational culture of Stanford Health Care - University Healthcare Alliance.\n",
            "\n",
            "\n"
          ]
        }
      ],
      "source": [
        "practical_assignment = create_run_and_display_response(client,my_thread,my_assistant,\"Generate the Practical Assignment section.\")\n",
        "print(practical_assignment)\n"
      ]
    },
    {
      "cell_type": "markdown",
      "metadata": {
        "id": "WuW7-2ie4niI"
      },
      "source": [
        "# Create Team Interaction"
      ]
    },
    {
      "cell_type": "code",
      "execution_count": 25,
      "metadata": {
        "colab": {
          "base_uri": "https://localhost:8080/"
        },
        "id": "Tzl6B_wB4prG",
        "outputId": "9cc5ab6e-c357-4ed9-93f1-c00270d5749d"
      },
      "outputs": [
        {
          "name": "stdout",
          "output_type": "stream",
          "text": [
            "## Team Interaction\n",
            "\n",
            "Team interaction is an integral aspect of evaluating the candidate's fit within Stanford Health Care - University Healthcare Alliance. The rationale for including this part in the interview process is to assess how well the candidate could integrate with our existing team, in terms of both skill and alignment with our culture and values such as teamwork, participation, and mentorship.\n",
            "\n",
            "During this stage, the candidate may engage in:\n",
            "\n",
            "- Group discussions on relevant healthcare topics to evaluate their communication and interpersonal skills.\n",
            "- Collaborative problem-solving exercises that test their ability to work in a team and contribute to a shared goal.\n",
            "- Role-playing scenarios that simulate real workplace challenges assessing the candidate's responses and behavior within a team dynamic.\n",
            "\n",
            "The candidate's interaction with potential team members should be observed for signs of adaptability, openness to feedback, and the tendency to foster a collaborative environment. It's an opportunity to see their practical skills in action and to gauge how they might contribute to the team's dynamics and the organization's broader objectives.\n",
            "\n",
            "\n"
          ]
        }
      ],
      "source": [
        "team_interaction = create_run_and_display_response(client,my_thread,my_assistant,\"Generate the Team Interaction section.\")\n",
        "print(team_interaction)"
      ]
    },
    {
      "cell_type": "markdown",
      "metadata": {
        "id": "fwB0KPJM4qSI"
      },
      "source": [
        "# Create Candidate Q&A"
      ]
    },
    {
      "cell_type": "code",
      "execution_count": 26,
      "metadata": {
        "colab": {
          "base_uri": "https://localhost:8080/"
        },
        "id": "9iEeRg924sST",
        "outputId": "14834dc6-7fd1-4eff-f336-c5fb9cd76a3d"
      },
      "outputs": [
        {
          "name": "stdout",
          "output_type": "stream",
          "text": [
            "## Candidate Q&A\n",
            "\n",
            "During the interview process, candidates often have the opportunity to ask questions about the role, the team, and Stanford Health Care - University Healthcare Alliance. Below are potential questions they might ask, with comprehensive example answers.\n",
            "\n",
            "1. **What opportunities are there for professional development within the organization?**\n",
            "   - \"At Stanford Health Care - University Healthcare Alliance, we take pride in our commitment to mentorship and continuous improvement. We offer various professional development programs, including ongoing training sessions, workshops, and the chance to work alongside some of the leading professionals in healthcare.\"\n",
            "\n",
            "2. **How does the Medical Assistant II role contribute to the overall mission of Stanford Health Care?**\n",
            "   - \"The Medical Assistant II is crucial for delivering excellent patient experiences that align with our mission. By performing clinical tasks, managing patient communications, and assisting with procedures, you would directly support our goal of providing the best patient care and clinical outcomes.\"\n",
            "\n",
            "3. **Can you tell me more about how the team works together?**\n",
            "   - \"Our teams collaborate closely, often crossing traditional role boundaries, to ensure the highest quality of patient care. We value teamwork and the creativity that comes from varied perspectives, aiming to create an environment where all members feel connected and engaged in our shared purpose.\"\n",
            "\n",
            "4. **How is innovation encouraged within the organization?**\n",
            "   - \"We embrace innovation through our openness to new ideas and continuous improvement. Employees at all levels are encouraged to share their insights and suggestions, which are considered crucial for shaping the future of our patient care and organizational processes.\"\n",
            "\n",
            "5. **What is the most challenging aspect of the Medical Assistant II position?**\n",
            "   - \"One of the challenges you might face is adapting to the fast-paced environment and the diverse needs of our patients. Balancing clinical duties with patient interaction requires excellent organizational skills. However, we provide training and support to help our staff excel in these areas.\"\n",
            "\n",
            "6. **What makes Stanford Health Care - University Healthcare Alliance unique compared to other healthcare providers?**\n",
            "   - \"What sets us apart is our dedication to healing humanity through science and compassion, one patient at a time. Our approach to healthcare combines cutting-edge science with a heartfelt commitment to patient welfare, which is evident in the close relationships our staff build with patients and each other.\"\n",
            "\n",
            "These questions and answers provide a glimpse into the culture and expectations at Stanford Health Care - University Healthcare Alliance, assisting candidates in understanding the role and the organization's values.\n",
            "\n",
            "\n"
          ]
        }
      ],
      "source": [
        "candidate_questions = create_run_and_display_response(client,my_thread,my_assistant,\"\"\"\n",
        "    Generate the Candidate Q&A section. Include example answers.\n",
        "    \"\"\")\n",
        "print(candidate_questions)"
      ]
    },
    {
      "cell_type": "markdown",
      "metadata": {
        "id": "14LWju-TkCyZ"
      },
      "source": [
        "# Finalize the Playbook HTML"
      ]
    },
    {
      "cell_type": "markdown",
      "metadata": {
        "id": "lQyaspI3Tbu0"
      },
      "source": [
        "## Create a markdown version\n",
        "\n",
        "For use in GitHub as an example"
      ]
    },
    {
      "cell_type": "code",
      "execution_count": 60,
      "metadata": {
        "id": "byUTb57wTXRG"
      },
      "outputs": [],
      "source": [
        "playbook_md = (introduction + \"\\n\\n\" +\n",
        "            job_description + \"\\n\\n\" +\n",
        "            eval_criteria + \"\\n\\n\" +\n",
        "            technical_assessment + \"\\n\\n\" +\n",
        "            behavioral_assessment + \"\\n\\n\" +\n",
        "            practical_assignment + \"\\n\\n\" +\n",
        "            candidate_questions + \"\\n\\n\" +\n",
        "            team_interaction + \"\\n\\n\" )\n",
        "\n",
        "# Write playbook to a text file\n",
        "with open('temp_files/playbook.md', 'w') as file:\n",
        "    file.write(playbook_md)"
      ]
    },
    {
      "cell_type": "markdown",
      "metadata": {
        "id": "hxk5korrTkks"
      },
      "source": [
        "## Convert the markdown to HTML"
      ]
    },
    {
      "cell_type": "markdown",
      "metadata": {
        "id": "LM_V2VoceTjx"
      },
      "source": [
        "We are doing this in chunks so that we can do more useful things with it in the HTML output"
      ]
    },
    {
      "cell_type": "code",
      "execution_count": 28,
      "metadata": {
        "id": "saH2GGfdTjzh"
      },
      "outputs": [],
      "source": [
        "import markdown\n",
        "\n",
        "# Convert Markdown to HTML\n",
        "html_playbook = markdown.markdown(playbook_md, extensions=['extra','mdx_truly_sane_lists'])\n",
        "\n",
        "# Convert Markdown to HTML\n",
        "html_job_description = markdown.markdown(job_description, extensions=['extra','mdx_truly_sane_lists'])\n",
        "html_introduction = markdown.markdown(introduction, extensions=['extra','mdx_truly_sane_lists'])\n",
        "html_technical_assessment = markdown.markdown(technical_assessment, extensions=['extra','mdx_truly_sane_lists'])\n",
        "html_behavioral_assessment = markdown.markdown(behavioral_assessment, extensions=['extra','mdx_truly_sane_lists'])\n",
        "html_practical_assignment = markdown.markdown(practical_assignment, extensions=['extra','mdx_truly_sane_lists'])\n",
        "html_candidate_questions = markdown.markdown(candidate_questions, extensions=['extra','mdx_truly_sane_lists'])\n",
        "html_team_interaction = markdown.markdown(team_interaction, extensions=['extra','mdx_truly_sane_lists'])\n",
        "html_eval_criteria = markdown.markdown(eval_criteria, extensions=['extra','mdx_truly_sane_lists'])\n",
        "\n",
        "\n",
        "html_technical_assessment_1 = markdown.markdown(technical_assessment_1, extensions=['extra','mdx_truly_sane_lists'])\n",
        "html_technical_assessment_2 = markdown.markdown(technical_assessment_2, extensions=['extra','mdx_truly_sane_lists'])\n",
        "html_technical_assessment_3 = markdown.markdown(technical_assessment_3, extensions=['extra','mdx_truly_sane_lists'])\n",
        "html_technical_assessment_4 = markdown.markdown(technical_assessment_4, extensions=['extra','mdx_truly_sane_lists'])\n",
        "html_technical_assessment_5 = markdown.markdown(technical_assessment_5, extensions=['extra','mdx_truly_sane_lists'])\n",
        "\n",
        "html_behavioral_assessment_1 = markdown.markdown(behavioral_assessment_1, extensions=['extra','mdx_truly_sane_lists'])\n",
        "html_behavioral_assessment_2 = markdown.markdown(behavioral_assessment_2, extensions=['extra','mdx_truly_sane_lists'])\n",
        "html_behavioral_assessment_3 = markdown.markdown(behavioral_assessment_3, extensions=['extra','mdx_truly_sane_lists'])\n",
        "html_behavioral_assessment_4 = markdown.markdown(behavioral_assessment_4, extensions=['extra','mdx_truly_sane_lists'])\n",
        "html_behavioral_assessment_5 = markdown.markdown(behavioral_assessment_5, extensions=['extra','mdx_truly_sane_lists'])\n",
        "\n"
      ]
    },
    {
      "cell_type": "markdown",
      "metadata": {
        "id": "KxjjGSt7ddMi"
      },
      "source": [
        " ## Create the style for the document"
      ]
    },
    {
      "cell_type": "markdown",
      "metadata": {
        "id": "b-59Vx2xdrsb"
      },
      "source": [
        "Borrowed colors from this [color palette](https://color.adobe.com/PALETTE-mini-06:-Transparent-color-theme-15d8c4a6-b06a-4530-bf5b-3fc8102ccd69)"
      ]
    },
    {
      "cell_type": "code",
      "execution_count": 29,
      "metadata": {
        "id": "nOfv9gO8db8E"
      },
      "outputs": [],
      "source": [
        "styles= \"\"\"\n",
        "\n",
        "   body {\n",
        "        font-family: Source Sans Pro;\n",
        "        font-size: 11pt;\n",
        "        font-weight: 200;\n",
        "        font-stretch: 75% 125%;\n",
        "        color:#0D0D0D;\n",
        "    }\n",
        "    @page {\n",
        "        margin: 0.65in;\n",
        "        size: Letter;\n",
        "        @bottom-right {\n",
        "          content: counter(page);\n",
        "          font-size: 11pt;\n",
        "          color: #73706C;\n",
        "        }\n",
        "    }\n",
        "    @page :first {\n",
        "        @bottom-right {\n",
        "          content: none;\n",
        "        }\n",
        "    }\n",
        "\n",
        "\n",
        "    h1, h2, h3, h4 {\n",
        "        font-family: Libre Baskerville;\n",
        "        margin-top: 1em;\n",
        "        margin-bottom: 0.5em;\n",
        "    }\n",
        "    h1 {\n",
        "        font-size: 24pt;\n",
        "        margin-top: 3em;\n",
        "        page-break-after: avoid;\n",
        "    }\n",
        "    .intro h1{\n",
        "        font-size: 50pt;\n",
        "        margin-top: 3em;\n",
        "        page-break-after: always;\n",
        "    }\n",
        "    @media print {\n",
        "      /* Define styles for the cover page */\n",
        "      .title {\n",
        "        position: fixed;\n",
        "        left: 0;\n",
        "        top: 0;\n",
        "        width: 100%;\n",
        "        height: 100%;\n",
        "        background-color: #F2F2F2; /* Change as needed */\n",
        "        color: #0D0D0D; /* Change as needed */\n",
        "        text-align: center;\n",
        "        padding: 50px;\n",
        "      }\n",
        "    }\n",
        "    .publication-date {\n",
        "      position: absolute;\n",
        "      bottom: 10px; /* adjust as needed */\n",
        "      width: 100%;\n",
        "      text-align: left;\n",
        "      font-size: 11pt; /* adjust as needed */\n",
        "      color: #73706C; /* adjust as needed */\n",
        "    }\n",
        "\n",
        "\n",
        "    h2 {\n",
        "        font-size: 18pt;\n",
        "        page-break-after: avoid;\n",
        "    }\n",
        "    h3 {\n",
        "        font-size: 14pt;\n",
        "        page-break-after: avoid;\n",
        "    }\n",
        "    h4 {\n",
        "        font-size: 12pt;\n",
        "        page-break-after: avoid;\n",
        "    }\n",
        "    p {\n",
        "        margin-bottom: 1em;\n",
        "    }\n",
        "\n",
        "\n",
        "    h1, h2, h3, h4 {\n",
        "        page-break-after: avoid;\n",
        "    }\n",
        "\n",
        "    p, table, figure {\n",
        "        page-break-inside: avoid;\n",
        "    }\n",
        "    table {\n",
        "        width: 100%;\n",
        "        border-collapse: collapse;\n",
        "        margin-bottom: 1em;\n",
        "        page-break-before: avoid;\n",
        "    }\n",
        "    th, td {\n",
        "        border: 1px solid #ddd;\n",
        "        padding: 8px;\n",
        "        text-align: left;\n",
        "        font-size: 10pt;\n",
        "    }\n",
        "    th {\n",
        "        background-color: #f2f2f2;\n",
        "        font-weight: bold;\n",
        "    }\n",
        "    tr:nth-child(even) {{background-color: #f9f9f9;}}\n",
        "\n",
        "    ul, ol {\n",
        "        margin-bottom: 1em;\n",
        "        margin-left: 0;\n",
        "        padding-left:1.5em;\n",
        "    }\n",
        "    li {\n",
        "        margin-bottom: 0.5em;\n",
        "        margin-left: 0em;\n",
        "    }\n",
        "\n",
        "    .main {\n",
        "      page-break-before: always;\n",
        "    }\n",
        "\n",
        "    .dotted-line {\n",
        "        border-bottom: 1px dotted black;\n",
        "        width: 100%;\n",
        "        margin-top: 20px; /* This ensures spacing between each line */\n",
        "        margin-bottom: 20px; /* Adjust if needed */\n",
        "    }\n",
        "\n",
        "    @media print {\n",
        "        .dotted-line {\n",
        "            margin-top: 20px; /* Adjust as needed for printing */\n",
        "            margin-bottom: 20px; /* Adjust as needed for printing */\n",
        "        }\n",
        "    }\n",
        "\n",
        "    .rating-container {\n",
        "        display: flex;\n",
        "        align-items: flex-end;\n",
        "        margin-top: 20px;\n",
        "        margin-bottom: 20px;\n",
        "    }\n",
        "\n",
        "    .rating-container label {\n",
        "        margin-right: 10px;\n",
        "        font-size: 10pt;\n",
        "        font-family: Source Sans Pro;\n",
        "    }\n",
        "\n",
        "    .short-dotted-line {\n",
        "        border-bottom: 1px dotted black;\n",
        "        width: 150px; /* Adjust the width as needed */\n",
        "        margin-left: 5px;\n",
        "    }}\n",
        "\n",
        "    @media print {\n",
        "        .short-dotted-line {\n",
        "            width: 150px; /* Adjust for printing if needed */\n",
        "        }\n",
        "    }\n",
        "\"\"\""
      ]
    },
    {
      "cell_type": "markdown",
      "metadata": {
        "id": "1H9xK5H3dkHo"
      },
      "source": [
        "## Create some useful HTML snippets"
      ]
    },
    {
      "cell_type": "code",
      "execution_count": 30,
      "metadata": {
        "id": "oCh9kM3_do60"
      },
      "outputs": [],
      "source": [
        "\n",
        "html_notes = \"\"\"<h4>Notes</h4><div class='notes'>\n",
        "    <div class=\"dotted-line\"></div>\n",
        "    <div class=\"dotted-line\"></div>\n",
        "    <div class=\"dotted-line\"></div>\n",
        "    <div class=\"dotted-line\"></div>\n",
        "    <div class=\"dotted-line\"></div>\n",
        "    <div class=\"dotted-line\"></div>\n",
        "    <div class=\"dotted-line\"></div>\n",
        "    <div class=\"rating-container\">\n",
        "    <label for=\"rating-line\">Rating (1-5):</label>\n",
        "    <div id=\"rating-line\" class=\"short-dotted-line\"></div>\n",
        "    </div>\n",
        "</div>\"\"\"\n",
        "\n",
        "html_short_notes = \"\"\"<h4>Notes</h4><div class='notes'>\n",
        "    <div class=\"dotted-line\"></div>\n",
        "    <div class=\"dotted-line\"></div>\n",
        "    <div class=\"dotted-line\"></div>\n",
        "    <div class=\"dotted-line\"></div>\n",
        "    <div class=\"rating-container\">\n",
        "    <label for=\"rating-line\">Rating (1-5):</label>\n",
        "    <div class=\"short-dotted-line\"></div>\n",
        "    </div>\n",
        "</div>\"\"\"\n",
        "\n",
        "from datetime import datetime\n",
        "\n",
        "# Getting today's date in a nicely formatted string for US English\n",
        "publication_date = datetime.now().strftime(\"%B %d, %Y\")"
      ]
    },
    {
      "cell_type": "markdown",
      "metadata": {
        "id": "S9YOnvQrds_P"
      },
      "source": [
        "## Build the HTML"
      ]
    },
    {
      "cell_type": "code",
      "execution_count": 54,
      "metadata": {
        "id": "HZ5d6Q8ij_Rd"
      },
      "outputs": [],
      "source": [
        "# Define the HTML template\n",
        "html_content = rf\"\"\"\n",
        "<meta charset=\"utf-8\">\n",
        "<html>\n",
        "<head>\n",
        "  <link href=\"https://fonts.googleapis.com/css2?family=Source%20Sans%20Pro:wght@400;700\" rel=\"stylesheet\">\n",
        "  <link href=\"https://fonts.googleapis.com/css2?family=Libre%20Baskerville:wght@400;700\" rel=\"stylesheet\">\n",
        "  <style>\n",
        "  {styles}\n",
        "  </style>\n",
        "</head>\n",
        "<body>\n",
        "    <section class='intro'>\n",
        "    <div class=\"publication-date\">Published on {publication_date} by the <a href=\"https://github.com/androb/deliverables/tree/main/interviewplaybook\">Interview Playbook Generator</a>!</div>\n",
        "    {html_introduction}\n",
        "    </section>\n",
        "    <section class='main'>\n",
        "    {html_job_description}\n",
        "    </section>\n",
        "    <section class='main'>\n",
        "    {html_eval_criteria}\n",
        "    </section>\n",
        "    <section class='main'>\n",
        "      {html_technical_assessment_1}\n",
        "     {html_short_notes}\n",
        "    </section>\n",
        "    <section class='main'>\n",
        "      {html_technical_assessment_2}\n",
        "     {html_notes}\n",
        "    </section>\n",
        "        <section class='main'>\n",
        "      {html_technical_assessment_3}\n",
        "     {html_notes}\n",
        "    </section>\n",
        "        <section class='main'>\n",
        "      {html_technical_assessment_4}\n",
        "     {html_notes}\n",
        "    </section>\n",
        "        <section class='main'>\n",
        "      {html_technical_assessment_5}\n",
        "     {html_notes}\n",
        "    </section>\n",
        "    <section class='main'>\n",
        "    {html_behavioral_assessment_1}\n",
        "     {html_short_notes}\n",
        "    </section>\n",
        "    <section class='main'>\n",
        "    {html_behavioral_assessment_2}\n",
        "     {html_notes}\n",
        "    </section>\n",
        "        <section class='main'>\n",
        "    {html_behavioral_assessment_3}\n",
        "     {html_notes}\n",
        "    </section>\n",
        "        <section class='main'>\n",
        "    {html_behavioral_assessment_4}\n",
        "     {html_notes}\n",
        "    </section>\n",
        "        <section class='main'>\n",
        "    {html_behavioral_assessment_5}\n",
        "     {html_notes}\n",
        "    </section>\n",
        "    <section class='main'>\n",
        "    {html_practical_assignment}\n",
        "    {html_notes}\n",
        "    </section>\n",
        "    <section class='main'>\n",
        "    {html_team_interaction}\n",
        "    {html_notes}\n",
        "    </section>\n",
        "    <section class='main'>\n",
        "    {html_candidate_questions}\n",
        "    </section>\n",
        "\n",
        "</body>\n",
        "</html>\"\"\"\n",
        "\n",
        "# Write HTML string to a file\n",
        "with open('playbook.html', 'w') as file:\n",
        "    file.write(html_content)\n",
        "\n"
      ]
    },
    {
      "cell_type": "markdown",
      "metadata": {
        "id": "1u3ZnTgHdSRQ"
      },
      "source": [
        "Display the HTML content here so we can review it"
      ]
    },
    {
      "cell_type": "code",
      "execution_count": 55,
      "metadata": {
        "colab": {
          "base_uri": "https://localhost:8080/",
          "height": 1000
        },
        "id": "5emj-h1RdP-q",
        "outputId": "1c599aba-2474-4e0a-df68-dab478b51270"
      },
      "outputs": [
        {
          "data": {
            "text/html": [
              "\n",
              "<meta charset=\"utf-8\">\n",
              "<html>\n",
              "<head>\n",
              "  <link href=\"https://fonts.googleapis.com/css2?family=Source%20Sans%20Pro:wght@400;700\" rel=\"stylesheet\">\n",
              "  <link href=\"https://fonts.googleapis.com/css2?family=Libre%20Baskerville:wght@400;700\" rel=\"stylesheet\">\n",
              "  <style>\n",
              "  \n",
              "\n",
              "   body {\n",
              "        font-family: Source Sans Pro;\n",
              "        font-size: 11pt;\n",
              "        font-weight: 200;\n",
              "        font-stretch: 75% 125%;\n",
              "        color:#0D0D0D;\n",
              "    }\n",
              "    @page {\n",
              "        margin: 0.65in;\n",
              "        size: Letter;\n",
              "        @bottom-right {\n",
              "          content: counter(page);\n",
              "          font-size: 11pt;\n",
              "          color: #73706C;\n",
              "        }\n",
              "    }\n",
              "    @page :first {\n",
              "        @bottom-right {\n",
              "          content: none;\n",
              "        }\n",
              "    }\n",
              "\n",
              "\n",
              "    h1, h2, h3, h4 {\n",
              "        font-family: Libre Baskerville;\n",
              "        margin-top: 1em;\n",
              "        margin-bottom: 0.5em;\n",
              "    }\n",
              "    h1 {\n",
              "        font-size: 24pt;\n",
              "        margin-top: 3em;\n",
              "        page-break-after: avoid;\n",
              "    }\n",
              "    .intro h1{\n",
              "        font-size: 50pt;\n",
              "        margin-top: 3em;\n",
              "        page-break-after: always;\n",
              "    }\n",
              "    @media print {\n",
              "      /* Define styles for the cover page */\n",
              "      .title {\n",
              "        position: fixed;\n",
              "        left: 0;\n",
              "        top: 0;\n",
              "        width: 100%;\n",
              "        height: 100%;\n",
              "        background-color: #F2F2F2; /* Change as needed */\n",
              "        color: #0D0D0D; /* Change as needed */\n",
              "        text-align: center;\n",
              "        padding: 50px;\n",
              "      }\n",
              "    }\n",
              "    .publication-date {\n",
              "      position: absolute;\n",
              "      bottom: 10px; /* adjust as needed */\n",
              "      width: 100%;\n",
              "      text-align: left;\n",
              "      font-size: 11pt; /* adjust as needed */\n",
              "      color: #73706C; /* adjust as needed */\n",
              "    }\n",
              "\n",
              "\n",
              "    h2 {\n",
              "        font-size: 18pt;\n",
              "        page-break-after: avoid;\n",
              "    }\n",
              "    h3 {\n",
              "        font-size: 14pt;\n",
              "        page-break-after: avoid;\n",
              "    }\n",
              "    h4 {\n",
              "        font-size: 12pt;\n",
              "        page-break-after: avoid;\n",
              "    }\n",
              "    p {\n",
              "        margin-bottom: 1em;\n",
              "    }\n",
              "\n",
              "\n",
              "    h1, h2, h3, h4 {\n",
              "        page-break-after: avoid;\n",
              "    }\n",
              "\n",
              "    p, table, figure {\n",
              "        page-break-inside: avoid;\n",
              "    }\n",
              "    table {\n",
              "        width: 100%;\n",
              "        border-collapse: collapse;\n",
              "        margin-bottom: 1em;\n",
              "        page-break-before: avoid;\n",
              "    }\n",
              "    th, td {\n",
              "        border: 1px solid #ddd;\n",
              "        padding: 8px;\n",
              "        text-align: left;\n",
              "        font-size: 10pt;\n",
              "    }\n",
              "    th {\n",
              "        background-color: #f2f2f2;\n",
              "        font-weight: bold;\n",
              "    }\n",
              "    tr:nth-child(even) {{background-color: #f9f9f9;}}\n",
              "\n",
              "    ul, ol {\n",
              "        margin-bottom: 1em;\n",
              "        margin-left: 0;\n",
              "        padding-left:1.5em;\n",
              "    }\n",
              "    li {\n",
              "        margin-bottom: 0.5em;\n",
              "        margin-left: 0em;\n",
              "    }\n",
              "\n",
              "    .main {\n",
              "      page-break-before: always;\n",
              "    }\n",
              "\n",
              "    .dotted-line {\n",
              "        border-bottom: 1px dotted black;\n",
              "        width: 100%;\n",
              "        margin-top: 20px; /* This ensures spacing between each line */\n",
              "        margin-bottom: 20px; /* Adjust if needed */\n",
              "    }\n",
              "\n",
              "    @media print {\n",
              "        .dotted-line {\n",
              "            margin-top: 20px; /* Adjust as needed for printing */\n",
              "            margin-bottom: 20px; /* Adjust as needed for printing */\n",
              "        }\n",
              "    }\n",
              "\n",
              "    .rating-container {\n",
              "        display: flex;\n",
              "        align-items: flex-end;\n",
              "        margin-top: 20px;\n",
              "        margin-bottom: 20px;\n",
              "    }\n",
              "\n",
              "    .rating-container label {\n",
              "        margin-right: 10px;\n",
              "        font-size: 10pt;\n",
              "        font-family: Source Sans Pro;\n",
              "    }\n",
              "\n",
              "    .short-dotted-line {\n",
              "        border-bottom: 1px dotted black;\n",
              "        width: 150px; /* Adjust the width as needed */\n",
              "        margin-left: 5px;\n",
              "    }}\n",
              "\n",
              "    @media print {\n",
              "        .short-dotted-line {\n",
              "            width: 150px; /* Adjust for printing if needed */\n",
              "        }\n",
              "    }\n",
              "\n",
              "  </style>\n",
              "</head>\n",
              "<body>\n",
              "    <section class='intro'>\n",
              "    <div class=\"publication-date\">Published on December 19, 2023 by the <a href=\"https://github.com/androb/deliverables/tree/main/interviewplaybook\">Interview Playbook Generator</a>!</div>\n",
              "    <h1>Interview Playbook for Medical Assistant II</h1>\n",
              "<h2>Introduction</h2>\n",
              "<p>Welcome to the Interview Playbook for the Medical Assistant II position at Stanford Health Care - University Healthcare Alliance. This guide is engineered to equip the hiring team with a values-driven approach for identifying and selecting \"A players\" who will not only excel technically but also align with the premier community network's culture and values.</p>\n",
              "<p>The Medical Assistant II role is foundational in providing clinical support to deliver unparalleled patient care. The successful candidate will contribute substantially to our mission of delivering the best patient experience and effective clinical outcomes. During the interview, the objective is to evaluate candidates' technical competencies, such as their clinical acumen and computer proficiency, as well as behavioral competencies that resonate with our values, including innovation, connection, teamwork, mentorship, participation, and decisive action.</p>\n",
              "<h3>Interview Structure</h3>\n",
              "<p>The interview will be arranged in the following segments, providing a comprehensive assessment of both technical and behavioral skills, and ensuring alignment with our core values:</p>\n",
              "<ol>\n",
              "<li>\n",
              "<p><strong>Introduction and Rapport Building</strong> (5-10 minutes):</p>\n",
              "<ul>\n",
              "<li>Welcoming the candidate.</li>\n",
              "<li>Outlining the interview process.</li>\n",
              "</ul>\n",
              "</li>\n",
              "<li>\n",
              "<p><strong>Review of Candidate's Background</strong> (10-15 minutes):</p>\n",
              "<ul>\n",
              "<li>Discussing previous experience.</li>\n",
              "<li>Understanding their path to the Medical Assistant II role.</li>\n",
              "</ul>\n",
              "</li>\n",
              "<li>\n",
              "<p><strong>Technical Assessment</strong> (20-30 minutes):</p>\n",
              "<ul>\n",
              "<li>Evaluating the candidate's clinical competencies and job-related skills.</li>\n",
              "<li>Understanding their proficiency with computer systems and electronic medical records.</li>\n",
              "</ul>\n",
              "</li>\n",
              "<li>\n",
              "<p><strong>Behavioral Assessment</strong> (20-30 minutes):</p>\n",
              "<ul>\n",
              "<li>Exploring how the candidate's values align with our company culture.</li>\n",
              "<li>Assessing their approach to teamwork, communication, and continuous improvement.</li>\n",
              "</ul>\n",
              "</li>\n",
              "<li>\n",
              "<p><strong>Practical Assignment Review</strong> (if applicable) (15-20 minutes):</p>\n",
              "<ul>\n",
              "<li>Presenting a task relevant to their role.</li>\n",
              "<li>Observing their problem-solving and application of knowledge.</li>\n",
              "</ul>\n",
              "</li>\n",
              "<li>\n",
              "<p><strong>Team Interaction</strong> (optional, based on role requirements) (15-20 minutes):</p>\n",
              "<ul>\n",
              "<li>Introducing the candidate to potential team members.</li>\n",
              "<li>Gauging team dynamics and fit.</li>\n",
              "</ul>\n",
              "</li>\n",
              "<li>\n",
              "<p><strong>Candidate's Questions and Concluding the Interview</strong> (10-15 minutes):</p>\n",
              "<ul>\n",
              "<li>Answering any questions the candidate may have about the role or company.</li>\n",
              "<li>Thanking the candidate for their time and explaining the next steps.</li>\n",
              "</ul>\n",
              "</li>\n",
              "</ol>\n",
              "<p>The expected length of the interview should range from 60 to 90 minutes, ensuring a comprehensive evaluation of the candidate's fit for the Medical Assistant II position. The competencies listed will be the focus of both the Technical and Behavioral Assessments during the interview.</p>\n",
              "    </section>\n",
              "    <section class='main'>\n",
              "    <h1>Job Description</h1>\n",
              "<h3>Medical Assistant II</h3>\n",
              "<h4>Locations</h4>\n",
              "<ul>\n",
              "<li>15151 National Ave - LOS GATOS</li>\n",
              "</ul>\n",
              "<h4>Time Type</h4>\n",
              "<ul>\n",
              "<li>Full time</li>\n",
              "</ul>\n",
              "<h4>Posted On</h4>\n",
              "<ul>\n",
              "<li>Posted 8 Days Ago</li>\n",
              "</ul>\n",
              "<h4>Job Requisition ID</h4>\n",
              "<ul>\n",
              "<li>R2334927</li>\n",
              "</ul>\n",
              "<h4>Overview</h4>\n",
              "<p>Join our legacy of hope and innovation at Stanford Health Care - University Healthcare Alliance. We are looking for a Medical Assistant II to be a part of our clinic patient care team, performing clinical tasks and procedures to support the delivery of care.</p>\n",
              "<h4>Day</h4>\n",
              "<ul>\n",
              "<li>08 Hour (United States of America)</li>\n",
              "</ul>\n",
              "<h4>Responsibilities</h4>\n",
              "<ul>\n",
              "<li><strong>C-I-CARE Execution:</strong> Executes world-class service and patient care standards using C-I-CARE templates.</li>\n",
              "<li><strong>Job Scope:</strong> Includes managing patient portal messages, assisting with physician procedures, and other tasks of moderate scope.</li>\n",
              "<li><strong>Knowledge:</strong> Advanced understanding of job skills, policies, and procedures.</li>\n",
              "<li><strong>Supervision Level:</strong> Work reviewed for accuracy and complexity, with increased responsibility in the specialty area.</li>\n",
              "</ul>\n",
              "<h4>Education Qualifications</h4>\n",
              "<ul>\n",
              "<li>High School Diploma or GED required.</li>\n",
              "<li>Medical Assistant Certificate/Diploma from an approved school/institution or equivalent training.</li>\n",
              "</ul>\n",
              "<h4>Experience Qualifications</h4>\n",
              "<ul>\n",
              "<li>One (1) to three (3) years of related experience.</li>\n",
              "</ul>\n",
              "<h4>Required Knowledge, Skills, and Abilities</h4>\n",
              "<ul>\n",
              "<li>Professional verbal and written communication skills.</li>\n",
              "<li>Proficiency in computer skills, Microsoft Office, and electronic medical records.</li>\n",
              "<li>Organizational and multi-tasking skills.</li>\n",
              "</ul>\n",
              "<h4>Licenses and Certifications</h4>\n",
              "<ul>\n",
              "<li>BLS - Basic Life Support required.</li>\n",
              "</ul>\n",
              "<h4>Physical Demands and Work Conditions</h4>\n",
              "<ul>\n",
              "<li>Various physical activities such as sitting, walking, standing, bending, squatting, etc.</li>\n",
              "<li>Lifting requirements vary from 0 to 40+ lbs.</li>\n",
              "</ul>\n",
              "<h4>Working Environment</h4>\n",
              "<ul>\n",
              "<li>Frequent interaction with clinical equipment and machinery.</li>\n",
              "<li>Work with biohazards like bloodborne pathogens.</li>\n",
              "<li>20% travel requirement.</li>\n",
              "</ul>\n",
              "<h4>SHC Commitment</h4>\n",
              "<ul>\n",
              "<li>Providing an exceptional patient and family experience through C-I-CARE framework.</li>\n",
              "</ul>\n",
              "<h4>Equal Opportunity Employer</h4>\n",
              "<ul>\n",
              "<li>Stanford Health Care is an equal opportunity employer and encourages applications from all individuals regardless of race, color, sex, sexual orientation, gender identity, religion, age, national origin, political beliefs, marital status, medical condition, genetic information, veteran status, or disability.</li>\n",
              "</ul>\n",
              "<h4>Base Pay Scale</h4>\n",
              "<ul>\n",
              "<li>Generally starting at $27.47 - $35.02 per hour. Salary based on internal equity, experience, education, specialty, and training.</li>\n",
              "</ul>\n",
              "    </section>\n",
              "    <section class='main'>\n",
              "    <h2>Evaluation Criteria</h2>\n",
              "<p>This Evaluation Criteria section outlines how to objectively assess the candidate's qualifications for the Medical Assistant II position. Use this guide to keep track of observations and provide comments during the interview process.</p>\n",
              "<table>\n",
              "<thead>\n",
              "<tr>\n",
              "<th>Competency</th>\n",
              "<th>Assessment</th>\n",
              "<th>Comments</th>\n",
              "</tr>\n",
              "</thead>\n",
              "<tbody>\n",
              "<tr>\n",
              "<td>Clinical Skills</td>\n",
              "<td></td>\n",
              "<td></td>\n",
              "</tr>\n",
              "<tr>\n",
              "<td>Communication Skills</td>\n",
              "<td></td>\n",
              "<td></td>\n",
              "</tr>\n",
              "<tr>\n",
              "<td>Computer Proficiency</td>\n",
              "<td></td>\n",
              "<td></td>\n",
              "</tr>\n",
              "<tr>\n",
              "<td>Organizational Ability</td>\n",
              "<td></td>\n",
              "<td></td>\n",
              "</tr>\n",
              "<tr>\n",
              "<td>Policy and Procedure Adherence</td>\n",
              "<td></td>\n",
              "<td></td>\n",
              "</tr>\n",
              "<tr>\n",
              "<td>Problem-Solving</td>\n",
              "<td></td>\n",
              "<td></td>\n",
              "</tr>\n",
              "<tr>\n",
              "<td>Team Collaboration</td>\n",
              "<td></td>\n",
              "<td></td>\n",
              "</tr>\n",
              "<tr>\n",
              "<td>Initiative Taking</td>\n",
              "<td></td>\n",
              "<td></td>\n",
              "</tr>\n",
              "<tr>\n",
              "<td>Adaptability to Change</td>\n",
              "<td></td>\n",
              "<td></td>\n",
              "</tr>\n",
              "<tr>\n",
              "<td>Commitment to Patient Care</td>\n",
              "<td></td>\n",
              "<td></td>\n",
              "</tr>\n",
              "<tr>\n",
              "<td>Practical Assignment</td>\n",
              "<td></td>\n",
              "<td></td>\n",
              "</tr>\n",
              "<tr>\n",
              "<td>Team Interaction</td>\n",
              "<td></td>\n",
              "<td></td>\n",
              "</tr>\n",
              "</tbody>\n",
              "</table>\n",
              "<h3>Rating Guide</h3>\n",
              "<ol>\n",
              "<li>Poor - The candidate's performance fails to meet the job requirements in this area.</li>\n",
              "<li>Fair - The candidate meets some but not all of the job requirements.</li>\n",
              "<li>Good - The candidate meets the job requirements and displays average competence.</li>\n",
              "<li>Very Good - The candidate exceeds expectations and displays advanced proficiency.</li>\n",
              "<li>Excellent - The candidate demonstrates exceptional performance and mastery in this area.</li>\n",
              "</ol>\n",
              "    </section>\n",
              "    <section class='main'>\n",
              "      <h2>Technical Assessment</h2>\n",
              "<p>Assessing the mastery of clinical procedures and the ability to provide exceptional patient care is critical for a Medical Assistant II. The candidate must demonstrate an advanced understanding of job skills, including the use of C-I-CARE templates for world-class service standards, and patient care protocols.</p>\n",
              "<h3>Technical Competence 1: Clinical Skills</h3>\n",
              "<p>Clinical skills are the cornerstone of the Medical Assistant II role at Stanford Health Care - University Healthcare Alliance. This competency ensures the candidate has the ability to perform clinical tasks, utilize C-I-CARE standards effectively, and support patient care with the required finesse and expertise.</p>\n",
              "<h4>Lead Question</h4>\n",
              "<p>Describe a time when you had to go beyond the standard care procedures to accommodate a patient's needs. How did you ensure that your actions were in line with C-I-CARE standards, and what was the outcome?</p>\n",
              "<h4>Probing Questions</h4>\n",
              "<ul>\n",
              "<li>Can you walk me through the steps you take to prepare for and assist with physician procedures?</li>\n",
              "<li>How do you manage patient portal messages to ensure timely and accurate communication?</li>\n",
              "<li>What strategies do you use to stay up-to-date with the latest patient care protocols and clinical best practices?</li>\n",
              "<li>Tell me about a situation where you had to adapt the use of C-I-CARE templates to a unique clinical scenario.</li>\n",
              "</ul>\n",
              "<h4>Scenario</h4>\n",
              "<p>Imagine you are the Medical Assistant II at Stanford Health Care - University Healthcare Alliance, and you're assigned a patient who is anxious about an upcoming invasive procedure. How would you use the C-I-CARE templates to provide care and comfort to the patient while assisting the physician with the procedure?</p>\n",
              "<h4>Tips</h4>\n",
              "<p>Listen for the candidate's ability to articulate their clinical experience and alignment with C-I-CARE values. Evaluate not only their technical knowledge but also their empathy, problem-solving, and adaptability in handling patient care scenarios.</p>\n",
              "     <h4>Notes</h4><div class='notes'>\n",
              "    <div class=\"dotted-line\"></div>\n",
              "    <div class=\"dotted-line\"></div>\n",
              "    <div class=\"dotted-line\"></div>\n",
              "    <div class=\"dotted-line\"></div>\n",
              "    <div class=\"rating-container\">\n",
              "    <label for=\"rating-line\">Rating (1-5):</label>\n",
              "    <div class=\"short-dotted-line\"></div>\n",
              "    </div>\n",
              "</div>\n",
              "    </section>\n",
              "    <section class='main'>\n",
              "      <h3>Technical Competence 2: Computer Proficiency</h3>\n",
              "<p>Computer proficiency is crucial for a Medical Assistant II to manage electronic medical records and utilize various software tools effectively. This competency ensures the candidate can handle the digital aspects of the role, including mastery of Microsoft Office and other relevant systems for efficient operation within a healthcare setting.</p>\n",
              "<h4>Lead Question</h4>\n",
              "<p>How do you ensure accuracy and efficiency when managing electronic medical records, and can you give an example of how you've used Microsoft Office to streamline clinical processes?</p>\n",
              "<h4>Probing Questions</h4>\n",
              "<ul>\n",
              "<li>Describe a challenging situation you faced with electronic medical records and how you overcame it.</li>\n",
              "<li>How have you used Microsoft Excel or other Office tools to support patient care or administrative duties?</li>\n",
              "<li>Can you provide an instance where your computer skills significantly improved the outcome of a patient care task?</li>\n",
              "<li>What systems have you used in previous roles, and how did you ensure you stayed up to date with their updates and changes?</li>\n",
              "</ul>\n",
              "<h4>Scenario</h4>\n",
              "<p>As a Medical Assistant II at Stanford Health Care - University Healthcare Alliance, you're tasked with creating a report using patient data from electronic medical records that will be used to improve clinic procedures. Detail your approach to this task, highlighting your use of Microsoft Office tools, and describe the steps you would take to ensure data accuracy and confidentiality.</p>\n",
              "<h4>Tips</h4>\n",
              "<p>The candidate's response should indicate a thorough understanding of electronic medical records, proficiency with Microsoft Office, and the ability to leverage technology to enhance patient care. Look for examples of problem-solving, attention to detail, and ongoing learning in their approach to computer tasks.</p>\n",
              "     <h4>Notes</h4><div class='notes'>\n",
              "    <div class=\"dotted-line\"></div>\n",
              "    <div class=\"dotted-line\"></div>\n",
              "    <div class=\"dotted-line\"></div>\n",
              "    <div class=\"dotted-line\"></div>\n",
              "    <div class=\"dotted-line\"></div>\n",
              "    <div class=\"dotted-line\"></div>\n",
              "    <div class=\"dotted-line\"></div>\n",
              "    <div class=\"rating-container\">\n",
              "    <label for=\"rating-line\">Rating (1-5):</label>\n",
              "    <div id=\"rating-line\" class=\"short-dotted-line\"></div>\n",
              "    </div>\n",
              "</div>\n",
              "    </section>\n",
              "        <section class='main'>\n",
              "      <h3>Technical Competence 3: Organizational Ability</h3>\n",
              "<p>Organizational skills are essential for managing the multi-faceted responsibilities of a Medical Assistant II. This competency highlights the candidate’s effectiveness in prioritizing tasks, managing time efficiently, and multi-tasking in a high-paced medical environment.</p>\n",
              "<h4>Lead Question</h4>\n",
              "<p>How do you prioritize and organize your daily tasks to ensure the smooth operation of the clinic, and can you provide an example of how your organizational skills have positively impacted patient care?</p>\n",
              "<h4>Probing Questions</h4>\n",
              "<ul>\n",
              "<li>Discuss how you manage the demands of multiple tasks while ensuring accuracy and attention to detail.</li>\n",
              "<li>Explain your system for keeping track of patient appointments, procedures, and follow-up care.</li>\n",
              "<li>Describe a time when you had to adjust your planned schedule due to unexpected circumstances and how you handled it.</li>\n",
              "<li>Can you tell us about a time your organizational skills helped to improve a process or procedure in the healthcare setting?</li>\n",
              "</ul>\n",
              "<h4>Scenario</h4>\n",
              "<p>You are a Medical Assistant II at Stanford Health Care - University Healthcare Alliance, and on a particularly busy day, you're responsible for coordinating patient flow, assisting with clinical procedures, and managing administrative tasks. Outline how you would organize your responsibilities to ensure efficient and effective patient care without compromising the quality of work.</p>\n",
              "<h4>Tips</h4>\n",
              "<p>Evaluate the candidate’s ability to articulate their prioritization strategies, as well as their capacity to adapt to changing environments. Assess their multitasking skills and the impact of their organizational abilities on the overall patient experience and clinical outcomes.</p>\n",
              "     <h4>Notes</h4><div class='notes'>\n",
              "    <div class=\"dotted-line\"></div>\n",
              "    <div class=\"dotted-line\"></div>\n",
              "    <div class=\"dotted-line\"></div>\n",
              "    <div class=\"dotted-line\"></div>\n",
              "    <div class=\"dotted-line\"></div>\n",
              "    <div class=\"dotted-line\"></div>\n",
              "    <div class=\"dotted-line\"></div>\n",
              "    <div class=\"rating-container\">\n",
              "    <label for=\"rating-line\">Rating (1-5):</label>\n",
              "    <div id=\"rating-line\" class=\"short-dotted-line\"></div>\n",
              "    </div>\n",
              "</div>\n",
              "    </section>\n",
              "        <section class='main'>\n",
              "      <h3>Technical Competence 4: Policy and Procedure Adherence</h3>\n",
              "<p>Adhering to policies and procedures is necessary to maintain safety and compliance in a healthcare environment. This competency ensures the candidate follows strict guidelines for Basic Life Support (BLS) certification, physical activities, and handling biohazard materials.</p>\n",
              "<h4>Lead Question</h4>\n",
              "<p>Discuss how you ensure adherence to healthcare policies and procedures, especially relating to Basic Life Support and the handling of biohazards.</p>\n",
              "<h4>Probing Questions</h4>\n",
              "<ul>\n",
              "<li>Can you detail your experience with Basic Life Support in a clinical setting and how you maintain your certification?</li>\n",
              "<li>Describe a situation where you had to follow specific procedures for interacting with clinical equipment and machinery.</li>\n",
              "<li>Explain the precautions you take when working with biohazards like bloodborne pathogens.</li>\n",
              "<li>Share an example of how you've contributed to a safe and compliant work environment through your understanding and application of workplace policies.</li>\n",
              "</ul>\n",
              "<h4>Scenario</h4>\n",
              "<p>At Stanford Health Care - University Healthcare Alliance, you encounter a situation where a patient is experiencing severe respiratory distress. Walk me through the steps you would take according to BLS guidelines and detail your method for documentation and compliance with our procedures.</p>\n",
              "<h4>Tips</h4>\n",
              "<p>Assess the candidate’s knowledge of BLS and other pertinent certifications, as well as their practical experience with safety protocols. Their responses should highlight a commitment to maintaining a safe working environment and ability to respond to emergencies in compliance with established guidelines.</p>\n",
              "     <h4>Notes</h4><div class='notes'>\n",
              "    <div class=\"dotted-line\"></div>\n",
              "    <div class=\"dotted-line\"></div>\n",
              "    <div class=\"dotted-line\"></div>\n",
              "    <div class=\"dotted-line\"></div>\n",
              "    <div class=\"dotted-line\"></div>\n",
              "    <div class=\"dotted-line\"></div>\n",
              "    <div class=\"dotted-line\"></div>\n",
              "    <div class=\"rating-container\">\n",
              "    <label for=\"rating-line\">Rating (1-5):</label>\n",
              "    <div id=\"rating-line\" class=\"short-dotted-line\"></div>\n",
              "    </div>\n",
              "</div>\n",
              "    </section>\n",
              "        <section class='main'>\n",
              "      <h3>Technical Competence 5: Team Collaboration</h3>\n",
              "<p>Team collaboration is essential for the seamless integration of a Medical Assistant II into the patient care team, ensuring the highest standards of care. This competency is about the ability to work effectively with colleagues, communicate clearly, and contribute to a cohesive team environment.</p>\n",
              "<h4>Lead Question</h4>\n",
              "<p>Can you share an experience where your ability to collaborate with a team led to a positive outcome for patient care?</p>\n",
              "<h4>Probing Questions</h4>\n",
              "<ul>\n",
              "<li>How do you communicate and coordinate with other team members to ensure a consistent and efficient patient experience?</li>\n",
              "<li>Tell us about a time when you had to work closely with other healthcare professionals and how you managed to align your efforts.</li>\n",
              "<li>Describe how you approach conflicts or differing opinions within the team.</li>\n",
              "<li>What strategies do you use to support and enhance teamwork in a busy healthcare environment?</li>\n",
              "</ul>\n",
              "<h4>Scenario</h4>\n",
              "<p>You are part of the clinic patient care team at Stanford Health Care - University Healthcare Alliance, and a scenario arises where quick and decisive team action is required to handle a clinical emergency. Outline the steps you would take to collaborate with your team members and ensure a coordinated response.</p>\n",
              "<h4>Tips</h4>\n",
              "<p>Look for indicators of the candidate's communication style, conflict resolution abilities, and how they contribute to a team setting. They should demonstrate a track record of partnership, mutual respect, and shared responsibility in team scenarios, aligned with our values of connection and teamwork.</p>\n",
              "     <h4>Notes</h4><div class='notes'>\n",
              "    <div class=\"dotted-line\"></div>\n",
              "    <div class=\"dotted-line\"></div>\n",
              "    <div class=\"dotted-line\"></div>\n",
              "    <div class=\"dotted-line\"></div>\n",
              "    <div class=\"dotted-line\"></div>\n",
              "    <div class=\"dotted-line\"></div>\n",
              "    <div class=\"dotted-line\"></div>\n",
              "    <div class=\"rating-container\">\n",
              "    <label for=\"rating-line\">Rating (1-5):</label>\n",
              "    <div id=\"rating-line\" class=\"short-dotted-line\"></div>\n",
              "    </div>\n",
              "</div>\n",
              "    </section>\n",
              "    <section class='main'>\n",
              "    <h3>Behavioral Competence 1: Innovation</h3>\n",
              "<p>Innovation at Stanford Health Care - University Healthcare Alliance involves embracing change and continuously improving to elevate the quality of care. It's about finding and applying new solutions and approaches that will shape the future of healthcare.</p>\n",
              "<h4>Lead Question</h4>\n",
              "<p>Tell me about a time when you initiated a change in your work environment that led to an improvement in patient care or clinic operations.</p>\n",
              "<h4>Probing Questions</h4>\n",
              "<ul>\n",
              "<li>How do you keep up with the latest advancements in healthcare to incorporate into your role?</li>\n",
              "<li>Share an example where you had to be creative to solve a patient care challenge.</li>\n",
              "<li>What's the most innovative change you've applied to your work, and what impact did it have?</li>\n",
              "<li>How do you approach risk when trying a new method or technology in your work?</li>\n",
              "</ul>\n",
              "<h4>Scenario</h4>\n",
              "<p>A procedure at Stanford Health Care - University Healthcare Alliance has been identified as in need of improvement to enhance patient satisfaction and care quality. How would you go about innovating a new approach, and what steps would you take to implement and assess its effectiveness?</p>\n",
              "<h4>Tips</h4>\n",
              "<p>Evaluate the candidate's capacity to suggest and implement innovative ideas in alignment with improving patient care. Look for creativity, initiative, and the ability to adapt to and drive change in their responses.</p>\n",
              "     <h4>Notes</h4><div class='notes'>\n",
              "    <div class=\"dotted-line\"></div>\n",
              "    <div class=\"dotted-line\"></div>\n",
              "    <div class=\"dotted-line\"></div>\n",
              "    <div class=\"dotted-line\"></div>\n",
              "    <div class=\"rating-container\">\n",
              "    <label for=\"rating-line\">Rating (1-5):</label>\n",
              "    <div class=\"short-dotted-line\"></div>\n",
              "    </div>\n",
              "</div>\n",
              "    </section>\n",
              "    <section class='main'>\n",
              "    <h3>Behavioral Competence 2: Connection</h3>\n",
              "<p>Connection is about cultivating a sense of community and caring for both patients and colleagues to foster trust, respect, belonging, and shared purpose within Stanford Health Care - University Healthcare Alliance.</p>\n",
              "<h4>Lead Question</h4>\n",
              "<p>Can you describe a time when fostering a connection with a patient or a team member made a significant difference in the outcome of treatment or team dynamics?</p>\n",
              "<h4>Probing Questions</h4>\n",
              "<ul>\n",
              "<li>How do you build connections with new patients and make them feel at ease?</li>\n",
              "<li>Tell us about a time you went the extra mile to support a colleague or improve team morale.</li>\n",
              "<li>In what ways do you contribute to creating a positive work environment that reflects our value of connection?</li>\n",
              "<li>How do you handle a situation where you perceive a lack of trust or connection with a patient or team member?</li>\n",
              "</ul>\n",
              "<h4>Scenario</h4>\n",
              "<p>Imagine you’re starting in a new department at Stanford Health Care - University Healthcare Alliance, and you notice a disconnect between staff members, which impacts team cohesion and patient experience. What steps would you take to build a stronger sense of community and connection among your colleagues?</p>\n",
              "<h4>Tips</h4>\n",
              "<p>Look for examples that demonstrate the candidate's ability to engage with patients and colleagues, creating meaningful relationships that enhance the healthcare experience. The candidate should exhibit strong interpersonal skills, empathy, and the drive to maintain a collaborative and supportive work environment.</p>\n",
              "     <h4>Notes</h4><div class='notes'>\n",
              "    <div class=\"dotted-line\"></div>\n",
              "    <div class=\"dotted-line\"></div>\n",
              "    <div class=\"dotted-line\"></div>\n",
              "    <div class=\"dotted-line\"></div>\n",
              "    <div class=\"dotted-line\"></div>\n",
              "    <div class=\"dotted-line\"></div>\n",
              "    <div class=\"dotted-line\"></div>\n",
              "    <div class=\"rating-container\">\n",
              "    <label for=\"rating-line\">Rating (1-5):</label>\n",
              "    <div id=\"rating-line\" class=\"short-dotted-line\"></div>\n",
              "    </div>\n",
              "</div>\n",
              "    </section>\n",
              "        <section class='main'>\n",
              "    <h3>Behavioral Competence 3: Teamwork</h3>\n",
              "<p>Teamwork at Stanford Health Care - University Healthcare Alliance is about collaborating across different roles, ranks, and departments to unlock new possibilities and achieving a greater impact. It emphasizes the ability to work cohesively within a team to fulfill the shared mission of the organization.</p>\n",
              "<h4>Lead Question</h4>\n",
              "<p>Describe a project or instance where you had to collaborate with a diverse team. How did you ensure effective teamwork and what was the result?</p>\n",
              "<h4>Probing Questions</h4>\n",
              "<ul>\n",
              "<li>How do you handle situations where team members have conflicting ideas about patient care?</li>\n",
              "<li>Can you give an example of how you have fostered a team environment that is conducive to open discussion and shared decision-making?</li>\n",
              "<li>What role do you typically take on in a team setting and why?</li>\n",
              "<li>Tell us about a time when you had to depend on other team members to complete a task. How did you manage and facilitate collaboration?</li>\n",
              "</ul>\n",
              "<h4>Scenario</h4>\n",
              "<p>You’re tasked with coordinating a multi-disciplinary team at Stanford Health Care - University Healthcare Alliance, which includes various levels of staff, to implement a new patient care initiative. Detail your approach to assembling the team, delegating responsibilities, and ensuring alignment towards the common goal.</p>\n",
              "<h4>Tips</h4>\n",
              "<p>Focus on the candidate's ability to communicate, delegate, and build consensus within a team setting. Evaluate their understanding of the importance of diverse perspectives and their strategies for harnessing these to achieve the organization's objectives.</p>\n",
              "     <h4>Notes</h4><div class='notes'>\n",
              "    <div class=\"dotted-line\"></div>\n",
              "    <div class=\"dotted-line\"></div>\n",
              "    <div class=\"dotted-line\"></div>\n",
              "    <div class=\"dotted-line\"></div>\n",
              "    <div class=\"dotted-line\"></div>\n",
              "    <div class=\"dotted-line\"></div>\n",
              "    <div class=\"dotted-line\"></div>\n",
              "    <div class=\"rating-container\">\n",
              "    <label for=\"rating-line\">Rating (1-5):</label>\n",
              "    <div id=\"rating-line\" class=\"short-dotted-line\"></div>\n",
              "    </div>\n",
              "</div>\n",
              "    </section>\n",
              "        <section class='main'>\n",
              "    <h3>Behavioral Competence 4: Mentorship</h3>\n",
              "<p>Mentorship at Stanford Health Care - University Healthcare Alliance encompasses fostering a culture of professional growth to ensure all team members have impactful and fulfilling careers. This value reflects the organization's commitment to nurturing individual development and sharing knowledge.</p>\n",
              "<h4>Lead Question</h4>\n",
              "<p>Tell us about a time when you mentored someone or were mentored. How did this experience contribute to your professional growth or the growth of others?</p>\n",
              "<h4>Probing Questions</h4>\n",
              "<ul>\n",
              "<li>How do you approach sharing knowledge with new or less experienced colleagues?</li>\n",
              "<li>What strategies do you use to encourage and support ongoing learning in your team?</li>\n",
              "<li>Describe how mentorship has influenced your career and how you envision it playing a role at Stanford Health Care - University Healthcare Alliance.</li>\n",
              "<li>Share an experience when you had to step into a mentor-like role unexpectedly and how you handled it.</li>\n",
              "</ul>\n",
              "<h4>Scenario</h4>\n",
              "<p>You observed that a newer colleague at Stanford Health Care - University Healthcare Alliance is struggling with a complex procedure that you’re well-versed in. Develop a plan for how you would mentor this individual to enhance their skills and confidence.</p>\n",
              "<h4>Tips</h4>\n",
              "<p>Assess the candidate's ability to lead by example and their willingness to invest time in mentoring others for shared success. Look for signs of patience, communication, and the initiative to support the growth of their colleagues in alignment with our ethos of mentorship.</p>\n",
              "     <h4>Notes</h4><div class='notes'>\n",
              "    <div class=\"dotted-line\"></div>\n",
              "    <div class=\"dotted-line\"></div>\n",
              "    <div class=\"dotted-line\"></div>\n",
              "    <div class=\"dotted-line\"></div>\n",
              "    <div class=\"dotted-line\"></div>\n",
              "    <div class=\"dotted-line\"></div>\n",
              "    <div class=\"dotted-line\"></div>\n",
              "    <div class=\"rating-container\">\n",
              "    <label for=\"rating-line\">Rating (1-5):</label>\n",
              "    <div id=\"rating-line\" class=\"short-dotted-line\"></div>\n",
              "    </div>\n",
              "</div>\n",
              "    </section>\n",
              "        <section class='main'>\n",
              "    <h3>Behavioral Competence 5: Participation</h3>\n",
              "<p>Participation within Stanford Health Care - University Healthcare Alliance means actively sharing opinions and valuing diverse backgrounds to enhance decision-making, outcomes, and engagement. It illustrates an inclusive culture where diverse perspectives lead to improved patient care.</p>\n",
              "<h4>Lead Question</h4>\n",
              "<p>Can you discuss a time when your active participation and sharing of opinions led to better decision-making or results in your professional setting?</p>\n",
              "<h4>Probing Questions</h4>\n",
              "<ul>\n",
              "<li>How do you ensure that your voice is heard in a complex healthcare environment?</li>\n",
              "<li>Describe a scenario where embracing diverse perspectives within a team made a significant impact.</li>\n",
              "<li>In what ways do you encourage others to participate and express their opinions?</li>\n",
              "<li>Share an instance where your contribution to a discussion led to a positive change in policy or practice.</li>\n",
              "</ul>\n",
              "<h4>Scenario</h4>\n",
              "<p>You are involved in a meeting at Stanford Health Care - University Healthcare Alliance to discuss the improvement of a clinic-wide process. Everyone's opinion is being sought, and there is a range of perspectives on the table. Outline how you would actively participate and help guide the team towards a consensus.</p>\n",
              "<h4>Tips</h4>\n",
              "<p>Evaluate how the candidate demonstrates their commitment to inclusive participation and their methods for fostering an environment where all voices are heard. Look for an understanding of the value of diverse input and real examples of how they have influenced outcomes through active engagement.</p>\n",
              "     <h4>Notes</h4><div class='notes'>\n",
              "    <div class=\"dotted-line\"></div>\n",
              "    <div class=\"dotted-line\"></div>\n",
              "    <div class=\"dotted-line\"></div>\n",
              "    <div class=\"dotted-line\"></div>\n",
              "    <div class=\"dotted-line\"></div>\n",
              "    <div class=\"dotted-line\"></div>\n",
              "    <div class=\"dotted-line\"></div>\n",
              "    <div class=\"rating-container\">\n",
              "    <label for=\"rating-line\">Rating (1-5):</label>\n",
              "    <div id=\"rating-line\" class=\"short-dotted-line\"></div>\n",
              "    </div>\n",
              "</div>\n",
              "    </section>\n",
              "    <section class='main'>\n",
              "    <h2>Practical Assignment</h2>\n",
              "<p>The Practical Assignment for the Medical Assistant II position is designed to evaluate the hands-on capabilities of the candidate in real-world scenarios that they would encounter at Stanford Health Care - University Healthcare Alliance. It should focus on measuring not only their technical skills but also how they embody our values, including innovation, connection, teamwork, mentorship, and participation.</p>\n",
              "<p>The assignment could involve:</p>\n",
              "<ul>\n",
              "<li>Conducting a mock patient interview to gather health history and presenting symptoms.</li>\n",
              "<li>Demonstrating proper sanitization and setup for a medical procedure.</li>\n",
              "<li>Simulating documentation of patient information into our electronic medical records system.</li>\n",
              "</ul>\n",
              "<p>The objective is to observe the candidate in action, assessing their clinical acumen, problem-solving abilities, and how they communicate and interact with patients and staff under simulated conditions.</p>\n",
              "<p>During the evaluation of the Practical Assignment, interviewers should consider:</p>\n",
              "<ul>\n",
              "<li>The candidate's technical proficiency and adherence to clinical best practices.</li>\n",
              "<li>Their approach to problem-solving and innovation when faced with a clinical challenge.</li>\n",
              "<li>The effectiveness of their communication skills and ability to build connections with the patient (even in a simulated environment).</li>\n",
              "<li>How well they collaborate with team members during the simulation.</li>\n",
              "<li>The initiative they take to ensure patient care and safety, and their participation in the exercise.</li>\n",
              "</ul>\n",
              "<p>Interviewers should provide feedback focusing on these elements to assess the candidate’s suitability for the Medical Assistant II role and their potential fit within the organizational culture of Stanford Health Care - University Healthcare Alliance.</p>\n",
              "    <h4>Notes</h4><div class='notes'>\n",
              "    <div class=\"dotted-line\"></div>\n",
              "    <div class=\"dotted-line\"></div>\n",
              "    <div class=\"dotted-line\"></div>\n",
              "    <div class=\"dotted-line\"></div>\n",
              "    <div class=\"dotted-line\"></div>\n",
              "    <div class=\"dotted-line\"></div>\n",
              "    <div class=\"dotted-line\"></div>\n",
              "    <div class=\"rating-container\">\n",
              "    <label for=\"rating-line\">Rating (1-5):</label>\n",
              "    <div id=\"rating-line\" class=\"short-dotted-line\"></div>\n",
              "    </div>\n",
              "</div>\n",
              "    </section>\n",
              "    <section class='main'>\n",
              "    <h2>Team Interaction</h2>\n",
              "<p>Team interaction is an integral aspect of evaluating the candidate's fit within Stanford Health Care - University Healthcare Alliance. The rationale for including this part in the interview process is to assess how well the candidate could integrate with our existing team, in terms of both skill and alignment with our culture and values such as teamwork, participation, and mentorship.</p>\n",
              "<p>During this stage, the candidate may engage in:</p>\n",
              "<ul>\n",
              "<li>Group discussions on relevant healthcare topics to evaluate their communication and interpersonal skills.</li>\n",
              "<li>Collaborative problem-solving exercises that test their ability to work in a team and contribute to a shared goal.</li>\n",
              "<li>Role-playing scenarios that simulate real workplace challenges assessing the candidate's responses and behavior within a team dynamic.</li>\n",
              "</ul>\n",
              "<p>The candidate's interaction with potential team members should be observed for signs of adaptability, openness to feedback, and the tendency to foster a collaborative environment. It's an opportunity to see their practical skills in action and to gauge how they might contribute to the team's dynamics and the organization's broader objectives.</p>\n",
              "    <h4>Notes</h4><div class='notes'>\n",
              "    <div class=\"dotted-line\"></div>\n",
              "    <div class=\"dotted-line\"></div>\n",
              "    <div class=\"dotted-line\"></div>\n",
              "    <div class=\"dotted-line\"></div>\n",
              "    <div class=\"dotted-line\"></div>\n",
              "    <div class=\"dotted-line\"></div>\n",
              "    <div class=\"dotted-line\"></div>\n",
              "    <div class=\"rating-container\">\n",
              "    <label for=\"rating-line\">Rating (1-5):</label>\n",
              "    <div id=\"rating-line\" class=\"short-dotted-line\"></div>\n",
              "    </div>\n",
              "</div>\n",
              "    </section>\n",
              "    <section class='main'>\n",
              "    <h2>Candidate Q&amp;A</h2>\n",
              "<p>During the interview process, candidates often have the opportunity to ask questions about the role, the team, and Stanford Health Care - University Healthcare Alliance. Below are potential questions they might ask, with comprehensive example answers.</p>\n",
              "<ol>\n",
              "<li>\n",
              "<p><strong>What opportunities are there for professional development within the organization?</strong></p>\n",
              "<ul>\n",
              "<li>\"At Stanford Health Care - University Healthcare Alliance, we take pride in our commitment to mentorship and continuous improvement. We offer various professional development programs, including ongoing training sessions, workshops, and the chance to work alongside some of the leading professionals in healthcare.\"</li>\n",
              "</ul>\n",
              "</li>\n",
              "<li>\n",
              "<p><strong>How does the Medical Assistant II role contribute to the overall mission of Stanford Health Care?</strong></p>\n",
              "<ul>\n",
              "<li>\"The Medical Assistant II is crucial for delivering excellent patient experiences that align with our mission. By performing clinical tasks, managing patient communications, and assisting with procedures, you would directly support our goal of providing the best patient care and clinical outcomes.\"</li>\n",
              "</ul>\n",
              "</li>\n",
              "<li>\n",
              "<p><strong>Can you tell me more about how the team works together?</strong></p>\n",
              "<ul>\n",
              "<li>\"Our teams collaborate closely, often crossing traditional role boundaries, to ensure the highest quality of patient care. We value teamwork and the creativity that comes from varied perspectives, aiming to create an environment where all members feel connected and engaged in our shared purpose.\"</li>\n",
              "</ul>\n",
              "</li>\n",
              "<li>\n",
              "<p><strong>How is innovation encouraged within the organization?</strong></p>\n",
              "<ul>\n",
              "<li>\"We embrace innovation through our openness to new ideas and continuous improvement. Employees at all levels are encouraged to share their insights and suggestions, which are considered crucial for shaping the future of our patient care and organizational processes.\"</li>\n",
              "</ul>\n",
              "</li>\n",
              "<li>\n",
              "<p><strong>What is the most challenging aspect of the Medical Assistant II position?</strong></p>\n",
              "<ul>\n",
              "<li>\"One of the challenges you might face is adapting to the fast-paced environment and the diverse needs of our patients. Balancing clinical duties with patient interaction requires excellent organizational skills. However, we provide training and support to help our staff excel in these areas.\"</li>\n",
              "</ul>\n",
              "</li>\n",
              "<li>\n",
              "<p><strong>What makes Stanford Health Care - University Healthcare Alliance unique compared to other healthcare providers?</strong></p>\n",
              "<ul>\n",
              "<li>\"What sets us apart is our dedication to healing humanity through science and compassion, one patient at a time. Our approach to healthcare combines cutting-edge science with a heartfelt commitment to patient welfare, which is evident in the close relationships our staff build with patients and each other.\"</li>\n",
              "</ul>\n",
              "</li>\n",
              "</ol>\n",
              "<p>These questions and answers provide a glimpse into the culture and expectations at Stanford Health Care - University Healthcare Alliance, assisting candidates in understanding the role and the organization's values.</p>\n",
              "    </section>\n",
              "\n",
              "</body>\n",
              "</html>"
            ],
            "text/plain": [
              "<IPython.core.display.HTML object>"
            ]
          },
          "metadata": {},
          "output_type": "display_data"
        }
      ],
      "source": [
        "# Display the Markdown-formatted text in the notebook\n",
        "from IPython.display import display, HTML\n",
        "display(HTML(html_content))"
      ]
    },
    {
      "cell_type": "markdown",
      "metadata": {
        "id": "O616O7upoV-T"
      },
      "source": [
        "# Create the Documents"
      ]
    },
    {
      "cell_type": "markdown",
      "metadata": {
        "id": "3E7xN0QjS6p5"
      },
      "source": [
        "Create the Word document"
      ]
    },
    {
      "cell_type": "code",
      "execution_count": 61,
      "metadata": {
        "id": "sAhMgYsb0lp3"
      },
      "outputs": [],
      "source": [
        "# Write HTML string to a file\n",
        "with open('temp_files/playbook.html', 'w') as file:\n",
        "    file.write(html_content)\n",
        "\n",
        "# Convert HTML to Docx\n",
        "!pandoc -s temp_files/playbook.html -o temp_files/playbook.docx\n",
        "\n",
        "# from google.colab import files\n",
        "# files.download('playbook.docx')"
      ]
    },
    {
      "cell_type": "markdown",
      "metadata": {
        "id": "D04s7TxrS98T"
      },
      "source": [
        "Create the PDF"
      ]
    },
    {
      "cell_type": "code",
      "execution_count": 57,
      "metadata": {},
      "outputs": [],
      "source": [
        "#!python3 --version\n",
        "#!pango-view --version\n",
        "\n",
        "#!brew install gobject-introspection\n",
        "#!brew install gtk+3\n",
        "#!brew install glade\n",
        "#!brew install weasyprint\n",
        "\n",
        "#!python3 -m venv venv\n",
        "#!source venv/bin/activate\n",
        "#%pip install cffi weasyprint\n",
        "#!weasyprint --info"
      ]
    },
    {
      "cell_type": "code",
      "execution_count": 62,
      "metadata": {
        "colab": {
          "base_uri": "https://localhost:8080/",
          "height": 225
        },
        "id": "IvxTVtggloVo",
        "outputId": "8ba9612a-1bea-4daa-93d4-35291600f0e8"
      },
      "outputs": [],
      "source": [
        "from weasyprint import HTML\n",
        "\n",
        "# Convert HTML to PDF using WeasyPrint\n",
        "#HTML('playbook.html').write_pdf('playbook.pdf', stylesheets=['style.css'], presentational_hints=True)\n",
        "HTML('temp_files/playbook.html').write_pdf('temp_files/playbook.pdf')\n",
        "\n",
        "# from google.colab import files\n",
        "# files.download('playbook.pdf')\n",
        "\n",
        "# Convert HTML to alternative PDF\n",
        "#!pandoc -s playbook.html --pdf-engine=wkhtmltopdf -o playbook.pdf\n",
        "\n",
        "# Convert HTML to alternative PDF\n",
        "#!wkhtmltopdf --page-size Letter --footer-html footer.html --margin-top 15mm --margin-bottom 15mm --margin-left 15mm --margin-right 15mm playbook.html playbook.pdf\n",
        "\n",
        "# Convert HTML to PDF\n",
        "##import pdfkit\n",
        "# pdfkit.from_string(html_content, 'playbook.pdf')\n"
      ]
    }
  ],
  "metadata": {
    "colab": {
      "provenance": []
    },
    "kernelspec": {
      "display_name": "Python 3",
      "name": "python3"
    },
    "language_info": {
      "codemirror_mode": {
        "name": "ipython",
        "version": 3
      },
      "file_extension": ".py",
      "mimetype": "text/x-python",
      "name": "python",
      "nbconvert_exporter": "python",
      "pygments_lexer": "ipython3",
      "version": "3.12.0"
    }
  },
  "nbformat": 4,
  "nbformat_minor": 0
}
