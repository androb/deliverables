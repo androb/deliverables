{
  "nbformat": 4,
  "nbformat_minor": 0,
  "metadata": {
    "colab": {
      "provenance": [],
      "authorship_tag": "ABX9TyM7yqqwwLUGUlj92Y73p3//",
      "include_colab_link": true
    },
    "kernelspec": {
      "name": "python3",
      "display_name": "Python 3"
    },
    "language_info": {
      "name": "python"
    }
  },
  "cells": [
    {
      "cell_type": "markdown",
      "metadata": {
        "id": "view-in-github",
        "colab_type": "text"
      },
      "source": [
        "<a href=\"https://colab.research.google.com/github/androb/deliverables/blob/main/Interview_Playbook_as_an_OpenAI_Assistant.ipynb\" target=\"_parent\"><img src=\"https://colab.research.google.com/assets/colab-badge.svg\" alt=\"Open In Colab\"/></a>"
      ]
    },
    {
      "cell_type": "code",
      "source": [
        "# !apt-get update\n",
        "# !apt-get install wkhtmltopdf pandoc libfontconfig1 libxrender1 libxext6\n",
        "# !apt --fix-broken install"
      ],
      "metadata": {
        "id": "VUl5weFbTGj4"
      },
      "execution_count": 359,
      "outputs": []
    },
    {
      "cell_type": "code",
      "source": [
        "!pip install OpenAI markdown mdx_truly_sane_lists weasyprint"
      ],
      "metadata": {
        "colab": {
          "base_uri": "https://localhost:8080/"
        },
        "id": "azLYd2_T9j3p",
        "outputId": "972dad7f-5c0b-4d63-bfc2-dc0415b1955e"
      },
      "execution_count": 360,
      "outputs": [
        {
          "output_type": "stream",
          "name": "stdout",
          "text": [
            "Requirement already satisfied: OpenAI in /usr/local/lib/python3.10/dist-packages (1.5.0)\n",
            "Requirement already satisfied: markdown in /usr/local/lib/python3.10/dist-packages (3.5.1)\n",
            "Requirement already satisfied: mdx_truly_sane_lists in /usr/local/lib/python3.10/dist-packages (1.3)\n",
            "Requirement already satisfied: weasyprint in /usr/local/lib/python3.10/dist-packages (60.2)\n",
            "Requirement already satisfied: anyio<5,>=3.5.0 in /usr/local/lib/python3.10/dist-packages (from OpenAI) (3.7.1)\n",
            "Requirement already satisfied: distro<2,>=1.7.0 in /usr/lib/python3/dist-packages (from OpenAI) (1.7.0)\n",
            "Requirement already satisfied: httpx<1,>=0.23.0 in /usr/local/lib/python3.10/dist-packages (from OpenAI) (0.25.2)\n",
            "Requirement already satisfied: pydantic<3,>=1.9.0 in /usr/local/lib/python3.10/dist-packages (from OpenAI) (1.10.13)\n",
            "Requirement already satisfied: sniffio in /usr/local/lib/python3.10/dist-packages (from OpenAI) (1.3.0)\n",
            "Requirement already satisfied: tqdm>4 in /usr/local/lib/python3.10/dist-packages (from OpenAI) (4.66.1)\n",
            "Requirement already satisfied: typing-extensions<5,>=4.5 in /usr/local/lib/python3.10/dist-packages (from OpenAI) (4.5.0)\n",
            "Requirement already satisfied: pydyf>=0.8.0 in /usr/local/lib/python3.10/dist-packages (from weasyprint) (0.8.0)\n",
            "Requirement already satisfied: cffi>=0.6 in /usr/local/lib/python3.10/dist-packages (from weasyprint) (1.16.0)\n",
            "Requirement already satisfied: html5lib>=1.1 in /usr/local/lib/python3.10/dist-packages (from weasyprint) (1.1)\n",
            "Requirement already satisfied: tinycss2>=1.0.0 in /usr/local/lib/python3.10/dist-packages (from weasyprint) (1.2.1)\n",
            "Requirement already satisfied: cssselect2>=0.1 in /usr/local/lib/python3.10/dist-packages (from weasyprint) (0.7.0)\n",
            "Requirement already satisfied: Pyphen>=0.9.1 in /usr/local/lib/python3.10/dist-packages (from weasyprint) (0.14.0)\n",
            "Requirement already satisfied: Pillow>=9.1.0 in /usr/local/lib/python3.10/dist-packages (from weasyprint) (9.4.0)\n",
            "Requirement already satisfied: fonttools[woff]>=4.0.0 in /usr/local/lib/python3.10/dist-packages (from weasyprint) (4.46.0)\n",
            "Requirement already satisfied: idna>=2.8 in /usr/local/lib/python3.10/dist-packages (from anyio<5,>=3.5.0->OpenAI) (3.6)\n",
            "Requirement already satisfied: exceptiongroup in /usr/local/lib/python3.10/dist-packages (from anyio<5,>=3.5.0->OpenAI) (1.2.0)\n",
            "Requirement already satisfied: pycparser in /usr/local/lib/python3.10/dist-packages (from cffi>=0.6->weasyprint) (2.21)\n",
            "Requirement already satisfied: webencodings in /usr/local/lib/python3.10/dist-packages (from cssselect2>=0.1->weasyprint) (0.5.1)\n",
            "Requirement already satisfied: zopfli>=0.1.4 in /usr/local/lib/python3.10/dist-packages (from fonttools[woff]>=4.0.0->weasyprint) (0.2.3)\n",
            "Requirement already satisfied: brotli>=1.0.1 in /usr/local/lib/python3.10/dist-packages (from fonttools[woff]>=4.0.0->weasyprint) (1.1.0)\n",
            "Requirement already satisfied: six>=1.9 in /usr/local/lib/python3.10/dist-packages (from html5lib>=1.1->weasyprint) (1.16.0)\n",
            "Requirement already satisfied: certifi in /usr/local/lib/python3.10/dist-packages (from httpx<1,>=0.23.0->OpenAI) (2023.11.17)\n",
            "Requirement already satisfied: httpcore==1.* in /usr/local/lib/python3.10/dist-packages (from httpx<1,>=0.23.0->OpenAI) (1.0.2)\n",
            "Requirement already satisfied: h11<0.15,>=0.13 in /usr/local/lib/python3.10/dist-packages (from httpcore==1.*->httpx<1,>=0.23.0->OpenAI) (0.14.0)\n"
          ]
        }
      ]
    },
    {
      "cell_type": "code",
      "source": [
        "import os\n",
        "from google.colab import userdata\n",
        "os.environ['OPENAI_API_KEY'] = userdata.get('OPENAI_API_KEY')"
      ],
      "metadata": {
        "id": "3_jkcGWaQvvs"
      },
      "execution_count": 361,
      "outputs": []
    },
    {
      "cell_type": "markdown",
      "source": [
        "# Setup"
      ],
      "metadata": {
        "id": "G06pKHgsTTNg"
      }
    },
    {
      "cell_type": "code",
      "source": [
        "from openai import OpenAI\n",
        "\n",
        "client = OpenAI()\n",
        "\n",
        "# retrieve the Assistant\n",
        "my_assistant = client.beta.assistants.retrieve(\"asst_3WQiw8VJ91XWikievImBqwrZ\")\n",
        "\n",
        "# create a thread\n",
        "my_thread = client.beta.threads.create()\n"
      ],
      "metadata": {
        "id": "ianKdgCtS-Yp"
      },
      "execution_count": 362,
      "outputs": []
    },
    {
      "cell_type": "code",
      "source": [
        "import time\n",
        "\n",
        "def create_run_and_display_response(client, my_thread, my_assistant, content, file_ids=None):\n",
        "    \"\"\"\n",
        "    Create a message, run it, and display the response.\n",
        "\n",
        "    Args:\n",
        "    client (Client): The API client.\n",
        "    my_thread (Thread): The thread to post the message to.\n",
        "    my_assistant (Assistant): The assistant to use for the run.\n",
        "    content (str): The content of the message.\n",
        "    file_ids (list, optional): List of file IDs to attach to the message.\n",
        "\n",
        "    Returns:\n",
        "    str: The response content.\n",
        "\n",
        "    Raises:\n",
        "    ValueError: If any of the parameters are invalid.\n",
        "    RuntimeError: If the run does not complete successfully.\n",
        "    \"\"\"\n",
        "\n",
        "    if not all([client, my_thread, my_assistant, content]):\n",
        "        raise ValueError(\"Invalid parameters provided.\")\n",
        "\n",
        "    extra_instructions = \"\"\" ONLY return the content as markdown with no commentary what so ever.\"\"\"\n",
        "\n",
        "    # Create the message\n",
        "    thread_message = client.beta.threads.messages.create(\n",
        "        my_thread.id,\n",
        "        role=\"user\",\n",
        "        content=content + extra_instructions,\n",
        "        file_ids=file_ids or []\n",
        "    )\n",
        "\n",
        "    # Hard code the values for max_retries and wait_seconds\n",
        "    max_retries = 120\n",
        "    wait_seconds = 0.5\n",
        "\n",
        "    # Create a run\n",
        "    run = client.beta.threads.runs.create(\n",
        "        thread_id=my_thread.id,\n",
        "        assistant_id=my_assistant.id\n",
        "    )\n",
        "\n",
        "    # Check the run's status\n",
        "    for _ in range(max_retries):\n",
        "        run = client.beta.threads.runs.retrieve(\n",
        "            thread_id=my_thread.id,\n",
        "            run_id=run.id)\n",
        "        if run.status == \"completed\":\n",
        "            break\n",
        "        time.sleep(wait_seconds)\n",
        "    else:\n",
        "        raise RuntimeError(\"Run did not complete successfully.\")\n",
        "\n",
        "    # Retrieve and return the response\n",
        "    all_messages = client.beta.threads.messages.list(thread_id=my_thread.id)\n",
        "    return all_messages.data[0].content[0].text.value + \"\\n\\n\"\n",
        "\n"
      ],
      "metadata": {
        "id": "Ic6LwTYy5Dus"
      },
      "execution_count": 363,
      "outputs": []
    },
    {
      "cell_type": "markdown",
      "source": [
        "# Initial File Upload and Prompt"
      ],
      "metadata": {
        "id": "DxSAZm5tzT62"
      }
    },
    {
      "cell_type": "code",
      "source": [
        "# get the job description from GitHub\n",
        "import time\n",
        "\n",
        "# infra engineer example\n",
        "file_path = 'jobdescription.txt'\n",
        "!wget -O 'jobdescription.txt' https://raw.githubusercontent.com/androb/deliverables/main/interviewplaybook/examples/infra-engineer/job-description.md\n",
        "# load it into a variable for later use\n",
        "with open(file_path, 'r') as file:\n",
        "    job_description = file.read()\n",
        "\n",
        "!wget -O companyvalues.txt https://raw.githubusercontent.com/androb/deliverables/main/interviewplaybook/examples/infra-engineer/company-values.md\n",
        "# time.sleep(5)\n",
        "\n",
        "\n",
        "# medical assistant example\n",
        "# !wget -O jobdescription.txt https://raw.githubusercontent.com/androb/deliverables/main/interviewplaybook/examples/medical-assistant/job-description.md\n",
        "\n",
        "# Upload the file\n",
        "file_company_values = client.files.create(\n",
        "  file=open(\"companyvalues.txt\", \"rb\"),\n",
        "  purpose=\"assistants\"\n",
        ")\n",
        "\n",
        "# Upload the file\n",
        "file_job_description = client.files.create(\n",
        "  file=open(\"jobdescription.txt\", \"rb\"),\n",
        "  purpose=\"assistants\"\n",
        ")\n",
        "time.sleep(5)\n",
        "\n"
      ],
      "metadata": {
        "id": "G23reYVLTmQc",
        "colab": {
          "base_uri": "https://localhost:8080/"
        },
        "outputId": "5ab9f1a6-12c7-49f7-dd23-6e6d4f040eb1"
      },
      "execution_count": 364,
      "outputs": [
        {
          "output_type": "stream",
          "name": "stdout",
          "text": [
            "--2023-12-19 00:13:50--  https://raw.githubusercontent.com/androb/deliverables/main/interviewplaybook/examples/infra-engineer/job-description.md\n",
            "Resolving raw.githubusercontent.com (raw.githubusercontent.com)... 185.199.108.133, 185.199.109.133, 185.199.110.133, ...\n",
            "Connecting to raw.githubusercontent.com (raw.githubusercontent.com)|185.199.108.133|:443... connected.\n",
            "HTTP request sent, awaiting response... 200 OK\n",
            "Length: 4034 (3.9K) [text/plain]\n",
            "Saving to: ‘jobdescription.txt’\n",
            "\n",
            "jobdescription.txt  100%[===================>]   3.94K  --.-KB/s    in 0s      \n",
            "\n",
            "2023-12-19 00:13:51 (33.9 MB/s) - ‘jobdescription.txt’ saved [4034/4034]\n",
            "\n",
            "--2023-12-19 00:13:56--  https://raw.githubusercontent.com/androb/deliverables/main/interviewplaybook/examples/infra-engineer/company-values.md\n",
            "Resolving raw.githubusercontent.com (raw.githubusercontent.com)... 185.199.108.133, 185.199.109.133, 185.199.110.133, ...\n",
            "Connecting to raw.githubusercontent.com (raw.githubusercontent.com)|185.199.108.133|:443... connected.\n",
            "HTTP request sent, awaiting response... 200 OK\n",
            "Length: 2832 (2.8K) [text/plain]\n",
            "Saving to: ‘companyvalues.txt’\n",
            "\n",
            "companyvalues.txt   100%[===================>]   2.77K  --.-KB/s    in 0s      \n",
            "\n",
            "2023-12-19 00:13:56 (40.0 MB/s) - ‘companyvalues.txt’ saved [2832/2832]\n",
            "\n"
          ]
        }
      ]
    },
    {
      "cell_type": "markdown",
      "source": [
        "# Create the Introduction"
      ],
      "metadata": {
        "id": "1wzWtt6hzFsR"
      }
    },
    {
      "cell_type": "code",
      "source": [
        "# Refresh the context to ensure it has read the files\n",
        "values = create_run_and_display_response(client,my_thread,my_assistant,\"\"\"\n",
        "            Write a detailed description of the company values file, using the company name.\n",
        "            \"\"\", [file_job_description.id, file_company_values.id])\n",
        "print(values)\n",
        "\n",
        "# Refresh the context to ensure it has read the files\n",
        "competency_list = create_run_and_display_response(client,my_thread,my_assistant,\"\"\"\n",
        "            Then, write the job title contained in the job description file.\n",
        "            Then, create the list of technical competencies, which MUST cover the areas mentioned in the\n",
        "            requirements in the job description (and no more). Create the list of behavioral\n",
        "            competencies, with a focus on the company values but still covering all requirements in the\n",
        "            job description. Where possible, describe a competency in a way that aligns with the company values.\n",
        "            Each competency should have a title followed by a short description.\n",
        "            \"\"\", [file_job_description.id, file_company_values.id])\n",
        "print(competency_list)"
      ],
      "metadata": {
        "colab": {
          "base_uri": "https://localhost:8080/"
        },
        "id": "ip0AjmHHB2nQ",
        "outputId": "b955604e-855f-4339-d698-a3c2a928501f"
      },
      "execution_count": 365,
      "outputs": [
        {
          "output_type": "stream",
          "name": "stdout",
          "text": [
            "# Y Combinator: Mission, Vision, and Values\n",
            "\n",
            "## Mission\n",
            "Y Combinator's mission is to increase the number of startups by assisting founders in their creation, helping them to build something noteworthy to raise funds on a larger scale.\n",
            "\n",
            "## Vision\n",
            "The vision of Y Combinator is a world where startups are common and are seen as being significantly productive for founders and early employees compared to working in established companies.\n",
            "\n",
            "## Values\n",
            "Y Combinator values integrity, respect, and accountability, emphasizing trust within its community. Putting founders' interests first and valuing evidence of demand for startups' solutions are also core to Y Combinator’s approach, along with a focus on launching and testing ideas quickly to respond to market changes.\n",
            "\n",
            "\n"
          ]
        }
      ]
    },
    {
      "cell_type": "code",
      "source": [
        "introduction = create_run_and_display_response(client,my_thread,my_assistant,\"Generate the Introduction with the Candidate Profle (only if applicable) and Interview Structure. Be sure to include mention of the competencies in the interview structure.\")\n",
        "print(introduction)"
      ],
      "metadata": {
        "colab": {
          "base_uri": "https://localhost:8080/"
        },
        "id": "C5zuFj7K5r9z",
        "outputId": "27bf5a90-8bf2-4a29-a6c7-07abcbc2d81d"
      },
      "execution_count": 366,
      "outputs": [
        {
          "output_type": "stream",
          "name": "stdout",
          "text": [
            "# Interview Playbook for Infrastructure Software Engineer\n",
            "\n",
            "## Introduction\n",
            "\n",
            "This interview is for the Infrastructure Software Engineer position at Y Combinator located in the San Francisco Bay Area. This role is integral in managing and evolving YC's shared infrastructure across various software products. The ideal candidate is expected to be proficient in a variety of technical competencies including MVC web application development, AWS infrastructure, Docker deployment, and Terraform, along with 5 years of industry experience. Behavioral competencies play an equally important role, reflecting Y Combinator's values of integrity, respect, accountability, founder support, and agility in launching ideas and adapting to market changes. \n",
            "\n",
            "## Interview Structure\n",
            "\n",
            "The interview will consist of the following components, each designed to assess both technical and behavioral competencies aligned with Y Combinator's values:\n",
            "\n",
            "1. Introduction (5 minutes): A welcoming approach typical of YC's respectful community, sharing the agenda, and ensuring candidate's comfort.\n",
            "2. Technical Assessment (45 minutes): A deep dive into the candidate's technical expertise within the domain of MVC web applications, AWS, Docker, and Terraform.\n",
            "3. Behavioral Assessment (30 minutes): Exploration of how the candidate's behaviors align with company values like integrity, respect, accountability, and speed of execution.\n",
            "4. Practical Assignment (30 minutes): A hands-on activity to gauge the candidate's applied skills in a practical context, relevant to YC's infrastructure setup.\n",
            "5. Team Interaction (If applicable, 20 minutes): A brief meet and greet with potential team members to assess culture fit and collaborative skills.\n",
            "6. Candidate Q&A (10 minutes): Time reserved for the candidate to ask questions about Y Combinator, the role, and future objectives.\n",
            "7. Closing (5 minutes): Outline the next steps, share appreciation for the candidate's time, and provide a timeline for the hiring decision.\n",
            "\n",
            "Total duration: Approximately 2 hours and 25 minutes.\n",
            "\n",
            "\n"
          ]
        }
      ]
    },
    {
      "cell_type": "markdown",
      "source": [
        "# Create Scoring and Evaluation Criteria"
      ],
      "metadata": {
        "id": "wbojM0Og4s_m"
      }
    },
    {
      "cell_type": "code",
      "source": [
        "eval_criteria = create_run_and_display_response(client,my_thread,my_assistant,\"\"\"\n",
        "    Generate the Scoring and Evaluation Critera section.\n",
        "    \"\"\")\n",
        "print(eval_criteria)"
      ],
      "metadata": {
        "id": "WoY0tlUkkCdk",
        "colab": {
          "base_uri": "https://localhost:8080/"
        },
        "outputId": "322aa177-1886-4b37-d188-90b5d66b5067"
      },
      "execution_count": 367,
      "outputs": [
        {
          "output_type": "stream",
          "name": "stdout",
          "text": [
            "## Scoring and Evaluation Criteria\n",
            "\n",
            "| Competency                  | Assessment | Comments                |\n",
            "|-----------------------------|------------|-------------------------|\n",
            "| MVC Web Application         |            |                         |\n",
            "| AWS Infrastructure          |            |                         |\n",
            "| Docker Deployment           |            |                         |\n",
            "| Terraform                   |            |                         |\n",
            "| Industry Experience (5+ yrs)|            |                         |\n",
            "| Integrity and Respect       |            |                         |\n",
            "| Accountability              |            |                         |\n",
            "| Founder Support             |            |                         |\n",
            "| Agility and Adaptability    |            |                         |\n",
            "| Practical Assignment        |            |                         |\n",
            "| Team Interaction            |            |                         |\n",
            "\n",
            "### Rating Guide\n",
            "\n",
            "- **Exceptional (5)**: Far exceeding expectations with exceptional skill and understanding in the competency.\n",
            "- **Exceeds Expectations (4)**: Demonstrates a higher level of ability and understanding; adds extra value.\n",
            "- **Meets Expectations (3)**: Adequately displays the required competency level; solid performance.\n",
            "- **Below Expectations (2)**: Shows some understanding but below the acceptable performance level.\n",
            "- **Unsatisfactory (1)**: Does not demonstrate the required competence or understanding.\n",
            "\n",
            "\n"
          ]
        }
      ]
    },
    {
      "cell_type": "markdown",
      "source": [
        "# Create Technical Assessment"
      ],
      "metadata": {
        "id": "9XgTU1JEzfEa"
      }
    },
    {
      "cell_type": "code",
      "source": [
        "technical_assessment_1 = create_run_and_display_response(client,my_thread,my_assistant,\"Generate the first Technical Assessment\")\n",
        "print(technical_assessment_1)\n"
      ],
      "metadata": {
        "colab": {
          "base_uri": "https://localhost:8080/"
        },
        "id": "6W7Mp4JwzhNW",
        "outputId": "161e929d-12fe-4f29-8a63-054f2387fea0"
      },
      "execution_count": 368,
      "outputs": [
        {
          "output_type": "stream",
          "name": "stdout",
          "text": [
            "## Technical Assessment\n",
            "\n",
            "### Technical Competence 1: MVC Web Application Development\n",
            "Proficiency in developing and debugging full-stack MVC (Model-View-Controller) web applications is critical for creating maintainable, efficient, and secure web services. The role requires a deep understanding of server-side and client-side interactions, database management, and the ability to architect solutions that leverage the MVC design pattern effectively.\n",
            "\n",
            "#### Lead Question\n",
            "Can you describe a time when you had to troubleshoot a challenging bug in an MVC application and how you approached solving it, including the tools and processes you used?\n",
            "\n",
            "#### Probing Questions\n",
            "\n",
            "- What were the most common performance bottlenecks you encountered in MVC web applications and how did you address them?\n",
            "- How do you go about understanding and implementing necessary cross-cutting features like authentication and authorization in MVC apps?\n",
            "- Explain how you maintain separation of concerns within MVC frameworks when developing complex features.\n",
            "- Can you walk us through how you decide when to use built-in MVC framework functionalities versus writing custom code?\n",
            "\n",
            "#### Scenario\n",
            "Imagine you've been assigned to augment a Ruby on Rails application that suffers from slow load times on certain pages, which are affecting user engagement metrics. How would you identify the sources of the delay and what steps would you take to optimize the application's performance?\n",
            "\n",
            "#### Tips\n",
            "Encourage the candidate to delve into specific experiences with MVC-related projects. Look for clarity in communication, a structured approach to problem-solving, and examples that reflect a solid understanding of MVC principles and best practices.\n",
            "\n",
            "\n"
          ]
        }
      ]
    },
    {
      "cell_type": "code",
      "source": [
        "technical_assessment_2 = create_run_and_display_response(client,my_thread,my_assistant,\"Generate the 2nd Technical Assessment. Don't include the main section header.\")\n",
        "print(technical_assessment_2)"
      ],
      "metadata": {
        "colab": {
          "base_uri": "https://localhost:8080/"
        },
        "id": "xf9T4lGVTLoI",
        "outputId": "6c557f12-2e5c-4cb6-a36c-fbbe1215764d"
      },
      "execution_count": 369,
      "outputs": [
        {
          "output_type": "stream",
          "name": "stdout",
          "text": [
            "### Technical Competence 2: AWS Infrastructure\n",
            "Understanding and managing cloud infrastructure within the AWS ecosystem is essential. This competency includes proficiency with services like ECS, RDS, IAM, and CloudWatch to deploy, scale, and secure web applications, ensuring reliability and optimizing for cost and performance.\n",
            "\n",
            "#### Lead Question\n",
            "Describe a past project where you were responsible for designing or optimizing the AWS infrastructure. What were the key AWS services you implemented, and what challenges did you face during the process?\n",
            "\n",
            "#### Probing Questions\n",
            "\n",
            "- How do you approach securing an application's environment within AWS, and can you give an example of how you've managed IAM roles and policies?\n",
            "- Can you explain a scenario where you needed to scale a service using AWS and how you ensured that it was both cost-effective and resilient?\n",
            "- What strategies do you use to monitor and manage the performance of web applications using AWS services, particularly CloudWatch?\n",
            "- Discuss an experience where you had to troubleshoot a complex issue involving multiple AWS services. How did you identify and resolve it?\n",
            "\n",
            "#### Scenario\n",
            "Suppose Y Combinator's web application has been experiencing intermittent downtime, and preliminary analysis suggests issues with service scaling and load balancing on AWS. How would you go about diagnosing and resolving these issues?\n",
            "\n",
            "#### Tips\n",
            "Focus on the candidate's ability to articulate their thought process in leveraging AWS features for infrastructure management. Look for examples of innovative solutions to cloud infrastructure challenges and the ability to work with AWS service nuances to maintain performance and security of web services.\n",
            "\n",
            "\n"
          ]
        }
      ]
    },
    {
      "cell_type": "code",
      "source": [
        "technical_assessment_3 = create_run_and_display_response(client,my_thread,my_assistant,\"Generate the 3rd Technical Assessment. Don't include the main section header.\")\n",
        "print(technical_assessment_3)"
      ],
      "metadata": {
        "colab": {
          "base_uri": "https://localhost:8080/"
        },
        "id": "7nLQIDWITOVT",
        "outputId": "98756753-4374-43b7-840e-07a817459b58"
      },
      "execution_count": 370,
      "outputs": [
        {
          "output_type": "stream",
          "name": "stdout",
          "text": [
            "### Technical Competence 3: Docker Deployment\n",
            "The ability to containerize applications using Docker is essential for ensuring consistent, scalable, and isolated environments. Mastery in writing Dockerfiles, managing containers, and understanding Docker networking is key to improving deployment processes and maintaining application delivery consistency.\n",
            "\n",
            "#### Lead Question\n",
            "Can you share your experience with building and optimizing Dockerfiles for production environments and highlight any unique challenges you've encountered?\n",
            "\n",
            "#### Probing Questions\n",
            "\n",
            "- How do you manage persistent data and state across container restarts in Docker?\n",
            "- Describe your strategy for optimizing Docker image sizes without compromising the performance or security of the containerized application.\n",
            "- What approach do you take to maintain a smooth CI/CD pipeline with Docker, especially when dealing with multiple service dependencies?\n",
            "- How do you ensure that Dockerized services successfully communicate in a microservice architecture?\n",
            "\n",
            "#### Scenario\n",
            "You are tasked with migrating a Rails application from Capistrano and EC2 to Docker and ECS. Outline the steps you would take to containerize the application, ensuring minimal downtime and seamless integration with ECS.\n",
            "\n",
            "#### Tips\n",
            "Assess the candidate's expertise in Docker through both their responses to direct questioning and their ability to discuss complex deployment scenarios. Pay attention to their understanding of Docker's role in the context of modern DevOps practices and their problem-solving skills when faced with containerization challenges.\n",
            "\n",
            "\n"
          ]
        }
      ]
    },
    {
      "cell_type": "code",
      "source": [
        "technical_assessment_4 = create_run_and_display_response(client,my_thread,my_assistant,\"Generate the 4th Technical Assessment. Don't include the main section header.\")\n",
        "print(technical_assessment_4)"
      ],
      "metadata": {
        "colab": {
          "base_uri": "https://localhost:8080/"
        },
        "id": "18RhkvioTRTW",
        "outputId": "b6036450-f0b7-49c9-bfb6-b5d19e931034"
      },
      "execution_count": 371,
      "outputs": [
        {
          "output_type": "stream",
          "name": "stdout",
          "text": [
            "### Technical Competence 4: Terraform\n",
            "Mastery in using Terraform for infrastructure as code is crucial for automating and maintaining cloud infrastructure. This involves writing, planning, and creating reproducible and modular infrastructure with Terraform scripts, and managing changes to infrastructure with minimal disruption.\n",
            "\n",
            "#### Lead Question\n",
            "Could you walk us through a complex infrastructure setup that you automated using Terraform, detailing the challenges encountered and how you overcame them?\n",
            "\n",
            "#### Probing Questions\n",
            "\n",
            "- How do you ensure Terraform state files are securely managed and synchronized across a distributed team?\n",
            "- What is your strategy for modularizing Terraform code to be reusable for different environments or projects?\n",
            "- Describe how you plan and apply incremental changes to infrastructure with Terraform in a production environment.\n",
            "- Can you discuss a time when you refactored existing infrastructure with Terraform and the steps you took to ensure zero downtime?\n",
            "\n",
            "#### Scenario\n",
            "Y Combinator is planning to expand its AWS infrastructure to support a new suite of software products. As part of this project, you are given the task to create a scalable and secure infrastructure using Terraform. Outline your approach from writing the Terraform scripts to monitoring post-deployment.\n",
            "\n",
            "#### Tips\n",
            "Evaluate the candidate's ability to create clear, maintainable Terraform code, and manage infrastructure changes safely. Their answers should demonstrate a thorough understanding of best practices around version control, state management, and team collaboration using Terraform.\n",
            "\n",
            "\n"
          ]
        }
      ]
    },
    {
      "cell_type": "code",
      "source": [
        "technical_assessment_5 = create_run_and_display_response(client,my_thread,my_assistant,\"Generate the 5th Technical Assessment. Don't include the main section header.\")\n",
        "print(technical_assessment_5)"
      ],
      "metadata": {
        "colab": {
          "base_uri": "https://localhost:8080/"
        },
        "id": "2W1k4KMwTWYo",
        "outputId": "e1426b2f-1b99-40a6-b085-ffc67a74a12e"
      },
      "execution_count": 372,
      "outputs": [
        {
          "output_type": "stream",
          "name": "stdout",
          "text": [
            "### Technical Competence 5: Industry Experience\n",
            "Having a minimum of 5 years of experience in developing and deploying web applications is crucial for understanding the full lifecycle and complexities of software development. This includes a deep knowledge of scalable architectures, security best practices, and the ability to mentor less experienced team members.\n",
            "\n",
            "#### Lead Question\n",
            "Can you discuss a complex technical project you led or contributed to significantly over the past years that showcases your depth of industry experience?\n",
            "\n",
            "#### Probing Questions\n",
            "\n",
            "- How has your approach to software architecture evolved over your years of experience, especially around scalability and security?\n",
            "- Can you give an example of how you've mentored or influenced less experienced developers in a past role?\n",
            "- Reflect on a significant technological shift you've navigated in your career. How did you adapt and what did you learn?\n",
            "- What’s the most impactful technical decision you've made in your career and what were its long-term effects?\n",
            "\n",
            "#### Scenario\n",
            "You're joining Y Combinator and are given the charge to lead a project that incorporates emerging technologies or methodologies into the current stack. Describe the steps you would take from ideation to execution, balancing innovation with the practical needs of the business.\n",
            "\n",
            "#### Tips\n",
            "Look for comprehensive answers that demonstrate a rich understanding of software development principles. Emphasize the candidate's ability to communicate complex ideas effectively, adapt to new technologies, and contribute meaningfully to a team's skill set based on their industry experience.\n",
            "\n",
            "\n"
          ]
        }
      ]
    },
    {
      "cell_type": "code",
      "source": [
        "technical_assessment = technical_assessment_1 + technical_assessment_2 + technical_assessment_3 + technical_assessment_4 + technical_assessment_5"
      ],
      "metadata": {
        "id": "TqPsbclGTZmJ"
      },
      "execution_count": 373,
      "outputs": []
    },
    {
      "cell_type": "markdown",
      "source": [
        "# Create Behavioral Assessment"
      ],
      "metadata": {
        "id": "GXQquee34Q9k"
      }
    },
    {
      "cell_type": "code",
      "source": [
        "behavioral_assessment_1 = create_run_and_display_response(client,my_thread,my_assistant,\"Generate the 1st Behavioral Assessment section.\")\n",
        "print(behavioral_assessment_1)"
      ],
      "metadata": {
        "colab": {
          "base_uri": "https://localhost:8080/"
        },
        "outputId": "24f3d09a-2bba-4290-96f0-cd985834efa4",
        "id": "_14Q6lQO4N9R"
      },
      "execution_count": 374,
      "outputs": [
        {
          "output_type": "stream",
          "name": "stdout",
          "text": [
            "## Behavioral Assessment\n",
            "\n",
            "### Behavioral Competence 1: Integrity and Respect\n",
            "Y Combinator values integrity as a cornerstone of their organization, ensuring that all members act ethically and with respect towards each other. Candidates must display a history of ethical behavior and show respect in their interactions, decisions, and work.\n",
            "\n",
            "#### Lead Question\n",
            "Tell me about a time when you were faced with an ethical dilemma in your professional life. How did you handle it, and what was the outcome?\n",
            "\n",
            "#### Probing Questions\n",
            "\n",
            "- How do you ensure that your personal values are in alignment with your professional responsibilities and conduct?\n",
            "- Can you provide an example of how you have handled a sensitive or confidential matter at work?\n",
            "- Describe a moment when you had to give difficult feedback to a colleague. How did you approach the situation to maintain respect and integrity?\n",
            "- What strategies do you use to foster an environment of trust and respect within a team?\n",
            "\n",
            "#### Scenario\n",
            "Imagine you've discovered a significant vulnerability in your previous company's product, which hasn't yet been noticed or exploited. How would you address this situation considering the potential impacts on the company, customers, and your team?\n",
            "\n",
            "#### Tips\n",
            "Assess the candidate's commitment to ethical practices and their ability to maintain respect within a professional setting. Their response should reflect a strong moral compass and handling of situations that align with Y Combinator's values of integrity and respect.\n",
            "\n",
            "\n"
          ]
        }
      ]
    },
    {
      "cell_type": "code",
      "source": [
        "behavioral_assessment_2 = create_run_and_display_response(client,my_thread,my_assistant,\"Generate the 2nd Behavioral Assessment section. Don't include the main section header.\")\n",
        "print(behavioral_assessment_2)"
      ],
      "metadata": {
        "colab": {
          "base_uri": "https://localhost:8080/"
        },
        "id": "HT3Q_lDjg6SO",
        "outputId": "9eaf20c6-c1be-4add-9ed8-7d556f828ee6"
      },
      "execution_count": 375,
      "outputs": [
        {
          "output_type": "stream",
          "name": "stdout",
          "text": [
            "### Behavioral Competence 2: Accountability\n",
            "Accountability is a key value at Y Combinator, with an emphasis on taking ownership of one's actions and responsibilities within the organization. This competency is about being reliable, meeting deadlines, and following through on commitments made to peers and the company.\n",
            "\n",
            "#### Lead Question\n",
            "Share an example of how you've taken ownership of a problem that was not originally within your scope of responsibilities. What was the issue and what steps did you take to resolve it?\n",
            "\n",
            "#### Probing Questions\n",
            "\n",
            "- How do you prioritize your tasks and manage expectations when you have multiple high-priority commitments?\n",
            "- Tell me about a time when you made a mistake at work. How did you handle it and what was the outcome?\n",
            "- Describe how you keep yourself accountable in a remote or unsupervised work environment.\n",
            "- Can you provide an instance when you proactively updated stakeholders on a project's progress or potential setbacks?\n",
            "\n",
            "#### Scenario\n",
            "Imagine you're working on a critical infrastructure project for Y Combinator and encounter an unforeseen setback that puts the project timeline at risk. How would you communicate this to your team and stakeholders, and what would be your plan to rectify the situation?\n",
            "\n",
            "#### Tips\n",
            "Look for clear examples of the candidate's ability to take responsibility for their actions and deliver on their commitments. They should demonstrate transparency in communication and a proactive approach to addressing challenges or setbacks.\n",
            "\n",
            "\n"
          ]
        }
      ]
    },
    {
      "cell_type": "code",
      "source": [
        "behavioral_assessment_3 = create_run_and_display_response(client,my_thread,my_assistant,\"Generate the 3rd Behavioral Assessment section. Don't include the main section header.\")\n",
        "print(behavioral_assessment_3)"
      ],
      "metadata": {
        "colab": {
          "base_uri": "https://localhost:8080/"
        },
        "id": "lWl-q-ZFhQNU",
        "outputId": "3e5d0cbf-5db1-4b19-a8f7-be9cc0f34024"
      },
      "execution_count": 376,
      "outputs": [
        {
          "output_type": "stream",
          "name": "stdout",
          "text": [
            "### Behavioral Competence 3: Founder Support\n",
            "Y Combinator places high importance on the ability to support and prioritize the interests of founders, reflecting a commitment to the startup ecosystem. This competency involves demonstrating a service-oriented mindset and taking actions that align with the founders' vision and goals.\n",
            "\n",
            "#### Lead Question\n",
            "Tell us about a situation where you had to support an entrepreneur or a founding team. What was required from you, and how did you contribute to their success?\n",
            "\n",
            "#### Probing Questions\n",
            "\n",
            "- How have you handled a scenario where a founder's vision conflicted with your own professional opinion or experience?\n",
            "- Describe a time when you went above and beyond to ensure that a project or task aligned with the overarching goals of a founder.\n",
            "- Can you provide an example of how you helped a startup or a founding team navigate a challenging period?\n",
            "- In what ways have you contributed to creating a supportive environment that fosters innovation and risk-taking among founders?\n",
            "\n",
            "#### Scenario\n",
            "Imagine a scenario where a founder of a startup incubated by Y Combinator is facing significant roadblocks that threaten the continuation of their project. How would you intervene and provide assistance to overcome these hurdles?\n",
            "\n",
            "#### Tips\n",
            "Evaluate the sincerity and effectiveness of the candidate's support for entrepreneurial ventures. They should exhibit an understanding of and dedication to nurturing startup founders, aligning with Y Combinator’s ethos of founder support.\n",
            "\n",
            "\n"
          ]
        }
      ]
    },
    {
      "cell_type": "code",
      "source": [
        "behavioral_assessment_4 = create_run_and_display_response(client,my_thread,my_assistant,\"Generate the 4th Behavioral Assessment section. Don't include the main section header.\")\n",
        "print(behavioral_assessment_4)"
      ],
      "metadata": {
        "colab": {
          "base_uri": "https://localhost:8080/"
        },
        "id": "wQKG2ZxmhTbF",
        "outputId": "7694243e-eb3b-4816-ec69-1de8a7f01049"
      },
      "execution_count": 377,
      "outputs": [
        {
          "output_type": "stream",
          "name": "stdout",
          "text": [
            "### Behavioral Competence 4: Agility and Adaptability\n",
            "In an ever-changing market, Y Combinator values the ability to quickly adapt and pivot strategies. This competency focuses on the candidate's agility to respond to new information and the adaptability to embrace change effectively.\n",
            "\n",
            "#### Lead Question\n",
            "Can you describe a time when you had to quickly change your approach due to new or unexpected developments on a project?\n",
            "\n",
            "#### Probing Questions\n",
            "\n",
            "- How do you stay informed of the latest trends and updates relevant to your field, and how do you apply this knowledge?\n",
            "- What is your process for managing uncertainty and making decisions in fast-paced or ambiguous situations?\n",
            "- Can you provide an example of an initiative you took that required you to learn a new skill or adapt to a new environment?\n",
            "- Explain a scenario where you had to persuade your team to adopt a significant change to a project plan or strategy.\n",
            "\n",
            "#### Scenario\n",
            "Y Combinator decides to pivot the technology stack for a key project to align with newer industry standards. How would you approach this situation to ensure a smooth transition and maintain project momentum?\n",
            "\n",
            "#### Tips\n",
            "Look for clear examples of the candidate's ability to think on their feet, willingness to learn, and a proactive approach to change. Gauge their persuasiveness in leading a team through transitions and their resilience in the face of challenges.\n",
            "\n",
            "\n"
          ]
        }
      ]
    },
    {
      "cell_type": "code",
      "source": [
        "behavioral_assessment_5 = create_run_and_display_response(client,my_thread,my_assistant,\"Generate the 5th Behavioral Assessment section. Don't include the main section header.\")\n",
        "print(behavioral_assessment_5)"
      ],
      "metadata": {
        "colab": {
          "base_uri": "https://localhost:8080/"
        },
        "id": "gwcBpL0ZhWxW",
        "outputId": "20dab095-caf0-4d37-bb37-429b5ed1c5de"
      },
      "execution_count": 378,
      "outputs": [
        {
          "output_type": "stream",
          "name": "stdout",
          "text": [
            "### Behavioral Competence 5: Evidence of Demand and Market Responsiveness\n",
            "Y Combinator believes in the significance of rapid testing and responsiveness to market demands. Candidates should demonstrate the ability to validate ideas swiftly, pivot based on user feedback, and handle shifts in market trends.\n",
            "\n",
            "#### Lead Question\n",
            "Describe a time when you had to pivot or make a significant change to a product based on market feedback or a sudden shift in user needs.\n",
            "\n",
            "#### Probing Questions\n",
            "\n",
            "- How do you validate new ideas or features with real users, and can you share a successful example of this process?\n",
            "- What methodologies do you use to gather and process user feedback and market data?\n",
            "- Have you ever had to deprioritize or eliminate a feature or project due to changing market demands? How did you approach this decision?\n",
            "- How do you balance the need for swift responsiveness to the market with the strategic vision of the product?\n",
            "\n",
            "#### Scenario\n",
            "A product you're developing at Y Combinator has received mixed feedback from its initial user base, suggesting that a different feature set might be in higher demand. What steps would you take to reassess and adjust the product's roadmap accordingly?\n",
            "\n",
            "#### Tips\n",
            "Seek examples of the candidate's experiences with quickly adapting plans and validating market demand for a product. They should display an understanding of customer-centric development and exhibit flexibility in adjusting to new information and user expectations.\n",
            "\n",
            "\n"
          ]
        }
      ]
    },
    {
      "cell_type": "code",
      "source": [
        "behavioral_assessment = behavioral_assessment_1 + behavioral_assessment_2 + behavioral_assessment_3 + behavioral_assessment_4 + behavioral_assessment_5"
      ],
      "metadata": {
        "id": "GN20fqZPhhkS"
      },
      "execution_count": 379,
      "outputs": []
    },
    {
      "cell_type": "markdown",
      "source": [
        "# Create Practical Assignment"
      ],
      "metadata": {
        "id": "7A6ZM1-G4dQn"
      }
    },
    {
      "cell_type": "code",
      "source": [
        "practical_assignment = create_run_and_display_response(client,my_thread,my_assistant,\"Generate the Practical Assignment section.\")\n",
        "print(practical_assignment)\n"
      ],
      "metadata": {
        "colab": {
          "base_uri": "https://localhost:8080/"
        },
        "outputId": "9547bfb4-5acd-41a3-ca51-a105410338ee",
        "id": "N_xZRljj4cMB"
      },
      "execution_count": 380,
      "outputs": [
        {
          "output_type": "stream",
          "name": "stdout",
          "text": [
            "## Practical Assignment\n",
            "\n",
            "The practical assignment involves the candidate migrating a Rails application from Capistrano and EC2 to Docker and ECS. The objective is to assess the candidate's practical skills in containerization and cloud service deployment, as well as their familiarity with AWS, Docker, and orchestration using ECS.\n",
            "\n",
            "Evaluation will be based on the candidate's approach to creating Dockerfiles, setting up ECS services, handling persistence and state management, and ensuring minimal downtime during the migration process. \n",
            "\n",
            "To assess the candidate's approach and solution, the interviewer should consider the following:\n",
            "\n",
            "- How well the candidate understands the nuances of containerizing a Rails application.\n",
            "- The ability to maintain a clean and efficient development workflow leveraging Docker and ECS.\n",
            "- Strategies for migrating live databases and user data with zero data loss.\n",
            "- Practices implemented to monitor and verify the successful operation of the application post-migration.\n",
            "\n",
            "The interviewer should also assess the candidate's ability to communicate their strategy, the rationale behind each step, and how they would tackle any potential challenges arising during the process.\n",
            "\n",
            "\n"
          ]
        }
      ]
    },
    {
      "cell_type": "markdown",
      "source": [
        "# Create Team Interaction"
      ],
      "metadata": {
        "id": "WuW7-2ie4niI"
      }
    },
    {
      "cell_type": "code",
      "source": [
        "team_interaction = create_run_and_display_response(client,my_thread,my_assistant,\"Generate the Team Interaction section.\")\n",
        "print(team_interaction)"
      ],
      "metadata": {
        "colab": {
          "base_uri": "https://localhost:8080/"
        },
        "id": "Tzl6B_wB4prG",
        "outputId": "10f0fc67-1c9f-4517-effc-e44dcac2f9e3"
      },
      "execution_count": 381,
      "outputs": [
        {
          "output_type": "stream",
          "name": "stdout",
          "text": [
            "## Team Interaction\n",
            "\n",
            "Team interaction provides an opportunity for the candidate to engage with potential future colleagues. It serves to assess how well they would integrate into the team, their collaborative skills, and their fit within Y Combinator's company culture.\n",
            "\n",
            "This interaction should be a mix of informal discussion and small problem-solving exercises relevant to the team's current projects. Proposed topics can include but are not limited to: brainstorming sessions for new features, commenting on the existing codebase's structure, or discussing approaches to ongoing challenges faced by the current team.\n",
            "\n",
            "During the interaction, observe the candidate's:\n",
            "\n",
            "- Communication style and ability to articulate thoughts.\n",
            "- Ability to listen and build upon others' ideas.\n",
            "- Approach to giving and receiving constructive feedback.\n",
            "- Comprehension of and reaction to the team's current projects and methodologies.\n",
            "\n",
            "The aim is to gauge mutual compatibility and to envision how the candidate would contribute to the team's dynamics and productivity.\n",
            "\n",
            "\n"
          ]
        }
      ]
    },
    {
      "cell_type": "markdown",
      "source": [
        "# Create Candidate Q&A"
      ],
      "metadata": {
        "id": "fwB0KPJM4qSI"
      }
    },
    {
      "cell_type": "code",
      "source": [
        "candidate_questions = create_run_and_display_response(client,my_thread,my_assistant,\"\"\"\n",
        "    Generate the Candidate Q&A section. Include example answers.\n",
        "    \"\"\")\n",
        "print(candidate_questions)"
      ],
      "metadata": {
        "colab": {
          "base_uri": "https://localhost:8080/"
        },
        "id": "9iEeRg924sST",
        "outputId": "f34ccc04-d7e4-4935-ec6e-bc51052f3c44"
      },
      "execution_count": 382,
      "outputs": [
        {
          "output_type": "stream",
          "name": "stdout",
          "text": [
            "## Candidate Q&A\n",
            "\n",
            "Candidates often have queries about the role, company, and expectations. The interviewer should be prepared to provide comprehensive responses.\n",
            "\n",
            "- **Candidate Question**: Can you tell me more about the day-to-day responsibilities of this role?\n",
            "  - **Answer**: As an Infrastructure Software Engineer at Y Combinator, you'll be actively involved in developing, deploying, and managing our shared infrastructure, with a focus on efficiency, scalability, and security using AWS, Docker, and Terraform among other technologies.\n",
            "\n",
            "- **Candidate Question**: What are the growth opportunities within Y Combinator for someone in this position?\n",
            "  - **Answer**: Y Combinator supports professional growth with opportunities to lead projects, mentor peers, and potentially move into larger leadership roles within the technical team. We encourage continuous learning and provide resources for expanding your skill set.\n",
            "\n",
            "- **Candidate Question**: How does the team at Y Combinator stay up-to-date with the latest technologies and practices in the industry?\n",
            "  - **Answer**: We promote a culture of learning where team members have access to workshops, conferences, and courses. Regular internal tech talks and hackathons help in staying sharp and innovative.\n",
            "\n",
            "- **Candidate Question**: Can you describe Y Combinator's company culture?\n",
            "  - **Answer**: Our culture is centered around our values of integrity, respect, accountability, and supporting founders. We encourage creativity, open communication, and a founder-first approach that drives a dynamic and supportive work environment.\n",
            "\n",
            "- **Candidate Question**: What are the current challenges the technical team is facing, and how would my role contribute to addressing them?\n",
            "  - **Answer**: The technical challenges revolve around scaling our infrastructure to support an increasing number of startups while maintaining performance and cost efficiency. Your expertise will directly contribute to solving these challenges through innovative infrastructure solutions.\n",
            "\n",
            "\n"
          ]
        }
      ]
    },
    {
      "cell_type": "markdown",
      "source": [
        "# Finalize the Playbook HTML"
      ],
      "metadata": {
        "id": "14LWju-TkCyZ"
      }
    },
    {
      "cell_type": "markdown",
      "source": [
        "## Create a markdown version\n",
        "\n",
        "For use in GitHub as an example"
      ],
      "metadata": {
        "id": "lQyaspI3Tbu0"
      }
    },
    {
      "cell_type": "code",
      "source": [
        "playbook_md = (introduction + \"\\n\\n\" +\n",
        "            job_description + \"\\n\\n\" +\n",
        "            eval_criteria + \"\\n\\n\" +\n",
        "            technical_assessment + \"\\n\\n\" +\n",
        "            behavioral_assessment + \"\\n\\n\" +\n",
        "            practical_assignment + \"\\n\\n\" +\n",
        "            candidate_questions + \"\\n\\n\" +\n",
        "            team_interaction + \"\\n\\n\" )\n",
        "\n",
        "# Write playbook to a text file\n",
        "with open('playbook.md', 'w') as file:\n",
        "    file.write(playbook_md)"
      ],
      "metadata": {
        "id": "byUTb57wTXRG"
      },
      "execution_count": 390,
      "outputs": []
    },
    {
      "cell_type": "markdown",
      "source": [
        "## Convert the markdown to HTML"
      ],
      "metadata": {
        "id": "hxk5korrTkks"
      }
    },
    {
      "cell_type": "markdown",
      "source": [
        "We are doing this in chunks so that we can do more useful things with it in the HTML output"
      ],
      "metadata": {
        "id": "LM_V2VoceTjx"
      }
    },
    {
      "cell_type": "code",
      "source": [
        "import markdown\n",
        "\n",
        "# Convert Markdown to HTML\n",
        "html_playbook = markdown.markdown(playbook_md, extensions=['extra','mdx_truly_sane_lists'])\n",
        "\n",
        "# Convert Markdown to HTML\n",
        "html_job_description = markdown.markdown(job_description, extensions=['extra','mdx_truly_sane_lists'])\n",
        "html_introduction = markdown.markdown(introduction, extensions=['extra','mdx_truly_sane_lists'])\n",
        "html_technical_assessment = markdown.markdown(technical_assessment, extensions=['extra','mdx_truly_sane_lists'])\n",
        "html_behavioral_assessment = markdown.markdown(behavioral_assessment, extensions=['extra','mdx_truly_sane_lists'])\n",
        "html_practical_assignment = markdown.markdown(practical_assignment, extensions=['extra','mdx_truly_sane_lists'])\n",
        "html_candidate_questions = markdown.markdown(candidate_questions, extensions=['extra','mdx_truly_sane_lists'])\n",
        "html_team_interaction = markdown.markdown(team_interaction, extensions=['extra','mdx_truly_sane_lists'])\n",
        "html_eval_criteria = markdown.markdown(eval_criteria, extensions=['extra','mdx_truly_sane_lists'])\n",
        "\n",
        "\n",
        "html_technical_assessment_1 = markdown.markdown(technical_assessment_1, extensions=['extra','mdx_truly_sane_lists'])\n",
        "html_technical_assessment_2 = markdown.markdown(technical_assessment_2, extensions=['extra','mdx_truly_sane_lists'])\n",
        "html_technical_assessment_3 = markdown.markdown(technical_assessment_3, extensions=['extra','mdx_truly_sane_lists'])\n",
        "html_technical_assessment_4 = markdown.markdown(technical_assessment_4, extensions=['extra','mdx_truly_sane_lists'])\n",
        "html_technical_assessment_5 = markdown.markdown(technical_assessment_5, extensions=['extra','mdx_truly_sane_lists'])\n",
        "\n",
        "html_behavioral_assessment_1 = markdown.markdown(behavioral_assessment_1, extensions=['extra','mdx_truly_sane_lists'])\n",
        "html_behavioral_assessment_2 = markdown.markdown(behavioral_assessment_2, extensions=['extra','mdx_truly_sane_lists'])\n",
        "html_behavioral_assessment_3 = markdown.markdown(behavioral_assessment_3, extensions=['extra','mdx_truly_sane_lists'])\n",
        "html_behavioral_assessment_4 = markdown.markdown(behavioral_assessment_4, extensions=['extra','mdx_truly_sane_lists'])\n",
        "html_behavioral_assessment_5 = markdown.markdown(behavioral_assessment_5, extensions=['extra','mdx_truly_sane_lists'])\n",
        "\n"
      ],
      "metadata": {
        "id": "saH2GGfdTjzh"
      },
      "execution_count": 391,
      "outputs": []
    },
    {
      "cell_type": "markdown",
      "source": [
        " ## Create the style for the document"
      ],
      "metadata": {
        "id": "KxjjGSt7ddMi"
      }
    },
    {
      "cell_type": "code",
      "source": [
        "styles= \"\"\"\n",
        "\n",
        "   body {\n",
        "        font-family: Source Sans Pro;\n",
        "        font-size: 10pt;\n",
        "       /* column-count: 2; */\n",
        "       /* column-gap: 20px; */\n",
        "    }\n",
        "\n",
        "    @page {\n",
        "        margin: 0.5in;\n",
        "        size: Letter;\n",
        "        @bottom-right {\n",
        "          content: counter(page);\n",
        "          font-size: 10pt;\n",
        "          color: #333333;\n",
        "        }\n",
        "    }\n",
        "\n",
        "    h1, h2, h3, h4 {\n",
        "        font-family: Libre Baskerville;\n",
        "        margin-top: 1em;\n",
        "        margin-bottom: 0.5em;\n",
        "    }\n",
        "    h1 {\n",
        "        font-size: 24pt;\n",
        "        margin-top: 3em;\n",
        "        page-break-after: avoid;\n",
        "    }\n",
        "    .intro h1{\n",
        "        font-size: 50pt;\n",
        "        margin-top: 3em;\n",
        "        page-break-after: always;\n",
        "    }\n",
        "    @media print {\n",
        "      /* Define styles for the cover page */\n",
        "      .title {\n",
        "        position: fixed;\n",
        "        left: 0;\n",
        "        top: 0;\n",
        "        width: 100%;\n",
        "        height: 100%;\n",
        "        background-color: #fff; /* Change as needed */\n",
        "        color: #000; /* Change as needed */\n",
        "        text-align: center;\n",
        "        padding: 50px;\n",
        "      }\n",
        "    }\n",
        "    .publication-date {\n",
        "      position: absolute;\n",
        "      bottom: 10px; /* adjust as needed */\n",
        "      width: 100%;\n",
        "      text-align: center;\n",
        "      font-size: 12pt; /* adjust as needed */\n",
        "      color: #333; /* adjust as needed */\n",
        "    }\n",
        "\n",
        "\n",
        "    h2 {\n",
        "        font-size: 18pt;\n",
        "        page-break-after: avoid;\n",
        "    }\n",
        "    h3 {\n",
        "        font-size: 14pt;\n",
        "        page-break-after: avoid;\n",
        "    }\n",
        "    h4 {\n",
        "        font-size: 12pt;\n",
        "        page-break-after: avoid;\n",
        "    }\n",
        "    p {\n",
        "        margin-bottom: 1em;\n",
        "    }\n",
        "\n",
        "\n",
        "    h1, h2, h3, h4 {\n",
        "        page-break-after: avoid;\n",
        "    }\n",
        "\n",
        "    p, table, figure {\n",
        "        page-break-inside: avoid;\n",
        "    }\n",
        "    table {\n",
        "        width: 100%;\n",
        "        border-collapse: collapse;\n",
        "        margin-bottom: 1em;\n",
        "        page-break-before: avoid;\n",
        "    }\n",
        "    th, td {\n",
        "        border: 1px solid #ddd;\n",
        "        padding: 8px;\n",
        "        text-align: left;\n",
        "        font-size: 10pt;\n",
        "    }\n",
        "    th {\n",
        "        background-color: #f2f2f2;\n",
        "        font-weight: bold;\n",
        "    }\n",
        "    tr:nth-child(even) {{background-color: #f9f9f9;}}\n",
        "\n",
        "    ul, ol {\n",
        "        margin-bottom: 1em;\n",
        "        margin-left: 0;\n",
        "        padding-left:1.5em;\n",
        "    }\n",
        "    li {\n",
        "        margin-bottom: 0.5em;\n",
        "        margin-left: 0em;\n",
        "    }\n",
        "\n",
        "    .main {\n",
        "      page-break-before: always;\n",
        "    }\n",
        "\n",
        "    .dotted-line {\n",
        "        border-bottom: 1px dotted black;\n",
        "        width: 100%;\n",
        "        margin-top: 20px; /* This ensures spacing between each line */\n",
        "        margin-bottom: 20px; /* Adjust if needed */\n",
        "    }\n",
        "\n",
        "    @media print {\n",
        "        .dotted-line {\n",
        "            margin-top: 20px; /* Adjust as needed for printing */\n",
        "            margin-bottom: 20px; /* Adjust as needed for printing */\n",
        "        }\n",
        "    }\n",
        "\n",
        "    .rating-container {\n",
        "        display: flex;\n",
        "        align-items: flex-end;\n",
        "        margin-top: 20px;\n",
        "        margin-bottom: 20px;\n",
        "    }\n",
        "\n",
        "    .rating-container label {\n",
        "        margin-right: 10px;\n",
        "        font-size: 10pt;\n",
        "        font-family: Source Sans Pro;\n",
        "    }\n",
        "\n",
        "    .short-dotted-line {\n",
        "        border-bottom: 1px dotted black;\n",
        "        width: 150px; /* Adjust the width as needed */\n",
        "        margin-left: 5px;\n",
        "    }}\n",
        "\n",
        "    @media print {\n",
        "        .short-dotted-line {\n",
        "            width: 150px; /* Adjust for printing if needed */\n",
        "        }\n",
        "    }\n",
        "\"\"\""
      ],
      "metadata": {
        "id": "nOfv9gO8db8E"
      },
      "execution_count": 405,
      "outputs": []
    },
    {
      "cell_type": "markdown",
      "source": [
        "## Create some useful HTML snippets"
      ],
      "metadata": {
        "id": "1H9xK5H3dkHo"
      }
    },
    {
      "cell_type": "code",
      "source": [
        "\n",
        "html_notes = \"\"\"<h4>Notes</h4><div class='notes'>\n",
        "    <div class=\"dotted-line\"></div>\n",
        "    <div class=\"dotted-line\"></div>\n",
        "    <div class=\"dotted-line\"></div>\n",
        "    <div class=\"dotted-line\"></div>\n",
        "    <div class=\"dotted-line\"></div>\n",
        "    <div class=\"dotted-line\"></div>\n",
        "    <div class=\"dotted-line\"></div>\n",
        "    <div class=\"dotted-line\"></div>\n",
        "    <div class=\"rating-container\">\n",
        "    <label for=\"rating-line\">Rating (1-5):</label>\n",
        "    <div id=\"rating-line\" class=\"short-dotted-line\"></div>\n",
        "    </div>\n",
        "</div>\"\"\"\n",
        "\n",
        "html_short_notes = \"\"\"<h4>Notes</h4><div class='notes'>\n",
        "    <div class=\"dotted-line\"></div>\n",
        "    <div class=\"dotted-line\"></div>\n",
        "    <div class=\"dotted-line\"></div>\n",
        "    <div class=\"dotted-line\"></div>\n",
        "    <div class=\"rating-container\">\n",
        "    <label for=\"rating-line\">Rating (1-5):</label>\n",
        "    <div id=\"rating-line\" class=\"short-dotted-line\"></div>\n",
        "    </div>\n",
        "</div>\"\"\"\n",
        "\n",
        "from datetime import datetime\n",
        "\n",
        "# Getting today's date in a nicely formatted string for US English\n",
        "publication_date = datetime.now().strftime(\"%B %d, %Y\")"
      ],
      "metadata": {
        "id": "oCh9kM3_do60"
      },
      "execution_count": 411,
      "outputs": []
    },
    {
      "cell_type": "markdown",
      "source": [
        "## Build the HTML"
      ],
      "metadata": {
        "id": "S9YOnvQrds_P"
      }
    },
    {
      "cell_type": "code",
      "source": [
        "# Define the HTML template\n",
        "html_content = rf\"\"\"\n",
        "<meta charset=\"utf-8\">\n",
        "<html>\n",
        "<head>\n",
        "    <link href=\"https://fonts.googleapis.com/css2?family=Source%20Sans%20Pro:wght@400;700&display=swap\" rel=\"stylesheet\">\n",
        "    <link href=\"https://fonts.googleapis.com/css2?family=Libre%20Baskerville:wght@400;700&display=swap\" rel=\"stylesheet\">\n",
        "    <style>\n",
        "    {styles}\n",
        "    </style>\n",
        "</head>\n",
        "<body>\n",
        "    <section class='intro'>\n",
        "    <div class=\"publication-date\">Published on: {publication_date}</div>\n",
        "    {html_introduction}\n",
        "    </section>\n",
        "    <section class='main'>\n",
        "    {html_job_description}\n",
        "    </section>\n",
        "    <section class='main'>\n",
        "    {html_eval_criteria}\n",
        "    </section>\n",
        "    <section class='main'>\n",
        "      {html_technical_assessment_1}\n",
        "     {html_notes}\n",
        "    </section>\n",
        "    <section class='main'>\n",
        "      {html_technical_assessment_2}\n",
        "     {html_notes}\n",
        "    </section>\n",
        "        <section class='main'>\n",
        "      {html_technical_assessment_3}\n",
        "     {html_notes}\n",
        "    </section>\n",
        "        <section class='main'>\n",
        "      {html_technical_assessment_4}\n",
        "     {html_notes}\n",
        "    </section>\n",
        "        <section class='main'>\n",
        "      {html_technical_assessment_5}\n",
        "     {html_notes}\n",
        "    </section>\n",
        "    <section class='main'>\n",
        "    {html_behavioral_assessment_1}\n",
        "     {html_notes}\n",
        "    </section>\n",
        "    <section class='main'>\n",
        "    {html_behavioral_assessment_2}\n",
        "     {html_notes}\n",
        "    </section>\n",
        "        <section class='main'>\n",
        "    {html_behavioral_assessment_3}\n",
        "     {html_notes}\n",
        "    </section>\n",
        "        <section class='main'>\n",
        "    {html_behavioral_assessment_4}\n",
        "     {html_notes}\n",
        "    </section>\n",
        "        <section class='main'>\n",
        "    {html_behavioral_assessment_5}\n",
        "     {html_notes}\n",
        "    </section>\n",
        "    <section class='main'>\n",
        "    {html_practical_assignment}\n",
        "    {html_notes}\n",
        "    </section>\n",
        "    <section class='main'>\n",
        "    {html_team_interaction}\n",
        "    {html_notes}\n",
        "    </section>\n",
        "    <section class='main'>\n",
        "    {html_candidate_questions}\n",
        "    </section>\n",
        "\n",
        "</body>\n",
        "</html>\"\"\"\n",
        "\n",
        "# Write HTML string to a file\n",
        "with open('playbook.html', 'w') as file:\n",
        "    file.write(html_content)\n",
        "\n"
      ],
      "metadata": {
        "id": "HZ5d6Q8ij_Rd"
      },
      "execution_count": 412,
      "outputs": []
    },
    {
      "cell_type": "markdown",
      "source": [
        "Display the HTML content here so we can review it"
      ],
      "metadata": {
        "id": "1u3ZnTgHdSRQ"
      }
    },
    {
      "cell_type": "code",
      "source": [
        "# Display the Markdown-formatted text in the notebook\n",
        "from IPython.display import display, HTML\n",
        "display(HTML(html_content))"
      ],
      "metadata": {
        "colab": {
          "base_uri": "https://localhost:8080/",
          "height": 1000
        },
        "id": "5emj-h1RdP-q",
        "outputId": "65470f21-ff53-438c-d53f-1eb7a06b3914"
      },
      "execution_count": 413,
      "outputs": [
        {
          "output_type": "display_data",
          "data": {
            "text/plain": [
              "<IPython.core.display.HTML object>"
            ],
            "text/html": [
              "\n",
              "<meta charset=\"utf-8\">\n",
              "<html>\n",
              "<head>\n",
              "    <link href=\"https://fonts.googleapis.com/css2?family=Source%20Sans%20Pro:wght@400;700&display=swap\" rel=\"stylesheet\">\n",
              "    <link href=\"https://fonts.googleapis.com/css2?family=Libre%20Baskerville:wght@400;700&display=swap\" rel=\"stylesheet\">\n",
              "    <style>\n",
              "    \n",
              "   body {\n",
              "        font-family: Source Sans Pro;\n",
              "        font-size: 10pt;\n",
              "       /* column-count: 2; */\n",
              "       /* column-gap: 20px; */\n",
              "    }\n",
              "    h1, h2, h3, h4 {\n",
              "        font-family: Libre Baskerville;\n",
              "        margin-top: 1em;\n",
              "        margin-bottom: 0.5em;\n",
              "    }\n",
              "    h1 {\n",
              "        font-size: 24pt;\n",
              "        margin-top: 3em;\n",
              "        page-break-after: avoid;\n",
              "    }\n",
              "    .intro h1{\n",
              "        font-size: 50pt;\n",
              "        margin-top: 3em;\n",
              "        page-break-after: always;\n",
              "    }\n",
              "    @media print {\n",
              "        /* Define styles for the cover page */\n",
              "      .title {\n",
              "        visibility: visible;\n",
              "        position: fixed;\n",
              "        left: 0;\n",
              "        top: 0;\n",
              "        width: 100%;\n",
              "        height: 100%;\n",
              "        background-color: #fff; /* Change as needed */\n",
              "        color: #000; /* Change as needed */\n",
              "        text-align: center;\n",
              "        padding: 50px;\n",
              "      }\n",
              "    }\n",
              "    h2 {\n",
              "        font-size: 18pt;\n",
              "        page-break-after: avoid;\n",
              "    }\n",
              "    h3 {\n",
              "        font-size: 14pt;\n",
              "        page-break-after: avoid;\n",
              "    }\n",
              "    h4 {\n",
              "        font-size: 12pt;\n",
              "        page-break-after: avoid;\n",
              "    }\n",
              "    p {\n",
              "        margin-bottom: 1em;\n",
              "    }\n",
              "    @page {\n",
              "        margin: 0.5in;\n",
              "        size: Letter; /* Change from the default size of A4 */\n",
              "        @bottom-right {\n",
              "          content: counter(page);\n",
              "          font-size: 10pt;\n",
              "          color: #333333;\n",
              "        }\n",
              "    }\n",
              "\n",
              "    h1, h2, h3, h4 {\n",
              "        page-break-after: avoid;\n",
              "    }\n",
              "\n",
              "    p, table, figure {\n",
              "        page-break-inside: avoid;\n",
              "    }\n",
              "    table {\n",
              "        width: 100%;\n",
              "        border-collapse: collapse;\n",
              "        margin-bottom: 1em;\n",
              "        page-break-before: avoid;\n",
              "    }\n",
              "    th, td {\n",
              "        border: 1px solid #ddd;\n",
              "        padding: 8px;\n",
              "        text-align: left;\n",
              "        font-size: 10pt;\n",
              "    }\n",
              "    th {\n",
              "        background-color: #f2f2f2;\n",
              "        font-weight: bold;\n",
              "    }\n",
              "    tr:nth-child(even) {{background-color: #f9f9f9;}}\n",
              "\n",
              "    ul, ol {\n",
              "        margin-bottom: 1em;\n",
              "        margin-left: 0;\n",
              "        padding-left:1.5em;\n",
              "    }\n",
              "    li {\n",
              "        margin-bottom: 0.5em;\n",
              "        margin-left: 0em;\n",
              "    }\n",
              "\n",
              "    .main {\n",
              "      page-break-before: always;\n",
              "    }\n",
              "\n",
              "    .dotted-line {\n",
              "        border-bottom: 1px dotted black;\n",
              "        width: 100%;\n",
              "        margin-top: 20px; /* This ensures spacing between each line */\n",
              "        margin-bottom: 20px; /* Adjust if needed */\n",
              "    }\n",
              "\n",
              "    @media print {\n",
              "        .dotted-line {\n",
              "            margin-top: 20px; /* Adjust as needed for printing */\n",
              "            margin-bottom: 20px; /* Adjust as needed for printing */\n",
              "        }\n",
              "    }\n",
              "\n",
              "    .rating-container {\n",
              "        display: flex;\n",
              "        align-items: flex-end;\n",
              "        margin-top: 20px;\n",
              "        margin-bottom: 20px;\n",
              "    }\n",
              "\n",
              "    .rating-container label {\n",
              "        margin-right: 10px;\n",
              "        font-size: 10pt;\n",
              "        font-family: Source Sans Pro;\n",
              "    }\n",
              "\n",
              "    .short-dotted-line {\n",
              "        border-bottom: 1px dotted black;\n",
              "        width: 150px; /* Adjust the width as needed */\n",
              "        margin-left: 5px;\n",
              "    }}\n",
              "\n",
              "    @media print {\n",
              "        .short-dotted-line {\n",
              "            width: 150px; /* Adjust for printing if needed */\n",
              "        }\n",
              "    }\n",
              "\n",
              "    </style>\n",
              "</head>\n",
              "<body>\n",
              "    <section class='intro'>\n",
              "    <div class=\"publication-date\">Published on: December 19, 2023</div>\n",
              "    <h1>Interview Playbook for Infrastructure Software Engineer</h1>\n",
              "<h2>Introduction</h2>\n",
              "<p>This interview is for the Infrastructure Software Engineer position at Y Combinator located in the San Francisco Bay Area. This role is integral in managing and evolving YC's shared infrastructure across various software products. The ideal candidate is expected to be proficient in a variety of technical competencies including MVC web application development, AWS infrastructure, Docker deployment, and Terraform, along with 5 years of industry experience. Behavioral competencies play an equally important role, reflecting Y Combinator's values of integrity, respect, accountability, founder support, and agility in launching ideas and adapting to market changes. </p>\n",
              "<h2>Interview Structure</h2>\n",
              "<p>The interview will consist of the following components, each designed to assess both technical and behavioral competencies aligned with Y Combinator's values:</p>\n",
              "<ol>\n",
              "<li>Introduction (5 minutes): A welcoming approach typical of YC's respectful community, sharing the agenda, and ensuring candidate's comfort.</li>\n",
              "<li>Technical Assessment (45 minutes): A deep dive into the candidate's technical expertise within the domain of MVC web applications, AWS, Docker, and Terraform.</li>\n",
              "<li>Behavioral Assessment (30 minutes): Exploration of how the candidate's behaviors align with company values like integrity, respect, accountability, and speed of execution.</li>\n",
              "<li>Practical Assignment (30 minutes): A hands-on activity to gauge the candidate's applied skills in a practical context, relevant to YC's infrastructure setup.</li>\n",
              "<li>Team Interaction (If applicable, 20 minutes): A brief meet and greet with potential team members to assess culture fit and collaborative skills.</li>\n",
              "<li>Candidate Q&amp;A (10 minutes): Time reserved for the candidate to ask questions about Y Combinator, the role, and future objectives.</li>\n",
              "<li>Closing (5 minutes): Outline the next steps, share appreciation for the candidate's time, and provide a timeline for the hiring decision.</li>\n",
              "</ol>\n",
              "<p>Total duration: Approximately 2 hours and 25 minutes.</p>\n",
              "    </section>\n",
              "    <section class='main'>\n",
              "    <h1>Job Description</h1>\n",
              "<h2>Infrastructure Software Engineer</h2>\n",
              "<h3>Location</h3>\n",
              "<p>San Francisco Bay Area</p>\n",
              "<h3>Type</h3>\n",
              "<p>Full time</p>\n",
              "<h3>Department</h3>\n",
              "<p>Software</p>\n",
              "<h3>About</h3>\n",
              "<p>Y Combinator is the leading startup accelerator for entrepreneurs. Since 2005, YC has invested in over 4,000 companies, including Airbnb, Dropbox, Stripe, Reddit, Instacart, DoorDash, and Coinbase. Today, YC has built the most powerful startup community in the world alongside the products and programs to support founders for the life of their company.</p>\n",
              "<h3>Job Description</h3>\n",
              "<p>Y Combinator is seeking an Infrastructure Software Engineer who will help manage and evolve the shared infrastructure that our software runs on. We have a team of approximately 15 Product Engineers who develop YC’s software products. Those products are developed in Ruby on Rails and run in AWS. Our team’s job is to provide a platform so our Product Engineers don’t have to think (as much) about infrastructure.</p>\n",
              "<p>The ideal candidate will have experience debugging and developing a very broad stack. They’re comfortable talking about HTTP caching, AWS security groups, Rails monkey patching, n+1 queries in Active Record, CSRF protection, and React components.</p>\n",
              "<p>Enjoy the many perks of working for a successful company – competitive salary and excellent benefits including fully-paid health care benefits and unlimited vacation – while working on a small, fast-moving and high-impact team.</p>\n",
              "<p>In your first month, you might:</p>\n",
              "<ul>\n",
              "<li>Migrate a Rails application from Capistrano and EC2 to Docker and ECS</li>\n",
              "<li>Upgrade one of our applications to a newer version of Postgres or Rails</li>\n",
              "<li>Move more of our AWS infrastructure into Terraform</li>\n",
              "<li>Simplify our use of Webpack and Javascript for both developer productivity and faster deployments</li>\n",
              "<li>Create shared infrastructure to help manage email subscriptions and unsubscribes across 5 different product teams</li>\n",
              "<li>Triage and respond to bug bounty reports</li>\n",
              "<li>Work with outside security auditors to run a penetration test against our applications</li>\n",
              "</ul>\n",
              "<p>Key Responsibilities:</p>\n",
              "<ul>\n",
              "<li>Provide a stable modern platform for our applications to be deployed to</li>\n",
              "<li>Keep our applications and data secure</li>\n",
              "<li>Improve our developer experience and tools so the YC Software Team can ship product updates quickly</li>\n",
              "<li>Help debug performance issues in our web applications</li>\n",
              "<li>Ship Ruby on Rails and TypeScript code that is shared among multiple YC applications</li>\n",
              "</ul>\n",
              "<p>Skills:</p>\n",
              "<ul>\n",
              "<li>You know how to develop and debug MVC web applications. We use Ruby on Rails, Postgres, and React, but don’t worry if you haven’t used those specific technologies before</li>\n",
              "<li>You know how to deploy and run applications with AWS and Docker</li>\n",
              "<li>You use Terraform to make infrastructure changes</li>\n",
              "</ul>\n",
              "<p>Experience:</p>\n",
              "<ul>\n",
              "<li>You have at least 5 years of experience developing and deploying web applications</li>\n",
              "<li>You are deeply familiar with the AWS platform specifically ECS, RDS, IAM, and CloudWatch</li>\n",
              "</ul>\n",
              "<p><em>Location</em>: YC is headquartered in the SF Bay Area with employees working from home or from our offices in San Francisco and Mountain View, CA. Candidates must live in the SF Bay Area or be willing to relocate. </p>\n",
              "<p><em>Compensation</em>: $130,000 to $270,000 + bonus (depending on skills and experience). </p>\n",
              "<p><em>Benefits</em>: Our full benefits package includes medical, vision, and dental plans, infertility benefit, STD/LTD, life insurance, commuter benefits, flexible spending account, health savings account, 401(k) + 4% matching, generous parental leave, paid holidays and flexible paid time off policy.</p>\n",
              "<p><em>Work Authorization</em>: This position does not support work authorization/visa sponsorship. </p>\n",
              "<p>Y Combinator considers qualified applicants with criminal histories, consistent with applicable federal, state, and local law including San Francisco’s Fair Chance Ordinance. Y Combinator is committed to protecting the privacy of the personal information of job applicants and complying with the California Consumer Privacy Act. The privacy policy of Ashby, Inc., the hiring platform used by Y Combinator, governs the collection of such data and can be found here.</p>\n",
              "    </section>\n",
              "    <section class='main'>\n",
              "    <h2>Scoring and Evaluation Criteria</h2>\n",
              "<table>\n",
              "<thead>\n",
              "<tr>\n",
              "<th>Competency</th>\n",
              "<th>Assessment</th>\n",
              "<th>Comments</th>\n",
              "</tr>\n",
              "</thead>\n",
              "<tbody>\n",
              "<tr>\n",
              "<td>MVC Web Application</td>\n",
              "<td></td>\n",
              "<td></td>\n",
              "</tr>\n",
              "<tr>\n",
              "<td>AWS Infrastructure</td>\n",
              "<td></td>\n",
              "<td></td>\n",
              "</tr>\n",
              "<tr>\n",
              "<td>Docker Deployment</td>\n",
              "<td></td>\n",
              "<td></td>\n",
              "</tr>\n",
              "<tr>\n",
              "<td>Terraform</td>\n",
              "<td></td>\n",
              "<td></td>\n",
              "</tr>\n",
              "<tr>\n",
              "<td>Industry Experience (5+ yrs)</td>\n",
              "<td></td>\n",
              "<td></td>\n",
              "</tr>\n",
              "<tr>\n",
              "<td>Integrity and Respect</td>\n",
              "<td></td>\n",
              "<td></td>\n",
              "</tr>\n",
              "<tr>\n",
              "<td>Accountability</td>\n",
              "<td></td>\n",
              "<td></td>\n",
              "</tr>\n",
              "<tr>\n",
              "<td>Founder Support</td>\n",
              "<td></td>\n",
              "<td></td>\n",
              "</tr>\n",
              "<tr>\n",
              "<td>Agility and Adaptability</td>\n",
              "<td></td>\n",
              "<td></td>\n",
              "</tr>\n",
              "<tr>\n",
              "<td>Practical Assignment</td>\n",
              "<td></td>\n",
              "<td></td>\n",
              "</tr>\n",
              "<tr>\n",
              "<td>Team Interaction</td>\n",
              "<td></td>\n",
              "<td></td>\n",
              "</tr>\n",
              "</tbody>\n",
              "</table>\n",
              "<h3>Rating Guide</h3>\n",
              "<ul>\n",
              "<li><strong>Exceptional (5)</strong>: Far exceeding expectations with exceptional skill and understanding in the competency.</li>\n",
              "<li><strong>Exceeds Expectations (4)</strong>: Demonstrates a higher level of ability and understanding; adds extra value.</li>\n",
              "<li><strong>Meets Expectations (3)</strong>: Adequately displays the required competency level; solid performance.</li>\n",
              "<li><strong>Below Expectations (2)</strong>: Shows some understanding but below the acceptable performance level.</li>\n",
              "<li><strong>Unsatisfactory (1)</strong>: Does not demonstrate the required competence or understanding.</li>\n",
              "</ul>\n",
              "    </section>\n",
              "    <section class='main'>\n",
              "      <h2>Technical Assessment</h2>\n",
              "<h3>Technical Competence 1: MVC Web Application Development</h3>\n",
              "<p>Proficiency in developing and debugging full-stack MVC (Model-View-Controller) web applications is critical for creating maintainable, efficient, and secure web services. The role requires a deep understanding of server-side and client-side interactions, database management, and the ability to architect solutions that leverage the MVC design pattern effectively.</p>\n",
              "<h4>Lead Question</h4>\n",
              "<p>Can you describe a time when you had to troubleshoot a challenging bug in an MVC application and how you approached solving it, including the tools and processes you used?</p>\n",
              "<h4>Probing Questions</h4>\n",
              "<ul>\n",
              "<li>What were the most common performance bottlenecks you encountered in MVC web applications and how did you address them?</li>\n",
              "<li>How do you go about understanding and implementing necessary cross-cutting features like authentication and authorization in MVC apps?</li>\n",
              "<li>Explain how you maintain separation of concerns within MVC frameworks when developing complex features.</li>\n",
              "<li>Can you walk us through how you decide when to use built-in MVC framework functionalities versus writing custom code?</li>\n",
              "</ul>\n",
              "<h4>Scenario</h4>\n",
              "<p>Imagine you've been assigned to augment a Ruby on Rails application that suffers from slow load times on certain pages, which are affecting user engagement metrics. How would you identify the sources of the delay and what steps would you take to optimize the application's performance?</p>\n",
              "<h4>Tips</h4>\n",
              "<p>Encourage the candidate to delve into specific experiences with MVC-related projects. Look for clarity in communication, a structured approach to problem-solving, and examples that reflect a solid understanding of MVC principles and best practices.</p>\n",
              "     <h4>Notes</h4><div class='notes'>\n",
              "    <div class=\"dotted-line\"></div>\n",
              "    <div class=\"dotted-line\"></div>\n",
              "    <div class=\"dotted-line\"></div>\n",
              "    <div class=\"dotted-line\"></div>\n",
              "    <div class=\"dotted-line\"></div>\n",
              "    <div class=\"dotted-line\"></div>\n",
              "    <div class=\"dotted-line\"></div>\n",
              "    <div class=\"dotted-line\"></div>\n",
              "    <div class=\"rating-container\">\n",
              "    <label for=\"rating-line\">Rating (1-5):</label>\n",
              "    <div id=\"rating-line\" class=\"short-dotted-line\"></div>\n",
              "    </div>\n",
              "</div>\n",
              "    </section>\n",
              "    <section class='main'>\n",
              "      <h3>Technical Competence 2: AWS Infrastructure</h3>\n",
              "<p>Understanding and managing cloud infrastructure within the AWS ecosystem is essential. This competency includes proficiency with services like ECS, RDS, IAM, and CloudWatch to deploy, scale, and secure web applications, ensuring reliability and optimizing for cost and performance.</p>\n",
              "<h4>Lead Question</h4>\n",
              "<p>Describe a past project where you were responsible for designing or optimizing the AWS infrastructure. What were the key AWS services you implemented, and what challenges did you face during the process?</p>\n",
              "<h4>Probing Questions</h4>\n",
              "<ul>\n",
              "<li>How do you approach securing an application's environment within AWS, and can you give an example of how you've managed IAM roles and policies?</li>\n",
              "<li>Can you explain a scenario where you needed to scale a service using AWS and how you ensured that it was both cost-effective and resilient?</li>\n",
              "<li>What strategies do you use to monitor and manage the performance of web applications using AWS services, particularly CloudWatch?</li>\n",
              "<li>Discuss an experience where you had to troubleshoot a complex issue involving multiple AWS services. How did you identify and resolve it?</li>\n",
              "</ul>\n",
              "<h4>Scenario</h4>\n",
              "<p>Suppose Y Combinator's web application has been experiencing intermittent downtime, and preliminary analysis suggests issues with service scaling and load balancing on AWS. How would you go about diagnosing and resolving these issues?</p>\n",
              "<h4>Tips</h4>\n",
              "<p>Focus on the candidate's ability to articulate their thought process in leveraging AWS features for infrastructure management. Look for examples of innovative solutions to cloud infrastructure challenges and the ability to work with AWS service nuances to maintain performance and security of web services.</p>\n",
              "     <h4>Notes</h4><div class='notes'>\n",
              "    <div class=\"dotted-line\"></div>\n",
              "    <div class=\"dotted-line\"></div>\n",
              "    <div class=\"dotted-line\"></div>\n",
              "    <div class=\"dotted-line\"></div>\n",
              "    <div class=\"dotted-line\"></div>\n",
              "    <div class=\"dotted-line\"></div>\n",
              "    <div class=\"dotted-line\"></div>\n",
              "    <div class=\"dotted-line\"></div>\n",
              "    <div class=\"rating-container\">\n",
              "    <label for=\"rating-line\">Rating (1-5):</label>\n",
              "    <div id=\"rating-line\" class=\"short-dotted-line\"></div>\n",
              "    </div>\n",
              "</div>\n",
              "    </section>\n",
              "        <section class='main'>\n",
              "      <h3>Technical Competence 3: Docker Deployment</h3>\n",
              "<p>The ability to containerize applications using Docker is essential for ensuring consistent, scalable, and isolated environments. Mastery in writing Dockerfiles, managing containers, and understanding Docker networking is key to improving deployment processes and maintaining application delivery consistency.</p>\n",
              "<h4>Lead Question</h4>\n",
              "<p>Can you share your experience with building and optimizing Dockerfiles for production environments and highlight any unique challenges you've encountered?</p>\n",
              "<h4>Probing Questions</h4>\n",
              "<ul>\n",
              "<li>How do you manage persistent data and state across container restarts in Docker?</li>\n",
              "<li>Describe your strategy for optimizing Docker image sizes without compromising the performance or security of the containerized application.</li>\n",
              "<li>What approach do you take to maintain a smooth CI/CD pipeline with Docker, especially when dealing with multiple service dependencies?</li>\n",
              "<li>How do you ensure that Dockerized services successfully communicate in a microservice architecture?</li>\n",
              "</ul>\n",
              "<h4>Scenario</h4>\n",
              "<p>You are tasked with migrating a Rails application from Capistrano and EC2 to Docker and ECS. Outline the steps you would take to containerize the application, ensuring minimal downtime and seamless integration with ECS.</p>\n",
              "<h4>Tips</h4>\n",
              "<p>Assess the candidate's expertise in Docker through both their responses to direct questioning and their ability to discuss complex deployment scenarios. Pay attention to their understanding of Docker's role in the context of modern DevOps practices and their problem-solving skills when faced with containerization challenges.</p>\n",
              "     <h4>Notes</h4><div class='notes'>\n",
              "    <div class=\"dotted-line\"></div>\n",
              "    <div class=\"dotted-line\"></div>\n",
              "    <div class=\"dotted-line\"></div>\n",
              "    <div class=\"dotted-line\"></div>\n",
              "    <div class=\"dotted-line\"></div>\n",
              "    <div class=\"dotted-line\"></div>\n",
              "    <div class=\"dotted-line\"></div>\n",
              "    <div class=\"dotted-line\"></div>\n",
              "    <div class=\"rating-container\">\n",
              "    <label for=\"rating-line\">Rating (1-5):</label>\n",
              "    <div id=\"rating-line\" class=\"short-dotted-line\"></div>\n",
              "    </div>\n",
              "</div>\n",
              "    </section>\n",
              "        <section class='main'>\n",
              "      <h3>Technical Competence 4: Terraform</h3>\n",
              "<p>Mastery in using Terraform for infrastructure as code is crucial for automating and maintaining cloud infrastructure. This involves writing, planning, and creating reproducible and modular infrastructure with Terraform scripts, and managing changes to infrastructure with minimal disruption.</p>\n",
              "<h4>Lead Question</h4>\n",
              "<p>Could you walk us through a complex infrastructure setup that you automated using Terraform, detailing the challenges encountered and how you overcame them?</p>\n",
              "<h4>Probing Questions</h4>\n",
              "<ul>\n",
              "<li>How do you ensure Terraform state files are securely managed and synchronized across a distributed team?</li>\n",
              "<li>What is your strategy for modularizing Terraform code to be reusable for different environments or projects?</li>\n",
              "<li>Describe how you plan and apply incremental changes to infrastructure with Terraform in a production environment.</li>\n",
              "<li>Can you discuss a time when you refactored existing infrastructure with Terraform and the steps you took to ensure zero downtime?</li>\n",
              "</ul>\n",
              "<h4>Scenario</h4>\n",
              "<p>Y Combinator is planning to expand its AWS infrastructure to support a new suite of software products. As part of this project, you are given the task to create a scalable and secure infrastructure using Terraform. Outline your approach from writing the Terraform scripts to monitoring post-deployment.</p>\n",
              "<h4>Tips</h4>\n",
              "<p>Evaluate the candidate's ability to create clear, maintainable Terraform code, and manage infrastructure changes safely. Their answers should demonstrate a thorough understanding of best practices around version control, state management, and team collaboration using Terraform.</p>\n",
              "     <h4>Notes</h4><div class='notes'>\n",
              "    <div class=\"dotted-line\"></div>\n",
              "    <div class=\"dotted-line\"></div>\n",
              "    <div class=\"dotted-line\"></div>\n",
              "    <div class=\"dotted-line\"></div>\n",
              "    <div class=\"dotted-line\"></div>\n",
              "    <div class=\"dotted-line\"></div>\n",
              "    <div class=\"dotted-line\"></div>\n",
              "    <div class=\"dotted-line\"></div>\n",
              "    <div class=\"rating-container\">\n",
              "    <label for=\"rating-line\">Rating (1-5):</label>\n",
              "    <div id=\"rating-line\" class=\"short-dotted-line\"></div>\n",
              "    </div>\n",
              "</div>\n",
              "    </section>\n",
              "        <section class='main'>\n",
              "      <h3>Technical Competence 5: Industry Experience</h3>\n",
              "<p>Having a minimum of 5 years of experience in developing and deploying web applications is crucial for understanding the full lifecycle and complexities of software development. This includes a deep knowledge of scalable architectures, security best practices, and the ability to mentor less experienced team members.</p>\n",
              "<h4>Lead Question</h4>\n",
              "<p>Can you discuss a complex technical project you led or contributed to significantly over the past years that showcases your depth of industry experience?</p>\n",
              "<h4>Probing Questions</h4>\n",
              "<ul>\n",
              "<li>How has your approach to software architecture evolved over your years of experience, especially around scalability and security?</li>\n",
              "<li>Can you give an example of how you've mentored or influenced less experienced developers in a past role?</li>\n",
              "<li>Reflect on a significant technological shift you've navigated in your career. How did you adapt and what did you learn?</li>\n",
              "<li>What’s the most impactful technical decision you've made in your career and what were its long-term effects?</li>\n",
              "</ul>\n",
              "<h4>Scenario</h4>\n",
              "<p>You're joining Y Combinator and are given the charge to lead a project that incorporates emerging technologies or methodologies into the current stack. Describe the steps you would take from ideation to execution, balancing innovation with the practical needs of the business.</p>\n",
              "<h4>Tips</h4>\n",
              "<p>Look for comprehensive answers that demonstrate a rich understanding of software development principles. Emphasize the candidate's ability to communicate complex ideas effectively, adapt to new technologies, and contribute meaningfully to a team's skill set based on their industry experience.</p>\n",
              "     <h4>Notes</h4><div class='notes'>\n",
              "    <div class=\"dotted-line\"></div>\n",
              "    <div class=\"dotted-line\"></div>\n",
              "    <div class=\"dotted-line\"></div>\n",
              "    <div class=\"dotted-line\"></div>\n",
              "    <div class=\"dotted-line\"></div>\n",
              "    <div class=\"dotted-line\"></div>\n",
              "    <div class=\"dotted-line\"></div>\n",
              "    <div class=\"dotted-line\"></div>\n",
              "    <div class=\"rating-container\">\n",
              "    <label for=\"rating-line\">Rating (1-5):</label>\n",
              "    <div id=\"rating-line\" class=\"short-dotted-line\"></div>\n",
              "    </div>\n",
              "</div>\n",
              "    </section>   \n",
              "    <section class='main'>\n",
              "    <h2>Behavioral Assessment</h2>\n",
              "<h3>Behavioral Competence 1: Integrity and Respect</h3>\n",
              "<p>Y Combinator values integrity as a cornerstone of their organization, ensuring that all members act ethically and with respect towards each other. Candidates must display a history of ethical behavior and show respect in their interactions, decisions, and work.</p>\n",
              "<h4>Lead Question</h4>\n",
              "<p>Tell me about a time when you were faced with an ethical dilemma in your professional life. How did you handle it, and what was the outcome?</p>\n",
              "<h4>Probing Questions</h4>\n",
              "<ul>\n",
              "<li>How do you ensure that your personal values are in alignment with your professional responsibilities and conduct?</li>\n",
              "<li>Can you provide an example of how you have handled a sensitive or confidential matter at work?</li>\n",
              "<li>Describe a moment when you had to give difficult feedback to a colleague. How did you approach the situation to maintain respect and integrity?</li>\n",
              "<li>What strategies do you use to foster an environment of trust and respect within a team?</li>\n",
              "</ul>\n",
              "<h4>Scenario</h4>\n",
              "<p>Imagine you've discovered a significant vulnerability in your previous company's product, which hasn't yet been noticed or exploited. How would you address this situation considering the potential impacts on the company, customers, and your team?</p>\n",
              "<h4>Tips</h4>\n",
              "<p>Assess the candidate's commitment to ethical practices and their ability to maintain respect within a professional setting. Their response should reflect a strong moral compass and handling of situations that align with Y Combinator's values of integrity and respect.</p>\n",
              "     <h4>Notes</h4><div class='notes'>\n",
              "    <div class=\"dotted-line\"></div>\n",
              "    <div class=\"dotted-line\"></div>\n",
              "    <div class=\"dotted-line\"></div>\n",
              "    <div class=\"dotted-line\"></div>\n",
              "    <div class=\"dotted-line\"></div>\n",
              "    <div class=\"dotted-line\"></div>\n",
              "    <div class=\"dotted-line\"></div>\n",
              "    <div class=\"dotted-line\"></div>\n",
              "    <div class=\"rating-container\">\n",
              "    <label for=\"rating-line\">Rating (1-5):</label>\n",
              "    <div id=\"rating-line\" class=\"short-dotted-line\"></div>\n",
              "    </div>\n",
              "</div>\n",
              "    </section>\n",
              "    <section class='main'>\n",
              "    <h3>Behavioral Competence 2: Accountability</h3>\n",
              "<p>Accountability is a key value at Y Combinator, with an emphasis on taking ownership of one's actions and responsibilities within the organization. This competency is about being reliable, meeting deadlines, and following through on commitments made to peers and the company.</p>\n",
              "<h4>Lead Question</h4>\n",
              "<p>Share an example of how you've taken ownership of a problem that was not originally within your scope of responsibilities. What was the issue and what steps did you take to resolve it?</p>\n",
              "<h4>Probing Questions</h4>\n",
              "<ul>\n",
              "<li>How do you prioritize your tasks and manage expectations when you have multiple high-priority commitments?</li>\n",
              "<li>Tell me about a time when you made a mistake at work. How did you handle it and what was the outcome?</li>\n",
              "<li>Describe how you keep yourself accountable in a remote or unsupervised work environment.</li>\n",
              "<li>Can you provide an instance when you proactively updated stakeholders on a project's progress or potential setbacks?</li>\n",
              "</ul>\n",
              "<h4>Scenario</h4>\n",
              "<p>Imagine you're working on a critical infrastructure project for Y Combinator and encounter an unforeseen setback that puts the project timeline at risk. How would you communicate this to your team and stakeholders, and what would be your plan to rectify the situation?</p>\n",
              "<h4>Tips</h4>\n",
              "<p>Look for clear examples of the candidate's ability to take responsibility for their actions and deliver on their commitments. They should demonstrate transparency in communication and a proactive approach to addressing challenges or setbacks.</p>\n",
              "     <h4>Notes</h4><div class='notes'>\n",
              "    <div class=\"dotted-line\"></div>\n",
              "    <div class=\"dotted-line\"></div>\n",
              "    <div class=\"dotted-line\"></div>\n",
              "    <div class=\"dotted-line\"></div>\n",
              "    <div class=\"dotted-line\"></div>\n",
              "    <div class=\"dotted-line\"></div>\n",
              "    <div class=\"dotted-line\"></div>\n",
              "    <div class=\"dotted-line\"></div>\n",
              "    <div class=\"rating-container\">\n",
              "    <label for=\"rating-line\">Rating (1-5):</label>\n",
              "    <div id=\"rating-line\" class=\"short-dotted-line\"></div>\n",
              "    </div>\n",
              "</div>\n",
              "    </section>\n",
              "        <section class='main'>\n",
              "    <h3>Behavioral Competence 3: Founder Support</h3>\n",
              "<p>Y Combinator places high importance on the ability to support and prioritize the interests of founders, reflecting a commitment to the startup ecosystem. This competency involves demonstrating a service-oriented mindset and taking actions that align with the founders' vision and goals.</p>\n",
              "<h4>Lead Question</h4>\n",
              "<p>Tell us about a situation where you had to support an entrepreneur or a founding team. What was required from you, and how did you contribute to their success?</p>\n",
              "<h4>Probing Questions</h4>\n",
              "<ul>\n",
              "<li>How have you handled a scenario where a founder's vision conflicted with your own professional opinion or experience?</li>\n",
              "<li>Describe a time when you went above and beyond to ensure that a project or task aligned with the overarching goals of a founder.</li>\n",
              "<li>Can you provide an example of how you helped a startup or a founding team navigate a challenging period?</li>\n",
              "<li>In what ways have you contributed to creating a supportive environment that fosters innovation and risk-taking among founders?</li>\n",
              "</ul>\n",
              "<h4>Scenario</h4>\n",
              "<p>Imagine a scenario where a founder of a startup incubated by Y Combinator is facing significant roadblocks that threaten the continuation of their project. How would you intervene and provide assistance to overcome these hurdles?</p>\n",
              "<h4>Tips</h4>\n",
              "<p>Evaluate the sincerity and effectiveness of the candidate's support for entrepreneurial ventures. They should exhibit an understanding of and dedication to nurturing startup founders, aligning with Y Combinator’s ethos of founder support.</p>\n",
              "     <h4>Notes</h4><div class='notes'>\n",
              "    <div class=\"dotted-line\"></div>\n",
              "    <div class=\"dotted-line\"></div>\n",
              "    <div class=\"dotted-line\"></div>\n",
              "    <div class=\"dotted-line\"></div>\n",
              "    <div class=\"dotted-line\"></div>\n",
              "    <div class=\"dotted-line\"></div>\n",
              "    <div class=\"dotted-line\"></div>\n",
              "    <div class=\"dotted-line\"></div>\n",
              "    <div class=\"rating-container\">\n",
              "    <label for=\"rating-line\">Rating (1-5):</label>\n",
              "    <div id=\"rating-line\" class=\"short-dotted-line\"></div>\n",
              "    </div>\n",
              "</div>\n",
              "    </section>\n",
              "        <section class='main'>\n",
              "    <h3>Behavioral Competence 4: Agility and Adaptability</h3>\n",
              "<p>In an ever-changing market, Y Combinator values the ability to quickly adapt and pivot strategies. This competency focuses on the candidate's agility to respond to new information and the adaptability to embrace change effectively.</p>\n",
              "<h4>Lead Question</h4>\n",
              "<p>Can you describe a time when you had to quickly change your approach due to new or unexpected developments on a project?</p>\n",
              "<h4>Probing Questions</h4>\n",
              "<ul>\n",
              "<li>How do you stay informed of the latest trends and updates relevant to your field, and how do you apply this knowledge?</li>\n",
              "<li>What is your process for managing uncertainty and making decisions in fast-paced or ambiguous situations?</li>\n",
              "<li>Can you provide an example of an initiative you took that required you to learn a new skill or adapt to a new environment?</li>\n",
              "<li>Explain a scenario where you had to persuade your team to adopt a significant change to a project plan or strategy.</li>\n",
              "</ul>\n",
              "<h4>Scenario</h4>\n",
              "<p>Y Combinator decides to pivot the technology stack for a key project to align with newer industry standards. How would you approach this situation to ensure a smooth transition and maintain project momentum?</p>\n",
              "<h4>Tips</h4>\n",
              "<p>Look for clear examples of the candidate's ability to think on their feet, willingness to learn, and a proactive approach to change. Gauge their persuasiveness in leading a team through transitions and their resilience in the face of challenges.</p>\n",
              "     <h4>Notes</h4><div class='notes'>\n",
              "    <div class=\"dotted-line\"></div>\n",
              "    <div class=\"dotted-line\"></div>\n",
              "    <div class=\"dotted-line\"></div>\n",
              "    <div class=\"dotted-line\"></div>\n",
              "    <div class=\"dotted-line\"></div>\n",
              "    <div class=\"dotted-line\"></div>\n",
              "    <div class=\"dotted-line\"></div>\n",
              "    <div class=\"dotted-line\"></div>\n",
              "    <div class=\"rating-container\">\n",
              "    <label for=\"rating-line\">Rating (1-5):</label>\n",
              "    <div id=\"rating-line\" class=\"short-dotted-line\"></div>\n",
              "    </div>\n",
              "</div>\n",
              "    </section>\n",
              "        <section class='main'>\n",
              "    <h3>Behavioral Competence 5: Evidence of Demand and Market Responsiveness</h3>\n",
              "<p>Y Combinator believes in the significance of rapid testing and responsiveness to market demands. Candidates should demonstrate the ability to validate ideas swiftly, pivot based on user feedback, and handle shifts in market trends.</p>\n",
              "<h4>Lead Question</h4>\n",
              "<p>Describe a time when you had to pivot or make a significant change to a product based on market feedback or a sudden shift in user needs.</p>\n",
              "<h4>Probing Questions</h4>\n",
              "<ul>\n",
              "<li>How do you validate new ideas or features with real users, and can you share a successful example of this process?</li>\n",
              "<li>What methodologies do you use to gather and process user feedback and market data?</li>\n",
              "<li>Have you ever had to deprioritize or eliminate a feature or project due to changing market demands? How did you approach this decision?</li>\n",
              "<li>How do you balance the need for swift responsiveness to the market with the strategic vision of the product?</li>\n",
              "</ul>\n",
              "<h4>Scenario</h4>\n",
              "<p>A product you're developing at Y Combinator has received mixed feedback from its initial user base, suggesting that a different feature set might be in higher demand. What steps would you take to reassess and adjust the product's roadmap accordingly?</p>\n",
              "<h4>Tips</h4>\n",
              "<p>Seek examples of the candidate's experiences with quickly adapting plans and validating market demand for a product. They should display an understanding of customer-centric development and exhibit flexibility in adjusting to new information and user expectations.</p>\n",
              "     <h4>Notes</h4><div class='notes'>\n",
              "    <div class=\"dotted-line\"></div>\n",
              "    <div class=\"dotted-line\"></div>\n",
              "    <div class=\"dotted-line\"></div>\n",
              "    <div class=\"dotted-line\"></div>\n",
              "    <div class=\"dotted-line\"></div>\n",
              "    <div class=\"dotted-line\"></div>\n",
              "    <div class=\"dotted-line\"></div>\n",
              "    <div class=\"dotted-line\"></div>\n",
              "    <div class=\"rating-container\">\n",
              "    <label for=\"rating-line\">Rating (1-5):</label>\n",
              "    <div id=\"rating-line\" class=\"short-dotted-line\"></div>\n",
              "    </div>\n",
              "</div>\n",
              "    </section>\n",
              "    <section class='main'>\n",
              "    <h2>Practical Assignment</h2>\n",
              "<p>The practical assignment involves the candidate migrating a Rails application from Capistrano and EC2 to Docker and ECS. The objective is to assess the candidate's practical skills in containerization and cloud service deployment, as well as their familiarity with AWS, Docker, and orchestration using ECS.</p>\n",
              "<p>Evaluation will be based on the candidate's approach to creating Dockerfiles, setting up ECS services, handling persistence and state management, and ensuring minimal downtime during the migration process. </p>\n",
              "<p>To assess the candidate's approach and solution, the interviewer should consider the following:</p>\n",
              "<ul>\n",
              "<li>How well the candidate understands the nuances of containerizing a Rails application.</li>\n",
              "<li>The ability to maintain a clean and efficient development workflow leveraging Docker and ECS.</li>\n",
              "<li>Strategies for migrating live databases and user data with zero data loss.</li>\n",
              "<li>Practices implemented to monitor and verify the successful operation of the application post-migration.</li>\n",
              "</ul>\n",
              "<p>The interviewer should also assess the candidate's ability to communicate their strategy, the rationale behind each step, and how they would tackle any potential challenges arising during the process.</p>\n",
              "    <h4>Notes</h4><div class='notes'>\n",
              "    <div class=\"dotted-line\"></div>\n",
              "    <div class=\"dotted-line\"></div>\n",
              "    <div class=\"dotted-line\"></div>\n",
              "    <div class=\"dotted-line\"></div>\n",
              "    <div class=\"dotted-line\"></div>\n",
              "    <div class=\"dotted-line\"></div>\n",
              "    <div class=\"dotted-line\"></div>\n",
              "    <div class=\"dotted-line\"></div>\n",
              "    <div class=\"rating-container\">\n",
              "    <label for=\"rating-line\">Rating (1-5):</label>\n",
              "    <div id=\"rating-line\" class=\"short-dotted-line\"></div>\n",
              "    </div>\n",
              "</div>\n",
              "    </section>\n",
              "    <section class='main'>\n",
              "    <h2>Team Interaction</h2>\n",
              "<p>Team interaction provides an opportunity for the candidate to engage with potential future colleagues. It serves to assess how well they would integrate into the team, their collaborative skills, and their fit within Y Combinator's company culture.</p>\n",
              "<p>This interaction should be a mix of informal discussion and small problem-solving exercises relevant to the team's current projects. Proposed topics can include but are not limited to: brainstorming sessions for new features, commenting on the existing codebase's structure, or discussing approaches to ongoing challenges faced by the current team.</p>\n",
              "<p>During the interaction, observe the candidate's:</p>\n",
              "<ul>\n",
              "<li>Communication style and ability to articulate thoughts.</li>\n",
              "<li>Ability to listen and build upon others' ideas.</li>\n",
              "<li>Approach to giving and receiving constructive feedback.</li>\n",
              "<li>Comprehension of and reaction to the team's current projects and methodologies.</li>\n",
              "</ul>\n",
              "<p>The aim is to gauge mutual compatibility and to envision how the candidate would contribute to the team's dynamics and productivity.</p>\n",
              "    <h4>Notes</h4><div class='notes'>\n",
              "    <div class=\"dotted-line\"></div>\n",
              "    <div class=\"dotted-line\"></div>\n",
              "    <div class=\"dotted-line\"></div>\n",
              "    <div class=\"dotted-line\"></div>\n",
              "    <div class=\"dotted-line\"></div>\n",
              "    <div class=\"dotted-line\"></div>\n",
              "    <div class=\"dotted-line\"></div>\n",
              "    <div class=\"dotted-line\"></div>\n",
              "    <div class=\"rating-container\">\n",
              "    <label for=\"rating-line\">Rating (1-5):</label>\n",
              "    <div id=\"rating-line\" class=\"short-dotted-line\"></div>\n",
              "    </div>\n",
              "</div>\n",
              "    </section>\n",
              "    <section class='main'>\n",
              "    <h2>Candidate Q&amp;A</h2>\n",
              "<p>Candidates often have queries about the role, company, and expectations. The interviewer should be prepared to provide comprehensive responses.</p>\n",
              "<ul>\n",
              "<li><strong>Candidate Question</strong>: Can you tell me more about the day-to-day responsibilities of this role?<ul>\n",
              "<li><strong>Answer</strong>: As an Infrastructure Software Engineer at Y Combinator, you'll be actively involved in developing, deploying, and managing our shared infrastructure, with a focus on efficiency, scalability, and security using AWS, Docker, and Terraform among other technologies.</li>\n",
              "</ul>\n",
              "</li>\n",
              "</ul>\n",
              "<ul>\n",
              "<li><strong>Candidate Question</strong>: What are the growth opportunities within Y Combinator for someone in this position?<ul>\n",
              "<li><strong>Answer</strong>: Y Combinator supports professional growth with opportunities to lead projects, mentor peers, and potentially move into larger leadership roles within the technical team. We encourage continuous learning and provide resources for expanding your skill set.</li>\n",
              "</ul>\n",
              "</li>\n",
              "</ul>\n",
              "<ul>\n",
              "<li><strong>Candidate Question</strong>: How does the team at Y Combinator stay up-to-date with the latest technologies and practices in the industry?<ul>\n",
              "<li><strong>Answer</strong>: We promote a culture of learning where team members have access to workshops, conferences, and courses. Regular internal tech talks and hackathons help in staying sharp and innovative.</li>\n",
              "</ul>\n",
              "</li>\n",
              "</ul>\n",
              "<ul>\n",
              "<li><strong>Candidate Question</strong>: Can you describe Y Combinator's company culture?<ul>\n",
              "<li><strong>Answer</strong>: Our culture is centered around our values of integrity, respect, accountability, and supporting founders. We encourage creativity, open communication, and a founder-first approach that drives a dynamic and supportive work environment.</li>\n",
              "</ul>\n",
              "</li>\n",
              "</ul>\n",
              "<ul>\n",
              "<li><strong>Candidate Question</strong>: What are the current challenges the technical team is facing, and how would my role contribute to addressing them?<ul>\n",
              "<li><strong>Answer</strong>: The technical challenges revolve around scaling our infrastructure to support an increasing number of startups while maintaining performance and cost efficiency. Your expertise will directly contribute to solving these challenges through innovative infrastructure solutions.</li>\n",
              "</ul>\n",
              "</li>\n",
              "</ul>\n",
              "    </section>\n",
              "\n",
              "</body>\n",
              "</html>"
            ]
          },
          "metadata": {}
        }
      ]
    },
    {
      "cell_type": "markdown",
      "source": [
        "# Create the Documents"
      ],
      "metadata": {
        "id": "O616O7upoV-T"
      }
    },
    {
      "cell_type": "markdown",
      "source": [
        "Create the Word document"
      ],
      "metadata": {
        "id": "3E7xN0QjS6p5"
      }
    },
    {
      "cell_type": "code",
      "source": [
        "# Write HTML string to a file\n",
        "with open('playbook.html', 'w') as file:\n",
        "    file.write(html_content)\n",
        "\n",
        "# Convert HTML to Docx\n",
        "!pandoc -s playbook.html -o playbook.docx\n",
        "\n",
        "# from google.colab import files\n",
        "# files.download('playbook.docx')"
      ],
      "metadata": {
        "colab": {
          "base_uri": "https://localhost:8080/",
          "height": 17
        },
        "id": "sAhMgYsb0lp3",
        "outputId": "b6372fba-817f-45ec-b296-a806aedc6672"
      },
      "execution_count": 403,
      "outputs": [
        {
          "output_type": "display_data",
          "data": {
            "text/plain": [
              "<IPython.core.display.Javascript object>"
            ],
            "application/javascript": [
              "\n",
              "    async function download(id, filename, size) {\n",
              "      if (!google.colab.kernel.accessAllowed) {\n",
              "        return;\n",
              "      }\n",
              "      const div = document.createElement('div');\n",
              "      const label = document.createElement('label');\n",
              "      label.textContent = `Downloading \"${filename}\": `;\n",
              "      div.appendChild(label);\n",
              "      const progress = document.createElement('progress');\n",
              "      progress.max = size;\n",
              "      div.appendChild(progress);\n",
              "      document.body.appendChild(div);\n",
              "\n",
              "      const buffers = [];\n",
              "      let downloaded = 0;\n",
              "\n",
              "      const channel = await google.colab.kernel.comms.open(id);\n",
              "      // Send a message to notify the kernel that we're ready.\n",
              "      channel.send({})\n",
              "\n",
              "      for await (const message of channel.messages) {\n",
              "        // Send a message to notify the kernel that we're ready.\n",
              "        channel.send({})\n",
              "        if (message.buffers) {\n",
              "          for (const buffer of message.buffers) {\n",
              "            buffers.push(buffer);\n",
              "            downloaded += buffer.byteLength;\n",
              "            progress.value = downloaded;\n",
              "          }\n",
              "        }\n",
              "      }\n",
              "      const blob = new Blob(buffers, {type: 'application/binary'});\n",
              "      const a = document.createElement('a');\n",
              "      a.href = window.URL.createObjectURL(blob);\n",
              "      a.download = filename;\n",
              "      div.appendChild(a);\n",
              "      a.click();\n",
              "      div.remove();\n",
              "    }\n",
              "  "
            ]
          },
          "metadata": {}
        },
        {
          "output_type": "display_data",
          "data": {
            "text/plain": [
              "<IPython.core.display.Javascript object>"
            ],
            "application/javascript": [
              "download(\"download_b3f6a2e5-b19c-4e8c-a488-cdc28c3c402e\", \"playbook.docx\", 22295)"
            ]
          },
          "metadata": {}
        }
      ]
    },
    {
      "cell_type": "markdown",
      "source": [
        "Create the PDF"
      ],
      "metadata": {
        "id": "D04s7TxrS98T"
      }
    },
    {
      "cell_type": "code",
      "source": [
        "from weasyprint import HTML\n",
        "\n",
        "# Convert HTML to PDF using WeasyPrint\n",
        "#HTML('playbook.html').write_pdf('playbook.pdf', stylesheets=['style.css'], presentational_hints=True)\n",
        "HTML('playbook.html').write_pdf('playbook.pdf')\n",
        "\n",
        "from google.colab import files\n",
        "files.download('playbook.pdf')\n",
        "\n",
        "# Convert HTML to alternative PDF\n",
        "#!pandoc -s playbook.html --pdf-engine=wkhtmltopdf -o playbook.pdf\n",
        "\n",
        "# Convert HTML to alternative PDF\n",
        "#!wkhtmltopdf --page-size Letter --footer-html footer.html --margin-top 15mm --margin-bottom 15mm --margin-left 15mm --margin-right 15mm playbook.html playbook.pdf\n",
        "\n",
        "# Convert HTML to PDF\n",
        "##import pdfkit\n",
        "# pdfkit.from_string(html_content, 'playbook.pdf')\n"
      ],
      "metadata": {
        "colab": {
          "base_uri": "https://localhost:8080/",
          "height": 312
        },
        "id": "IvxTVtggloVo",
        "outputId": "221042bd-e881-40e4-fda0-287ffa4f5090"
      },
      "execution_count": 414,
      "outputs": [
        {
          "output_type": "stream",
          "name": "stderr",
          "text": [
            "WARNING:weasyprint:Ignored `font-display: swap` at 5:3, descriptor not supported.\n",
            "WARNING:weasyprint:Ignored `font-display: swap` at 12:3, descriptor not supported.\n",
            "WARNING:weasyprint:Ignored `font-display: swap` at 5:3, descriptor not supported.\n",
            "WARNING:weasyprint:Ignored `font-display: swap` at 12:3, descriptor not supported.\n",
            "WARNING:weasyprint:Error: Expected <ident> for declaration name, got {} block. at 87:25.\n",
            "WARNING:weasyprint:Error: Expected <ident> for declaration name, got literal. at 137:9.\n",
            "WARNING:weasyprint:Anchor defined twice: 'rating-line'\n",
            "WARNING:weasyprint:Anchor defined twice: 'rating-line'\n",
            "WARNING:weasyprint:Anchor defined twice: 'rating-line'\n",
            "WARNING:weasyprint:Anchor defined twice: 'rating-line'\n",
            "WARNING:weasyprint:Anchor defined twice: 'rating-line'\n",
            "WARNING:weasyprint:Anchor defined twice: 'rating-line'\n",
            "WARNING:weasyprint:Anchor defined twice: 'rating-line'\n",
            "WARNING:weasyprint:Anchor defined twice: 'rating-line'\n",
            "WARNING:weasyprint:Anchor defined twice: 'rating-line'\n",
            "WARNING:weasyprint:Anchor defined twice: 'rating-line'\n",
            "WARNING:weasyprint:Anchor defined twice: 'rating-line'\n"
          ]
        },
        {
          "output_type": "display_data",
          "data": {
            "text/plain": [
              "<IPython.core.display.Javascript object>"
            ],
            "application/javascript": [
              "\n",
              "    async function download(id, filename, size) {\n",
              "      if (!google.colab.kernel.accessAllowed) {\n",
              "        return;\n",
              "      }\n",
              "      const div = document.createElement('div');\n",
              "      const label = document.createElement('label');\n",
              "      label.textContent = `Downloading \"${filename}\": `;\n",
              "      div.appendChild(label);\n",
              "      const progress = document.createElement('progress');\n",
              "      progress.max = size;\n",
              "      div.appendChild(progress);\n",
              "      document.body.appendChild(div);\n",
              "\n",
              "      const buffers = [];\n",
              "      let downloaded = 0;\n",
              "\n",
              "      const channel = await google.colab.kernel.comms.open(id);\n",
              "      // Send a message to notify the kernel that we're ready.\n",
              "      channel.send({})\n",
              "\n",
              "      for await (const message of channel.messages) {\n",
              "        // Send a message to notify the kernel that we're ready.\n",
              "        channel.send({})\n",
              "        if (message.buffers) {\n",
              "          for (const buffer of message.buffers) {\n",
              "            buffers.push(buffer);\n",
              "            downloaded += buffer.byteLength;\n",
              "            progress.value = downloaded;\n",
              "          }\n",
              "        }\n",
              "      }\n",
              "      const blob = new Blob(buffers, {type: 'application/binary'});\n",
              "      const a = document.createElement('a');\n",
              "      a.href = window.URL.createObjectURL(blob);\n",
              "      a.download = filename;\n",
              "      div.appendChild(a);\n",
              "      a.click();\n",
              "      div.remove();\n",
              "    }\n",
              "  "
            ]
          },
          "metadata": {}
        },
        {
          "output_type": "display_data",
          "data": {
            "text/plain": [
              "<IPython.core.display.Javascript object>"
            ],
            "application/javascript": [
              "download(\"download_d9861733-1588-4647-b6a6-f73810d65a3c\", \"playbook.pdf\", 201043)"
            ]
          },
          "metadata": {}
        }
      ]
    }
  ]
}