{
 "cells": [
  {
   "cell_type": "code",
   "execution_count": 23,
   "metadata": {},
   "outputs": [
    {
     "name": "stdout",
     "output_type": "stream",
     "text": [
      "Requirement already satisfied: openai in /Users/andrewroberts/anaconda3/envs/deliverables/lib/python3.12/site-packages (1.6.0)\n",
      "Requirement already satisfied: langchain in /Users/andrewroberts/anaconda3/envs/deliverables/lib/python3.12/site-packages (0.0.354)\n",
      "Requirement already satisfied: anyio<5,>=3.5.0 in /Users/andrewroberts/anaconda3/envs/deliverables/lib/python3.12/site-packages (from openai) (4.2.0)\n",
      "Requirement already satisfied: distro<2,>=1.7.0 in /Users/andrewroberts/anaconda3/envs/deliverables/lib/python3.12/site-packages (from openai) (1.8.0)\n",
      "Requirement already satisfied: httpx<1,>=0.23.0 in /Users/andrewroberts/anaconda3/envs/deliverables/lib/python3.12/site-packages (from openai) (0.25.2)\n",
      "Requirement already satisfied: pydantic<3,>=1.9.0 in /Users/andrewroberts/anaconda3/envs/deliverables/lib/python3.12/site-packages (from openai) (2.5.2)\n",
      "Requirement already satisfied: sniffio in /Users/andrewroberts/anaconda3/envs/deliverables/lib/python3.12/site-packages (from openai) (1.3.0)\n",
      "Requirement already satisfied: tqdm>4 in /Users/andrewroberts/anaconda3/envs/deliverables/lib/python3.12/site-packages (from openai) (4.66.1)\n",
      "Requirement already satisfied: typing-extensions<5,>=4.7 in /Users/andrewroberts/anaconda3/envs/deliverables/lib/python3.12/site-packages (from openai) (4.9.0)\n",
      "Requirement already satisfied: PyYAML>=5.3 in /Users/andrewroberts/anaconda3/envs/deliverables/lib/python3.12/site-packages (from langchain) (6.0.1)\n",
      "Requirement already satisfied: SQLAlchemy<3,>=1.4 in /Users/andrewroberts/anaconda3/envs/deliverables/lib/python3.12/site-packages (from langchain) (2.0.25)\n",
      "Requirement already satisfied: aiohttp<4.0.0,>=3.8.3 in /Users/andrewroberts/anaconda3/envs/deliverables/lib/python3.12/site-packages (from langchain) (3.9.1)\n",
      "Requirement already satisfied: dataclasses-json<0.7,>=0.5.7 in /Users/andrewroberts/anaconda3/envs/deliverables/lib/python3.12/site-packages (from langchain) (0.6.3)\n",
      "Requirement already satisfied: jsonpatch<2.0,>=1.33 in /Users/andrewroberts/anaconda3/envs/deliverables/lib/python3.12/site-packages (from langchain) (1.33)\n",
      "Requirement already satisfied: langchain-community<0.1,>=0.0.8 in /Users/andrewroberts/anaconda3/envs/deliverables/lib/python3.12/site-packages (from langchain) (0.0.8)\n",
      "Requirement already satisfied: langchain-core<0.2,>=0.1.5 in /Users/andrewroberts/anaconda3/envs/deliverables/lib/python3.12/site-packages (from langchain) (0.1.5)\n",
      "Requirement already satisfied: langsmith<0.1.0,>=0.0.77 in /Users/andrewroberts/anaconda3/envs/deliverables/lib/python3.12/site-packages (from langchain) (0.0.77)\n",
      "Requirement already satisfied: numpy<2,>=1 in /Users/andrewroberts/anaconda3/envs/deliverables/lib/python3.12/site-packages (from langchain) (1.26.3)\n",
      "Requirement already satisfied: requests<3,>=2 in /Users/andrewroberts/anaconda3/envs/deliverables/lib/python3.12/site-packages (from langchain) (2.31.0)\n",
      "Requirement already satisfied: tenacity<9.0.0,>=8.1.0 in /Users/andrewroberts/anaconda3/envs/deliverables/lib/python3.12/site-packages (from langchain) (8.2.3)\n",
      "Requirement already satisfied: attrs>=17.3.0 in /Users/andrewroberts/anaconda3/envs/deliverables/lib/python3.12/site-packages (from aiohttp<4.0.0,>=3.8.3->langchain) (18.2.0)\n",
      "Requirement already satisfied: multidict<7.0,>=4.5 in /Users/andrewroberts/anaconda3/envs/deliverables/lib/python3.12/site-packages (from aiohttp<4.0.0,>=3.8.3->langchain) (6.0.4)\n",
      "Requirement already satisfied: yarl<2.0,>=1.0 in /Users/andrewroberts/anaconda3/envs/deliverables/lib/python3.12/site-packages (from aiohttp<4.0.0,>=3.8.3->langchain) (1.9.4)\n",
      "Requirement already satisfied: frozenlist>=1.1.1 in /Users/andrewroberts/anaconda3/envs/deliverables/lib/python3.12/site-packages (from aiohttp<4.0.0,>=3.8.3->langchain) (1.4.1)\n",
      "Requirement already satisfied: aiosignal>=1.1.2 in /Users/andrewroberts/anaconda3/envs/deliverables/lib/python3.12/site-packages (from aiohttp<4.0.0,>=3.8.3->langchain) (1.3.1)\n",
      "Requirement already satisfied: idna>=2.8 in /Users/andrewroberts/anaconda3/envs/deliverables/lib/python3.12/site-packages (from anyio<5,>=3.5.0->openai) (3.6)\n",
      "Requirement already satisfied: marshmallow<4.0.0,>=3.18.0 in /Users/andrewroberts/anaconda3/envs/deliverables/lib/python3.12/site-packages (from dataclasses-json<0.7,>=0.5.7->langchain) (3.20.1)\n",
      "Requirement already satisfied: typing-inspect<1,>=0.4.0 in /Users/andrewroberts/anaconda3/envs/deliverables/lib/python3.12/site-packages (from dataclasses-json<0.7,>=0.5.7->langchain) (0.9.0)\n",
      "Requirement already satisfied: certifi in /Users/andrewroberts/anaconda3/envs/deliverables/lib/python3.12/site-packages (from httpx<1,>=0.23.0->openai) (2023.11.17)\n",
      "Requirement already satisfied: httpcore==1.* in /Users/andrewroberts/anaconda3/envs/deliverables/lib/python3.12/site-packages (from httpx<1,>=0.23.0->openai) (1.0.2)\n",
      "Requirement already satisfied: h11<0.15,>=0.13 in /Users/andrewroberts/anaconda3/envs/deliverables/lib/python3.12/site-packages (from httpcore==1.*->httpx<1,>=0.23.0->openai) (0.14.0)\n",
      "Requirement already satisfied: jsonpointer>=1.9 in /Users/andrewroberts/anaconda3/envs/deliverables/lib/python3.12/site-packages (from jsonpatch<2.0,>=1.33->langchain) (2.4)\n",
      "Requirement already satisfied: packaging<24.0,>=23.2 in /Users/andrewroberts/anaconda3/envs/deliverables/lib/python3.12/site-packages (from langchain-core<0.2,>=0.1.5->langchain) (23.2)\n",
      "Requirement already satisfied: annotated-types>=0.4.0 in /Users/andrewroberts/anaconda3/envs/deliverables/lib/python3.12/site-packages (from pydantic<3,>=1.9.0->openai) (0.6.0)\n",
      "Requirement already satisfied: pydantic-core==2.14.5 in /Users/andrewroberts/anaconda3/envs/deliverables/lib/python3.12/site-packages (from pydantic<3,>=1.9.0->openai) (2.14.5)\n",
      "Requirement already satisfied: charset-normalizer<4,>=2 in /Users/andrewroberts/anaconda3/envs/deliverables/lib/python3.12/site-packages (from requests<3,>=2->langchain) (3.3.2)\n",
      "Requirement already satisfied: urllib3<3,>=1.21.1 in /Users/andrewroberts/anaconda3/envs/deliverables/lib/python3.12/site-packages (from requests<3,>=2->langchain) (2.1.0)\n",
      "Requirement already satisfied: mypy-extensions>=0.3.0 in /Users/andrewroberts/anaconda3/envs/deliverables/lib/python3.12/site-packages (from typing-inspect<1,>=0.4.0->dataclasses-json<0.7,>=0.5.7->langchain) (1.0.0)\n",
      "Note: you may need to restart the kernel to use updated packages.\n"
     ]
    }
   ],
   "source": [
    "%pip install openai langchain"
   ]
  },
  {
   "cell_type": "code",
   "execution_count": 24,
   "metadata": {},
   "outputs": [
    {
     "name": "stdout",
     "output_type": "stream",
     "text": [
      "ad945046-c819-463c-89f6-38aa4b290da4<__>1OUiriETU8N2v5f4n93xFEHy-PJLY0m79jgz47N\n"
     ]
    }
   ],
   "source": [
    "import os\n",
    "from dotenv import load_dotenv\n",
    "load_dotenv()  # Load the environment variables from .env file\n",
    "\n",
    "# Get the value of an environment variable\n",
    "you_api_key = os.getenv('YOU_API_KEY')\n",
    "openai_api_key = os.getenv('OPENAI_API_KEY')\n",
    "print(you_api_key)"
   ]
  },
  {
   "cell_type": "code",
   "execution_count": 25,
   "metadata": {},
   "outputs": [
    {
     "name": "stdout",
     "output_type": "stream",
     "text": [
      "Y Combinator's vision is to apply mass production techniques to startup funding, making it more efficient and beneficial for founders. Their mission is to help startups by providing funding, mentorship, and resources to accelerate their growth. As for their values, Y Combinator values the number of startups they help and the extent to which they assist them.\n"
     ]
    }
   ],
   "source": [
    "import requests\n",
    "\n",
    "def query_web_llm(query):\n",
    "    headers = {\"X-API-Key\": you_api_key}\n",
    "    params = {\"query\": query}\n",
    "    return requests.get(\n",
    "        f\"https://api.ydc-index.io/rag?query={query}\",\n",
    "        params=params,\n",
    "        headers=headers,\n",
    "    ).json()\n",
    "\n",
    "results = query_web_llm(\"What are Y Combinator's vision, mission, and values?\")\n",
    "\n",
    "answer = results['answer']\n",
    "\n",
    "print(answer)"
   ]
  },
  {
   "cell_type": "code",
   "execution_count": 2,
   "metadata": {},
   "outputs": [
    {
     "ename": "SyntaxError",
     "evalue": "invalid syntax (2883387860.py, line 1)",
     "output_type": "error",
     "traceback": [
      "\u001b[0;36m  Cell \u001b[0;32mIn[2], line 1\u001b[0;36m\u001b[0m\n\u001b[0;31m    from %pip install langchain\u001b[0m\n\u001b[0m         ^\u001b[0m\n\u001b[0;31mSyntaxError\u001b[0m\u001b[0;31m:\u001b[0m invalid syntax\n"
     ]
    }
   ],
   "source": [
    "from %pip install langchain\n",
    "langchain.retrievers.you import YouRetriever\n",
    "from langchain.chains import RetrievalQA\n",
    "from langchain.chat_models import ChatOpenAI\n",
    "import os\n",
    "\n",
    "# Set your API keys\n",
    "os.environ[\"YDC_API_KEY\"] = you_api_key\n",
    "os.environ[\"OPENAI_API_KEY\"] = openai_api_key\n",
    "\n",
    "# Create a retriever\n",
    "retriever = YouRetriever()\n",
    "\n",
    "# Specify the model\n",
    "model = \"gpt-3.5-turbo-16k\"\n",
    "\n",
    "# Create a RetrievalQA instance\n",
    "qa = RetrievalQA.from_chain_type(llm=ChatOpenAI(model=model), chain_type=\"stuff\", retriever=retriever)\n",
    "\n",
    "# Now you can use the `qa` instance to ask questions and get answers\n",
    "question = \"What is the capital of France?\"\n",
    "answer = qa.run(question)\n",
    "\n",
    "print(answer)"
   ]
  },
  {
   "cell_type": "code",
   "execution_count": 29,
   "metadata": {},
   "outputs": [
    {
     "name": "stdout",
     "output_type": "stream",
     "text": [
      "['Config', 'InputType', 'OutputType', '__abstractmethods__', '__annotations__', '__call__', '__class__', '__class_getitem__', '__class_vars__', '__config__', '__custom_root_type__', '__delattr__', '__dict__', '__dir__', '__doc__', '__eq__', '__exclude_fields__', '__fields__', '__fields_set__', '__format__', '__ge__', '__get_validators__', '__getattribute__', '__getstate__', '__gt__', '__hash__', '__include_fields__', '__init__', '__init_subclass__', '__iter__', '__json_encoder__', '__le__', '__lt__', '__module__', '__ne__', '__new__', '__or__', '__orig_bases__', '__parameters__', '__post_root_validators__', '__pre_root_validators__', '__pretty__', '__private_attributes__', '__reduce__', '__reduce_ex__', '__repr__', '__repr_args__', '__repr_name__', '__repr_str__', '__rich_repr__', '__ror__', '__schema_cache__', '__setattr__', '__setstate__', '__signature__', '__sizeof__', '__slots__', '__str__', '__subclasshook__', '__try_update_forward_refs__', '__validators__', '__weakref__', '_abatch_with_config', '_abc_impl', '_acall', '_acall_with_config', '_aget_docs', '_atransform_stream_with_config', '_batch_with_config', '_calculate_keys', '_call', '_call_with_config', '_chain_type', '_copy_and_set_values', '_decompose_class', '_enforce_dict_if_root', '_get_docs', '_get_value', '_init_private_attributes', '_iter', '_lc_kwargs', '_run_output_key', '_transform_stream_with_config', '_validate_inputs', '_validate_outputs', 'abatch', 'acall', 'ainvoke', 'apply', 'arun', 'assign', 'astream', 'astream_log', 'atransform', 'batch', 'bind', 'callback_manager', 'callbacks', 'combine_documents_chain', 'config_schema', 'config_specs', 'configurable_alternatives', 'configurable_fields', 'construct', 'copy', 'dict', 'from_chain_type', 'from_llm', 'from_orm', 'get_graph', 'get_input_schema', 'get_lc_namespace', 'get_name', 'get_output_schema', 'get_prompts', 'input_key', 'input_keys', 'input_schema', 'invoke', 'is_lc_serializable', 'json', 'lc_attributes', 'lc_id', 'lc_secrets', 'map', 'memory', 'metadata', 'name', 'output_key', 'output_keys', 'output_schema', 'parse_file', 'parse_obj', 'parse_raw', 'pick', 'pipe', 'prep_inputs', 'prep_outputs', 'raise_callback_manager_deprecation', 'retriever', 'return_source_documents', 'run', 'save', 'schema', 'schema_json', 'set_verbose', 'stream', 'tags', 'to_json', 'to_json_not_implemented', 'transform', 'update_forward_refs', 'validate', 'verbose', 'with_config', 'with_fallbacks', 'with_listeners', 'with_retry', 'with_types']\n"
     ]
    }
   ],
   "source": [
    "print(dir(qa))"
   ]
  },
  {
   "cell_type": "code",
   "execution_count": 37,
   "metadata": {},
   "outputs": [
    {
     "ename": "ValueError",
     "evalue": "`run` supported with either positional arguments or keyword arguments, but none were provided.",
     "output_type": "error",
     "traceback": [
      "\u001b[0;31m---------------------------------------------------------------------------\u001b[0m",
      "\u001b[0;31mValueError\u001b[0m                                Traceback (most recent call last)",
      "Cell \u001b[0;32mIn[37], line 9\u001b[0m\n\u001b[1;32m      6\u001b[0m qa \u001b[38;5;241m=\u001b[39m RetrievalQA\u001b[38;5;241m.\u001b[39mfrom_chain_type(llm\u001b[38;5;241m=\u001b[39mOpenAI(), chain_type\u001b[38;5;241m=\u001b[39m\u001b[38;5;124m\"\u001b[39m\u001b[38;5;124mmap_reduce\u001b[39m\u001b[38;5;124m\"\u001b[39m, retriever\u001b[38;5;241m=\u001b[39myr)\n\u001b[1;32m      8\u001b[0m query \u001b[38;5;241m=\u001b[39m \u001b[38;5;124m'\u001b[39m\u001b[38;5;124mwhat starting ohio state quarterback most recently went their entire college career without beating Michigan?\u001b[39m\u001b[38;5;124m'\u001b[39m\n\u001b[0;32m----> 9\u001b[0m \u001b[43mqa\u001b[49m\u001b[38;5;241;43m.\u001b[39;49m\u001b[43mrun\u001b[49m\u001b[43m(\u001b[49m\u001b[43m)\u001b[49m\n",
      "File \u001b[0;32m~/anaconda3/envs/deliverables/lib/python3.12/site-packages/langchain/chains/base.py:521\u001b[0m, in \u001b[0;36mChain.run\u001b[0;34m(self, callbacks, tags, metadata, *args, **kwargs)\u001b[0m\n\u001b[1;32m    516\u001b[0m     \u001b[38;5;28;01mreturn\u001b[39;00m \u001b[38;5;28mself\u001b[39m(kwargs, callbacks\u001b[38;5;241m=\u001b[39mcallbacks, tags\u001b[38;5;241m=\u001b[39mtags, metadata\u001b[38;5;241m=\u001b[39mmetadata)[\n\u001b[1;32m    517\u001b[0m         _output_key\n\u001b[1;32m    518\u001b[0m     ]\n\u001b[1;32m    520\u001b[0m \u001b[38;5;28;01mif\u001b[39;00m \u001b[38;5;129;01mnot\u001b[39;00m kwargs \u001b[38;5;129;01mand\u001b[39;00m \u001b[38;5;129;01mnot\u001b[39;00m args:\n\u001b[0;32m--> 521\u001b[0m     \u001b[38;5;28;01mraise\u001b[39;00m \u001b[38;5;167;01mValueError\u001b[39;00m(\n\u001b[1;32m    522\u001b[0m         \u001b[38;5;124m\"\u001b[39m\u001b[38;5;124m`run` supported with either positional arguments or keyword arguments,\u001b[39m\u001b[38;5;124m\"\u001b[39m\n\u001b[1;32m    523\u001b[0m         \u001b[38;5;124m\"\u001b[39m\u001b[38;5;124m but none were provided.\u001b[39m\u001b[38;5;124m\"\u001b[39m\n\u001b[1;32m    524\u001b[0m     )\n\u001b[1;32m    525\u001b[0m \u001b[38;5;28;01melse\u001b[39;00m:\n\u001b[1;32m    526\u001b[0m     \u001b[38;5;28;01mraise\u001b[39;00m \u001b[38;5;167;01mValueError\u001b[39;00m(\n\u001b[1;32m    527\u001b[0m         \u001b[38;5;124mf\u001b[39m\u001b[38;5;124m\"\u001b[39m\u001b[38;5;124m`run` supported with either positional arguments or keyword arguments\u001b[39m\u001b[38;5;124m\"\u001b[39m\n\u001b[1;32m    528\u001b[0m         \u001b[38;5;124mf\u001b[39m\u001b[38;5;124m\"\u001b[39m\u001b[38;5;124m but not both. Got args: \u001b[39m\u001b[38;5;132;01m{\u001b[39;00margs\u001b[38;5;132;01m}\u001b[39;00m\u001b[38;5;124m and kwargs: \u001b[39m\u001b[38;5;132;01m{\u001b[39;00mkwargs\u001b[38;5;132;01m}\u001b[39;00m\u001b[38;5;124m.\u001b[39m\u001b[38;5;124m\"\u001b[39m\n\u001b[1;32m    529\u001b[0m     )\n",
      "\u001b[0;31mValueError\u001b[0m: `run` supported with either positional arguments or keyword arguments, but none were provided."
     ]
    }
   ],
   "source": [
    "from langchain.chains import RetrievalQA\n",
    "from langchain.retrievers.you import YouRetriever\n",
    "from langchain_community.llms import OpenAI\n",
    "\n",
    "yr = YouRetriever()\n",
    "qa = RetrievalQA.from_chain_type(llm=OpenAI(), chain_type=\"map_reduce\", retriever=yr)\n",
    "\n",
    "query = 'what starting ohio state quarterback most recently went their entire college career without beating Michigan?'\n",
    "qa.run(query)"
   ]
  }
 ],
 "metadata": {
  "kernelspec": {
   "display_name": "deliverables",
   "language": "python",
   "name": "python3"
  },
  "language_info": {
   "codemirror_mode": {
    "name": "ipython",
    "version": 3
   },
   "file_extension": ".py",
   "mimetype": "text/x-python",
   "name": "python",
   "nbconvert_exporter": "python",
   "pygments_lexer": "ipython3",
   "version": "3.12.0"
  }
 },
 "nbformat": 4,
 "nbformat_minor": 2
}
