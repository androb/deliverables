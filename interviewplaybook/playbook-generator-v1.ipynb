{
  "cells": [
    {
      "cell_type": "markdown",
      "metadata": {},
      "source": [
        "# Setup"
      ]
    },
    {
      "cell_type": "code",
      "execution_count": null,
      "metadata": {
        "colab": {
          "base_uri": "https://localhost:8080/"
        },
        "id": "azLYd2_T9j3p",
        "outputId": "f99c4218-325c-4b2c-dea4-fe8a12b2f281"
      },
      "outputs": [],
      "source": [
        "%pip install OpenAI markdown mdx_truly_sane_lists weasyprint python-dotenv pango pdflatex ipywidgets"
      ]
    },
    {
      "cell_type": "code",
      "execution_count": null,
      "metadata": {
        "id": "3_jkcGWaQvvs"
      },
      "outputs": [],
      "source": [
        "import os\n",
        "\n",
        "from dotenv import load_dotenv\n",
        "load_dotenv()  # Load the environment variables from .env file"
      ]
    },
    {
      "cell_type": "markdown",
      "metadata": {},
      "source": [
        "Set up the OpenAI Assistant"
      ]
    },
    {
      "cell_type": "code",
      "execution_count": null,
      "metadata": {},
      "outputs": [],
      "source": [
        "from openai import OpenAI\n",
        "client = OpenAI()\n",
        "\n",
        "#  get the prompt from the file system\n",
        "with open('prompt.md', 'r') as file:\n",
        "  # Read the entire content of the file into a single string variable\n",
        "  prompt = file.read()\n",
        "\n",
        "\n",
        "# update the assistant with the latest prompt\n",
        "my_assistant = client.beta.assistants.update(\n",
        "  \"asst_3WQiw8VJ91XWikievImBqwrZ\",\n",
        "  instructions=prompt,\n",
        "  name=\"Interview Playbook Generator\",\n",
        "  tools=[{\"type\": \"retrieval\"}],\n",
        "  model=\"gpt-4-1106-preview\"\n",
        ")"
      ]
    },
    {
      "cell_type": "code",
      "execution_count": null,
      "metadata": {
        "id": "ianKdgCtS-Yp"
      },
      "outputs": [],
      "source": [
        "# create a thread\n",
        "my_thread = client.beta.threads.create()\n",
        "\n",
        "import time\n",
        "\n",
        "def create_run(client, my_thread, my_assistant, content, file_ids=None):\n",
        "    \"\"\"\n",
        "    Create a message, run it, and display the response.\n",
        "\n",
        "    Args:\n",
        "    client (Client): The API client.\n",
        "    my_thread (Thread): The thread to post the message to.\n",
        "    my_assistant (Assistant): The assistant to use for the run.\n",
        "    content (str): The content of the message.\n",
        "    file_ids (list, optional): List of file IDs to attach to the message.\n",
        "\n",
        "    Returns:\n",
        "    str: The response content.\n",
        "\n",
        "    Raises:\n",
        "    ValueError: If any of the parameters are invalid.\n",
        "    RuntimeError: If the run does not complete successfully.\n",
        "    \"\"\"\n",
        "\n",
        "    if not all([client, my_thread, my_assistant, content]):\n",
        "        raise ValueError(\"Invalid parameters provided.\")\n",
        "\n",
        "    #extra_instructions = \"\"\"\"\"\"\n",
        "    extra_instructions = \"\"\" ONLY return the content as John Gruber's Markdown format, with no commentary whatsoever.  ALWAYS add a blank line between text and a list. Do not delimit the markdown with backticks or any other delimiter.\"\"\"\n",
        "\n",
        "\n",
        "    # Create the message\n",
        "    thread_message = client.beta.threads.messages.create(\n",
        "        my_thread.id,\n",
        "        role=\"user\",\n",
        "        content=content + extra_instructions,\n",
        "        file_ids=file_ids or []\n",
        "    )\n",
        "\n",
        "    # Hard code the values for max_retries and wait_seconds\n",
        "    max_retries = 120\n",
        "    wait_seconds = 0.5\n",
        "\n",
        "    # Create a run\n",
        "    run = client.beta.threads.runs.create(\n",
        "        thread_id=my_thread.id,\n",
        "        assistant_id=my_assistant.id\n",
        "    )\n",
        "\n",
        "    # Check the run's status\n",
        "    for _ in range(max_retries):\n",
        "        run = client.beta.threads.runs.retrieve(\n",
        "            thread_id=my_thread.id,\n",
        "            run_id=run.id)\n",
        "        if run.status == \"completed\":\n",
        "            break\n",
        "        time.sleep(wait_seconds)\n",
        "    else:\n",
        "        raise RuntimeError(\"Run did not complete successfully.\")\n",
        "\n",
        "    # Retrieve and return the response\n",
        "    all_messages = client.beta.threads.messages.list(thread_id=my_thread.id)\n",
        "    return all_messages.data[0].content[0].text.value + \"\\n\\n\"\n"
      ]
    },
    {
      "cell_type": "markdown",
      "metadata": {
        "id": "DxSAZm5tzT62"
      },
      "source": [
        "## Choose example and set up file paths"
      ]
    },
    {
      "cell_type": "code",
      "execution_count": null,
      "metadata": {
        "colab": {
          "base_uri": "https://localhost:8080/"
        },
        "id": "G23reYVLTmQc",
        "outputId": "e29e96de-754f-455e-d526-b5e3f459e266"
      },
      "outputs": [],
      "source": [
        "import time\n",
        "import ipywidgets as widgets\n",
        "# Which example to run\n",
        "choice_widget = widgets.Dropdown(\n",
        "  options=['medical-assistant', 'infra-engineer', 'customer-success-manager', 'real-estate-litigator'],\n",
        "  value='medical-assistant',\n",
        "  description='Choose an example:'\n",
        ")\n",
        "display(choice_widget)\n",
        "\n",
        "# Wait for 5 seconds for the user to select an option\n",
        "time.sleep(5)\n",
        "\n",
        "# Get the selected choice\n",
        "choice = choice_widget.value\n",
        "\n",
        "# source files\n",
        "job_description_file = \"examples/\" + choice + \"/job-description.md\"\n",
        "company_file = \"examples/\" + choice + \"/about-company.md\"\n",
        "\n",
        "# destination files\n",
        "destination_directory = \"examples/\" + choice + \"/\"\n",
        "html_destination = destination_directory + 'playbook.html'\n",
        "pdf_destination = destination_directory + 'playbook.pdf'\n",
        "markdown_destination = destination_directory + 'playbook.md'\n",
        "word_destination = destination_directory + 'playbook.docx'\n"
      ]
    },
    {
      "cell_type": "markdown",
      "metadata": {
        "id": "1wzWtt6hzFsR"
      },
      "source": [
        "# Company Analysis"
      ]
    },
    {
      "cell_type": "code",
      "execution_count": null,
      "metadata": {},
      "outputs": [],
      "source": [
        "# Upload the company description\n",
        "file_company_values = client.files.create(\n",
        "  file=open(company_file, \"rb\"),\n",
        "  purpose=\"assistants\"\n",
        ")\n",
        "\n",
        "# Refresh the context to ensure it has read the files\n",
        "primer_values = create_run(client,my_thread,my_assistant,\"\"\"\n",
        "Write a summary of the mission, vision and values of the company.\n",
        "            \"\"\", [file_company_values.id])\n",
        "print(primer_values)"
      ]
    },
    {
      "cell_type": "markdown",
      "metadata": {},
      "source": [
        "# Job Analysis"
      ]
    },
    {
      "cell_type": "code",
      "execution_count": null,
      "metadata": {},
      "outputs": [],
      "source": [
        "\n",
        "# Open the file and read the contents\n",
        "with open(job_description_file, 'r') as file:\n",
        "    # Read the entire content of the file into a single string variable\n",
        "    job_description = file.read()\n",
        "\n",
        "# Upload the job description file\n",
        "file_job_description = client.files.create(\n",
        "  file=open(job_description_file, \"rb\"),\n",
        "  purpose=\"assistants\"\n",
        ")\n",
        "\n",
        "# Refresh the context to ensure it has read the files and create context. Not included in final doc.\n",
        "primer_job = create_run(client,my_thread,my_assistant,\"\"\"\n",
        "Write the job title contained in the job description file.\n",
        "Then, create the list of competencies, which MUST cover the areas mentioned in the\n",
        "requirements in the job description but should also incorporate the company values wherever possible.\n",
        "Where possible, describe a competency in a way that aligns with the company values.\n",
        "Each competency should have a title followed by a short description.\n",
        "For each competency, list 3 or 4 subcompetencies and their descriptions to enable more deep exploration.\n",
        "\"\"\", [file_job_description.id])\n",
        "print(primer_job)"
      ]
    },
    {
      "cell_type": "markdown",
      "metadata": {
        "id": "IlR4qmAwOGV3"
      },
      "source": [
        "# Create Introduction"
      ]
    },
    {
      "cell_type": "code",
      "execution_count": null,
      "metadata": {},
      "outputs": [],
      "source": [
        "playbook_title = create_run(client,my_thread,my_assistant,\"\"\"\n",
        "Generate the title for the playbook as a simple string with no quotation marks\n",
        "\"\"\")\n",
        "print(playbook_title)"
      ]
    },
    {
      "cell_type": "code",
      "execution_count": null,
      "metadata": {},
      "outputs": [],
      "source": [
        "introduction = create_run(client,my_thread,my_assistant,\"\"\"\n",
        "Generate the introduction for the guide with no headings\n",
        "\"\"\")\n",
        "print(introduction)"
      ]
    },
    {
      "cell_type": "code",
      "execution_count": null,
      "metadata": {
        "colab": {
          "base_uri": "https://localhost:8080/"
        },
        "id": "C5zuFj7K5r9z",
        "outputId": "882110c3-fe5b-489c-b865-66e1a185b383"
      },
      "outputs": [],
      "source": [
        "interview_structure = create_run(client,my_thread,my_assistant,\"\"\"\n",
        "Generate the Interview Structure with no headings. Include mention of the competencies in the interview structure.\n",
        "\"\"\")\n",
        "print(interview_structure)"
      ]
    },
    {
      "cell_type": "markdown",
      "metadata": {
        "id": "wbojM0Og4s_m"
      },
      "source": [
        "# Create Evaluation Criteria"
      ]
    },
    {
      "cell_type": "code",
      "execution_count": null,
      "metadata": {
        "colab": {
          "base_uri": "https://localhost:8080/"
        },
        "id": "WoY0tlUkkCdk",
        "outputId": "4867b20f-788c-41c4-fb5a-76fb49d99171"
      },
      "outputs": [],
      "source": [
        "eval_criteria = create_run(client,my_thread,my_assistant,\"\"\"\n",
        "Generate the Evaluation Critera section with no headings. Remember to include a blank line before a list.\n",
        "\"\"\")\n",
        "print(eval_criteria)"
      ]
    },
    {
      "cell_type": "markdown",
      "metadata": {
        "id": "9XgTU1JEzfEa"
      },
      "source": [
        "# Competencies"
      ]
    },
    {
      "cell_type": "code",
      "execution_count": null,
      "metadata": {
        "colab": {
          "base_uri": "https://localhost:8080/"
        },
        "id": "6W7Mp4JwzhNW",
        "outputId": "1cf9a68e-dae6-46fc-ccc6-3c614387094c"
      },
      "outputs": [],
      "source": [
        "technical_assessment_1 = create_run(client,my_thread,my_assistant,\"Generate the first Competency Assessment\")\n",
        "print(technical_assessment_1)"
      ]
    },
    {
      "cell_type": "code",
      "execution_count": null,
      "metadata": {
        "colab": {
          "base_uri": "https://localhost:8080/"
        },
        "id": "xf9T4lGVTLoI",
        "outputId": "6f3a3677-a864-4d9e-8370-872d9851b091"
      },
      "outputs": [],
      "source": [
        "technical_assessment_2 = create_run(client,my_thread,my_assistant,\"\"\"\n",
        "    Generate the 2nd Technical Assessment. Don't include the main section header.\n",
        "    \"\"\")\n",
        "print(technical_assessment_2)"
      ]
    },
    {
      "cell_type": "code",
      "execution_count": null,
      "metadata": {
        "colab": {
          "base_uri": "https://localhost:8080/"
        },
        "id": "7nLQIDWITOVT",
        "outputId": "3795c8bd-60b3-4f36-b717-79fe16e370ef"
      },
      "outputs": [],
      "source": [
        "technical_assessment_3 = create_run(client,my_thread,my_assistant,\"Generate the 3rd Technical Assessment. Don't include the main section header.\")\n",
        "print(technical_assessment_3)"
      ]
    },
    {
      "cell_type": "code",
      "execution_count": null,
      "metadata": {
        "colab": {
          "base_uri": "https://localhost:8080/"
        },
        "id": "18RhkvioTRTW",
        "outputId": "84099d49-b302-4a1f-da7c-a0eaf770596f"
      },
      "outputs": [],
      "source": [
        "technical_assessment_4 = create_run(client,my_thread,my_assistant,\"Generate the 4th Technical Assessment. Don't include the main section header.\")\n",
        "print(technical_assessment_4)"
      ]
    },
    {
      "cell_type": "code",
      "execution_count": null,
      "metadata": {
        "colab": {
          "base_uri": "https://localhost:8080/"
        },
        "id": "2W1k4KMwTWYo",
        "outputId": "c8b18291-db52-4cdc-d768-601f1d0ed93e"
      },
      "outputs": [],
      "source": [
        "technical_assessment_5 = create_run(client,my_thread,my_assistant,\"Generate the 5th Technical Assessment. Don't include the main section header.\")\n",
        "print(technical_assessment_5)"
      ]
    },
    {
      "cell_type": "code",
      "execution_count": null,
      "metadata": {
        "id": "TqPsbclGTZmJ"
      },
      "outputs": [],
      "source": [
        "technical_assessment = technical_assessment_1 + technical_assessment_2 + technical_assessment_3 + technical_assessment_4 + technical_assessment_5"
      ]
    },
    {
      "cell_type": "markdown",
      "metadata": {
        "id": "GXQquee34Q9k"
      },
      "source": [
        "# Create Behavioral Assessment"
      ]
    },
    {
      "cell_type": "code",
      "execution_count": null,
      "metadata": {
        "colab": {
          "base_uri": "https://localhost:8080/"
        },
        "id": "_14Q6lQO4N9R",
        "outputId": "88dc7806-c0c0-4633-d569-05600795c014"
      },
      "outputs": [],
      "source": [
        "behavioral_assessment_1 = create_run(client,my_thread,my_assistant,\"Generate the 1st Behavioral Assessment section.\")\n",
        "print(behavioral_assessment_1)"
      ]
    },
    {
      "cell_type": "code",
      "execution_count": null,
      "metadata": {
        "colab": {
          "base_uri": "https://localhost:8080/"
        },
        "id": "HT3Q_lDjg6SO",
        "outputId": "67bc20fe-4fab-48db-987f-5b48d582516e"
      },
      "outputs": [],
      "source": [
        "behavioral_assessment_2 = create_run(client,my_thread,my_assistant,\"Generate the 2nd Behavioral Assessment section. Don't include the main section header.\")\n",
        "print(behavioral_assessment_2)"
      ]
    },
    {
      "cell_type": "code",
      "execution_count": null,
      "metadata": {
        "colab": {
          "base_uri": "https://localhost:8080/"
        },
        "id": "lWl-q-ZFhQNU",
        "outputId": "b318ec29-e27e-4df6-ea4b-b2c899155452"
      },
      "outputs": [],
      "source": [
        "behavioral_assessment_3 = create_run(client,my_thread,my_assistant,\"Generate the 3rd Behavioral Assessment section. Don't include the main section header.\")\n",
        "print(behavioral_assessment_3)"
      ]
    },
    {
      "cell_type": "code",
      "execution_count": null,
      "metadata": {
        "colab": {
          "base_uri": "https://localhost:8080/"
        },
        "id": "wQKG2ZxmhTbF",
        "outputId": "47f44f15-4bc9-496e-8d2a-89e1e4852337"
      },
      "outputs": [],
      "source": [
        "behavioral_assessment_4 = create_run(client,my_thread,my_assistant,\"Generate the 4th Behavioral Assessment section. Don't include the main section header.\")\n",
        "print(behavioral_assessment_4)"
      ]
    },
    {
      "cell_type": "code",
      "execution_count": null,
      "metadata": {
        "colab": {
          "base_uri": "https://localhost:8080/"
        },
        "id": "gwcBpL0ZhWxW",
        "outputId": "181af5bf-40d9-4c21-d709-4b2fac9062c5"
      },
      "outputs": [],
      "source": [
        "behavioral_assessment_5 = create_run(client,my_thread,my_assistant,\"Generate the 5th Behavioral Assessment section. Don't include the main section header.\")\n",
        "print(behavioral_assessment_5)"
      ]
    },
    {
      "cell_type": "code",
      "execution_count": null,
      "metadata": {
        "id": "GN20fqZPhhkS"
      },
      "outputs": [],
      "source": [
        "behavioral_assessment = behavioral_assessment_1 + behavioral_assessment_2 + behavioral_assessment_3 + behavioral_assessment_4 + behavioral_assessment_5"
      ]
    },
    {
      "cell_type": "markdown",
      "metadata": {
        "id": "7A6ZM1-G4dQn"
      },
      "source": [
        "# Create Practical Assignment"
      ]
    },
    {
      "cell_type": "code",
      "execution_count": null,
      "metadata": {
        "colab": {
          "base_uri": "https://localhost:8080/"
        },
        "id": "N_xZRljj4cMB",
        "outputId": "1cfa5c1e-2bea-48d8-a100-1036e0dcfd4b"
      },
      "outputs": [],
      "source": [
        "practical_assignment = create_run(client,my_thread,my_assistant,\"Generate the Practical Assignment section.\")\n",
        "print(practical_assignment)\n"
      ]
    },
    {
      "cell_type": "markdown",
      "metadata": {
        "id": "WuW7-2ie4niI"
      },
      "source": [
        "# Create Team Interaction"
      ]
    },
    {
      "cell_type": "code",
      "execution_count": null,
      "metadata": {
        "colab": {
          "base_uri": "https://localhost:8080/"
        },
        "id": "Tzl6B_wB4prG",
        "outputId": "9cc5ab6e-c357-4ed9-93f1-c00270d5749d"
      },
      "outputs": [],
      "source": [
        "team_interaction = create_run(client,my_thread,my_assistant,\"Generate the Team Interaction section.\")\n",
        "print(team_interaction)"
      ]
    },
    {
      "cell_type": "markdown",
      "metadata": {
        "id": "fwB0KPJM4qSI"
      },
      "source": [
        "# Create Candidate Q&A"
      ]
    },
    {
      "cell_type": "code",
      "execution_count": null,
      "metadata": {
        "colab": {
          "base_uri": "https://localhost:8080/"
        },
        "id": "9iEeRg924sST",
        "outputId": "14834dc6-7fd1-4eff-f336-c5fb9cd76a3d"
      },
      "outputs": [],
      "source": [
        "candidate_questions = create_run(client,my_thread,my_assistant,\"\"\"\n",
        "Generate the Candidate Q&A section. Include example answers.\n",
        "\"\"\")\n",
        "print(candidate_questions)"
      ]
    },
    {
      "cell_type": "markdown",
      "metadata": {
        "id": "14LWju-TkCyZ"
      },
      "source": [
        "# Finalize the Playbook HTML"
      ]
    },
    {
      "cell_type": "markdown",
      "metadata": {
        "id": "hxk5korrTkks"
      },
      "source": [
        "## Convert the markdown to HTML"
      ]
    },
    {
      "cell_type": "markdown",
      "metadata": {
        "id": "LM_V2VoceTjx"
      },
      "source": [
        "We are doing this in chunks so that we can do more useful things with it in the HTML output"
      ]
    },
    {
      "cell_type": "code",
      "execution_count": null,
      "metadata": {
        "id": "saH2GGfdTjzh"
      },
      "outputs": [],
      "source": [
        "import markdown\n",
        "\n",
        "def convert_to_html(text):\n",
        "    return markdown.markdown(text, extensions=['extra','mdx_truly_sane_lists'])\n",
        "\n",
        "html_job_description = convert_to_html(job_description)\n",
        "html_playbook_title = convert_to_html(playbook_title)\n",
        "html_intro = convert_to_html(introduction)\n",
        "html_interview_structure = convert_to_html(interview_structure)\n",
        "html_technical_assessment = convert_to_html(technical_assessment)\n",
        "html_behavioral_assessment = convert_to_html(behavioral_assessment)\n",
        "html_practical_assignment = convert_to_html(practical_assignment)\n",
        "html_candidate_questions = convert_to_html(candidate_questions)\n",
        "html_team_interaction = convert_to_html(team_interaction)\n",
        "html_eval_criteria = convert_to_html(eval_criteria)\n",
        "\n",
        "html_technical_assessment_1 = convert_to_html(technical_assessment_1)\n",
        "html_technical_assessment_2 = convert_to_html(technical_assessment_2)\n",
        "html_technical_assessment_3 = convert_to_html(technical_assessment_3)\n",
        "html_technical_assessment_4 = convert_to_html(technical_assessment_4)\n",
        "html_technical_assessment_5 = convert_to_html(technical_assessment_5)\n",
        "\n",
        "html_behavioral_assessment_1 = convert_to_html(behavioral_assessment_1)\n",
        "html_behavioral_assessment_2 = convert_to_html(behavioral_assessment_2)\n",
        "html_behavioral_assessment_3 = convert_to_html(behavioral_assessment_3)\n",
        "html_behavioral_assessment_4 = convert_to_html(behavioral_assessment_4)\n",
        "html_behavioral_assessment_5 = convert_to_html(behavioral_assessment_5)\n",
        "\n"
      ]
    },
    {
      "cell_type": "markdown",
      "metadata": {
        "id": "S9YOnvQrds_P"
      },
      "source": [
        "## Build the HTML"
      ]
    },
    {
      "cell_type": "markdown",
      "metadata": {
        "id": "b-59Vx2xdrsb"
      },
      "source": [
        "Colors from this [color palette](https://color.adobe.com/PALETTE-mini-06:-Transparent-color-theme-15d8c4a6-b06a-4530-bf5b-3fc8102ccd69)"
      ]
    },
    {
      "cell_type": "code",
      "execution_count": null,
      "metadata": {
        "id": "HZ5d6Q8ij_Rd"
      },
      "outputs": [],
      "source": [
        "# Open the file and read the contents\n",
        "with open('templates/styles.css', 'r') as file:\n",
        "    # Read the entire content of the file into a single string variable\n",
        "    styles = file.read()\n",
        "\n",
        "\n",
        "html_notes = \"\"\"<h4>Notes</h4><div class='notes'>\n",
        "    <div class=\"dotted-line\"></div>\n",
        "    <div class=\"dotted-line\"></div>\n",
        "    <div class=\"dotted-line\"></div>\n",
        "    <div class=\"dotted-line\"></div>\n",
        "    <div class=\"dotted-line\"></div>\n",
        "    <div class=\"dotted-line\"></div>\n",
        "    <div class=\"rating-container\">\n",
        "    <label for=\"rating-line\">Rating (1-5):</label>\n",
        "    <div id=\"rating-line\" class=\"short-dotted-line\"></div>\n",
        "    </div>\n",
        "</div>\"\"\"\n",
        "\n",
        "html_short_notes = \"\"\"<h4>Notes</h4><div class='notes'>\n",
        "    <div class=\"dotted-line\"></div>\n",
        "    <div class=\"dotted-line\"></div>\n",
        "    <div class=\"dotted-line\"></div>\n",
        "    <div class=\"rating-container\">\n",
        "    <label for=\"rating-line\">Rating (1-5):</label>\n",
        "    <div class=\"short-dotted-line\"></div>\n",
        "    </div>\n",
        "</div>\"\"\"\n",
        "\n",
        "from datetime import datetime\n",
        "\n",
        "# Getting today's date in a nicely formatted string for US English\n",
        "publication_date = datetime.now().strftime(\"%B %d, %Y\")\n",
        "\n",
        "\n",
        "# Open the HTML file and read its content\n",
        "with open('templates/template.html', 'r') as file:\n",
        "    html_template = file.read()\n",
        "\n",
        "# Replace the placeholders with the actual variables\n",
        "html_content = html_template.format(\n",
        "    styles=styles,\n",
        "    html_playbook_title=html_playbook_title,\n",
        "    publication_date=publication_date,\n",
        "    html_intro=html_intro,\n",
        "    html_interview_structure=html_interview_structure,\n",
        "    html_job_description=html_job_description,\n",
        "    html_eval_criteria=html_eval_criteria,\n",
        "    html_technical_assessment_1=html_technical_assessment_1,\n",
        "    html_short_notes=html_short_notes,\n",
        "    html_technical_assessment_2=html_technical_assessment_2,\n",
        "    html_notes=html_notes,\n",
        "    html_technical_assessment_3=html_technical_assessment_3,\n",
        "    html_technical_assessment_4=html_technical_assessment_4,\n",
        "    html_technical_assessment_5=html_technical_assessment_5,\n",
        "    html_behavioral_assessment_1=html_behavioral_assessment_1,\n",
        "    html_behavioral_assessment_2=html_behavioral_assessment_2,\n",
        "    html_behavioral_assessment_3=html_behavioral_assessment_3,\n",
        "    html_behavioral_assessment_4=html_behavioral_assessment_4,\n",
        "    html_behavioral_assessment_5=html_behavioral_assessment_5,\n",
        "    html_practical_assignment=html_practical_assignment,\n",
        "    html_team_interaction=html_team_interaction,\n",
        "    html_candidate_questions=html_candidate_questions\n",
        ")\n",
        "\n",
        "# Write HTML string to a file\n",
        "with open(html_destination, 'w') as file:\n",
        "    file.write(html_content)\n",
        "\n",
        "\n",
        "# Display the Markdown-formatted text in the notebook\n",
        "# from IPython.display import display, HTML\n",
        "# display(HTML(html_content))\n"
      ]
    },
    {
      "cell_type": "markdown",
      "metadata": {
        "id": "O616O7upoV-T"
      },
      "source": [
        "# Create the Documents"
      ]
    },
    {
      "cell_type": "markdown",
      "metadata": {
        "id": "D04s7TxrS98T"
      },
      "source": [
        "### Create PDF from HTML"
      ]
    },
    {
      "cell_type": "code",
      "execution_count": null,
      "metadata": {
        "colab": {
          "base_uri": "https://localhost:8080/",
          "height": 225
        },
        "id": "IvxTVtggloVo",
        "outputId": "8ba9612a-1bea-4daa-93d4-35291600f0e8"
      },
      "outputs": [],
      "source": [
        "from weasyprint import HTML\n",
        "\n",
        "# Convert HTML to PDF using WeasyPrint\n",
        "#HTML('playbook.html').write_pdf('playbook.pdf', stylesheets=['style.css'], presentational_hints=True)\n",
        "HTML(html_destination).write_pdf(pdf_destination, stylesheets=['templates/styles.css'], full_fonts=True, hinting=True, presentational_hints=True)\n",
        "\n"
      ]
    },
    {
      "cell_type": "markdown",
      "metadata": {
        "id": "lQyaspI3Tbu0"
      },
      "source": [
        "## Create a markdown version\n",
        "\n",
        "For use in GitHub as an example"
      ]
    },
    {
      "cell_type": "code",
      "execution_count": null,
      "metadata": {},
      "outputs": [],
      "source": [
        "notes_snippet_md = \"\"\"##### Notes\\n\n",
        "\\\\__________________________________________________________________________________________\n",
        "\\\\__________________________________________________________________________________________\n",
        "\\\\__________________________________________________________________________________________\n",
        "\\\\__________________________________________________________________________________________\n",
        "\\\\__________________________________________________________________________________________\n",
        "\\\\__________________________________________________________________________________________\\n\n",
        "Rating (1-5): \\\\__________\\n\\n\\n\"\"\"\n",
        "\n",
        "from datetime import datetime\n",
        "\n",
        "# Get the current date and time\n",
        "now = datetime.now()\n",
        "\n",
        "# Format the date and time in a nice readable format\n",
        "formatted_now = now.strftime(\"%B %d, %Y %-I:%M %p\")\n",
        "\n",
        "print(formatted_now)\n",
        "\n",
        "playbook_body_md = f\"\"\"\n",
        "## Interview Structure\n",
        "{interview_structure}\n",
        "\n",
        "## Job Description\n",
        "{job_description}\n",
        "\n",
        "{eval_criteria}\n",
        "\n",
        "{technical_assessment_1}\n",
        "{notes_snippet_md}\n",
        "            \n",
        "{technical_assessment_2}\n",
        "{notes_snippet_md}\n",
        "\n",
        "{technical_assessment_3}\n",
        "{notes_snippet_md}\n",
        "\n",
        "{technical_assessment_4}\n",
        "{notes_snippet_md}\n",
        "            \n",
        "{technical_assessment_5}\n",
        "{notes_snippet_md}\n",
        "            \n",
        "{behavioral_assessment_1}\n",
        "{notes_snippet_md}\n",
        "\n",
        "{behavioral_assessment_2}\n",
        "{notes_snippet_md}\n",
        "            \n",
        "{behavioral_assessment_3}\n",
        "{notes_snippet_md}\n",
        "            \n",
        "{behavioral_assessment_4}\n",
        "{notes_snippet_md}\n",
        "            \n",
        "{behavioral_assessment_5}\n",
        "{notes_snippet_md}\n",
        "            \n",
        "{practical_assignment}\n",
        "{notes_snippet_md}\n",
        "\n",
        "{team_interaction}\n",
        "{notes_snippet_md}\n",
        "\n",
        "{candidate_questions}\n",
        "\"\"\"\n",
        "\n",
        "print(len(playbook_body_md))\n",
        "\n",
        "# exec_summary = create_run(client,my_thread,my_assistant,f\"\"\"\n",
        "#    Write a summary for this document:\n",
        "#\n",
        "#    {playbook_body_md}\n",
        "#    \"\"\")\n",
        "\n",
        "exec_summary = create_run(client,my_thread,my_assistant,f\"\"\"\n",
        "    Write a detailed introduction for the document. Be clear and concise and don't use flowery language.\n",
        "    \"\"\")\n",
        "\n",
        "    \n",
        "print(exec_summary)"
      ]
    },
    {
      "cell_type": "code",
      "execution_count": null,
      "metadata": {},
      "outputs": [],
      "source": [
        "playbook_md = f\"\"\"--- \n",
        "title: {playbook_title}\n",
        "author: Created by [Deliverables.ai](https://github.com/androb/deliverables)\n",
        "date: {formatted_now}\n",
        "--- \n",
        "\n",
        "## Introduction\n",
        "{exec_summary}\n",
        "            \n",
        "{playbook_body_md}\n",
        "\"\"\"\n",
        "\n",
        "\n",
        "# Write playbook to a text file\n",
        "with open(markdown_destination, 'w') as file:\n",
        "    file.write(playbook_md)\n"
      ]
    },
    {
      "cell_type": "markdown",
      "metadata": {
        "id": "3E7xN0QjS6p5"
      },
      "source": [
        "### Create Word Document from Markdown"
      ]
    },
    {
      "cell_type": "code",
      "execution_count": 2,
      "metadata": {
        "id": "sAhMgYsb0lp3"
      },
      "outputs": [
        {
          "name": "stdout",
          "output_type": "stream",
          "text": [
            "[WARNING] Could not deduce format from file extension \n",
            "  Defaulting to markdown\n",
            "[WARNING] Could not deduce format from file extension \n",
            "  Defaulting to html\n",
            "pandoc: {markdown_destination}: withBinaryFile: does not exist (No such file or directory)\n"
          ]
        }
      ],
      "source": [
        "# Convert from markdown to docx\n",
        "!pandoc -s {markdown_destination} -o {word_destination} --reference-doc=\"templates/custom-reference.docx\" --toc=True --toc-depth=2 --shift-heading-level-by -1"
      ]
    },
    {
      "cell_type": "code",
      "execution_count": 1,
      "metadata": {},
      "outputs": [
        {
          "name": "stdout",
          "output_type": "stream",
          "text": [
            "/bin/bash: -c: line 0: unexpected EOF while looking for matching `''\n",
            "/bin/bash: -c: line 1: syntax error: unexpected end of file\n",
            "[WARNING] Could not deduce format from file extension \n",
            "  Defaulting to markdown\n",
            "[WARNING] Could not deduce format from file extension \n",
            "  Defaulting to html\n",
            "pandoc: {html_destination}: withBinaryFile: does not exist (No such file or directory)\n"
          ]
        }
      ],
      "source": [
        "# use this extension to shift headings to differ between HTML and docx\n",
        "# --shift-heading-level-by -1\n",
        "\n",
        "# Convert from markdown to PDF via HTML\n",
        "!pandoc -s {markdown_destination} -o {html_destination} --template='templates/html-reference.html --toc=True\n",
        "!pandoc --pdf-engine \"weasyprint\" -s {html_destination} -o {pdf_destination}\n"
      ]
    },
    {
      "cell_type": "code",
      "execution_count": null,
      "metadata": {},
      "outputs": [],
      "source": [
        "pptx_destination = destination_directory + \"playbook.pptx\"\n",
        "!pandoc -s {markdown_destination} -o {pptx_destination}"
      ]
    }
  ],
  "metadata": {
    "colab": {
      "provenance": []
    },
    "kernelspec": {
      "display_name": "Python 3",
      "name": "python3"
    },
    "language_info": {
      "codemirror_mode": {
        "name": "ipython",
        "version": 3
      },
      "file_extension": ".py",
      "mimetype": "text/x-python",
      "name": "python",
      "nbconvert_exporter": "python",
      "pygments_lexer": "ipython3",
      "version": "3.12.0"
    }
  },
  "nbformat": 4,
  "nbformat_minor": 0
}
