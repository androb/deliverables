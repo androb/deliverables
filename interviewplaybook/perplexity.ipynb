{
 "cells": [
  {
   "cell_type": "code",
   "execution_count": 9,
   "metadata": {},
   "outputs": [
    {
     "name": "stdout",
     "output_type": "stream",
     "text": [
      "Requirement already satisfied: requests in /Users/andrewroberts/anaconda3/envs/deliverables/lib/python3.12/site-packages (2.31.0)\n",
      "Requirement already satisfied: charset-normalizer<4,>=2 in /Users/andrewroberts/anaconda3/envs/deliverables/lib/python3.12/site-packages (from requests) (3.3.2)\n",
      "Requirement already satisfied: idna<4,>=2.5 in /Users/andrewroberts/anaconda3/envs/deliverables/lib/python3.12/site-packages (from requests) (3.6)\n",
      "Requirement already satisfied: urllib3<3,>=1.21.1 in /Users/andrewroberts/anaconda3/envs/deliverables/lib/python3.12/site-packages (from requests) (2.1.0)\n",
      "Requirement already satisfied: certifi>=2017.4.17 in /Users/andrewroberts/anaconda3/envs/deliverables/lib/python3.12/site-packages (from requests) (2023.11.17)\n",
      "Note: you may need to restart the kernel to use updated packages.\n"
     ]
    }
   ],
   "source": [
    "%pip install requests"
   ]
  },
  {
   "cell_type": "code",
   "execution_count": 10,
   "metadata": {},
   "outputs": [],
   "source": [
    "import os\n",
    "\n",
    "from dotenv import load_dotenv\n",
    "load_dotenv()  # Load the environment variables from .env file\n",
    "\n",
    "# Get the value of an environment variable\n",
    "pplx_api_key = os.getenv('PPLX_API_KEY')"
   ]
  },
  {
   "cell_type": "code",
   "execution_count": 15,
   "metadata": {},
   "outputs": [
    {
     "name": "stdout",
     "output_type": "stream",
     "text": [
      "{\"id\": \"c3f60fd6-c6f5-4e30-9e4c-0a27fcfccfd0\", \"model\": \"pplx-70b-online\", \"created\": 61252, \"usage\": {\"prompt_tokens\": 29, \"completion_tokens\": 383, \"total_tokens\": 412}, \"object\": \"chat.completion\", \"choices\": [{\"index\": 0, \"finish_reason\": \"stop\", \"message\": {\"role\": \"assistant\", \"content\": \"TinyMCE is an online rich-text editor supplied as a browser-based JavaScript library developed by Ephox. It is a lightweight and free text editor that provides a user-friendly interface for handling and editing text. It is flexible, feature-rich, and backed by a skilled, enthusiastic team.\\n\\n## Lightweight and Customizable Text Editor\\nTinyMCE is designed to be lightweight, fast, and easily customizable. This makes it an attractive option for developers who want to integrate a text editor into their web applications without sacrificing performance or increasing load on their servers.\\n\\n## Wide Range of Plugins\\nTinyMCE also offers a large number of plugins that can be used to extend its functionality. This allows developers to tailor the editor to their specific needs, adding only the features that are necessary for their application.\\n\\n## GitHub Repository\\nThe TinyMCE GitHub repository is where you can find the source of TinyMCE. It provides a wealth of information about the editor, including detailed guides, examples, and API documentation. It also allows users to contribute to the development of TinyMCE by submitting bug fixes, feature requests, and improvements.\\n\\n## Community and Team Support\\nSupported by a skilled and enthusiastic team, TinyMCE offers global community support. This ensures that developers can get quick and accurate answers to any questions they might have about using the editor.\\n\\n## Open-Source and Free to Use\\nTinyMCE is not only open-source but also free to use. This makes it an attractive option for any web developer who needs a powerful, stable, and easy-to-use text editor for their application.\"}, \"delta\": {\"role\": \"assistant\", \"content\": \"\"}}]}\n"
     ]
    }
   ],
   "source": [
    "import requests, os\n",
    "\n",
    "url = \"https://api.perplexity.ai/chat/completions\"\n",
    "\n",
    "\n",
    "\n",
    "payload = {\n",
    "    \"model\": \"pplx-70b-online\",\n",
    "    \"messages\": [\n",
    "        {\n",
    "            \"content\": \"You are a helpful assistant\",\n",
    "            \"role\": \"system\"\n",
    "        },\n",
    "         {\n",
    "            \"content\": \"Write a 500 word description of TinyMCE culture\",\n",
    "            \"role\": \"user\"\n",
    "        }\n",
    "    ],\n",
    "    \"max_tokens\": 0,\n",
    "    \"temperature\": 1,\n",
    "    \"top_p\": 1,\n",
    "    \"top_k\": 0,\n",
    "    \"stream\": False,\n",
    "    \"presence_penalty\": 0,\n",
    "    \"frequency_penalty\": 1\n",
    "}\n",
    "headers = {\n",
    "    \"accept\": \"application/json\",\n",
    "    \"content-type\": \"application/json\",\n",
    "    \"authorization\": \"Bearer \" + pplx_api_key\n",
    "}\n",
    "\n",
    "response = requests.post(url, json=payload, headers=headers)\n",
    "\n",
    "print(response.text)"
   ]
  },
  {
   "cell_type": "code",
   "execution_count": 16,
   "metadata": {},
   "outputs": [
    {
     "name": "stdout",
     "output_type": "stream",
     "text": [
      "TinyMCE is an online rich-text editor supplied as a browser-based JavaScript library developed by Ephox. It is a lightweight and free text editor that provides a user-friendly interface for handling and editing text. It is flexible, feature-rich, and backed by a skilled, enthusiastic team.\n",
      "\n",
      "## Lightweight and Customizable Text Editor\n",
      "TinyMCE is designed to be lightweight, fast, and easily customizable. This makes it an attractive option for developers who want to integrate a text editor into their web applications without sacrificing performance or increasing load on their servers.\n",
      "\n",
      "## Wide Range of Plugins\n",
      "TinyMCE also offers a large number of plugins that can be used to extend its functionality. This allows developers to tailor the editor to their specific needs, adding only the features that are necessary for their application.\n",
      "\n",
      "## GitHub Repository\n",
      "The TinyMCE GitHub repository is where you can find the source of TinyMCE. It provides a wealth of information about the editor, including detailed guides, examples, and API documentation. It also allows users to contribute to the development of TinyMCE by submitting bug fixes, feature requests, and improvements.\n",
      "\n",
      "## Community and Team Support\n",
      "Supported by a skilled and enthusiastic team, TinyMCE offers global community support. This ensures that developers can get quick and accurate answers to any questions they might have about using the editor.\n",
      "\n",
      "## Open-Source and Free to Use\n",
      "TinyMCE is not only open-source but also free to use. This makes it an attractive option for any web developer who needs a powerful, stable, and easy-to-use text editor for their application.\n"
     ]
    }
   ],
   "source": [
    "import json\n",
    "\n",
    "# Parse the JSON response\n",
    "data = response.json()\n",
    "\n",
    "# Access the assistant's response\n",
    "assistant_response = data['choices'][0]['message']['content']\n",
    "\n",
    "print(assistant_response)"
   ]
  }
 ],
 "metadata": {
  "kernelspec": {
   "display_name": "deliverables",
   "language": "python",
   "name": "python3"
  },
  "language_info": {
   "codemirror_mode": {
    "name": "ipython",
    "version": 3
   },
   "file_extension": ".py",
   "mimetype": "text/x-python",
   "name": "python",
   "nbconvert_exporter": "python",
   "pygments_lexer": "ipython3",
   "version": "3.12.0"
  }
 },
 "nbformat": 4,
 "nbformat_minor": 2
}
