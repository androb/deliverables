{
 "cells": [
  {
   "cell_type": "code",
   "execution_count": 27,
   "metadata": {},
   "outputs": [
    {
     "name": "stdout",
     "output_type": "stream",
     "text": [
      "Requirement already satisfied: requests in /Users/andrewroberts/anaconda3/envs/deliverables/lib/python3.12/site-packages (2.31.0)\n",
      "Requirement already satisfied: charset-normalizer<4,>=2 in /Users/andrewroberts/anaconda3/envs/deliverables/lib/python3.12/site-packages (from requests) (3.3.2)\n",
      "Requirement already satisfied: idna<4,>=2.5 in /Users/andrewroberts/anaconda3/envs/deliverables/lib/python3.12/site-packages (from requests) (3.6)\n",
      "Requirement already satisfied: urllib3<3,>=1.21.1 in /Users/andrewroberts/anaconda3/envs/deliverables/lib/python3.12/site-packages (from requests) (2.1.0)\n",
      "Requirement already satisfied: certifi>=2017.4.17 in /Users/andrewroberts/anaconda3/envs/deliverables/lib/python3.12/site-packages (from requests) (2023.11.17)\n"
     ]
    }
   ],
   "source": [
    "%pip install requests"
   ]
  },
  {
   "cell_type": "code",
   "execution_count": 28,
   "metadata": {},
   "outputs": [
    {
     "data": {
      "text/plain": [
       "True"
      ]
     },
     "execution_count": 28,
     "metadata": {},
     "output_type": "execute_result"
    }
   ],
   "source": [
    "from dotenv import load_dotenv\n",
    "load_dotenv()  # Load the environment variables from .env file\n",
    "\n",
    "# Get the value of an environment variable\n",
    "pplx_api_key = os.getenv('PPLX_API_KEY')"
   ]
  },
  {
   "cell_type": "code",
   "execution_count": 29,
   "metadata": {},
   "outputs": [
    {
     "name": "stdout",
     "output_type": "stream",
     "text": [
      "{\"id\": \"87ca5ee8-d5a9-48a4-8d4f-839391268ef6\", \"model\": \"pplx-70b-online\", \"created\": 1471892, \"usage\": {\"prompt_tokens\": 45, \"completion_tokens\": 356, \"total_tokens\": 401}, \"object\": \"chat.completion\", \"choices\": [{\"index\": 0, \"finish_reason\": \"stop\", \"message\": {\"role\": \"assistant\", \"content\": \"Y Combinator's vision, mission, and values can be summarized as follows:\\n\\n**Vision**: Y Combinator aims to create more startups by helping founders start them.\\n\\n**Mission**: The organization's goal is to help startups through the first phase, allowing them to build something impressive enough to raise money on a larger scale and introduce them to later-stage investors or acquirers.\\n\\n**Values**:\\n\\n1. Benevolence: Y Combinator believes in putting the founders' interests first, before even their own.\\n2. Efficiency: They apply mass production techniques to startup funding, making the process more efficient and beneficial for both founders and investors.\\n3. Focus on Essentials: Y Combinator operates with a fast, cheap, informal, and focused approach, avoiding bureaucracy and prioritizing what truly matters.\\n4. Motivation: They believe that the most successful founders are driven less by money and more by a genuine interest in their work.\\n5. Community: Y Combinator fosters a strong community of founders, investors, and successful entrepreneurs, providing support, advice, and valuable connections.\\n\\nDuring the 3-month Y Combinator program, startups receive guidance, funding, and access to resources to help them grow and succeed. The program includes weekly meetups, networking opportunities, and Demo Day, where selected startups pitch their ideas to a panel of top investors.\\n\"}, \"delta\": {\"role\": \"assistant\", \"content\": \"\"}}]}\n"
     ]
    }
   ],
   "source": [
    "import requests, os\n",
    "\n",
    "url = \"https://api.perplexity.ai/chat/completions\"\n",
    "\n",
    "\n",
    "\n",
    "payload = {\n",
    "    \"model\": \"pplx-70b-online\",\n",
    "    \"messages\": [\n",
    "        {\n",
    "            \"content\": \"You are a helpful assistant\",\n",
    "            \"role\": \"system\"\n",
    "        },\n",
    "         {\n",
    "            \"content\": \"What is Y Combinator's vision, mission, and values?\",\n",
    "            \"role\": \"user\"\n",
    "        }\n",
    "    ],\n",
    "    \"max_tokens\": 0,\n",
    "    \"temperature\": 1,\n",
    "    \"top_p\": 1,\n",
    "    \"top_k\": 0,\n",
    "    \"stream\": False,\n",
    "    \"presence_penalty\": 0,\n",
    "    \"frequency_penalty\": 1\n",
    "}\n",
    "headers = {\n",
    "    \"accept\": \"application/json\",\n",
    "    \"content-type\": \"application/json\",\n",
    "    \"authorization\": \"Bearer \" + pplx_api_key\n",
    "}\n",
    "\n",
    "response = requests.post(url, json=payload, headers=headers)\n",
    "\n",
    "print(response.text)"
   ]
  },
  {
   "cell_type": "code",
   "execution_count": 30,
   "metadata": {},
   "outputs": [
    {
     "name": "stdout",
     "output_type": "stream",
     "text": [
      "Y Combinator's vision, mission, and values can be summarized as follows:\n",
      "\n",
      "**Vision**: Y Combinator aims to create more startups by helping founders start them.\n",
      "\n",
      "**Mission**: The organization's goal is to help startups through the first phase, allowing them to build something impressive enough to raise money on a larger scale and introduce them to later-stage investors or acquirers.\n",
      "\n",
      "**Values**:\n",
      "\n",
      "1. Benevolence: Y Combinator believes in putting the founders' interests first, before even their own.\n",
      "2. Efficiency: They apply mass production techniques to startup funding, making the process more efficient and beneficial for both founders and investors.\n",
      "3. Focus on Essentials: Y Combinator operates with a fast, cheap, informal, and focused approach, avoiding bureaucracy and prioritizing what truly matters.\n",
      "4. Motivation: They believe that the most successful founders are driven less by money and more by a genuine interest in their work.\n",
      "5. Community: Y Combinator fosters a strong community of founders, investors, and successful entrepreneurs, providing support, advice, and valuable connections.\n",
      "\n",
      "During the 3-month Y Combinator program, startups receive guidance, funding, and access to resources to help them grow and succeed. The program includes weekly meetups, networking opportunities, and Demo Day, where selected startups pitch their ideas to a panel of top investors.\n",
      "\n"
     ]
    }
   ],
   "source": [
    "import json\n",
    "\n",
    "# Parse the JSON response\n",
    "data = response.json()\n",
    "\n",
    "# Access the assistant's response\n",
    "assistant_response = data['choices'][0]['message']['content']\n",
    "\n",
    "print(assistant_response)"
   ]
  }
 ],
 "metadata": {
  "kernelspec": {
   "display_name": "deliverables",
   "language": "python",
   "name": "python3"
  },
  "language_info": {
   "codemirror_mode": {
    "name": "ipython",
    "version": 3
   },
   "file_extension": ".py",
   "mimetype": "text/x-python",
   "name": "python",
   "nbconvert_exporter": "python",
   "pygments_lexer": "ipython3",
   "version": "3.12.0"
  }
 },
 "nbformat": 4,
 "nbformat_minor": 2
}
