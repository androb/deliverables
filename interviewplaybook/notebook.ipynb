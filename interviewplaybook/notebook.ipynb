{
  "cells": [
    {
      "cell_type": "markdown",
      "metadata": {},
      "source": [
        "# Setup"
      ]
    },
    {
      "cell_type": "code",
      "execution_count": 97,
      "metadata": {
        "colab": {
          "base_uri": "https://localhost:8080/"
        },
        "id": "azLYd2_T9j3p",
        "outputId": "f99c4218-325c-4b2c-dea4-fe8a12b2f281"
      },
      "outputs": [
        {
          "name": "stdout",
          "output_type": "stream",
          "text": [
            "Requirement already satisfied: OpenAI in /Users/andrewroberts/anaconda3/envs/deliverables/lib/python3.12/site-packages (1.6.0)\n",
            "Requirement already satisfied: markdown in /Users/andrewroberts/anaconda3/envs/deliverables/lib/python3.12/site-packages (3.5.1)\n",
            "Requirement already satisfied: mdx_truly_sane_lists in /Users/andrewroberts/anaconda3/envs/deliverables/lib/python3.12/site-packages (1.3)\n",
            "Requirement already satisfied: weasyprint in /Users/andrewroberts/anaconda3/envs/deliverables/lib/python3.12/site-packages (60.2)\n",
            "Requirement already satisfied: python-dotenv in /Users/andrewroberts/anaconda3/envs/deliverables/lib/python3.12/site-packages (1.0.0)\n",
            "Requirement already satisfied: pango in /Users/andrewroberts/anaconda3/envs/deliverables/lib/python3.12/site-packages (0.0.1)\n",
            "Requirement already satisfied: pdflatex in /Users/andrewroberts/anaconda3/envs/deliverables/lib/python3.12/site-packages (0.1.3)\n",
            "Requirement already satisfied: anyio<5,>=3.5.0 in /Users/andrewroberts/anaconda3/envs/deliverables/lib/python3.12/site-packages (from OpenAI) (4.2.0)\n",
            "Requirement already satisfied: distro<2,>=1.7.0 in /Users/andrewroberts/anaconda3/envs/deliverables/lib/python3.12/site-packages (from OpenAI) (1.8.0)\n",
            "Requirement already satisfied: httpx<1,>=0.23.0 in /Users/andrewroberts/anaconda3/envs/deliverables/lib/python3.12/site-packages (from OpenAI) (0.25.2)\n",
            "Requirement already satisfied: pydantic<3,>=1.9.0 in /Users/andrewroberts/anaconda3/envs/deliverables/lib/python3.12/site-packages (from OpenAI) (2.5.2)\n",
            "Requirement already satisfied: sniffio in /Users/andrewroberts/anaconda3/envs/deliverables/lib/python3.12/site-packages (from OpenAI) (1.3.0)\n",
            "Requirement already satisfied: tqdm>4 in /Users/andrewroberts/anaconda3/envs/deliverables/lib/python3.12/site-packages (from OpenAI) (4.66.1)\n",
            "Requirement already satisfied: typing-extensions<5,>=4.7 in /Users/andrewroberts/anaconda3/envs/deliverables/lib/python3.12/site-packages (from OpenAI) (4.9.0)\n",
            "Requirement already satisfied: pydyf>=0.8.0 in /Users/andrewroberts/anaconda3/envs/deliverables/lib/python3.12/site-packages (from weasyprint) (0.8.0)\n",
            "Requirement already satisfied: cffi>=0.6 in /Users/andrewroberts/anaconda3/envs/deliverables/lib/python3.12/site-packages (from weasyprint) (1.16.0)\n",
            "Requirement already satisfied: html5lib>=1.1 in /Users/andrewroberts/anaconda3/envs/deliverables/lib/python3.12/site-packages (from weasyprint) (1.1)\n",
            "Requirement already satisfied: tinycss2>=1.0.0 in /Users/andrewroberts/anaconda3/envs/deliverables/lib/python3.12/site-packages (from weasyprint) (1.2.1)\n",
            "Requirement already satisfied: cssselect2>=0.1 in /Users/andrewroberts/anaconda3/envs/deliverables/lib/python3.12/site-packages (from weasyprint) (0.7.0)\n",
            "Requirement already satisfied: Pyphen>=0.9.1 in /Users/andrewroberts/anaconda3/envs/deliverables/lib/python3.12/site-packages (from weasyprint) (0.14.0)\n",
            "Requirement already satisfied: Pillow>=9.1.0 in /Users/andrewroberts/anaconda3/envs/deliverables/lib/python3.12/site-packages (from weasyprint) (10.1.0)\n",
            "Requirement already satisfied: fonttools>=4.0.0 in /Users/andrewroberts/anaconda3/envs/deliverables/lib/python3.12/site-packages (from fonttools[woff]>=4.0.0->weasyprint) (4.47.0)\n",
            "Requirement already satisfied: attrs<19.0,>=18.2 in /Users/andrewroberts/anaconda3/envs/deliverables/lib/python3.12/site-packages (from pdflatex) (18.2.0)\n",
            "Requirement already satisfied: idna>=2.8 in /Users/andrewroberts/anaconda3/envs/deliverables/lib/python3.12/site-packages (from anyio<5,>=3.5.0->OpenAI) (3.6)\n",
            "Requirement already satisfied: pycparser in /Users/andrewroberts/anaconda3/envs/deliverables/lib/python3.12/site-packages (from cffi>=0.6->weasyprint) (2.21)\n",
            "Requirement already satisfied: webencodings in /Users/andrewroberts/anaconda3/envs/deliverables/lib/python3.12/site-packages (from cssselect2>=0.1->weasyprint) (0.5.1)\n",
            "Requirement already satisfied: zopfli>=0.1.4 in /Users/andrewroberts/anaconda3/envs/deliverables/lib/python3.12/site-packages (from fonttools[woff]>=4.0.0->weasyprint) (0.2.3)\n",
            "Requirement already satisfied: brotli>=1.0.1 in /Users/andrewroberts/anaconda3/envs/deliverables/lib/python3.12/site-packages (from fonttools[woff]>=4.0.0->weasyprint) (1.1.0)\n",
            "Requirement already satisfied: six>=1.9 in /Users/andrewroberts/anaconda3/envs/deliverables/lib/python3.12/site-packages (from html5lib>=1.1->weasyprint) (1.16.0)\n",
            "Requirement already satisfied: certifi in /Users/andrewroberts/anaconda3/envs/deliverables/lib/python3.12/site-packages (from httpx<1,>=0.23.0->OpenAI) (2023.11.17)\n",
            "Requirement already satisfied: httpcore==1.* in /Users/andrewroberts/anaconda3/envs/deliverables/lib/python3.12/site-packages (from httpx<1,>=0.23.0->OpenAI) (1.0.2)\n",
            "Requirement already satisfied: h11<0.15,>=0.13 in /Users/andrewroberts/anaconda3/envs/deliverables/lib/python3.12/site-packages (from httpcore==1.*->httpx<1,>=0.23.0->OpenAI) (0.14.0)\n",
            "Requirement already satisfied: annotated-types>=0.4.0 in /Users/andrewroberts/anaconda3/envs/deliverables/lib/python3.12/site-packages (from pydantic<3,>=1.9.0->OpenAI) (0.6.0)\n",
            "Requirement already satisfied: pydantic-core==2.14.5 in /Users/andrewroberts/anaconda3/envs/deliverables/lib/python3.12/site-packages (from pydantic<3,>=1.9.0->OpenAI) (2.14.5)\n",
            "Note: you may need to restart the kernel to use updated packages.\n"
          ]
        }
      ],
      "source": [
        "%pip install OpenAI markdown mdx_truly_sane_lists weasyprint python-dotenv pango pdflatex"
      ]
    },
    {
      "cell_type": "code",
      "execution_count": 98,
      "metadata": {
        "id": "3_jkcGWaQvvs"
      },
      "outputs": [
        {
          "data": {
            "text/plain": [
              "True"
            ]
          },
          "execution_count": 98,
          "metadata": {},
          "output_type": "execute_result"
        }
      ],
      "source": [
        "import os\n",
        "\n",
        "from dotenv import load_dotenv\n",
        "load_dotenv()  # Load the environment variables from .env file"
      ]
    },
    {
      "cell_type": "markdown",
      "metadata": {},
      "source": [
        "Set up the OpenAI Assistant"
      ]
    },
    {
      "cell_type": "code",
      "execution_count": 99,
      "metadata": {},
      "outputs": [],
      "source": [
        "from openai import OpenAI\n",
        "client = OpenAI()\n",
        "\n",
        "#  get the prompt from the file system\n",
        "with open('prompt.md', 'r') as file:\n",
        "    # Read the entire content of the file into a single string variable\n",
        "    prompt = file.read()\n",
        "\n",
        "# simple retrieve of the Assistant - not necessary because we are doing an update\n",
        "# my_assistant = client.beta.assistants.retrieve(\"asst_3WQiw8VJ91XWikievImBqwrZ\")\n",
        "\n",
        "# update the assistant with the latest prompt\n",
        "my_assistant = client.beta.assistants.update(\n",
        "  \"asst_3WQiw8VJ91XWikievImBqwrZ\",\n",
        "  instructions=prompt,\n",
        "  name=\"Interview Playbook Generator\",\n",
        "  tools=[{\"type\": \"retrieval\"}],\n",
        "  model=\"gpt-4-1106-preview\"\n",
        "  # model=\"gpt-3.5-turbo-1106\"\n",
        ")"
      ]
    },
    {
      "cell_type": "code",
      "execution_count": 100,
      "metadata": {
        "id": "ianKdgCtS-Yp"
      },
      "outputs": [],
      "source": [
        "# create a thread\n",
        "my_thread = client.beta.threads.create()\n",
        "\n",
        "import time\n",
        "\n",
        "def create_run(client, my_thread, my_assistant, content, file_ids=None):\n",
        "    \"\"\"\n",
        "    Create a message, run it, and display the response.\n",
        "\n",
        "    Args:\n",
        "    client (Client): The API client.\n",
        "    my_thread (Thread): The thread to post the message to.\n",
        "    my_assistant (Assistant): The assistant to use for the run.\n",
        "    content (str): The content of the message.\n",
        "    file_ids (list, optional): List of file IDs to attach to the message.\n",
        "\n",
        "    Returns:\n",
        "    str: The response content.\n",
        "\n",
        "    Raises:\n",
        "    ValueError: If any of the parameters are invalid.\n",
        "    RuntimeError: If the run does not complete successfully.\n",
        "    \"\"\"\n",
        "\n",
        "    if not all([client, my_thread, my_assistant, content]):\n",
        "        raise ValueError(\"Invalid parameters provided.\")\n",
        "\n",
        "    #extra_instructions = \"\"\"\"\"\"\n",
        "    extra_instructions = \"\"\" ONLY return the content as John Gruber's markdown with no delimiters and with no commentary whatsoever.\"\"\"\n",
        "\n",
        "\n",
        "    # Create the message\n",
        "    thread_message = client.beta.threads.messages.create(\n",
        "        my_thread.id,\n",
        "        role=\"user\",\n",
        "        content=content + extra_instructions,\n",
        "        file_ids=file_ids or []\n",
        "    )\n",
        "\n",
        "    # Hard code the values for max_retries and wait_seconds\n",
        "    max_retries = 120\n",
        "    wait_seconds = 0.5\n",
        "\n",
        "    # Create a run\n",
        "    run = client.beta.threads.runs.create(\n",
        "        thread_id=my_thread.id,\n",
        "        assistant_id=my_assistant.id\n",
        "    )\n",
        "\n",
        "    # Check the run's status\n",
        "    for _ in range(max_retries):\n",
        "        run = client.beta.threads.runs.retrieve(\n",
        "            thread_id=my_thread.id,\n",
        "            run_id=run.id)\n",
        "        if run.status == \"completed\":\n",
        "            break\n",
        "        time.sleep(wait_seconds)\n",
        "    else:\n",
        "        raise RuntimeError(\"Run did not complete successfully.\")\n",
        "\n",
        "    # Retrieve and return the response\n",
        "    all_messages = client.beta.threads.messages.list(thread_id=my_thread.id)\n",
        "    return all_messages.data[0].content[0].text.value + \"\\n\\n\"\n"
      ]
    },
    {
      "cell_type": "markdown",
      "metadata": {
        "id": "DxSAZm5tzT62"
      },
      "source": [
        "## Initial File Upload and Prompt"
      ]
    },
    {
      "cell_type": "code",
      "execution_count": 101,
      "metadata": {
        "colab": {
          "base_uri": "https://localhost:8080/"
        },
        "id": "G23reYVLTmQc",
        "outputId": "e29e96de-754f-455e-d526-b5e3f459e266"
      },
      "outputs": [],
      "source": [
        "import time\n",
        "\n",
        "# Which example to run\n",
        "choice = 'medical-assistant'\n",
        "#choice = 'infra-engineer'\n",
        "#choice = 'customer-success-manager'\n",
        "#choice = 'real-estate-litigator'\n",
        "\n",
        "destination_directory = \"examples/\" + choice + \"/\"\n",
        "html_destination = destination_directory + 'playbook.html'\n",
        "pdf_destination = destination_directory + 'playbook.pdf'\n",
        "markdown_destination = destination_directory + 'playbook.md'\n",
        "word_destination = destination_directory + 'playbook.docx'\n",
        "\n",
        "company_file = \"examples/\" + choice + \"/about-company.md\"\n",
        "\n",
        "# Upload the company description\n",
        "file_company_values = client.files.create(\n",
        "  file=open(company_file, \"rb\"),\n",
        "  purpose=\"assistants\"\n",
        ")\n",
        "\n",
        "job_description_file = \"examples/\" + choice + \"/job-description.md\"\n",
        "# Open the file and read the contents\n",
        "with open(job_description_file, 'r') as file:\n",
        "    # Read the entire content of the file into a single string variable\n",
        "    job_description = file.read()\n",
        "\n",
        "# Upload the job description file\n",
        "file_job_description = client.files.create(\n",
        "  file=open(job_description_file, \"rb\"),\n",
        "  purpose=\"assistants\"\n",
        ")\n",
        "\n",
        "# give OpenAI time to process the file\n",
        "time.sleep(10)\n"
      ]
    },
    {
      "cell_type": "markdown",
      "metadata": {
        "id": "1wzWtt6hzFsR"
      },
      "source": [
        "# Priming the Pump"
      ]
    },
    {
      "cell_type": "code",
      "execution_count": 102,
      "metadata": {},
      "outputs": [
        {
          "name": "stdout",
          "output_type": "stream",
          "text": [
            "```markdown\n",
            "# About Pacific Wellness Group - Academic Healthcare Consortium\n",
            "\n",
            "## Mission\n",
            "To be the premier community network for the Pacific Wellness Group System, delivering the best patient experience with the most effective clinical outcomes.\n",
            "\n",
            "## Vision\n",
            "Healing humanity through science and compassion, one patient at a time.\n",
            "\n",
            "## Values\n",
            "- **Innovation**: Embracing innovation, change, and continuous improvement to raise the quality of care and shape the future of medicine.\n",
            "- **Connection**: Cultivating community, connection, and care for each other to nurture trust, respect, belonging, and shared purpose.\n",
            "- **Teamwork**: Collaborating across roles, ranks, units, and departments to unlock possibilities for greater impact and fulfillment.\n",
            "- **Mentorship**: Nurturing and pursuing ongoing professional growth to enjoy impactful and fulfilling careers.\n",
            "- **Participation**: Freely sharing opinions and valuing diverse backgrounds and contributions to improve decision-making, outcomes, and engagement.\n",
            "- **Action**: Uniting diverse perspectives and expertise for the greater good.\n",
            "```\n",
            "\n",
            "\n"
          ]
        }
      ],
      "source": [
        "# Refresh the context to ensure it has read the files\n",
        "primer_values = create_run(client,my_thread,my_assistant,\"\"\"\n",
        "            Write a detailed description of the company values from the about company file, using the company name.\n",
        "            \"\"\", [file_company_values.id])\n",
        "print(primer_values)"
      ]
    },
    {
      "cell_type": "code",
      "execution_count": 103,
      "metadata": {
        "colab": {
          "base_uri": "https://localhost:8080/"
        },
        "id": "ip0AjmHHB2nQ",
        "outputId": "445a12aa-467a-4aaf-a22f-1ebc0a5e14d7"
      },
      "outputs": [
        {
          "ename": "RuntimeError",
          "evalue": "Run did not complete successfully.",
          "output_type": "error",
          "traceback": [
            "\u001b[0;31m---------------------------------------------------------------------------\u001b[0m",
            "\u001b[0;31mRuntimeError\u001b[0m                              Traceback (most recent call last)",
            "Cell \u001b[0;32mIn[103], line 2\u001b[0m\n\u001b[1;32m      1\u001b[0m \u001b[38;5;66;03m# Refresh the context to ensure it has read the files and create context. Not included in final doc.\u001b[39;00m\n\u001b[0;32m----> 2\u001b[0m primer_job \u001b[38;5;241m=\u001b[39m \u001b[43mcreate_run\u001b[49m\u001b[43m(\u001b[49m\u001b[43mclient\u001b[49m\u001b[43m,\u001b[49m\u001b[43mmy_thread\u001b[49m\u001b[43m,\u001b[49m\u001b[43mmy_assistant\u001b[49m\u001b[43m,\u001b[49m\u001b[38;5;124;43m\"\"\"\u001b[39;49m\n\u001b[1;32m      3\u001b[0m \u001b[38;5;124;43m            Write the job title contained in the job description file.\u001b[39;49m\n\u001b[1;32m      4\u001b[0m \u001b[38;5;124;43m            Then, create the list of 5 technical competencies, which MUST cover the areas mentioned in the\u001b[39;49m\n\u001b[1;32m      5\u001b[0m \u001b[38;5;124;43m            requirements in the job description. Create the list of 5 behavioral\u001b[39;49m\n\u001b[1;32m      6\u001b[0m \u001b[38;5;124;43m            competencies, with a focus on the company values but still covering all requirements in the\u001b[39;49m\n\u001b[1;32m      7\u001b[0m \u001b[38;5;124;43m            job description. Where possible, describe a competency in a way that aligns with the company values.\u001b[39;49m\n\u001b[1;32m      8\u001b[0m \u001b[38;5;124;43m            Each competency should have a title followed by a short description.\u001b[39;49m\n\u001b[1;32m      9\u001b[0m \u001b[38;5;124;43m            For each competency, list 3 or 4 subcompetencies and their descriptions to enable more deep exploration.\u001b[39;49m\n\u001b[1;32m     10\u001b[0m \u001b[38;5;124;43m            \u001b[39;49m\u001b[38;5;124;43m\"\"\"\u001b[39;49m\u001b[43m,\u001b[49m\u001b[43m \u001b[49m\u001b[43m[\u001b[49m\u001b[43mfile_job_description\u001b[49m\u001b[38;5;241;43m.\u001b[39;49m\u001b[43mid\u001b[49m\u001b[43m]\u001b[49m\u001b[43m)\u001b[49m\n\u001b[1;32m     11\u001b[0m \u001b[38;5;28mprint\u001b[39m(primer_job)\n",
            "Cell \u001b[0;32mIn[100], line 59\u001b[0m, in \u001b[0;36mcreate_run\u001b[0;34m(client, my_thread, my_assistant, content, file_ids)\u001b[0m\n\u001b[1;32m     57\u001b[0m     time\u001b[38;5;241m.\u001b[39msleep(wait_seconds)\n\u001b[1;32m     58\u001b[0m \u001b[38;5;28;01melse\u001b[39;00m:\n\u001b[0;32m---> 59\u001b[0m     \u001b[38;5;28;01mraise\u001b[39;00m \u001b[38;5;167;01mRuntimeError\u001b[39;00m(\u001b[38;5;124m\"\u001b[39m\u001b[38;5;124mRun did not complete successfully.\u001b[39m\u001b[38;5;124m\"\u001b[39m)\n\u001b[1;32m     61\u001b[0m \u001b[38;5;66;03m# Retrieve and return the response\u001b[39;00m\n\u001b[1;32m     62\u001b[0m all_messages \u001b[38;5;241m=\u001b[39m client\u001b[38;5;241m.\u001b[39mbeta\u001b[38;5;241m.\u001b[39mthreads\u001b[38;5;241m.\u001b[39mmessages\u001b[38;5;241m.\u001b[39mlist(thread_id\u001b[38;5;241m=\u001b[39mmy_thread\u001b[38;5;241m.\u001b[39mid)\n",
            "\u001b[0;31mRuntimeError\u001b[0m: Run did not complete successfully."
          ]
        }
      ],
      "source": [
        "# Refresh the context to ensure it has read the files and create context. Not included in final doc.\n",
        "primer_job = create_run(client,my_thread,my_assistant,\"\"\"\n",
        "            Write the job title contained in the job description file.\n",
        "            Then, create the list of 5 technical competencies, which MUST cover the areas mentioned in the\n",
        "            requirements in the job description. Create the list of 5 behavioral\n",
        "            competencies, with a focus on the company values but still covering all requirements in the\n",
        "            job description. Where possible, describe a competency in a way that aligns with the company values.\n",
        "            Each competency should have a title followed by a short description.\n",
        "            For each competency, list 3 or 4 subcompetencies and their descriptions to enable more deep exploration.\n",
        "            \"\"\", [file_job_description.id])\n",
        "print(primer_job)\n"
      ]
    },
    {
      "cell_type": "markdown",
      "metadata": {
        "id": "IlR4qmAwOGV3"
      },
      "source": [
        "# Create Introduction"
      ]
    },
    {
      "cell_type": "code",
      "execution_count": null,
      "metadata": {},
      "outputs": [
        {
          "name": "stdout",
          "output_type": "stream",
          "text": [
            "Interview Playbook for Medical Assistant II at Pacific Wellness Group\n",
            "\n",
            "\n"
          ]
        }
      ],
      "source": [
        "playbook_title = create_run(client,my_thread,my_assistant,\"\"\"\n",
        "            Generate the title for the playbook as a simple string with no quotation marks\n",
        "            \"\"\")\n",
        "print(playbook_title)"
      ]
    },
    {
      "cell_type": "code",
      "execution_count": null,
      "metadata": {},
      "outputs": [
        {
          "name": "stdout",
          "output_type": "stream",
          "text": [
            "This Interview Playbook is designed to facilitate the selection of a highly qualified Medical Assistant II at Pacific Wellness Group. The guide outlines the structured approach to evaluating candidates' technical and behavioral competencies aligned with the company's values. The intent is to ensure a thorough and consistent interview process, focusing not only on the required technical skills but also on the candidate's fit within the company culture. As Medical Assistants play a crucial role in patient care and operational efficiency, this playbook assists the hiring team in identifying professionals who will contribute positively to the dynamic and compassionate environment that Pacific Wellness Group is known for.\n",
            "\n",
            "\n"
          ]
        }
      ],
      "source": [
        "introduction = create_run(client,my_thread,my_assistant,\"\"\"\n",
        "            Generate the introduction for the guide with no headings\n",
        "            \"\"\")\n",
        "print(introduction)"
      ]
    },
    {
      "cell_type": "code",
      "execution_count": null,
      "metadata": {
        "colab": {
          "base_uri": "https://localhost:8080/"
        },
        "id": "C5zuFj7K5r9z",
        "outputId": "882110c3-fe5b-489c-b865-66e1a185b383"
      },
      "outputs": [
        {
          "name": "stdout",
          "output_type": "stream",
          "text": [
            "The interview for the Medical Assistant II position at Pacific Wellness Group should be structured over approximately 60 to 90 minutes, divided into distinct sections as follows:\n",
            "\n",
            "- **Introduction (5-10 minutes)**: Begin with a brief welcome and provide an overview of Pacific Wellness Group, the interview flow, and discuss the candidate’s understanding of the Medical Assistant II role.\n",
            "\n",
            "- **Review of Basic Qualifications (5-10 minutes)**: Quickly verify the candidate's background, certifications, and basic requisites for the job.\n",
            "\n",
            "- **Technical Assessment (20-30 minutes)**: Dive into the five key technical competencies, which include Clinical Procedures Proficiency, Communication Skills, Health and Safety Compliance, Computer and EMR Proficiency, and Organizational Skills. Ensure to observe the candidate’s articulation of their skills and experience in each area.\n",
            "\n",
            "- **Behavioral Assessment (20-30 minutes)**: Explore the behavioral competencies crucial to the role and company culture, such as Adherence to Service Excellence (C-I-CARE), Teamwork and Collaboration, Continuous Improvement (Innovation), Professional Growth (Mentorship), and Community Building (Connection).\n",
            "\n",
            "- **Practical Assignment (10-15 minutes)**: Assign a relevant task or scenario to assess how the candidate applies their knowledge and skills in a practical setting.\n",
            "\n",
            "- **Team Interaction (Optional, 10-15 minutes)**: Assess the fit with potential teammates through a brief meet and greet or discussion if applicable.\n",
            "\n",
            "- **Candidate Questions (5-10 minutes)**: Allow the candidate to ask any questions they might have about the role, the team, or the organization.\n",
            "\n",
            "- **Closing (5 minutes)**: Briefly summarize the interview, discuss the next steps, and express appreciation for the candidate’s time and interest. \n",
            "\n",
            "This structure should provide a comprehensive assessment of candidate competencies in alignment with the objectives of the Medical Assistant II role at Pacific Wellness Group.\n",
            "\n",
            "\n"
          ]
        }
      ],
      "source": [
        "interview_structure = create_run(client,my_thread,my_assistant,\"\"\"\n",
        "            Generate the Interview Structure with no headings. Include mention of the competencies in the interview structure.\n",
        "            \"\"\")\n",
        "print(interview_structure)"
      ]
    },
    {
      "cell_type": "markdown",
      "metadata": {
        "id": "wbojM0Og4s_m"
      },
      "source": [
        "# Create Evaluation Criteria"
      ]
    },
    {
      "cell_type": "code",
      "execution_count": null,
      "metadata": {
        "colab": {
          "base_uri": "https://localhost:8080/"
        },
        "id": "WoY0tlUkkCdk",
        "outputId": "4867b20f-788c-41c4-fb5a-76fb49d99171"
      },
      "outputs": [
        {
          "name": "stdout",
          "output_type": "stream",
          "text": [
            "## Evaluation Criteria\n",
            "\n",
            "The evaluation of candidates for the Medical Assistant II position will be based on a structured set of criteria that reflect both technical and behavioral competencies. The following job scorecard serves as a record to assess and comment on each candidate's qualifications throughout the interview process.\n",
            "\n",
            "| Competency                       | Assessment    | Comments by Interviewer                   |\n",
            "| -------------------------------- | ------------- | ----------------------------------------- |\n",
            "| Clinical Procedures Proficiency  |                |                                           |\n",
            "| Communication Skills             |                |                                           |\n",
            "| Health and Safety Compliance     |                |                                           |\n",
            "| Computer and EMR Proficiency     |                |                                           |\n",
            "| Organizational Skills            |                |                                           |\n",
            "| Adherence to Service Excellence  |                |                                           |\n",
            "| Teamwork and Collaboration       |                |                                           |\n",
            "| Continuous Improvement           |                |                                           |\n",
            "| Professional Growth              |                |                                           |\n",
            "| Community Building               |                |                                           |\n",
            "| Practical Assignment             |                |                                           |\n",
            "| Team Interaction (if applicable) |                |                                           |\n",
            "\n",
            "Rating Guide:\n",
            "1. Poor - Does not meet expectations or lacks the competency entirely.\n",
            "2. Fair - Shows basic level of understanding but below expectations for the role.\n",
            "3. Good - Meets expectations and shows a solid understanding of the competency.\n",
            "4. Very Good - Exceeds expectations with advanced understanding or performance.\n",
            "5. Excellent - Exceptional display of skill or understanding; stands out significantly. \n",
            "\n",
            "Interviewers are encouraged to provide specific comments and ratings to support the interview team's decision-making process.\n",
            "\n",
            "\n"
          ]
        }
      ],
      "source": [
        "eval_criteria = create_run(client,my_thread,my_assistant,\"\"\"\n",
        "    Generate the Evaluation Critera section.\n",
        "    \"\"\")\n",
        "print(eval_criteria)"
      ]
    },
    {
      "cell_type": "markdown",
      "metadata": {
        "id": "9XgTU1JEzfEa"
      },
      "source": [
        "# Create Technical Assessment"
      ]
    },
    {
      "cell_type": "code",
      "execution_count": null,
      "metadata": {
        "colab": {
          "base_uri": "https://localhost:8080/"
        },
        "id": "6W7Mp4JwzhNW",
        "outputId": "1cf9a68e-dae6-46fc-ccc6-3c614387094c"
      },
      "outputs": [
        {
          "name": "stdout",
          "output_type": "stream",
          "text": [
            "## Technical Assessment\n",
            "\n",
            "Evaluating technical competencies is critical to ensure that the candidate possesses the practical skills necessary for the Medical Assistant II position at Pacific Wellness Group.\n",
            "\n",
            "### Technical Competence 1: Clinical Procedures Proficiency\n",
            "\n",
            "A Medical Assistant II must exhibit a strong capability in performing a wide range of clinical duties. They should be well-versed in patient care techniques, assisting with medical procedures, patient documentation, and equipment handling to ensure efficient and quality care provision.\n",
            "\n",
            "#### Lead Question\n",
            "\n",
            "> **\"Describe a complex clinical procedure you've assisted with. What role did you play, and how did you ensure it was executed correctly?\"**\n",
            "\n",
            "_Look for detailed explanations to assess the candidate's understanding of clinical procedures and their ability to perform them accurately._\n",
            "\n",
            "#### Diving Deeper\n",
            "\n",
            "- **Patient Care**: \"Can you walk us through how you prepare a patient for a specific common procedure in your current or past role?\"\n",
            "- **Assisting with Procedures**: \"Have you ever encountered a complication during a procedure? How did you assist in managing it?\"\n",
            "- **Patient Documentation**: \"Describe the process you follow for documenting patient care and how you ensure accuracy and completeness.\"\n",
            "- **Equipment Handling**: \"What types of medical equipment are you most familiar with, and how do you maintain them?\"\n",
            "\n",
            "#### Scenario\n",
            "\n",
            "\"Imagine a patient requires an emergency response during your shift, and you're the first on the scene. Walk us through the steps you would take from the moment you recognize the emergency to the resolution. What are the critical factors you must consider?\"\n",
            "\n",
            "_Look for the ability to remain calm under pressure, clear communication, and a methodical approach to emergency response._\n",
            "\n",
            "\n"
          ]
        }
      ],
      "source": [
        "technical_assessment_1 = create_run(client,my_thread,my_assistant,\"Generate the first Technical Assessment\")\n",
        "print(technical_assessment_1)\n"
      ]
    },
    {
      "cell_type": "code",
      "execution_count": null,
      "metadata": {
        "colab": {
          "base_uri": "https://localhost:8080/"
        },
        "id": "xf9T4lGVTLoI",
        "outputId": "6f3a3677-a864-4d9e-8370-872d9851b091"
      },
      "outputs": [
        {
          "name": "stdout",
          "output_type": "stream",
          "text": [
            "### Technical Competence 2: Communication Skills\n",
            "\n",
            "Being able to communicate effectively with patients, their families, and the medical team is vital for a Medical Assistant. This competency ensures that information is conveyed clearly and efficiently, promoting excellent patient care and collaborative teamwork.\n",
            "\n",
            "#### Lead Question\n",
            "\n",
            "> **\"Describe a time when you had to explain a complex medical procedure or condition to a patient who was anxious or confused. How did you handle it?\"**\n",
            "\n",
            "_Look for clarity, empathy, and the ability to tailor communication style to the patient’s needs._\n",
            "\n",
            "#### Diving Deeper\n",
            "\n",
            "- **Verbal Communication**: \"Give an example of a difficult conversation you've had with a family member of a patient. What was the outcome?\"\n",
            "- **Written Communication**: \"Can you describe your experience with creating patient education materials or providing written instructions for aftercare?\"\n",
            "- **Patient Education**: \"How do you ensure that a patient fully understands their treatment plan and the importance of following it?\"\n",
            "- **Feedback Reception**: \"Tell us about a time you received constructive feedback on your communication style. How did it impact your approach?\"\n",
            "\n",
            "#### Scenario\n",
            "\n",
            "\"You've been tasked with calling patients to inform them about a change in their treatment plan due to updated clinic protocols. What steps would you take to prepare for the calls, and how would you handle any patient who responds negatively to the change?\"\n",
            "\n",
            "_Look for preparation, compassion, and problem-solving abilities in their communication approach._\n",
            "\n",
            "\n"
          ]
        }
      ],
      "source": [
        "technical_assessment_2 = create_run(client,my_thread,my_assistant,\"\"\"\n",
        "    Generate the 2nd Technical Assessment. Don't include the main section header.\n",
        "    \"\"\")\n",
        "print(technical_assessment_2)"
      ]
    },
    {
      "cell_type": "code",
      "execution_count": null,
      "metadata": {
        "colab": {
          "base_uri": "https://localhost:8080/"
        },
        "id": "7nLQIDWITOVT",
        "outputId": "3795c8bd-60b3-4f36-b717-79fe16e370ef"
      },
      "outputs": [
        {
          "name": "stdout",
          "output_type": "stream",
          "text": [
            "### Technical Competence 3: Health and Safety Compliance\n",
            "\n",
            "A Medical Assistant II must maintain a strong adherence to health and safety protocols to ensure the well-being of patients and colleagues. This includes staying updated with the latest healthcare regulations and safety procedures.\n",
            "\n",
            "#### Lead Question\n",
            "\n",
            "> **\"Can you share an experience where you identified a breach in health or safety protocols? What actions did you take to address it?\"**\n",
            "\n",
            "_Look for proactive identification of issues, knowledge of protocols, and appropriate action taken._\n",
            "\n",
            "#### Diving Deeper\n",
            "\n",
            "- **BLS Certification**: \"How have you applied your BLS skills in a real-world setting, and what was the outcome of that situation?\"\n",
            "- **Biohazard Handling**: \"What procedures do you follow when handling biohazards to ensure safety for yourself and others?\"\n",
            "- **Infection Control**: \"Explain how you implement infection control guidelines in your daily duties and during an outbreak or pandemic.\"\n",
            "- **Regulatory Awareness**: \"Discuss how you stay informed about changes in healthcare regulations and apply them to your practice.\"\n",
            "\n",
            "#### Scenario\n",
            "\n",
            "\"Imagine there's been an accidental exposure to a bloodborne pathogen in your workspace. Describe the steps you would immediately take following the exposure, and how you would record and report the incident in accordance with health and safety standards.\"\n",
            "\n",
            "_Look for adherence to protocol, thoroughness, and effective reporting in the candidate's response._\n",
            "\n",
            "\n"
          ]
        }
      ],
      "source": [
        "technical_assessment_3 = create_run(client,my_thread,my_assistant,\"Generate the 3rd Technical Assessment. Don't include the main section header.\")\n",
        "print(technical_assessment_3)"
      ]
    },
    {
      "cell_type": "code",
      "execution_count": null,
      "metadata": {
        "colab": {
          "base_uri": "https://localhost:8080/"
        },
        "id": "18RhkvioTRTW",
        "outputId": "84099d49-b302-4a1f-da7c-a0eaf770596f"
      },
      "outputs": [
        {
          "name": "stdout",
          "output_type": "stream",
          "text": [
            "### Technical Competence 4: Computer and EMR Proficiency\n",
            "\n",
            "The role demands proficient use of electronic medical records systems and computers to maintain efficient operations and accurate patient records, in line with Pacific Wellness Group's emphasis on innovation and continuous improvement.\n",
            "\n",
            "#### Lead Question\n",
            "\n",
            "> **\"Discuss your experience with electronic medical records. How do you ensure data integrity and security when entering and retrieving patient information?\"**\n",
            "\n",
            "_Look for examples demonstrating attention to detail, organization, and a commitment to patient privacy and data accuracy._\n",
            "\n",
            "#### Diving Deeper\n",
            "\n",
            "- **EMR Management**: \"What electronic medical record systems are you familiar with, and what features do you find most beneficial for clinical workflow?\"\n",
            "- **Microsoft Office Skills**: \"Provide an example of how you have used Microsoft Office tools to improve a clinical process or patient communication.\"\n",
            "- **Digital Literacy**: \"Tell us about a time when you had to learn a new software application for work. How did you approach the learning process?\"\n",
            "- **Patient Portal Management**: \"What strategies do you employ to encourage patient engagement with the patient portal and ensure clear communication?\"\n",
            "\n",
            "#### Scenario\n",
            "\n",
            "\"You are tasked with compiling a comprehensive patient history for a new patient with multiple chronic conditions using the EMR system. The patient has provided a stack of medical records from several different providers. Describe how you would organize and enter this information into the system.\"\n",
            "\n",
            "_Look for systematic approaches, ability to categorize and prioritize information, and strategies to ensure completeness._\n",
            "\n",
            "\n"
          ]
        }
      ],
      "source": [
        "technical_assessment_4 = create_run(client,my_thread,my_assistant,\"Generate the 4th Technical Assessment. Don't include the main section header.\")\n",
        "print(technical_assessment_4)"
      ]
    },
    {
      "cell_type": "code",
      "execution_count": null,
      "metadata": {
        "colab": {
          "base_uri": "https://localhost:8080/"
        },
        "id": "2W1k4KMwTWYo",
        "outputId": "c8b18291-db52-4cdc-d768-601f1d0ed93e"
      },
      "outputs": [
        {
          "name": "stdout",
          "output_type": "stream",
          "text": [
            "### Technical Competence 5: Organizational Skills\n",
            "\n",
            "Strong organizational skills are critical for Medical Assistant IIs to effectively manage their varied responsibilities within the clinic, ensuring the smooth operation of patient care and support of healthcare services.\n",
            "\n",
            "#### Lead Question\n",
            "\n",
            "> **\"Tell us about a time when you had to juggle multiple tasks at once in a clinical setting. How did you prioritize and manage these tasks to maintain quality patient care?\"**\n",
            "\n",
            "_Look for evidence of efficient prioritization, multitasking ability, and effectiveness in handling a fast-paced environment._\n",
            "\n",
            "#### Diving Deeper\n",
            "\n",
            "- **Time Management**: \"How do you typically organize your day to accommodate unexpected tasks or emergencies while still completing scheduled duties?\"\n",
            "- **Resource Coordination**: \"Describe a situation where you had to manage clinic resources during a busy day. What approach did you take?\"\n",
            "- **Work Prioritization**: \"When faced with simultaneous urgent tasks, how do you decide what to tackle first and how do you communicate this to your team?\"\n",
            "- **Procedure Preparation**: \"Can you walk us through your process for preparing an examination room or procedure area before the patient's arrival?\"\n",
            "\n",
            "#### Scenario\n",
            "\n",
            "\"Suppose you're the only Medical Assistant on duty, and you have a clinic full of waiting patients, medication refills to process, and a physician asking for immediate assistance with a procedure. How would you handle this situation while ensuring that all tasks are completed efficiently and accurately?\"\n",
            "\n",
            "_Look for candidates' strategies in dealing with high-pressure situations, their communication with team members, and their ability to delegate tasks where appropriate._\n",
            "\n",
            "\n"
          ]
        }
      ],
      "source": [
        "technical_assessment_5 = create_run(client,my_thread,my_assistant,\"Generate the 5th Technical Assessment. Don't include the main section header.\")\n",
        "print(technical_assessment_5)"
      ]
    },
    {
      "cell_type": "code",
      "execution_count": null,
      "metadata": {
        "id": "TqPsbclGTZmJ"
      },
      "outputs": [],
      "source": [
        "technical_assessment = technical_assessment_1 + technical_assessment_2 + technical_assessment_3 + technical_assessment_4 + technical_assessment_5"
      ]
    },
    {
      "cell_type": "markdown",
      "metadata": {
        "id": "GXQquee34Q9k"
      },
      "source": [
        "# Create Behavioral Assessment"
      ]
    },
    {
      "cell_type": "code",
      "execution_count": null,
      "metadata": {
        "colab": {
          "base_uri": "https://localhost:8080/"
        },
        "id": "_14Q6lQO4N9R",
        "outputId": "88dc7806-c0c0-4633-d569-05600795c014"
      },
      "outputs": [
        {
          "name": "stdout",
          "output_type": "stream",
          "text": [
            "## Behavioral Assessment\n",
            "\n",
            "The behavioral assessment is intended to delve into how the candidate's values align with Pacific Wellness Group's culture, focusing on qualities essential for the Medical Assistant II role. \n",
            "\n",
            "### Behavioral Competence 1: Adherence to Service Excellence (C-I-CARE)\n",
            "\n",
            "Candidates must demonstrate a strong commitment to providing exceptional service and care, in line with Pacific Wellness Group's C-I-CARE framework which emphasizes compassion, integrity, accountability, respect, and engagement.\n",
            "\n",
            "#### Lead Question\n",
            "\n",
            "> **\"Reflecting on the C-I-CARE framework, can you provide an example of how you've embodied these values in your past work experience?\"**\n",
            "\n",
            "_Look for specific instances where the candidate has gone above and beyond to provide exemplary care and service._\n",
            "\n",
            "#### Diving Deeper\n",
            "\n",
            "- **Empathy**: \"Describe a time when you empathized with a patient or their family and how it impacted the care provided.\"\n",
            "- **Accountability**: \"Share an occasion where you made a mistake in a clinical setting. How did you handle it, and what did you learn?\"\n",
            "- **Respect**: \"Give an example of how you have shown respect for a patient's or colleague's cultural beliefs or personal preferences.\"\n",
            "- **Engagement**: \"Tell us about a time you actively engaged in a workplace initiative to improve patient satisfaction. What was your role and the result?\"\n",
            "\n",
            "#### Scenario\n",
            "\n",
            "\"Imagine a scenario where a patient is dissatisfied with their care and is voicing their concerns loudly in the waiting area. How would you manage this situation while upholding the principles of C-I-CARE?\"\n",
            "\n",
            "_Look for a balanced approach that ensures patient care and satisfaction without compromising respect and engagement._\n",
            "\n",
            "\n"
          ]
        }
      ],
      "source": [
        "behavioral_assessment_1 = create_run(client,my_thread,my_assistant,\"Generate the 1st Behavioral Assessment section.\")\n",
        "print(behavioral_assessment_1)"
      ]
    },
    {
      "cell_type": "code",
      "execution_count": null,
      "metadata": {
        "colab": {
          "base_uri": "https://localhost:8080/"
        },
        "id": "HT3Q_lDjg6SO",
        "outputId": "67bc20fe-4fab-48db-987f-5b48d582516e"
      },
      "outputs": [
        {
          "name": "stdout",
          "output_type": "stream",
          "text": [
            "### Behavioral Competence 2: Teamwork and Collaboration\n",
            "\n",
            "Effective teamwork and the ability to collaborate across different roles and departments are fundamental to the success of Pacific Wellness Group's mission. Candidates should possess strong interpersonal skills and a team-oriented mindset, reflecting the value of unified effort towards a common goal.\n",
            "\n",
            "#### Lead Question\n",
            "\n",
            "> **\"Can you tell us about a time when you had to collaborate with a diverse team to achieve a healthcare outcome? How did you ensure that everyone's expertise was utilized?\"**\n",
            "\n",
            "_Look for insights into the candidate's capacity to work collaboratively, promote team cohesion, and integrate diverse perspectives._\n",
            "\n",
            "#### Diving Deeper\n",
            "\n",
            "- **Interdisciplinary Coordination**: \"Describe an interdisciplinary project you've been a part of. What role did you play and what was the outcome?\"\n",
            "- **Contribution to Team Goals**: \"What method do you typically use to contribute to team goals and objectives in a clinical environment?\"\n",
            "- **Conflict Resolution**: \"Provide an instance where you faced a conflict within your team. How did you contribute to its resolution?\"\n",
            "- **Shared Decision Making**: \"Explain a situation where you were involved in a collective decision-making process. How did you advocate for your viewpoint?\"\n",
            "\n",
            "#### Scenario\n",
            "\n",
            "\"A patient's treatment requires a quick, coordinated effort from the clinical team, involving several departments. You've noticed a lack of communication that could potentially delay the patient's care. How would you facilitate collaboration and communication among the team to expedite the patient's treatment?\"\n",
            "\n",
            "_Look for approaches that encourage effective teamwork, proactive communication, and commitment to the patient’s timely care._\n",
            "\n",
            "\n"
          ]
        }
      ],
      "source": [
        "behavioral_assessment_2 = create_run(client,my_thread,my_assistant,\"Generate the 2nd Behavioral Assessment section. Don't include the main section header.\")\n",
        "print(behavioral_assessment_2)"
      ]
    },
    {
      "cell_type": "code",
      "execution_count": null,
      "metadata": {
        "colab": {
          "base_uri": "https://localhost:8080/"
        },
        "id": "lWl-q-ZFhQNU",
        "outputId": "b318ec29-e27e-4df6-ea4b-b2c899155452"
      },
      "outputs": [
        {
          "name": "stdout",
          "output_type": "stream",
          "text": [
            "### Behavioral Competence 3: Continuous Improvement (Innovation)\n",
            "\n",
            "Aligning with Pacific Wellness Group's value of embracing innovation, a Medical Assistant II should display a commitment to continuous learning and improvement. Candidates should demonstrate how they seek to enhance their skills and processes to contribute to advancements in patient care and operational excellence.\n",
            "\n",
            "#### Lead Question\n",
            "\n",
            "> **\"Pacific Wellness Group values continuous improvement. Can you discuss an example of how you have identified and implemented a change that improved a process or outcome in your work?\"**\n",
            "\n",
            "_Look for a proactive approach to problem-solving, willingness to initiate change, and an innovative mindset._\n",
            "\n",
            "#### Diving Deeper\n",
            "\n",
            "- **Process Optimization**: \"Describe a time when you suggested a new approach to a routine task that led to improvements in efficiency or outcomes.\"\n",
            "- **Learning and Development**: \"How do you stay current with the latest developments in medical assisting and apply them to your daily responsibilities?\"\n",
            "- **Change Adaptability**: \"Recall an instance when a significant change was introduced in your workplace. How did you adapt, and what role did you play in facilitating the transition?\"\n",
            "- **Innovative Thinking**: \"Have you ever had an innovative idea that was not initially accepted? How did you handle the situation and pursue the idea?\"\n",
            "\n",
            "#### Scenario\n",
            "\n",
            "\"Consider that you've noticed patients often seem confused about their post-visit care instructions, which leads to frequent follow-up calls. How would you go about addressing and improving this situation?\"\n",
            "\n",
            "_Look for strategies that not only solve the immediate issue but also improve the overall patient experience and education process._\n",
            "\n",
            "\n"
          ]
        }
      ],
      "source": [
        "behavioral_assessment_3 = create_run(client,my_thread,my_assistant,\"Generate the 3rd Behavioral Assessment section. Don't include the main section header.\")\n",
        "print(behavioral_assessment_3)"
      ]
    },
    {
      "cell_type": "code",
      "execution_count": null,
      "metadata": {
        "colab": {
          "base_uri": "https://localhost:8080/"
        },
        "id": "wQKG2ZxmhTbF",
        "outputId": "47f44f15-4bc9-496e-8d2a-89e1e4852337"
      },
      "outputs": [
        {
          "name": "stdout",
          "output_type": "stream",
          "text": [
            "### Behavioral Competence 4: Professional Growth (Mentorship)\n",
            "\n",
            "The Medical Assistant II at Pacific Wellness Group should embody the value of mentorship by actively seeking and fostering professional development. They should contribute to creating an environment that supports growth and knowledge sharing among colleagues.\n",
            "\n",
            "#### Lead Question\n",
            "\n",
            "> **\"Mentorship is a key value at Pacific Wellness Group. Can you provide an example of how you have either mentored someone else or benefited from mentorship in your professional journey?\"**\n",
            "\n",
            "_Look for examples reflecting commitment to personal growth and the development of others, as well as the ability to provide or receive guidance._\n",
            "\n",
            "#### Diving Deeper\n",
            "\n",
            "- **Skill Enhancement**: \"How do you approach continuous skill improvement in your career as a Medical Assistant?\"\n",
            "- **Knowledge Sharing**: \"Describe a situation where you shared your expertise with colleagues or patients to improve their understanding or skills.\"\n",
            "- **Mentoring Others**: \"Have you had the opportunity to mentor a less experienced medical professional or team member? What approach did you take, and how did the experience go?\"\n",
            "- **Career Planning**: \"Tell us about how you plan for your professional advancement, including any goals or strategies you have set.\"\n",
            "\n",
            "#### Scenario\n",
            "\n",
            "\"A new medical assistant is struggling with the pace and complexity of tasks in the clinic. As a seasoned assistant, how would you support and mentor this colleague to enhance their performance and confidence?\"\n",
            "\n",
            "_Look for strategies indicating a supportive and constructive approach to mentorship and the ability to inspire confidence in others._\n",
            "\n",
            "\n"
          ]
        }
      ],
      "source": [
        "behavioral_assessment_4 = create_run(client,my_thread,my_assistant,\"Generate the 4th Behavioral Assessment section. Don't include the main section header.\")\n",
        "print(behavioral_assessment_4)"
      ]
    },
    {
      "cell_type": "code",
      "execution_count": null,
      "metadata": {
        "colab": {
          "base_uri": "https://localhost:8080/"
        },
        "id": "gwcBpL0ZhWxW",
        "outputId": "181af5bf-40d9-4c21-d709-4b2fac9062c5"
      },
      "outputs": [
        {
          "name": "stdout",
          "output_type": "stream",
          "text": [
            "### Behavioral Competence 5: Community Building (Connection)\n",
            "\n",
            "Pacific Wellness Group emphasizes the importance of fostering connections and building a supportive community. Candidates are expected to contribute to a culture where everyone feels valued, supported, and part of a cohesive group.\n",
            "\n",
            "#### Lead Question\n",
            "\n",
            "> **\"Building a supportive community is vital at Pacific Wellness Group. Can you share an experience where you played a key role in building or enhancing a sense of community in your workplace?\"**\n",
            "\n",
            "_Look for instances indicating the candidate's ability to create bonds, foster inclusiveness, and build a sense of belonging._\n",
            "\n",
            "#### Diving Deeper\n",
            "\n",
            "- **Relationship Building**: \"What strategies do you use to develop and maintain positive working relationships with coworkers from different departments?\"\n",
            "- **Inclusivity**: \"Give us an example of how you have made others feel included in a team or project, especially those who might otherwise feel marginalized.\"\n",
            "- **Community Participation**: \"How do you engage with your workplace or local community to promote connection and a shared sense of purpose?\"\n",
            "- **Supportive Networking**: \"Describe a network of support you’ve helped to create or been a part of. How has it benefited you and others?\"\n",
            "\n",
            "#### Scenario\n",
            "\n",
            "\"Suppose you notice that certain employees, particularly new hires or individuals from diverse backgrounds, are not actively participating in team discussions or social functions. What actions might you take to engage them and ensure they feel welcomed and valued?\"\n",
            "\n",
            "_Look for actions that demonstrate empathy, proactive inclusivity, and a genuine commitment to connecting with and supporting colleagues._\n",
            "\n",
            "\n"
          ]
        }
      ],
      "source": [
        "behavioral_assessment_5 = create_run(client,my_thread,my_assistant,\"Generate the 5th Behavioral Assessment section. Don't include the main section header.\")\n",
        "print(behavioral_assessment_5)"
      ]
    },
    {
      "cell_type": "code",
      "execution_count": null,
      "metadata": {
        "id": "GN20fqZPhhkS"
      },
      "outputs": [],
      "source": [
        "behavioral_assessment = behavioral_assessment_1 + behavioral_assessment_2 + behavioral_assessment_3 + behavioral_assessment_4 + behavioral_assessment_5"
      ]
    },
    {
      "cell_type": "markdown",
      "metadata": {
        "id": "7A6ZM1-G4dQn"
      },
      "source": [
        "# Create Practical Assignment"
      ]
    },
    {
      "cell_type": "code",
      "execution_count": null,
      "metadata": {
        "colab": {
          "base_uri": "https://localhost:8080/"
        },
        "id": "N_xZRljj4cMB",
        "outputId": "1cfa5c1e-2bea-48d8-a100-1036e0dcfd4b"
      },
      "outputs": [
        {
          "name": "stdout",
          "output_type": "stream",
          "text": [
            "## Practical Assignment\n",
            "\n",
            "The practical assignment for the Medical Assistant II candidate at Pacific Wellness Group will involve simulating a typical clinical task. This could be a mock patient consultation where the candidate is required to take a patient history, explain a common procedure, prepare the room, and demonstrate how they would document the visit in the EMR system.\n",
            "\n",
            "Objectives:\n",
            "- Assess the candidate's ability to apply their clinical skills in a practical setting.\n",
            "- Evaluate the candidate's proficiency with EMR and documentation.\n",
            "- Observe the candidate's communication skills and bedside manner with patients.\n",
            "\n",
            "Evaluation Criteria:\n",
            "- Accuracy in obtaining patient information.\n",
            "- Clarity and empathy in communication with the \"patient.\"\n",
            "- Effectiveness in preparing for and explaining the procedure.\n",
            "- Proficiency in documenting the consultation in the EMR.\n",
            "\n",
            "Interviewers should assess the candidate's approach, noting their organization, attention to detail, and ability to provide comprehensive patient care. Candidates should also be evaluated on their comfort and familiarity with using EMR systems, as well as their ability to maintain professional and supportive patient interactions.\n",
            "\n",
            "\n"
          ]
        }
      ],
      "source": [
        "practical_assignment = create_run(client,my_thread,my_assistant,\"Generate the Practical Assignment section.\")\n",
        "print(practical_assignment)\n"
      ]
    },
    {
      "cell_type": "markdown",
      "metadata": {
        "id": "WuW7-2ie4niI"
      },
      "source": [
        "# Create Team Interaction"
      ]
    },
    {
      "cell_type": "code",
      "execution_count": null,
      "metadata": {
        "colab": {
          "base_uri": "https://localhost:8080/"
        },
        "id": "Tzl6B_wB4prG",
        "outputId": "9cc5ab6e-c357-4ed9-93f1-c00270d5749d"
      },
      "outputs": [
        {
          "name": "stdout",
          "output_type": "stream",
          "text": [
            "## Team Fit\n",
            "\n",
            "For the Medical Assistant II position at Pacific Wellness Group, it is essential to assess how well the candidate will mesh with the existing team. The team interaction component of the interview provides insights into the candidate's interpersonal skills, adaptability, and ability to work collaboratively with colleagues.\n",
            "\n",
            "During this stage, the candidate may be introduced to potential peers and supervisors. This could include a brief meet and greet, a shadowing period, or a more structured group discussion with team members on relevant topics.\n",
            "\n",
            "Rationale for team involvement:\n",
            "- To observe the candidate's interaction with potential colleagues.\n",
            "- To garner feedback from staff who will be working directly with the new hire.\n",
            "- To determine the candidate’s fit within the team dynamic and company culture.\n",
            "\n",
            "Potential discussion points or activities:\n",
            "- How the candidate approaches teamwork and handles joint responsibilities.\n",
            "- Feedback on the candidate's communication style and responsiveness.\n",
            "- Compatibility with the team’s working style and problem-solving methods.\n",
            "\n",
            "The interviewer should note the candidate's ability to build rapport, participate in group discussions constructively, and respond to the team's dynamics. Feedback from team members involved in the interaction should also be considered when evaluating the overall potential for success in the role.\n",
            "\n",
            "\n"
          ]
        }
      ],
      "source": [
        "team_interaction = create_run(client,my_thread,my_assistant,\"Generate the Team Interaction section.\")\n",
        "print(team_interaction)"
      ]
    },
    {
      "cell_type": "markdown",
      "metadata": {
        "id": "fwB0KPJM4qSI"
      },
      "source": [
        "# Create Candidate Q&A"
      ]
    },
    {
      "cell_type": "code",
      "execution_count": null,
      "metadata": {
        "colab": {
          "base_uri": "https://localhost:8080/"
        },
        "id": "9iEeRg924sST",
        "outputId": "14834dc6-7fd1-4eff-f336-c5fb9cd76a3d"
      },
      "outputs": [
        {
          "name": "stdout",
          "output_type": "stream",
          "text": [
            "## Candidate Q&A\n",
            "\n",
            "It's critical for candidates to have the opportunity to ask questions about their potential new role and organization. This can provide valuable insights into their priorities and interest in the position at Pacific Wellness Group.\n",
            "\n",
            "Here are six questions candidates might ask, along with comprehensive answers:\n",
            "\n",
            "1. **\"What opportunities for professional development does Pacific Wellness Group offer for Medical Assistant IIs?\"**\n",
            "   _Answer: Pacific Wellness Group values continuous learning and offers various professional development programs, including in-house training, mentorship opportunities, access to medical seminars, and support for ongoing education relevant to the medical field._\n",
            "\n",
            "2. **\"How does the clinic measure success for someone in this position?\"**\n",
            "   _Answer: Success is measured by a combination of patient satisfaction scores, adherence to health and safety protocols, efficiency in clinical operations, and the ability to work effectively with the healthcare team._\n",
            "\n",
            "3. **\"Can you describe the typical team dynamics I would be joining?\"**\n",
            "   _Answer: You'll be joining a dedicated team focused on collaboration and quality patient care. Our team dynamics are rooted in open communication, mutual support, and shared commitment to our company values._\n",
            "\n",
            "4. **\"How does innovation play a part in the daily responsibilities of a Medical Assistant II?\"**\n",
            "   _Answer: We encourage our Medical Assistants to contribute innovative ideas that can improve patient care or clinic operations, whether through new technologies, process improvements, or patient engagement strategies._\n",
            "\n",
            "5. **\"What is the most challenging aspect that others have found in this role, and how does the clinic support staff in handling this?\"**\n",
            "   _Answer: One of the challenging aspects is balancing the varied tasks a Medical Assistant II is responsible for. Pacific Wellness Group supports its staff with a collaborative environment where asking for help and teamwork is encouraged._\n",
            "\n",
            "6. **\"What impact do you hope the new Medical Assistant II will have in the first six months?\"**\n",
            "   _Answer: We expect the new Medical Assistant II to integrate with the team seamlessly, bring a positive energy to patient interactions, showcase considerable growth in familiarity with our processes, and begin to contribute to our constant pursuit of excellence in patient care._\n",
            "\n",
            "\n"
          ]
        }
      ],
      "source": [
        "candidate_questions = create_run(client,my_thread,my_assistant,\"\"\"\n",
        "    Generate the Candidate Q&A section. Include example answers.\n",
        "    \"\"\")\n",
        "print(candidate_questions)"
      ]
    },
    {
      "cell_type": "markdown",
      "metadata": {
        "id": "14LWju-TkCyZ"
      },
      "source": [
        "# Finalize the Playbook HTML"
      ]
    },
    {
      "cell_type": "markdown",
      "metadata": {
        "id": "hxk5korrTkks"
      },
      "source": [
        "## Convert the markdown to HTML"
      ]
    },
    {
      "cell_type": "markdown",
      "metadata": {
        "id": "LM_V2VoceTjx"
      },
      "source": [
        "We are doing this in chunks so that we can do more useful things with it in the HTML output"
      ]
    },
    {
      "cell_type": "code",
      "execution_count": 111,
      "metadata": {
        "id": "saH2GGfdTjzh"
      },
      "outputs": [],
      "source": [
        "import markdown\n",
        "\n",
        "def convert_to_html(text):\n",
        "    return markdown.markdown(text, extensions=['extra','mdx_truly_sane_lists'])\n",
        "\n",
        "html_job_description = convert_to_html(job_description)\n",
        "html_playbook_title = convert_to_html(playbook_title)\n",
        "html_intro = convert_to_html(introduction)\n",
        "html_interview_structure = convert_to_html(interview_structure)\n",
        "html_technical_assessment = convert_to_html(technical_assessment)\n",
        "html_behavioral_assessment = convert_to_html(behavioral_assessment)\n",
        "html_practical_assignment = convert_to_html(practical_assignment)\n",
        "html_candidate_questions = convert_to_html(candidate_questions)\n",
        "html_team_interaction = convert_to_html(team_interaction)\n",
        "html_eval_criteria = convert_to_html(eval_criteria)\n",
        "\n",
        "html_technical_assessment_1 = convert_to_html(technical_assessment_1)\n",
        "html_technical_assessment_2 = convert_to_html(technical_assessment_2)\n",
        "html_technical_assessment_3 = convert_to_html(technical_assessment_3)\n",
        "html_technical_assessment_4 = convert_to_html(technical_assessment_4)\n",
        "html_technical_assessment_5 = convert_to_html(technical_assessment_5)\n",
        "\n",
        "html_behavioral_assessment_1 = convert_to_html(behavioral_assessment_1)\n",
        "html_behavioral_assessment_2 = convert_to_html(behavioral_assessment_2)\n",
        "html_behavioral_assessment_3 = convert_to_html(behavioral_assessment_3)\n",
        "html_behavioral_assessment_4 = convert_to_html(behavioral_assessment_4)\n",
        "html_behavioral_assessment_5 = convert_to_html(behavioral_assessment_5)\n",
        "\n"
      ]
    },
    {
      "cell_type": "markdown",
      "metadata": {
        "id": "S9YOnvQrds_P"
      },
      "source": [
        "## Build the HTML"
      ]
    },
    {
      "cell_type": "markdown",
      "metadata": {
        "id": "b-59Vx2xdrsb"
      },
      "source": [
        "Borrowed colors from this [color palette](https://color.adobe.com/PALETTE-mini-06:-Transparent-color-theme-15d8c4a6-b06a-4530-bf5b-3fc8102ccd69)"
      ]
    },
    {
      "cell_type": "code",
      "execution_count": 112,
      "metadata": {
        "id": "HZ5d6Q8ij_Rd"
      },
      "outputs": [],
      "source": [
        "# Open the file and read the contents\n",
        "with open('templates/styles.css', 'r') as file:\n",
        "    # Read the entire content of the file into a single string variable\n",
        "    styles = file.read()\n",
        "\n",
        "\n",
        "html_notes = \"\"\"<h4>Notes</h4><div class='notes'>\n",
        "    <div class=\"dotted-line\"></div>\n",
        "    <div class=\"dotted-line\"></div>\n",
        "    <div class=\"dotted-line\"></div>\n",
        "    <div class=\"dotted-line\"></div>\n",
        "    <div class=\"dotted-line\"></div>\n",
        "    <div class=\"dotted-line\"></div>\n",
        "    <div class=\"rating-container\">\n",
        "    <label for=\"rating-line\">Rating (1-5):</label>\n",
        "    <div id=\"rating-line\" class=\"short-dotted-line\"></div>\n",
        "    </div>\n",
        "</div>\"\"\"\n",
        "\n",
        "html_short_notes = \"\"\"<h4>Notes</h4><div class='notes'>\n",
        "    <div class=\"dotted-line\"></div>\n",
        "    <div class=\"dotted-line\"></div>\n",
        "    <div class=\"dotted-line\"></div>\n",
        "    <div class=\"rating-container\">\n",
        "    <label for=\"rating-line\">Rating (1-5):</label>\n",
        "    <div class=\"short-dotted-line\"></div>\n",
        "    </div>\n",
        "</div>\"\"\"\n",
        "\n",
        "from datetime import datetime\n",
        "\n",
        "# Getting today's date in a nicely formatted string for US English\n",
        "publication_date = datetime.now().strftime(\"%B %d, %Y\")\n",
        "\n",
        "\n",
        "# Open the HTML file and read its content\n",
        "with open('templates/template.html', 'r') as file:\n",
        "    html_template = file.read()\n",
        "\n",
        "# Replace the placeholders with the actual variables\n",
        "html_content = html_template.format(\n",
        "    styles=styles,\n",
        "    html_playbook_title=html_playbook_title,\n",
        "    publication_date=publication_date,\n",
        "    html_intro=html_intro,\n",
        "    html_interview_structure=html_interview_structure,\n",
        "    html_job_description=html_job_description,\n",
        "    html_eval_criteria=html_eval_criteria,\n",
        "    html_technical_assessment_1=html_technical_assessment_1,\n",
        "    html_short_notes=html_short_notes,\n",
        "    html_technical_assessment_2=html_technical_assessment_2,\n",
        "    html_notes=html_notes,\n",
        "    html_technical_assessment_3=html_technical_assessment_3,\n",
        "    html_technical_assessment_4=html_technical_assessment_4,\n",
        "    html_technical_assessment_5=html_technical_assessment_5,\n",
        "    html_behavioral_assessment_1=html_behavioral_assessment_1,\n",
        "    html_behavioral_assessment_2=html_behavioral_assessment_2,\n",
        "    html_behavioral_assessment_3=html_behavioral_assessment_3,\n",
        "    html_behavioral_assessment_4=html_behavioral_assessment_4,\n",
        "    html_behavioral_assessment_5=html_behavioral_assessment_5,\n",
        "    html_practical_assignment=html_practical_assignment,\n",
        "    html_team_interaction=html_team_interaction,\n",
        "    html_candidate_questions=html_candidate_questions\n",
        ")\n",
        "\n",
        "# Write HTML string to a file\n",
        "with open(html_destination, 'w') as file:\n",
        "    file.write(html_content)\n",
        "\n",
        "\n",
        "# Display the Markdown-formatted text in the notebook\n",
        "# from IPython.display import display, HTML\n",
        "# display(HTML(html_content))\n"
      ]
    },
    {
      "cell_type": "markdown",
      "metadata": {
        "id": "O616O7upoV-T"
      },
      "source": [
        "# Create the Documents"
      ]
    },
    {
      "cell_type": "markdown",
      "metadata": {
        "id": "D04s7TxrS98T"
      },
      "source": [
        "### Create PDF from HTML"
      ]
    },
    {
      "cell_type": "code",
      "execution_count": 113,
      "metadata": {
        "colab": {
          "base_uri": "https://localhost:8080/",
          "height": 225
        },
        "id": "IvxTVtggloVo",
        "outputId": "8ba9612a-1bea-4daa-93d4-35291600f0e8"
      },
      "outputs": [],
      "source": [
        "from weasyprint import HTML\n",
        "\n",
        "# Convert HTML to PDF using WeasyPrint\n",
        "#HTML('playbook.html').write_pdf('playbook.pdf', stylesheets=['style.css'], presentational_hints=True)\n",
        "HTML(html_destination).write_pdf(pdf_destination, stylesheets=['templates/styles.css'], full_fonts=True, hinting=True, presentational_hints=True)\n",
        "\n"
      ]
    },
    {
      "cell_type": "markdown",
      "metadata": {
        "id": "lQyaspI3Tbu0"
      },
      "source": [
        "## Create a markdown version\n",
        "\n",
        "For use in GitHub as an example"
      ]
    },
    {
      "cell_type": "code",
      "execution_count": 114,
      "metadata": {},
      "outputs": [
        {
          "name": "stdout",
          "output_type": "stream",
          "text": [
            "January 05, 2024 1:32 PM\n",
            "35630\n",
            "```markdown\n",
            "# Interview Playbook for Medical Assistant II\n",
            "\n",
            "## Introduction\n",
            "\n",
            "This document serves as a comprehensive guide for the hiring team at Pacific Wellness Group in the selection of candidates for the position of Medical Assistant II. It is tailored to assess both technical and behavioral competencies critical for the role, in alignment with the company's commitment to quality patient care and innovation in healthcare. The interview process outlined here is designed to objectively evaluate each candidate's skills, work ethic, and alignment with our core values, thereby ensuring a thorough and fair hiring process.\n",
            "```\n",
            "\n",
            "\n"
          ]
        }
      ],
      "source": [
        "notes_snippet_md = \"\"\"##### Notes\\n\n",
        "\\\\__________________________________________________________________________________________\n",
        "\\\\__________________________________________________________________________________________\n",
        "\\\\__________________________________________________________________________________________\n",
        "\\\\__________________________________________________________________________________________\n",
        "\\\\__________________________________________________________________________________________\n",
        "\\\\__________________________________________________________________________________________\\n\n",
        "Rating (1-5): \\\\__________\\n\\n\\n\"\"\"\n",
        "\n",
        "from datetime import datetime\n",
        "\n",
        "# Get the current date and time\n",
        "now = datetime.now()\n",
        "\n",
        "# Format the date and time in a nice readable format\n",
        "formatted_now = now.strftime(\"%B %d, %Y %-I:%M %p\")\n",
        "\n",
        "print(formatted_now)\n",
        "\n",
        "playbook_body_md = f\"\"\"\n",
        "## Interview Structure\n",
        "{interview_structure}\n",
        "\n",
        "## Job Description\n",
        "{job_description}\n",
        "\n",
        "{eval_criteria}\n",
        "\n",
        "{technical_assessment_1}\n",
        "{notes_snippet_md}\n",
        "            \n",
        "{technical_assessment_2}\n",
        "{notes_snippet_md}\n",
        "\n",
        "{technical_assessment_3}\n",
        "{notes_snippet_md}\n",
        "\n",
        "{technical_assessment_4}\n",
        "{notes_snippet_md}\n",
        "            \n",
        "{technical_assessment_5}\n",
        "{notes_snippet_md}\n",
        "            \n",
        "{behavioral_assessment_1}\n",
        "{notes_snippet_md}\n",
        "\n",
        "{behavioral_assessment_2}\n",
        "{notes_snippet_md}\n",
        "            \n",
        "{behavioral_assessment_3}\n",
        "{notes_snippet_md}\n",
        "            \n",
        "{behavioral_assessment_4}\n",
        "{notes_snippet_md}\n",
        "            \n",
        "{behavioral_assessment_5}\n",
        "{notes_snippet_md}\n",
        "            \n",
        "{practical_assignment}\n",
        "{notes_snippet_md}\n",
        "\n",
        "{team_interaction}\n",
        "{notes_snippet_md}\n",
        "\n",
        "{candidate_questions}\n",
        "\"\"\"\n",
        "\n",
        "print(len(playbook_body_md))\n",
        "\n",
        "# exec_summary = create_run(client,my_thread,my_assistant,f\"\"\"\n",
        "#    Write a summary for this document:\n",
        "#\n",
        "#    {playbook_body_md}\n",
        "#    \"\"\")\n",
        "\n",
        "exec_summary = create_run(client,my_thread,my_assistant,f\"\"\"\n",
        "    Write a detailed introduction for the document. Be clear and concise and don't use flowery language.\n",
        "    \"\"\")\n",
        "\n",
        "    \n",
        "print(exec_summary)"
      ]
    },
    {
      "cell_type": "code",
      "execution_count": 115,
      "metadata": {},
      "outputs": [],
      "source": [
        "playbook_md = f\"\"\"--- \n",
        "title: {playbook_title}\n",
        "author: Created by [Deliverables.ai](https://github.com/androb/deliverables)\n",
        "date: {formatted_now}\n",
        "--- \n",
        "\n",
        "## Introduction\n",
        "{exec_summary}\n",
        "            \n",
        "{playbook_body_md}\n",
        "\"\"\"\n",
        "\n",
        "\n",
        "# Write playbook to a text file\n",
        "with open(markdown_destination, 'w') as file:\n",
        "    file.write(playbook_md)\n"
      ]
    },
    {
      "cell_type": "markdown",
      "metadata": {
        "id": "3E7xN0QjS6p5"
      },
      "source": [
        "### Create Word Document from Markdown"
      ]
    },
    {
      "cell_type": "code",
      "execution_count": 116,
      "metadata": {
        "id": "sAhMgYsb0lp3"
      },
      "outputs": [],
      "source": [
        "# Convert from markdown to docx\n",
        "!pandoc -s {markdown_destination} -o {word_destination} --reference-doc=\"templates/custom-reference.docx\" --toc=True --toc-depth=2 --shift-heading-level-by -1\n",
        "# !pandoc -s {markdown_destination} -o {html_destination} --template='templates/html-reference.html --toc=True\n",
        "# !pandoc --pdf-engine \"weasyprint\" -s {html_destination} -o {pdf_destination}\n",
        "\n",
        "# use this extension to shift headings to differ between HTML and docx\n",
        "# --shift-heading-level-by -1\n",
        "\n",
        "# Convert from markdown to PDF via HTML\n",
        "# !pandoc --pdf-engine \"weasyprint\" -s {markdown_destination} -o {pdf_destination} --reference-doc=\"custom-reference.docx\" --toc=True\n",
        "# !pandoc --pdf-engine \"weasyprint\" -s {word_destination} -o {pdf_destination}\n"
      ]
    },
    {
      "cell_type": "code",
      "execution_count": 117,
      "metadata": {},
      "outputs": [],
      "source": [
        "pptx_destination = destination_directory + \"playbook.pptx\"\n",
        "!pandoc -s {markdown_destination} -o {pptx_destination}"
      ]
    }
  ],
  "metadata": {
    "colab": {
      "provenance": []
    },
    "kernelspec": {
      "display_name": "Python 3",
      "name": "python3"
    },
    "language_info": {
      "codemirror_mode": {
        "name": "ipython",
        "version": 3
      },
      "file_extension": ".py",
      "mimetype": "text/x-python",
      "name": "python",
      "nbconvert_exporter": "python",
      "pygments_lexer": "ipython3",
      "version": "3.12.0"
    }
  },
  "nbformat": 4,
  "nbformat_minor": 0
}
