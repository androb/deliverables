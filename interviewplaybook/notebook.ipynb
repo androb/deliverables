{
  "cells": [
    {
      "cell_type": "markdown",
      "metadata": {},
      "source": [
        "# Setup"
      ]
    },
    {
      "cell_type": "code",
      "execution_count": 576,
      "metadata": {
        "colab": {
          "base_uri": "https://localhost:8080/"
        },
        "id": "azLYd2_T9j3p",
        "outputId": "f99c4218-325c-4b2c-dea4-fe8a12b2f281"
      },
      "outputs": [
        {
          "name": "stdout",
          "output_type": "stream",
          "text": [
            "Requirement already satisfied: OpenAI in /Users/andrewroberts/anaconda3/envs/deliverables/lib/python3.12/site-packages (1.6.0)\n",
            "Requirement already satisfied: markdown in /Users/andrewroberts/anaconda3/envs/deliverables/lib/python3.12/site-packages (3.5.1)\n",
            "Requirement already satisfied: mdx_truly_sane_lists in /Users/andrewroberts/anaconda3/envs/deliverables/lib/python3.12/site-packages (1.3)\n",
            "Requirement already satisfied: weasyprint in /Users/andrewroberts/anaconda3/envs/deliverables/lib/python3.12/site-packages (60.2)\n",
            "Requirement already satisfied: python-dotenv in /Users/andrewroberts/anaconda3/envs/deliverables/lib/python3.12/site-packages (1.0.0)\n",
            "Requirement already satisfied: pango in /Users/andrewroberts/anaconda3/envs/deliverables/lib/python3.12/site-packages (0.0.1)\n",
            "Requirement already satisfied: pdflatex in /Users/andrewroberts/anaconda3/envs/deliverables/lib/python3.12/site-packages (0.1.3)\n",
            "Requirement already satisfied: anyio<5,>=3.5.0 in /Users/andrewroberts/anaconda3/envs/deliverables/lib/python3.12/site-packages (from OpenAI) (4.2.0)\n",
            "Requirement already satisfied: distro<2,>=1.7.0 in /Users/andrewroberts/anaconda3/envs/deliverables/lib/python3.12/site-packages (from OpenAI) (1.8.0)\n",
            "Requirement already satisfied: httpx<1,>=0.23.0 in /Users/andrewroberts/anaconda3/envs/deliverables/lib/python3.12/site-packages (from OpenAI) (0.25.2)\n",
            "Requirement already satisfied: pydantic<3,>=1.9.0 in /Users/andrewroberts/anaconda3/envs/deliverables/lib/python3.12/site-packages (from OpenAI) (2.5.2)\n",
            "Requirement already satisfied: sniffio in /Users/andrewroberts/anaconda3/envs/deliverables/lib/python3.12/site-packages (from OpenAI) (1.3.0)\n",
            "Requirement already satisfied: tqdm>4 in /Users/andrewroberts/anaconda3/envs/deliverables/lib/python3.12/site-packages (from OpenAI) (4.66.1)\n",
            "Requirement already satisfied: typing-extensions<5,>=4.7 in /Users/andrewroberts/anaconda3/envs/deliverables/lib/python3.12/site-packages (from OpenAI) (4.9.0)\n",
            "Requirement already satisfied: pydyf>=0.8.0 in /Users/andrewroberts/anaconda3/envs/deliverables/lib/python3.12/site-packages (from weasyprint) (0.8.0)\n",
            "Requirement already satisfied: cffi>=0.6 in /Users/andrewroberts/anaconda3/envs/deliverables/lib/python3.12/site-packages (from weasyprint) (1.16.0)\n",
            "Requirement already satisfied: html5lib>=1.1 in /Users/andrewroberts/anaconda3/envs/deliverables/lib/python3.12/site-packages (from weasyprint) (1.1)\n",
            "Requirement already satisfied: tinycss2>=1.0.0 in /Users/andrewroberts/anaconda3/envs/deliverables/lib/python3.12/site-packages (from weasyprint) (1.2.1)\n",
            "Requirement already satisfied: cssselect2>=0.1 in /Users/andrewroberts/anaconda3/envs/deliverables/lib/python3.12/site-packages (from weasyprint) (0.7.0)\n",
            "Requirement already satisfied: Pyphen>=0.9.1 in /Users/andrewroberts/anaconda3/envs/deliverables/lib/python3.12/site-packages (from weasyprint) (0.14.0)\n",
            "Requirement already satisfied: Pillow>=9.1.0 in /Users/andrewroberts/anaconda3/envs/deliverables/lib/python3.12/site-packages (from weasyprint) (10.1.0)\n",
            "Requirement already satisfied: fonttools>=4.0.0 in /Users/andrewroberts/anaconda3/envs/deliverables/lib/python3.12/site-packages (from fonttools[woff]>=4.0.0->weasyprint) (4.47.0)\n",
            "Requirement already satisfied: attrs<19.0,>=18.2 in /Users/andrewroberts/anaconda3/envs/deliverables/lib/python3.12/site-packages (from pdflatex) (18.2.0)\n",
            "Requirement already satisfied: idna>=2.8 in /Users/andrewroberts/anaconda3/envs/deliverables/lib/python3.12/site-packages (from anyio<5,>=3.5.0->OpenAI) (3.6)\n",
            "Requirement already satisfied: pycparser in /Users/andrewroberts/anaconda3/envs/deliverables/lib/python3.12/site-packages (from cffi>=0.6->weasyprint) (2.21)\n",
            "Requirement already satisfied: webencodings in /Users/andrewroberts/anaconda3/envs/deliverables/lib/python3.12/site-packages (from cssselect2>=0.1->weasyprint) (0.5.1)\n",
            "Requirement already satisfied: zopfli>=0.1.4 in /Users/andrewroberts/anaconda3/envs/deliverables/lib/python3.12/site-packages (from fonttools[woff]>=4.0.0->weasyprint) (0.2.3)\n",
            "Requirement already satisfied: brotli>=1.0.1 in /Users/andrewroberts/anaconda3/envs/deliverables/lib/python3.12/site-packages (from fonttools[woff]>=4.0.0->weasyprint) (1.1.0)\n",
            "Requirement already satisfied: six>=1.9 in /Users/andrewroberts/anaconda3/envs/deliverables/lib/python3.12/site-packages (from html5lib>=1.1->weasyprint) (1.16.0)\n",
            "Requirement already satisfied: certifi in /Users/andrewroberts/anaconda3/envs/deliverables/lib/python3.12/site-packages (from httpx<1,>=0.23.0->OpenAI) (2023.11.17)\n",
            "Requirement already satisfied: httpcore==1.* in /Users/andrewroberts/anaconda3/envs/deliverables/lib/python3.12/site-packages (from httpx<1,>=0.23.0->OpenAI) (1.0.2)\n",
            "Requirement already satisfied: h11<0.15,>=0.13 in /Users/andrewroberts/anaconda3/envs/deliverables/lib/python3.12/site-packages (from httpcore==1.*->httpx<1,>=0.23.0->OpenAI) (0.14.0)\n",
            "Requirement already satisfied: annotated-types>=0.4.0 in /Users/andrewroberts/anaconda3/envs/deliverables/lib/python3.12/site-packages (from pydantic<3,>=1.9.0->OpenAI) (0.6.0)\n",
            "Requirement already satisfied: pydantic-core==2.14.5 in /Users/andrewroberts/anaconda3/envs/deliverables/lib/python3.12/site-packages (from pydantic<3,>=1.9.0->OpenAI) (2.14.5)\n",
            "Note: you may need to restart the kernel to use updated packages.\n"
          ]
        }
      ],
      "source": [
        "%pip install OpenAI markdown mdx_truly_sane_lists weasyprint python-dotenv pango pdflatex"
      ]
    },
    {
      "cell_type": "code",
      "execution_count": 577,
      "metadata": {
        "id": "3_jkcGWaQvvs"
      },
      "outputs": [
        {
          "data": {
            "text/plain": [
              "True"
            ]
          },
          "execution_count": 577,
          "metadata": {},
          "output_type": "execute_result"
        }
      ],
      "source": [
        "import os\n",
        "\n",
        "from dotenv import load_dotenv\n",
        "load_dotenv()  # Load the environment variables from .env file"
      ]
    },
    {
      "cell_type": "markdown",
      "metadata": {},
      "source": [
        "Set up the OpenAI Assistant"
      ]
    },
    {
      "cell_type": "code",
      "execution_count": 578,
      "metadata": {},
      "outputs": [],
      "source": [
        "from openai import OpenAI\n",
        "client = OpenAI()\n",
        "\n",
        "#  get the prompt from the file system\n",
        "with open('prompt.md', 'r') as file:\n",
        "    # Read the entire content of the file into a single string variable\n",
        "    prompt = file.read()\n",
        "\n",
        "# simple retrieve of the Assistant - not necessary because we are doing an update\n",
        "# my_assistant = client.beta.assistants.retrieve(\"asst_3WQiw8VJ91XWikievImBqwrZ\")\n",
        "\n",
        "# update the assistant with the latest prompt\n",
        "my_assistant = client.beta.assistants.update(\n",
        "  \"asst_3WQiw8VJ91XWikievImBqwrZ\",\n",
        "  instructions=prompt,\n",
        "  name=\"Interview Playbook Generator\",\n",
        "  tools=[{\"type\": \"retrieval\"}],\n",
        "  model=\"gpt-4-1106-preview\"\n",
        "  # model=\"gpt-3.5-turbo-1106\"\n",
        ")"
      ]
    },
    {
      "cell_type": "code",
      "execution_count": 579,
      "metadata": {
        "id": "ianKdgCtS-Yp"
      },
      "outputs": [],
      "source": [
        "# create a thread\n",
        "my_thread = client.beta.threads.create()\n",
        "\n",
        "import time\n",
        "\n",
        "def create_run(client, my_thread, my_assistant, content, file_ids=None):\n",
        "    \"\"\"\n",
        "    Create a message, run it, and display the response.\n",
        "\n",
        "    Args:\n",
        "    client (Client): The API client.\n",
        "    my_thread (Thread): The thread to post the message to.\n",
        "    my_assistant (Assistant): The assistant to use for the run.\n",
        "    content (str): The content of the message.\n",
        "    file_ids (list, optional): List of file IDs to attach to the message.\n",
        "\n",
        "    Returns:\n",
        "    str: The response content.\n",
        "\n",
        "    Raises:\n",
        "    ValueError: If any of the parameters are invalid.\n",
        "    RuntimeError: If the run does not complete successfully.\n",
        "    \"\"\"\n",
        "\n",
        "    if not all([client, my_thread, my_assistant, content]):\n",
        "        raise ValueError(\"Invalid parameters provided.\")\n",
        "\n",
        "    extra_instructions = \"\"\" ONLY return the content as John Gruber's markdown with no delimiters and with no commentary whatsoever.\"\"\"\n",
        "\n",
        "    # Create the message\n",
        "    thread_message = client.beta.threads.messages.create(\n",
        "        my_thread.id,\n",
        "        role=\"user\",\n",
        "        content=content + extra_instructions,\n",
        "        file_ids=file_ids or []\n",
        "    )\n",
        "\n",
        "    # Hard code the values for max_retries and wait_seconds\n",
        "    max_retries = 120\n",
        "    wait_seconds = 0.5\n",
        "\n",
        "    # Create a run\n",
        "    run = client.beta.threads.runs.create(\n",
        "        thread_id=my_thread.id,\n",
        "        assistant_id=my_assistant.id\n",
        "    )\n",
        "\n",
        "    # Check the run's status\n",
        "    for _ in range(max_retries):\n",
        "        run = client.beta.threads.runs.retrieve(\n",
        "            thread_id=my_thread.id,\n",
        "            run_id=run.id)\n",
        "        if run.status == \"completed\":\n",
        "            break\n",
        "        time.sleep(wait_seconds)\n",
        "    else:\n",
        "        raise RuntimeError(\"Run did not complete successfully.\")\n",
        "\n",
        "    # Retrieve and return the response\n",
        "    all_messages = client.beta.threads.messages.list(thread_id=my_thread.id)\n",
        "    return all_messages.data[0].content[0].text.value + \"\\n\\n\"\n"
      ]
    },
    {
      "cell_type": "markdown",
      "metadata": {
        "id": "DxSAZm5tzT62"
      },
      "source": [
        "## Initial File Upload and Prompt"
      ]
    },
    {
      "cell_type": "code",
      "execution_count": 580,
      "metadata": {
        "colab": {
          "base_uri": "https://localhost:8080/"
        },
        "id": "G23reYVLTmQc",
        "outputId": "e29e96de-754f-455e-d526-b5e3f459e266"
      },
      "outputs": [],
      "source": [
        "import time\n",
        "\n",
        "# Which example to run\n",
        "choice = 'medical-assistant'\n",
        "#choice = 'infra-engineer'\n",
        "#choice = 'customer-success-manager'\n",
        "#choice = 'real-estate-litigator'\n",
        "\n",
        "destination_directory = \"examples/\" + choice + \"/\"\n",
        "html_destination = destination_directory + 'playbook.html'\n",
        "pdf_destination = destination_directory + 'playbook.pdf'\n",
        "markdown_destination = destination_directory + 'playbook.md'\n",
        "word_destination = destination_directory + 'playbook.docx'\n",
        "\n",
        "company_file = \"examples/\" + choice + \"/about-company.md\"\n",
        "\n",
        "# Upload the company description\n",
        "file_company_values = client.files.create(\n",
        "  file=open(company_file, \"rb\"),\n",
        "  purpose=\"assistants\"\n",
        ")\n",
        "\n",
        "job_description_file = \"examples/\" + choice + \"/job-description.md\"\n",
        "# Open the file and read the contents\n",
        "with open(job_description_file, 'r') as file:\n",
        "    # Read the entire content of the file into a single string variable\n",
        "    job_description = file.read()\n",
        "\n",
        "# Upload the job description file\n",
        "file_job_description = client.files.create(\n",
        "  file=open(job_description_file, \"rb\"),\n",
        "  purpose=\"assistants\"\n",
        ")\n",
        "\n",
        "# give OpenAI time to process the file\n",
        "time.sleep(10)\n"
      ]
    },
    {
      "cell_type": "markdown",
      "metadata": {
        "id": "1wzWtt6hzFsR"
      },
      "source": [
        "# Priming the Pump"
      ]
    },
    {
      "cell_type": "code",
      "execution_count": 581,
      "metadata": {},
      "outputs": [
        {
          "name": "stdout",
          "output_type": "stream",
          "text": [
            "```markdown\n",
            "# About Pacific Wellness Group - Academic Healthcare Consortium\n",
            "\n",
            "## Mission:\n",
            "- To be the premier community network for the Pacific Wellness Group System, delivering the best patient experience with the most effective clinical outcomes.\n",
            "\n",
            "## Vision:\n",
            "- Healing humanity through science and compassion, one patient at a time.\n",
            "\n",
            "## Values:\n",
            "- Innovation: embracing innovation, change and continuous improvement to raise quality of care and shape the future of medicine.\n",
            "- Connection: cultivating community, connection and care for each other to nurture trust, respect, belonging and shared purpose.\n",
            "- Teamwork: collaborating across roles, ranks, units and departments to unlock possibilities for greater impact and fulfillment.\n",
            "- Mentorship: nurturing and pursuing ongoing professional growth to enjoy impactful and fulfilling careers.\n",
            "- Participation: freely sharing opinions and valuing diverse backgrounds and contributions to improve decision-making, outcomes and engagement.\n",
            "- Action: uniting diverse perspectives and expertise for the greater good.\n",
            "```\n",
            "\n",
            "\n"
          ]
        }
      ],
      "source": [
        "# Refresh the context to ensure it has read the files\n",
        "primer_values = create_run(client,my_thread,my_assistant,\"\"\"\n",
        "            Write a detailed description of the company values from the about company file, using the company name.\n",
        "            \"\"\", [file_company_values.id])\n",
        "print(primer_values)"
      ]
    },
    {
      "cell_type": "code",
      "execution_count": 582,
      "metadata": {
        "colab": {
          "base_uri": "https://localhost:8080/"
        },
        "id": "ip0AjmHHB2nQ",
        "outputId": "445a12aa-467a-4aaf-a22f-1ebc0a5e14d7"
      },
      "outputs": [
        {
          "name": "stdout",
          "output_type": "stream",
          "text": [
            "```markdown\n",
            "# Technical Competencies\n",
            "\n",
            "### Clinical Procedures\n",
            "Advanced expertise in carrying out clinical procedures, including assisting physicians during exams and patient treatment interventions.\n",
            "- **Patient Care**: Providing direct patient care and ensuring comfort during clinical interventions.\n",
            "- **Procedure Assistance**: Assisting with physician-directed procedures, upholding the highest standards of safety and precision.\n",
            "- **Clinical Equipment**: Demonstrating proficiency with clinical equipment pertinent to patient treatment.\n",
            "- **Health & Safety Compliance**: Adhering to health and safety protocols and best practices to ensure a safe environment for patients and staff.\n",
            "\n",
            "### Medical Knowledge\n",
            "Comprehensive understanding of medical practices and the ability to apply this knowledge effectively in a clinical setting.\n",
            "- **Routine Tasks**: Performing everyday medical tasks with precision and care.\n",
            "- **Policy & Procedural Knowledge**: Thorough understanding of clinic policies, procedures, and operational standards.\n",
            "- **Specialty Care**: Developing knowledge pertinent to the specific area of medical specialism in which the clinic operates.\n",
            "- **Patient Education**: Educating patients on treatment, aftercare, and health maintenance.\n",
            "\n",
            "### Technical Communication\n",
            "Robust ability to communicate complex medical information clearly and professionally.\n",
            "- **EMR Proficiency**: Effectively using electronic medical records to track patient information.\n",
            "- **Written Communication**: Professionally documenting care processes and patient interactions.\n",
            "- **Verbal Communication**: Articulating medical information and instructions clearly to patients and the healthcare team.\n",
            "- **Patient Portal Management**: Efficiently handling patient portal messages and online communication.\n",
            "\n",
            "### BLS Competency\n",
            "Current certification and the ability to perform Basic Life Support (BLS) techniques as needed.\n",
            "- **CPR**: Performing high-quality cardio-pulmonary resuscitation as per American Heart Association guidelines.\n",
            "- **Emergency Response**: Responding effectively to clinical emergencies within the role scope.\n",
            "- **Rescue Breaths**: Administering rescue breathing techniques when appropriate.\n",
            "- **Automated External Defibrillator (AED)**: Utilizing AED equipment during cardiac emergencies.\n",
            "\n",
            "### Computer and Technical Skills\n",
            "Experienced use of computer systems, Microsoft Office, and the ability to adapt to new technology quickly.\n",
            "- **Microsoft Office Suite**: Mastery of Word, Excel, and Outlook for daily administrative tasks.\n",
            "- **Technology Adaptation**: Quickly adapting to new healthcare technologies and software.\n",
            "- **Multi-Tasking Software**: Proficiently juggling various technical tools for patient care and administrative duties.\n",
            "- **Data Entry Accuracy**: Ensuring precise and timely entry of patient data into systems.\n",
            "\n",
            "# Behavioral Competencies\n",
            "\n",
            "### Service Excellence\n",
            "A steadfast commitment to delivering the best patient experience, aligning with Pacific Wellness Group's value of Connection.\n",
            "- **C-I-CARE Execution**: Embracing and consistently applying C-I-CARE patient service standards.\n",
            "- **Patient-Centric Behavior**: Prioritizing patient comfort and experience in all interactions.\n",
            "- **Feedback Responsiveness**: Acting on patient and team feedback to improve service quality.\n",
            "- **Empathy & Understanding**: Demonstrating genuine compassion and understanding in patient care.\n",
            "\n",
            "### Team Collaboration\n",
            "Embodying Pacific Wellness Group's value of Teamwork, fostering a collaborative environment for efficient patient care and clinic operation.\n",
            "- **Interdisciplinary Communication**: Facilitating clear and respectful communication across various roles and departments.\n",
            "- **Collaborative Problem Solving**: Engaging with teammates to find innovative solutions to challenges.\n",
            "- **Shared Goals**: Uniting with the team to achieve shared objectives and enhance patient outcomes.\n",
            "- **Role Versatility**: Flexibly contributing to various team needs as required.\n",
            "\n",
            "### Professional Development\n",
            "Strong dedication to personal growth and mentorship, resonating with Pacific Wellness Group's emphasis on Mentorship and Participation.\n",
            "- **Skill Enhancement**: Seeking opportunities to gain new competencies and advance clinically.\n",
            "- **Knowledge Sharing**: Freely sharing insights and experiences to contribute to the collective knowledge base.\n",
            "- **Mentoring Peers**: Investing time in mentoring others within the healthcare team.\n",
            "- **Feedback Welcoming**: Actively seeking and constructively using feedback for personal and professional development.\n",
            "\n",
            "### Ethical Practice & Integrity\n",
            "Upholding high ethical standards and integrity, reflecting the core values of the Pacific Wellness Group.\n",
            "- **Confidentiality**: Respecting patient privacy and confidentiality in all operations.\n",
            "- **Honesty in Communication**: Being truthful and transparent in all communications.\n",
            "- **Ethical Decision-Making**: Prioritizing ethical considerations in all clinical and administrative practices.\n",
            "- **Professional Accountability**: Taking responsibility for one's actions and decisions.\n",
            "\n",
            "### Organizational Skills\n",
            "Demonstrated ability to organize tasks effectively, ensuring smooth operations, and aligning with Action—Pacific Wellness Group's value of bringing together diverse perspectives for greater good.\n",
            "- **Prioritization**: Efficiently managing and prioritizing a fluctuating workload.\n",
            "- **Time Management**: Utilizing time effectively for the best patient care and productivity.\n",
            "- **Resource Coordination**: Coordinating resources to maximize clinic efficiency.\n",
            "- **Plan Execution**: Following through on plans with diligence and flexibility to adapt as necessary.\n",
            "```\n",
            "\n",
            "\n"
          ]
        }
      ],
      "source": [
        "# Refresh the context to ensure it has read the files and create context. Not included in final doc.\n",
        "primer_job = create_run(client,my_thread,my_assistant,\"\"\"\n",
        "            Write the job title contained in the job description file.\n",
        "            Then, create the list of 5 technical competencies, which MUST cover the areas mentioned in the\n",
        "            requirements in the job description. Create the list of 5 behavioral\n",
        "            competencies, with a focus on the company values but still covering all requirements in the\n",
        "            job description. Where possible, describe a competency in a way that aligns with the company values.\n",
        "            Each competency should have a title followed by a short description.\n",
        "            For each competency, list 3 or 4 subcompetencies and their descriptions to enable more deep exploration.\n",
        "            \"\"\", [file_job_description.id])\n",
        "print(primer_job)\n"
      ]
    },
    {
      "cell_type": "markdown",
      "metadata": {
        "id": "IlR4qmAwOGV3"
      },
      "source": [
        "# Create Introduction"
      ]
    },
    {
      "cell_type": "code",
      "execution_count": 627,
      "metadata": {},
      "outputs": [
        {
          "name": "stdout",
          "output_type": "stream",
          "text": [
            "Interview Playbook for Medical Assistant II\n",
            "\n",
            "\n"
          ]
        }
      ],
      "source": [
        "playbook_title = create_run(client,my_thread,my_assistant,\"\"\"\n",
        "            Generate the title for the playbook as a simple string\n",
        "            \"\"\")\n",
        "print(playbook_title)"
      ]
    },
    {
      "cell_type": "code",
      "execution_count": 584,
      "metadata": {},
      "outputs": [
        {
          "name": "stdout",
          "output_type": "stream",
          "text": [
            "This Interview Playbook is designed to equip the hiring team with a structured approach to evaluate candidates for the role of Department Attorney at Maxwell Fairview. The position of Department Attorney is a vital role within the company, requiring a blend of extensive legal expertise and strong interpersonal skills. The competencies outlined here align with the firm's values of unparalleled service, respect, and inclusion, and ensure the selection of a candidate who embodies these principles. The objectives of the interview include assessing technical skills, behavioral qualities, and overall fit with the company culture and values.\n",
            "\n",
            "\n"
          ]
        }
      ],
      "source": [
        "introduction = create_run(client,my_thread,my_assistant,\"\"\"\n",
        "            Generate the introduction for the guide with no headings\n",
        "            \"\"\")\n",
        "print(intro)"
      ]
    },
    {
      "cell_type": "code",
      "execution_count": 585,
      "metadata": {
        "colab": {
          "base_uri": "https://localhost:8080/"
        },
        "id": "C5zuFj7K5r9z",
        "outputId": "882110c3-fe5b-489c-b865-66e1a185b383"
      },
      "outputs": [
        {
          "name": "stdout",
          "output_type": "stream",
          "text": [
            "The interview for the Medical Assistant II position will take place over a 60 to 90-minute session and will be conducted in several parts to ensure a comprehensive assessment of both technical and behavioral competencies.\n",
            "\n",
            "The interview will begin with an introduction and rapport-building phase, lasting approximately 10 minutes, to put the candidate at ease. This will be followed by a technical assessment, which will comprise around 30 minutes of the interview time, where candidates will be questioned on clinical procedures, medical knowledge, technical communication, BLS competency, and computer and technical skills.\n",
            "\n",
            "Next, we will move into the behavioral assessment, another 30 minutes, where we will explore service excellence, team collaboration, professional development, ethical practice & integrity, and organizational skills. These assessments will deeply probe the candidate’s ability to integrate with Pacific Wellness Group's values and operating principles.\n",
            "\n",
            "The session will end with a Q&A period allowing candidates to ask questions and understand more about our organization and their potential role within it. This will account for the remaining time and should not exceed 10 minutes. Throughout the interview, we will systematically cover key competencies and ensure that the candidate has the opportunity to demonstrate their abilities relevant to the role.\n",
            "\n",
            "\n"
          ]
        }
      ],
      "source": [
        "interview_structure = create_run(client,my_thread,my_assistant,\"\"\"\n",
        "            Generate the Interview Structure with no headings. Include mention of the competencies in the interview structure.\n",
        "            \"\"\")\n",
        "print(interview_structure)"
      ]
    },
    {
      "cell_type": "markdown",
      "metadata": {
        "id": "wbojM0Og4s_m"
      },
      "source": [
        "# Create Evaluation Criteria"
      ]
    },
    {
      "cell_type": "code",
      "execution_count": 586,
      "metadata": {
        "colab": {
          "base_uri": "https://localhost:8080/"
        },
        "id": "WoY0tlUkkCdk",
        "outputId": "4867b20f-788c-41c4-fb5a-76fb49d99171"
      },
      "outputs": [
        {
          "name": "stdout",
          "output_type": "stream",
          "text": [
            "To effectively evaluate the candidate for the Medical Assistant II role, we have developed a job scorecard that outlines the key competencies and provides a structured format for assessment. The scorecard ensures that each interviewer can record their evaluation and pertinent comments consistently.\n",
            "\n",
            "| Competency                    | Assessment    | Comments by Interviewer     |\n",
            "| ----------------------------- | ------------- | --------------------------- |\n",
            "| Clinical Procedures           |                |                             |\n",
            "| Medical Knowledge             |                |                             |\n",
            "| Technical Communication       |                |                             |\n",
            "| BLS Competency                |                |                             |\n",
            "| Computer and Technical Skills |                |                             |\n",
            "| Service Excellence            |                |                             |\n",
            "| Team Collaboration            |                |                             |\n",
            "| Professional Development      |                |                             |\n",
            "| Ethical Practice & Integrity  |                |                             |\n",
            "| Organizational Skills         |                |                             |\n",
            "| Practical Assignment          |                |                             |\n",
            "| Team Interaction              |                |                             |\n",
            "\n",
            "### Rating Guide\n",
            "\n",
            "1. Far Below Expectations: Candidate significantly lacks the competencies required for the role.\n",
            "2. Below Expectations: Candidate shows some basic understanding but falls short of the role's requirements.\n",
            "3. Meets Expectations: Candidate satisfactorily demonstrates the competencies required for the role.\n",
            "4. Exceeds Expectations: Candidate demonstrates a strong command of the competencies with room for growth.\n",
            "5. Far Exceeds Expectations: Candidate exemplifies all competencies exceptionally and offers additional strengths.\n",
            "\n",
            "\n"
          ]
        }
      ],
      "source": [
        "eval_criteria = create_run(client,my_thread,my_assistant,\"\"\"\n",
        "    Generate the Evaluation Critera section.\n",
        "    \"\"\")\n",
        "print(eval_criteria)"
      ]
    },
    {
      "cell_type": "markdown",
      "metadata": {
        "id": "9XgTU1JEzfEa"
      },
      "source": [
        "# Create Technical Assessment"
      ]
    },
    {
      "cell_type": "code",
      "execution_count": 587,
      "metadata": {
        "colab": {
          "base_uri": "https://localhost:8080/"
        },
        "id": "6W7Mp4JwzhNW",
        "outputId": "1cf9a68e-dae6-46fc-ccc6-3c614387094c"
      },
      "outputs": [
        {
          "name": "stdout",
          "output_type": "stream",
          "text": [
            "## Technical Competence 1: Clinical Procedures\n",
            "\n",
            "Clinical Procedures competency encompasses a candidate’s expertise in performing a range of essential clinical tasks, directly impacting patient care and treatment outcomes. This skill is vital for a Medical Assistant II at Pacific Wellness Group, as they must proficiently aid physicians and address patient needs in a clinical environment.\n",
            "\n",
            "#### Lead Question\n",
            "\n",
            "> **Describe a complex clinical procedure you have assisted with. How did you prepare for it, and what steps did you take to ensure its success?**\n",
            "\n",
            "_Look for details on the candidate’s ability to prepare, their understanding of the procedure, and their role in ensuring patient safety and positive outcomes._\n",
            "\n",
            "#### Diving Deeper\n",
            "\n",
            "- **Patient Care**: Can you walk me through how you approach a patient's comfort and anxiety before a procedure?\n",
            "- **Procedure Assistance**: Tell me about a time when you had to improvise during a procedure due to unexpected circumstances.\n",
            "- **Clinical Equipment**: How do you maintain proficiency with new and existing clinical equipment?\n",
            "- **Health & Safety Compliance**: Give an example of how you have contributed to enhancing the health and safety protocols within your current clinic.\n",
            "\n",
            "#### Scenario\n",
            "\n",
            "Imagine a situation where you're assisting in a clinical procedure, and you notice that the physician is about to make a potential error, such as incorrect dosing or using the wrong equipment. How would you handle this scenario to ensure the safety and well-being of the patient?\n",
            "\n",
            "_Look for communication skills, assertiveness, knowledge of clinical protocols, and the ability to react appropriately under pressure._\n",
            "\n",
            "\n"
          ]
        }
      ],
      "source": [
        "technical_assessment_1 = create_run(client,my_thread,my_assistant,\"Generate the first Technical Assessment\")\n",
        "print(technical_assessment_1)\n"
      ]
    },
    {
      "cell_type": "code",
      "execution_count": 588,
      "metadata": {
        "colab": {
          "base_uri": "https://localhost:8080/"
        },
        "id": "xf9T4lGVTLoI",
        "outputId": "6f3a3677-a864-4d9e-8370-872d9851b091"
      },
      "outputs": [
        {
          "name": "stdout",
          "output_type": "stream",
          "text": [
            "### Technical Competence 2: Medical Knowledge\n",
            "\n",
            "Medical Knowledge is a crucial technical competency that requires not only a well-established foundation in medical practices but also the capacity to apply this knowledge efficiently in patient care. This aligns with Pacific Wellness Group's vision of healing humanity with science and compassion.\n",
            "\n",
            "#### Lead Question\n",
            "\n",
            "> **Considering the wide range of medical conditions we encounter at Pacific Wellness Group, can you share an instance where your medical knowledge significantly improved a patient's outcome?**\n",
            "\n",
            "_Look for examples that show the candidate's deep understanding of medical conditions, proactive application of knowledge, and impact on patient care._\n",
            "\n",
            "#### Diving Deeper\n",
            "\n",
            "- **Routine Tasks**: What techniques do you employ to ensure that routine tasks are performed with a high degree of accuracy and care?\n",
            "- **Policy & Procedural Knowledge**: How do you stay informed about the latest clinic policies and ensure adherence to them?\n",
            "- **Specialty Care**: Describe your experience in a specialty area and how you've expanded your knowledge base in that field.\n",
            "- **Patient Education**: Can you discuss your approach to patient education and how you tailor it to each patient's needs?\n",
            "\n",
            "#### Scenario\n",
            "\n",
            "Suppose a patient presents with symptoms that suggest a possible rare condition, which you have only read about but never encountered. How would you proceed with your initial assessment, and what steps would you take to ensure the correct diagnosis and treatment plan?\n",
            "\n",
            "_Look for the candidate's research skills, clinical judgment, use of resources, and ability to collaborate for accurate diagnosis and care plan decisions._\n",
            "\n",
            "\n"
          ]
        }
      ],
      "source": [
        "technical_assessment_2 = create_run(client,my_thread,my_assistant,\"\"\"\n",
        "    Generate the 2nd Technical Assessment. Don't include the main section header.\n",
        "    \"\"\")\n",
        "print(technical_assessment_2)"
      ]
    },
    {
      "cell_type": "code",
      "execution_count": 589,
      "metadata": {
        "colab": {
          "base_uri": "https://localhost:8080/"
        },
        "id": "7nLQIDWITOVT",
        "outputId": "3795c8bd-60b3-4f36-b717-79fe16e370ef"
      },
      "outputs": [
        {
          "name": "stdout",
          "output_type": "stream",
          "text": [
            "### Technical Competence 3: Technical Communication\n",
            "\n",
            "Technical Communication is about effectively conveying complex medical information in a clear, professional, and empathetic manner, to both patients and healthcare professionals. This skill is essential at Pacific Wellness Group to ensure the highest quality of care and patient comprehension.\n",
            "\n",
            "#### Lead Question\n",
            "\n",
            "> **Can you give an example of a time when you had to explain a difficult medical concept to a patient or a patient's family? How did you ensure they understood?**\n",
            "\n",
            "_Look for clarity in communication, the ability to break down complex information, and the candidate's empathy and patience._\n",
            "\n",
            "#### Diving Deeper\n",
            "\n",
            "- **EMR Proficiency**: Explain how you have used an EMR to improve patient care or clinic operations.\n",
            "- **Written Communication**: Describe your process for documenting clinical notes to ensure they are both thorough and clear for other healthcare providers.\n",
            "- **Verbal Communication**: Share a time when your verbal communication skills made a difference in a patient's experience or outcome.\n",
            "- **Patient Portal Management**: Discuss your experience managing patient communications through a portal and how you ensure timely and effective responses.\n",
            "\n",
            "#### Scenario\n",
            "\n",
            "Imagine you are tasked with introducing a new electronic medical records system to your team. How would you communicate the changes, and what methods would you use to train and support the team during the transition?\n",
            "\n",
            "_Look for the ability to handle change management, communicate effectively across different mediums, and support the team through knowledge sharing and training._\n",
            "\n",
            "\n"
          ]
        }
      ],
      "source": [
        "technical_assessment_3 = create_run(client,my_thread,my_assistant,\"Generate the 3rd Technical Assessment. Don't include the main section header.\")\n",
        "print(technical_assessment_3)"
      ]
    },
    {
      "cell_type": "code",
      "execution_count": 590,
      "metadata": {
        "colab": {
          "base_uri": "https://localhost:8080/"
        },
        "id": "18RhkvioTRTW",
        "outputId": "84099d49-b302-4a1f-da7c-a0eaf770596f"
      },
      "outputs": [
        {
          "name": "stdout",
          "output_type": "stream",
          "text": [
            "### Technical Competence 4: BLS Competency\n",
            "\n",
            "BLS Competency is pivotal for a Medical Assistant II in ensuring the ability to respond swiftly and effectively to emergencies, providing life-saving procedures as per established guidelines.\n",
            "\n",
            "#### Lead Question\n",
            "\n",
            "> **Share your most challenging experience performing BLS in a clinical setting. What were the circumstances, and how did you ensure a successful outcome?**\n",
            "\n",
            "_Look for the demonstration of proficiency under pressure, adherence to BLS protocols, and effective teamwork._\n",
            "\n",
            "#### Diving Deeper\n",
            "\n",
            "- **CPR**: Describe the CPR protocol you follow and the frequency with which you practice or renew your CPR certification.\n",
            "- **Emergency Response**: Can you recount an instance where you were the first responder to a clinical emergency? What actions did you take?\n",
            "- **Rescue Breaths**: Under what circumstances would you choose rescue breaths over full CPR, and what technique do you use?\n",
            "- **Automated External Defibrillator (AED)**: Discuss your experience using an AED. Have you ever had to utilize one in an actual emergency?\n",
            "\n",
            "#### Scenario\n",
            "\n",
            "A patient in the waiting room suddenly collapses and is unresponsive. Walk me through the exact steps you would take from the moment you first see the patient to when emergency medical services arrive.\n",
            "\n",
            "_Look for a clear understanding of emergency procedures, the ability to remain calm and methodical, and knowledge of the BLS algorithm._\n",
            "\n",
            "\n"
          ]
        }
      ],
      "source": [
        "technical_assessment_4 = create_run(client,my_thread,my_assistant,\"Generate the 4th Technical Assessment. Don't include the main section header.\")\n",
        "print(technical_assessment_4)"
      ]
    },
    {
      "cell_type": "code",
      "execution_count": 591,
      "metadata": {
        "colab": {
          "base_uri": "https://localhost:8080/"
        },
        "id": "2W1k4KMwTWYo",
        "outputId": "c8b18291-db52-4cdc-d768-601f1d0ed93e"
      },
      "outputs": [
        {
          "name": "stdout",
          "output_type": "stream",
          "text": [
            "### Technical Competence 5: Computer and Technical Skills\n",
            "\n",
            "Computer and Technical Skills are essential for streamlining clinical operations, enhancing patient care, and ensuring accuracy in a digital healthcare environment.\n",
            "\n",
            "#### Lead Question\n",
            "\n",
            "> **Describe your experience with a challenging technological issue in the clinic and how you resolved it. What was the issue, and what was your approach to solving it?**\n",
            "\n",
            "_Look for problem-solving capabilities, technical aptitude, and the ability to minimize disruptions in patient care._\n",
            "\n",
            "#### Diving Deeper\n",
            "\n",
            "- **Microsoft Office Suite**: Provide an example of how you've used Excel or another Office application to improve a work process in your clinic.\n",
            "- **Technology Adaptation**: Tell us about a time you had to learn a new piece of technology or software quickly for your role. How did you approach this?\n",
            "- **Multi-Tasking Software**: How do you manage using multiple software applications simultaneously without affecting your efficiency?\n",
            "- **Data Entry Accuracy**: What methods do you use to ensure the high accuracy of data you enter into systems?\n",
            "\n",
            "#### Scenario\n",
            "\n",
            "Assume you're responsible for migrating patient records from an old system to a new one without any loss of critical information. What measures would you put in place to ensure the accuracy and completeness of the data transfer?\n",
            "\n",
            "_Look for a systematic approach to data management, attention to detail, and the ability to ensure data integrity._\n",
            "\n",
            "\n"
          ]
        }
      ],
      "source": [
        "technical_assessment_5 = create_run(client,my_thread,my_assistant,\"Generate the 5th Technical Assessment. Don't include the main section header.\")\n",
        "print(technical_assessment_5)"
      ]
    },
    {
      "cell_type": "code",
      "execution_count": 592,
      "metadata": {
        "id": "TqPsbclGTZmJ"
      },
      "outputs": [],
      "source": [
        "technical_assessment = technical_assessment_1 + technical_assessment_2 + technical_assessment_3 + technical_assessment_4 + technical_assessment_5"
      ]
    },
    {
      "cell_type": "markdown",
      "metadata": {
        "id": "GXQquee34Q9k"
      },
      "source": [
        "# Create Behavioral Assessment"
      ]
    },
    {
      "cell_type": "code",
      "execution_count": 593,
      "metadata": {
        "colab": {
          "base_uri": "https://localhost:8080/"
        },
        "id": "_14Q6lQO4N9R",
        "outputId": "88dc7806-c0c0-4633-d569-05600795c014"
      },
      "outputs": [
        {
          "name": "stdout",
          "output_type": "stream",
          "text": [
            "## Behavioral Competence 1: Service Excellence\n",
            "\n",
            "Service Excellence involves committing oneself to provide exceptional patient experience, demonstrating Pacific Wellness Group's focus on connection and compassion. This competency is about putting the patient first and striving for the highest quality service.\n",
            "\n",
            "#### Lead Question\n",
            "\n",
            "> **Discuss a time when you went above and beyond to ensure a patient received exceptional care. What motivated you, and what was the result?**\n",
            "\n",
            "_Look for actions that exemplify a strong patient focus, personalized care, and a desire to exceed standard expectations._\n",
            "\n",
            "#### Diving Deeper\n",
            "\n",
            "- **C-I-CARE Execution**: How do you incorporate C-I-CARE principles into your daily interactions with patients?\n",
            "- **Patient-Centric Behavior**: Can you give an example of how you've modified care for a patient based on their individual needs or feedback?\n",
            "- **Feedback Responsiveness**: Describe how you have changed a process or behavior in response to feedback from patients or colleagues.\n",
            "- **Empathy & Understanding**: Share a challenging patient situation and how you used empathy to manage it effectively.\n",
            "\n",
            "#### Scenario\n",
            "\n",
            "Imagine you are dealing with a particularly anxious patient who is resistant to treatment. How would you communicate with them to alleviate their concerns and gain their cooperation for the necessary procedures?\n",
            "\n",
            "_Look for the ability to employ empathy, clear communication, and problem-solving to provide exceptional patient care._\n",
            "\n",
            "\n"
          ]
        }
      ],
      "source": [
        "behavioral_assessment_1 = create_run(client,my_thread,my_assistant,\"Generate the 1st Behavioral Assessment section.\")\n",
        "print(behavioral_assessment_1)"
      ]
    },
    {
      "cell_type": "code",
      "execution_count": 594,
      "metadata": {
        "colab": {
          "base_uri": "https://localhost:8080/"
        },
        "id": "HT3Q_lDjg6SO",
        "outputId": "67bc20fe-4fab-48db-987f-5b48d582516e"
      },
      "outputs": [
        {
          "name": "stdout",
          "output_type": "stream",
          "text": [
            "### Behavioral Competence 2: Team Collaboration\n",
            "\n",
            "Team Collaboration embodies the synergy of working across various healthcare roles and departments, aligning with Pacific Wellness Group's value of teamwork to enhance patient care and facilitate clinic operations.\n",
            "\n",
            "#### Lead Question\n",
            "\n",
            "> **Tell us about a time when you were part of a healthcare team that faced a significant challenge. How did you contribute to overcoming it?**\n",
            "\n",
            "_Look for the ability to work effectively with others, contribute to team goals, and overcome obstacles._\n",
            "\n",
            "#### Diving Deeper\n",
            "\n",
            "- **Interdisciplinary Communication**: Describe how you have effectively communicated with another department or discipline to achieve a patient care goal.\n",
            "- **Collaborative Problem Solving**: Provide an example of a problem you solved as part of a team and the role you played in that process.\n",
            "- **Shared Goals**: Can you discuss a time when you had to align with team members to achieve a common goal? What was the outcome?\n",
            "- **Role Versatility**: How do you adapt when asked to take on tasks outside your usual scope of work?\n",
            "\n",
            "#### Scenario\n",
            "\n",
            "You notice tension arising between team members due to workload distribution and differing opinions on patient care priorities. How would you navigate this situation to restore harmony and ensure that patient care is not compromised?\n",
            "\n",
            "_Look for the ability to mediate conflicts, maintain team cohesiveness, and prioritize patient care._\n",
            "\n",
            "\n"
          ]
        }
      ],
      "source": [
        "behavioral_assessment_2 = create_run(client,my_thread,my_assistant,\"Generate the 2nd Behavioral Assessment section. Don't include the main section header.\")\n",
        "print(behavioral_assessment_2)"
      ]
    },
    {
      "cell_type": "code",
      "execution_count": 595,
      "metadata": {
        "colab": {
          "base_uri": "https://localhost:8080/"
        },
        "id": "lWl-q-ZFhQNU",
        "outputId": "b318ec29-e27e-4df6-ea4b-b2c899155452"
      },
      "outputs": [
        {
          "name": "stdout",
          "output_type": "stream",
          "text": [
            "### Behavioral Competence 3: Professional Development\n",
            "\n",
            "Professional Development focuses on the aspiration for continuous learning and growth, reflecting Pacific Wellness Group's value of mentorship and participation. It represents an individual's commitment to enhance their skill set and contribute to their team's collective expertise.\n",
            "\n",
            "#### Lead Question\n",
            "\n",
            "> **How do you engage in professional development, and can you share a specific instance where this led to improvement in your work or patient care?**\n",
            "\n",
            "_Look for a dedication to learning, application of new knowledge, and an initiative to improve professionally._\n",
            "\n",
            "#### Diving Deeper\n",
            "\n",
            "- **Skill Enhancement**: What methods or resources do you utilize for enhancing your clinical skills?\n",
            "- **Knowledge Sharing**: How have you contributed to the professional growth of your colleagues?\n",
            "- **Mentoring Peers**: Describe your experience with mentoring a less experienced team member. What approach did you take?\n",
            "- **Feedback Welcoming**: Give an example of a time you actively sought out feedback and how you applied it to your professional development.\n",
            "\n",
            "#### Scenario\n",
            "\n",
            "You are offered an opportunity to participate in a new training program that is not mandatory but would significantly expand your current skill set. However, the training would require extra time outside of work hours. How would you decide whether to participate, and what steps would you take to manage your additional workload?\n",
            "\n",
            "_Look for the candidate's willingness to invest in their own growth and balance their responsibilities effectively._\n",
            "\n",
            "\n"
          ]
        }
      ],
      "source": [
        "behavioral_assessment_3 = create_run(client,my_thread,my_assistant,\"Generate the 3rd Behavioral Assessment section. Don't include the main section header.\")\n",
        "print(behavioral_assessment_3)"
      ]
    },
    {
      "cell_type": "code",
      "execution_count": 596,
      "metadata": {
        "colab": {
          "base_uri": "https://localhost:8080/"
        },
        "id": "wQKG2ZxmhTbF",
        "outputId": "47f44f15-4bc9-496e-8d2a-89e1e4852337"
      },
      "outputs": [
        {
          "name": "stdout",
          "output_type": "stream",
          "text": [
            "### Behavioral Competence 4: Ethical Practice & Integrity\n",
            "\n",
            "Ethical Practice & Integrity is about upholding the highest ethical standards and demonstrating integrity in every action and decision, crucial for maintaining trust and respect within Pacific Wellness Group.\n",
            "\n",
            "#### Lead Question\n",
            "\n",
            "> **Can you recount a situation where your integrity was tested in the workplace? How did you handle it, and what was the outcome?**\n",
            "\n",
            "_Look for a commitment to ethical principles, honesty in difficult situations, and accountability for actions._\n",
            "\n",
            "#### Diving Deeper\n",
            "\n",
            "- **Confidentiality**: Describe your approach to maintaining confidentiality of patient information.\n",
            "- **Honesty in Communication**: Talk about a time when you had to be honest with a patient or colleague about a difficult or uncomfortable topic.\n",
            "- **Ethical Decision-Making**: Provide an example of an ethical dilemma you've faced in the clinic and the process you followed to resolve it.\n",
            "- **Professional Accountability**: Discuss a mistake you've made in a professional setting and how you addressed it.\n",
            "\n",
            "#### Scenario\n",
            "\n",
            "Suppose a colleague is unintentionally breaching patient confidentiality. You discover this breach before anyone else. What steps would you take to address the situation while maintaining the respect and trust of your colleague?\n",
            "\n",
            "_Look for the ability to handle sensitive situations diplomatically, uphold ethical standards, and reinforce the importance of confidentiality._\n",
            "\n",
            "\n"
          ]
        }
      ],
      "source": [
        "behavioral_assessment_4 = create_run(client,my_thread,my_assistant,\"Generate the 4th Behavioral Assessment section. Don't include the main section header.\")\n",
        "print(behavioral_assessment_4)"
      ]
    },
    {
      "cell_type": "code",
      "execution_count": 597,
      "metadata": {
        "colab": {
          "base_uri": "https://localhost:8080/"
        },
        "id": "gwcBpL0ZhWxW",
        "outputId": "181af5bf-40d9-4c21-d709-4b2fac9062c5"
      },
      "outputs": [
        {
          "name": "stdout",
          "output_type": "stream",
          "text": [
            "### Behavioral Competence 5: Organizational Skills\n",
            "\n",
            "Organizational Skills reflect an individual's ability to manage tasks effectively, enhancing clinic efficiency and directly supporting Pacific Wellness Group's value of uniting diverse perspectives for the greater good.\n",
            "\n",
            "#### Lead Question\n",
            "\n",
            "> **Tell us about a time when your organizational skills directly contributed to improving patient care or clinic workflow.**\n",
            "\n",
            "_Look for examples of efficient task management, solution-oriented thinking, and successful outcomes._\n",
            "\n",
            "#### Diving Deeper\n",
            "\n",
            "- **Prioritization**: How do you decide what tasks to prioritize when everything seems urgent?\n",
            "- **Time Management**: Can you provide an example of how you managed your time effectively during an especially busy period?\n",
            "- **Resource Coordination**: Describe a situation where you had to coordinate multiple resources to complete a task or project.\n",
            "- **Plan Execution**: Share an experience where you had to adjust your plan due to unforeseen circumstances while ensuring all tasks were completed.\n",
            "\n",
            "#### Scenario\n",
            "\n",
            "You are in charge of coordinating a flu vaccine clinic that will serve a large number of patients. On the day of the clinic, several staff members call in sick, and you are faced with limited resources. How would you reorganize the clinic's operations to ensure minimal disruption to patient services?\n",
            "\n",
            "_Look for the ability to adapt and re-prioritize in response to changing circumstances without compromising quality of service._\n",
            "\n",
            "\n"
          ]
        }
      ],
      "source": [
        "behavioral_assessment_5 = create_run(client,my_thread,my_assistant,\"Generate the 5th Behavioral Assessment section. Don't include the main section header.\")\n",
        "print(behavioral_assessment_5)"
      ]
    },
    {
      "cell_type": "code",
      "execution_count": 598,
      "metadata": {
        "id": "GN20fqZPhhkS"
      },
      "outputs": [],
      "source": [
        "behavioral_assessment = behavioral_assessment_1 + behavioral_assessment_2 + behavioral_assessment_3 + behavioral_assessment_4 + behavioral_assessment_5"
      ]
    },
    {
      "cell_type": "markdown",
      "metadata": {
        "id": "7A6ZM1-G4dQn"
      },
      "source": [
        "# Create Practical Assignment"
      ]
    },
    {
      "cell_type": "code",
      "execution_count": 599,
      "metadata": {
        "colab": {
          "base_uri": "https://localhost:8080/"
        },
        "id": "N_xZRljj4cMB",
        "outputId": "1cfa5c1e-2bea-48d8-a100-1036e0dcfd4b"
      },
      "outputs": [
        {
          "name": "stdout",
          "output_type": "stream",
          "text": [
            "## Practical Assignment\n",
            "\n",
            "For the Medical Assistant II position, the practical assignment will involve a hands-on simulation exercise to evaluate the candidate’s clinical skills, technical aptitude, and ability to communicate effectively within a healthcare setting.\n",
            "\n",
            "The assignment objectives are to assess the candidate’s:\n",
            "- Proficiency in clinical procedures under simulated conditions.\n",
            "- Application of medical knowledge to a practical scenario.\n",
            "- Usage of electronic medical records and other technology in patient management.\n",
            "- Performance of Basic Life Support procedures with a mannequin.\n",
            "\n",
            "During the simulation, the interviewer will evaluate the candidate's approach to patient care, adherence to safety protocols, and ability to handle unexpected challenges. This will provide an insight into their practical skills and how they translate medical knowledge into action.\n",
            "\n",
            "The interviewer should assess the candidate's ability to stay composed, communicate clearly, and prioritize tasks efficiently. Feedback should focus on the candidate's technical execution, problem-solving skills, and potential areas for development.\n",
            "\n",
            "\n"
          ]
        }
      ],
      "source": [
        "practical_assignment = create_run(client,my_thread,my_assistant,\"Generate the Practical Assignment section.\")\n",
        "print(practical_assignment)\n"
      ]
    },
    {
      "cell_type": "markdown",
      "metadata": {
        "id": "WuW7-2ie4niI"
      },
      "source": [
        "# Create Team Interaction"
      ]
    },
    {
      "cell_type": "code",
      "execution_count": 600,
      "metadata": {
        "colab": {
          "base_uri": "https://localhost:8080/"
        },
        "id": "Tzl6B_wB4prG",
        "outputId": "9cc5ab6e-c357-4ed9-93f1-c00270d5749d"
      },
      "outputs": [
        {
          "name": "stdout",
          "output_type": "stream",
          "text": [
            "## Team Fit\n",
            "\n",
            "The team fit segment of the interview process assesses how well the candidate integrates with the existing clinic team, and whether their style of communication, collaboration, and problem-solving aligns with the team dynamics as well as Pacific Wellness Group's values.\n",
            "\n",
            "During this phase, the candidate will interact with potential team members in a less formal setting, such as a group discussion or a small project collaboration. This provides an opportunity to observe the candidate’s interaction styles, their impact on the team atmosphere, and their ability to contribute to group objectives.\n",
            "\n",
            "Discussion points or activities may revolve around past team experiences, how the candidate approaches collaborative work, conflict resolution, and their strategies for maintaining team cohesiveness. It is beneficial to include scenarios or role-play exercises to see the candidate's real-time interaction with team members.\n",
            "\n",
            "\n"
          ]
        }
      ],
      "source": [
        "team_interaction = create_run(client,my_thread,my_assistant,\"Generate the Team Interaction section.\")\n",
        "print(team_interaction)"
      ]
    },
    {
      "cell_type": "markdown",
      "metadata": {
        "id": "fwB0KPJM4qSI"
      },
      "source": [
        "# Create Candidate Q&A"
      ]
    },
    {
      "cell_type": "code",
      "execution_count": 601,
      "metadata": {
        "colab": {
          "base_uri": "https://localhost:8080/"
        },
        "id": "9iEeRg924sST",
        "outputId": "14834dc6-7fd1-4eff-f336-c5fb9cd76a3d"
      },
      "outputs": [
        {
          "name": "stdout",
          "output_type": "stream",
          "text": [
            "## Candidate Q&A\n",
            "\n",
            "This section outlines questions that candidates might ask during the interview and provides comprehensive answers designed to offer insights into the role, the Pacific Wellness Group, and the expectations of the Medical Assistant II position.\n",
            "\n",
            "1. **What does a typical day look like for a Medical Assistant II at Pacific Wellness Group?**\n",
            "   A typical day involves a mix of patient care, assisting physicians with clinical procedures, managing electronic medical records, and participating in team huddles to discuss patient care priorities.\n",
            "\n",
            "2. **How does Pacific Wellness Group ensure continuous professional development for its staff?**\n",
            "   We offer regular in-house training, mentorship programs, tuition reimbursement for relevant courses, and support for obtaining specialized certifications.\n",
            "\n",
            "3. **Can you tell me more about how the clinic incorporates the Pacific Wellness Group values into daily operations?**\n",
            "   Our clinic operations are grounded in our core values; innovation is at the heart of our clinical procedures, connection guides our patient interactions, teamwork is fundamental in our collaborative environment, mentorship enhances professional growth, and action drives our decision-making processes to improve patient outcomes.\n",
            "\n",
            "4. **What is the patient-to-staff ratio, and how does it affect workflow?**\n",
            "   Our staffing is designed to optimize patient care without overburdening our staff, ensuring that medical assistants can focus on quality interactions with each patient.\n",
            "\n",
            "5. **How does the clinic measure success in terms of patient care and satisfaction?**\n",
            "   We use a combination of patient feedback surveys, treatment outcome analytics, and regular staff reviews to gauge both patient care quality and satisfaction levels.\n",
            "\n",
            "6. **What are the opportunities for advancement within Pacific Wellness Group for a Medical Assistant II?**\n",
            "   There are significant opportunities for advancement through assuming higher levels of responsibility, moving into specialized areas of care, or pursuing managerial roles. Performance, ongoing education, and professional development are key factors in advancement potential.\n",
            "\n",
            "\n"
          ]
        }
      ],
      "source": [
        "candidate_questions = create_run(client,my_thread,my_assistant,\"\"\"\n",
        "    Generate the Candidate Q&A section. Include example answers.\n",
        "    \"\"\")\n",
        "print(candidate_questions)"
      ]
    },
    {
      "cell_type": "markdown",
      "metadata": {
        "id": "14LWju-TkCyZ"
      },
      "source": [
        "# Finalize the Playbook HTML"
      ]
    },
    {
      "cell_type": "markdown",
      "metadata": {
        "id": "hxk5korrTkks"
      },
      "source": [
        "## Convert the markdown to HTML"
      ]
    },
    {
      "cell_type": "markdown",
      "metadata": {
        "id": "LM_V2VoceTjx"
      },
      "source": [
        "We are doing this in chunks so that we can do more useful things with it in the HTML output"
      ]
    },
    {
      "cell_type": "code",
      "execution_count": 602,
      "metadata": {
        "id": "saH2GGfdTjzh"
      },
      "outputs": [],
      "source": [
        "import markdown\n",
        "\n",
        "# Convert Markdown to HTML\n",
        "html_job_description = markdown.markdown(job_description, extensions=['extra','mdx_truly_sane_lists'])\n",
        "html_playbook_title = markdown.markdown(playbook_title, extensions=['extra','mdx_truly_sane_lists'])\n",
        "html_intro = markdown.markdown(intro, extensions=['extra','mdx_truly_sane_lists'])\n",
        "html_interview_structure = markdown.markdown(interview_structure, extensions=['extra','mdx_truly_sane_lists'])\n",
        "html_technical_assessment = markdown.markdown(technical_assessment, extensions=['extra','mdx_truly_sane_lists'])\n",
        "html_behavioral_assessment = markdown.markdown(behavioral_assessment, extensions=['extra','mdx_truly_sane_lists'])\n",
        "html_practical_assignment = markdown.markdown(practical_assignment, extensions=['extra','mdx_truly_sane_lists'])\n",
        "html_candidate_questions = markdown.markdown(candidate_questions, extensions=['extra','mdx_truly_sane_lists'])\n",
        "html_team_interaction = markdown.markdown(team_interaction, extensions=['extra','mdx_truly_sane_lists'])\n",
        "html_eval_criteria = markdown.markdown(eval_criteria, extensions=['extra','mdx_truly_sane_lists'])\n",
        "\n",
        "\n",
        "html_technical_assessment_1 = markdown.markdown(technical_assessment_1, extensions=['extra','mdx_truly_sane_lists'])\n",
        "html_technical_assessment_2 = markdown.markdown(technical_assessment_2, extensions=['extra','mdx_truly_sane_lists'])\n",
        "html_technical_assessment_3 = markdown.markdown(technical_assessment_3, extensions=['extra','mdx_truly_sane_lists'])\n",
        "html_technical_assessment_4 = markdown.markdown(technical_assessment_4, extensions=['extra','mdx_truly_sane_lists'])\n",
        "html_technical_assessment_5 = markdown.markdown(technical_assessment_5, extensions=['extra','mdx_truly_sane_lists'])\n",
        "\n",
        "html_behavioral_assessment_1 = markdown.markdown(behavioral_assessment_1, extensions=['extra','mdx_truly_sane_lists'])\n",
        "html_behavioral_assessment_2 = markdown.markdown(behavioral_assessment_2, extensions=['extra','mdx_truly_sane_lists'])\n",
        "html_behavioral_assessment_3 = markdown.markdown(behavioral_assessment_3, extensions=['extra','mdx_truly_sane_lists'])\n",
        "html_behavioral_assessment_4 = markdown.markdown(behavioral_assessment_4, extensions=['extra','mdx_truly_sane_lists'])\n",
        "html_behavioral_assessment_5 = markdown.markdown(behavioral_assessment_5, extensions=['extra','mdx_truly_sane_lists'])\n",
        "\n"
      ]
    },
    {
      "cell_type": "markdown",
      "metadata": {
        "id": "S9YOnvQrds_P"
      },
      "source": [
        "## Build the HTML"
      ]
    },
    {
      "cell_type": "markdown",
      "metadata": {
        "id": "b-59Vx2xdrsb"
      },
      "source": [
        "Borrowed colors from this [color palette](https://color.adobe.com/PALETTE-mini-06:-Transparent-color-theme-15d8c4a6-b06a-4530-bf5b-3fc8102ccd69)"
      ]
    },
    {
      "cell_type": "code",
      "execution_count": 603,
      "metadata": {
        "id": "HZ5d6Q8ij_Rd"
      },
      "outputs": [],
      "source": [
        "# Open the file and read the contents\n",
        "with open('styles.css', 'r') as file:\n",
        "    # Read the entire content of the file into a single string variable\n",
        "    styles = file.read()\n",
        "\n",
        "\n",
        "html_notes = \"\"\"<h4>Notes</h4><div class='notes'>\n",
        "    <div class=\"dotted-line\"></div>\n",
        "    <div class=\"dotted-line\"></div>\n",
        "    <div class=\"dotted-line\"></div>\n",
        "    <div class=\"dotted-line\"></div>\n",
        "    <div class=\"dotted-line\"></div>\n",
        "    <div class=\"dotted-line\"></div>\n",
        "    <div class=\"rating-container\">\n",
        "    <label for=\"rating-line\">Rating (1-5):</label>\n",
        "    <div id=\"rating-line\" class=\"short-dotted-line\"></div>\n",
        "    </div>\n",
        "</div>\"\"\"\n",
        "\n",
        "html_short_notes = \"\"\"<h4>Notes</h4><div class='notes'>\n",
        "    <div class=\"dotted-line\"></div>\n",
        "    <div class=\"dotted-line\"></div>\n",
        "    <div class=\"dotted-line\"></div>\n",
        "    <div class=\"rating-container\">\n",
        "    <label for=\"rating-line\">Rating (1-5):</label>\n",
        "    <div class=\"short-dotted-line\"></div>\n",
        "    </div>\n",
        "</div>\"\"\"\n",
        "\n",
        "from datetime import datetime\n",
        "\n",
        "# Getting today's date in a nicely formatted string for US English\n",
        "publication_date = datetime.now().strftime(\"%B %d, %Y\")\n",
        "\n",
        "\n",
        "# Open the HTML file and read its content\n",
        "with open('template.html', 'r') as file:\n",
        "    html_template = file.read()\n",
        "\n",
        "# Replace the placeholders with the actual variables\n",
        "html_content = html_template.format(\n",
        "    styles=styles,\n",
        "    html_playbook_title=html_playbook_title,\n",
        "    publication_date=publication_date,\n",
        "    html_intro=html_intro,\n",
        "    html_interview_structure=html_interview_structure,\n",
        "    html_job_description=html_job_description,\n",
        "    html_eval_criteria=html_eval_criteria,\n",
        "    html_technical_assessment_1=html_technical_assessment_1,\n",
        "    html_short_notes=html_short_notes,\n",
        "    html_technical_assessment_2=html_technical_assessment_2,\n",
        "    html_notes=html_notes,\n",
        "    html_technical_assessment_3=html_technical_assessment_3,\n",
        "    html_technical_assessment_4=html_technical_assessment_4,\n",
        "    html_technical_assessment_5=html_technical_assessment_5,\n",
        "    html_behavioral_assessment_1=html_behavioral_assessment_1,\n",
        "    html_behavioral_assessment_2=html_behavioral_assessment_2,\n",
        "    html_behavioral_assessment_3=html_behavioral_assessment_3,\n",
        "    html_behavioral_assessment_4=html_behavioral_assessment_4,\n",
        "    html_behavioral_assessment_5=html_behavioral_assessment_5,\n",
        "    html_practical_assignment=html_practical_assignment,\n",
        "    html_team_interaction=html_team_interaction,\n",
        "    html_candidate_questions=html_candidate_questions\n",
        ")\n",
        "\n",
        "# Write HTML string to a file\n",
        "with open(html_destination, 'w') as file:\n",
        "    file.write(html_content)\n",
        "\n",
        "\n",
        "# Display the Markdown-formatted text in the notebook\n",
        "# from IPython.display import display, HTML\n",
        "# display(HTML(html_content))\n"
      ]
    },
    {
      "cell_type": "markdown",
      "metadata": {
        "id": "O616O7upoV-T"
      },
      "source": [
        "# Create the Documents"
      ]
    },
    {
      "cell_type": "markdown",
      "metadata": {
        "id": "D04s7TxrS98T"
      },
      "source": [
        "### Create PDF from HTML"
      ]
    },
    {
      "cell_type": "code",
      "execution_count": 604,
      "metadata": {
        "colab": {
          "base_uri": "https://localhost:8080/",
          "height": 225
        },
        "id": "IvxTVtggloVo",
        "outputId": "8ba9612a-1bea-4daa-93d4-35291600f0e8"
      },
      "outputs": [],
      "source": [
        "from weasyprint import HTML\n",
        "\n",
        "# Convert HTML to PDF using WeasyPrint\n",
        "#HTML('playbook.html').write_pdf('playbook.pdf', stylesheets=['style.css'], presentational_hints=True)\n",
        "HTML(html_destination).write_pdf(pdf_destination, stylesheets=['styles.css'], full_fonts=True, hinting=True, presentational_hints=True)\n",
        "\n"
      ]
    },
    {
      "cell_type": "markdown",
      "metadata": {
        "id": "lQyaspI3Tbu0"
      },
      "source": [
        "## Create a markdown version\n",
        "\n",
        "For use in GitHub as an example"
      ]
    },
    {
      "cell_type": "code",
      "execution_count": 637,
      "metadata": {},
      "outputs": [
        {
          "name": "stdout",
          "output_type": "stream",
          "text": [
            "January 01, 2024 3:40 PM\n",
            "32611\n",
            "The Interview Playbook is a comprehensive resource for evaluating candidates for the Medical Assistant II role at Pacific Wellness Group. It provides a clear structure for the interview process, specifying the technical and behavioral competencies required for the position. The guide's purpose is to enable objective and thorough candidate evaluations, ensuring they meet the high standards of patient care and organizational culture at Pacific Wellness Group.\n",
            "\n",
            "\n"
          ]
        }
      ],
      "source": [
        "notes_snippet_md = \"\"\"##### Notes\\n\n",
        "\\\\__________________________________________________________________________________________\n",
        "\\\\__________________________________________________________________________________________\n",
        "\\\\__________________________________________________________________________________________\n",
        "\\\\__________________________________________________________________________________________\n",
        "\\\\__________________________________________________________________________________________\n",
        "\\\\__________________________________________________________________________________________\\n\n",
        "Rating (1-5): \\\\__________\\n\\n\\n\"\"\"\n",
        "\n",
        "from datetime import datetime\n",
        "\n",
        "# Get the current date and time\n",
        "now = datetime.now()\n",
        "\n",
        "# Format the date and time in a nice readable format\n",
        "formatted_now = now.strftime(\"%B %d, %Y %-I:%M %p\")\n",
        "\n",
        "print(formatted_now)\n",
        "\n",
        "playbook_body_md = f\"\"\"\n",
        "### Interview Structure\n",
        "{interview_structure}\n",
        "\n",
        "### Job Description\n",
        "{job_description}\n",
        "\n",
        "## Evaluation Scorecard\n",
        "{eval_criteria}\n",
        "\n",
        "{technical_assessment_1}\n",
        "{notes_snippet_md}\n",
        "            \n",
        "{technical_assessment_2}\n",
        "{notes_snippet_md}\n",
        "\n",
        "{technical_assessment_3}\n",
        "{notes_snippet_md}\n",
        "\n",
        "{technical_assessment_4}\n",
        "{notes_snippet_md}\n",
        "            \n",
        "{technical_assessment_5}\n",
        "{notes_snippet_md}\n",
        "            \n",
        "{behavioral_assessment_1}\n",
        "{notes_snippet_md}\n",
        "\n",
        "{behavioral_assessment_2}\n",
        "{notes_snippet_md}\n",
        "            \n",
        "{behavioral_assessment_3}\n",
        "{notes_snippet_md}\n",
        "            \n",
        "{behavioral_assessment_4}\n",
        "{notes_snippet_md}\n",
        "            \n",
        "{behavioral_assessment_5}\n",
        "{notes_snippet_md}\n",
        "            \n",
        "{practical_assignment}\n",
        "{notes_snippet_md}\n",
        "\n",
        "{team_interaction}\n",
        "{notes_snippet_md}\n",
        "\n",
        "{candidate_questions}\n",
        "\"\"\"\n",
        "\n",
        "print(len(playbook_body_md))\n",
        "\n",
        "# exec_summary = create_run(client,my_thread,my_assistant,f\"\"\"\n",
        "#    Write a summary for this document:\n",
        "#\n",
        "#    {playbook_body_md}\n",
        "#    \"\"\")\n",
        "\n",
        "exec_summary = create_run(client,my_thread,my_assistant,f\"\"\"\n",
        "    Write a detailed introduction for the document. Be clear and concise and don't use flowery language.\n",
        "    \"\"\")\n",
        "\n",
        "    \n",
        "print(exec_summary)"
      ]
    },
    {
      "cell_type": "code",
      "execution_count": 638,
      "metadata": {},
      "outputs": [],
      "source": [
        "playbook_md = f\"\"\"--- \n",
        "title: {playbook_title}\n",
        "author: Created by [Deliverables.ai](https://github.com/androb/deliverables)\n",
        "date: {formatted_now}\n",
        "--- \n",
        "\n",
        "## Introduction\n",
        "{exec_summary}\n",
        "            \n",
        "{playbook_body_md}\n",
        "\"\"\"\n",
        "\n",
        "\n",
        "# Write playbook to a text file\n",
        "with open(markdown_destination, 'w') as file:\n",
        "    file.write(playbook_md)\n"
      ]
    },
    {
      "cell_type": "markdown",
      "metadata": {
        "id": "3E7xN0QjS6p5"
      },
      "source": [
        "### Create Word Document from Markdown"
      ]
    },
    {
      "cell_type": "code",
      "execution_count": 639,
      "metadata": {
        "id": "sAhMgYsb0lp3"
      },
      "outputs": [
        {
          "name": "stdout",
          "output_type": "stream",
          "text": [
            "WARNING: Ignored `text-rendering: optimizeLegibility` at 15:7, unknown property.\n",
            "WARNING: Expected a media type, got '(max-width: 600px)'\n",
            "WARNING: Invalid media type ' (max-width: 600px) ' the whole @media rule was ignored at 18:5.\n",
            "WARNING: Ignored `overflow-x: auto` at 112:7, unknown property.\n",
            "WARNING: Ignored `gap: min(4vw, 1.5em)` at 149:32, unknown property.\n",
            "WARNING: Ignored `overflow-x: auto` at 150:28, unknown property.\n",
            "WARNING: Anchor defined twice: 'title-block-header'\n"
          ]
        }
      ],
      "source": [
        "# Convert from markdown to docx\n",
        "!pandoc -s {markdown_destination} -o {word_destination} --reference-doc=\"custom-reference.docx\" --toc=True --toc-depth=2 --shift-heading-level-by -1\n",
        "!pandoc -s {markdown_destination} -o {html_destination} --template=html-reference --toc=True\n",
        "!pandoc --pdf-engine \"weasyprint\" -s {html_destination} -o {pdf_destination}\n",
        "\n",
        "# use this extension to shift headings to differ between HTML and docx\n",
        "# --shift-heading-level-by -1\n",
        "\n",
        "# Convert from markdown to PDF via HTML\n",
        "# !pandoc --pdf-engine \"weasyprint\" -s {markdown_destination} -o {pdf_destination} --reference-doc=\"custom-reference.docx\" --toc=True\n",
        "# !pandoc --pdf-engine \"weasyprint\" -s {word_destination} -o {pdf_destination}\n"
      ]
    },
    {
      "cell_type": "code",
      "execution_count": null,
      "metadata": {},
      "outputs": [],
      "source": [
        "pptx_destination = destination_directory + \"playbook.pptx\"\n",
        "!pandoc -s {markdown_destination} -o {pptx_destination}"
      ]
    }
  ],
  "metadata": {
    "colab": {
      "provenance": []
    },
    "kernelspec": {
      "display_name": "Python 3",
      "name": "python3"
    },
    "language_info": {
      "codemirror_mode": {
        "name": "ipython",
        "version": 3
      },
      "file_extension": ".py",
      "mimetype": "text/x-python",
      "name": "python",
      "nbconvert_exporter": "python",
      "pygments_lexer": "ipython3",
      "version": "3.12.0"
    }
  },
  "nbformat": 4,
  "nbformat_minor": 0
}
