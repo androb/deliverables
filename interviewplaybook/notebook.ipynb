{
  "cells": [
    {
      "cell_type": "markdown",
      "metadata": {},
      "source": [
        "# Setup"
      ]
    },
    {
      "cell_type": "code",
      "execution_count": 527,
      "metadata": {
        "colab": {
          "base_uri": "https://localhost:8080/"
        },
        "id": "azLYd2_T9j3p",
        "outputId": "f99c4218-325c-4b2c-dea4-fe8a12b2f281"
      },
      "outputs": [
        {
          "name": "stdout",
          "output_type": "stream",
          "text": [
            "Requirement already satisfied: OpenAI in /Users/andrewroberts/anaconda3/envs/deliverables/lib/python3.12/site-packages (1.6.0)\n",
            "Requirement already satisfied: markdown in /Users/andrewroberts/anaconda3/envs/deliverables/lib/python3.12/site-packages (3.5.1)\n",
            "Requirement already satisfied: mdx_truly_sane_lists in /Users/andrewroberts/anaconda3/envs/deliverables/lib/python3.12/site-packages (1.3)\n",
            "Requirement already satisfied: weasyprint in /Users/andrewroberts/anaconda3/envs/deliverables/lib/python3.12/site-packages (60.2)\n",
            "Requirement already satisfied: python-dotenv in /Users/andrewroberts/anaconda3/envs/deliverables/lib/python3.12/site-packages (1.0.0)\n",
            "Requirement already satisfied: pango in /Users/andrewroberts/anaconda3/envs/deliverables/lib/python3.12/site-packages (0.0.1)\n",
            "Requirement already satisfied: pdflatex in /Users/andrewroberts/anaconda3/envs/deliverables/lib/python3.12/site-packages (0.1.3)\n",
            "Requirement already satisfied: anyio<5,>=3.5.0 in /Users/andrewroberts/anaconda3/envs/deliverables/lib/python3.12/site-packages (from OpenAI) (4.2.0)\n",
            "Requirement already satisfied: distro<2,>=1.7.0 in /Users/andrewroberts/anaconda3/envs/deliverables/lib/python3.12/site-packages (from OpenAI) (1.8.0)\n",
            "Requirement already satisfied: httpx<1,>=0.23.0 in /Users/andrewroberts/anaconda3/envs/deliverables/lib/python3.12/site-packages (from OpenAI) (0.25.2)\n",
            "Requirement already satisfied: pydantic<3,>=1.9.0 in /Users/andrewroberts/anaconda3/envs/deliverables/lib/python3.12/site-packages (from OpenAI) (2.5.2)\n",
            "Requirement already satisfied: sniffio in /Users/andrewroberts/anaconda3/envs/deliverables/lib/python3.12/site-packages (from OpenAI) (1.3.0)\n",
            "Requirement already satisfied: tqdm>4 in /Users/andrewroberts/anaconda3/envs/deliverables/lib/python3.12/site-packages (from OpenAI) (4.66.1)\n",
            "Requirement already satisfied: typing-extensions<5,>=4.7 in /Users/andrewroberts/anaconda3/envs/deliverables/lib/python3.12/site-packages (from OpenAI) (4.9.0)\n",
            "Requirement already satisfied: pydyf>=0.8.0 in /Users/andrewroberts/anaconda3/envs/deliverables/lib/python3.12/site-packages (from weasyprint) (0.8.0)\n",
            "Requirement already satisfied: cffi>=0.6 in /Users/andrewroberts/anaconda3/envs/deliverables/lib/python3.12/site-packages (from weasyprint) (1.16.0)\n",
            "Requirement already satisfied: html5lib>=1.1 in /Users/andrewroberts/anaconda3/envs/deliverables/lib/python3.12/site-packages (from weasyprint) (1.1)\n",
            "Requirement already satisfied: tinycss2>=1.0.0 in /Users/andrewroberts/anaconda3/envs/deliverables/lib/python3.12/site-packages (from weasyprint) (1.2.1)\n",
            "Requirement already satisfied: cssselect2>=0.1 in /Users/andrewroberts/anaconda3/envs/deliverables/lib/python3.12/site-packages (from weasyprint) (0.7.0)\n",
            "Requirement already satisfied: Pyphen>=0.9.1 in /Users/andrewroberts/anaconda3/envs/deliverables/lib/python3.12/site-packages (from weasyprint) (0.14.0)\n",
            "Requirement already satisfied: Pillow>=9.1.0 in /Users/andrewroberts/anaconda3/envs/deliverables/lib/python3.12/site-packages (from weasyprint) (10.1.0)\n",
            "Requirement already satisfied: fonttools>=4.0.0 in /Users/andrewroberts/anaconda3/envs/deliverables/lib/python3.12/site-packages (from fonttools[woff]>=4.0.0->weasyprint) (4.47.0)\n",
            "Requirement already satisfied: attrs<19.0,>=18.2 in /Users/andrewroberts/anaconda3/envs/deliverables/lib/python3.12/site-packages (from pdflatex) (18.2.0)\n",
            "Requirement already satisfied: idna>=2.8 in /Users/andrewroberts/anaconda3/envs/deliverables/lib/python3.12/site-packages (from anyio<5,>=3.5.0->OpenAI) (3.6)\n",
            "Requirement already satisfied: pycparser in /Users/andrewroberts/anaconda3/envs/deliverables/lib/python3.12/site-packages (from cffi>=0.6->weasyprint) (2.21)\n",
            "Requirement already satisfied: webencodings in /Users/andrewroberts/anaconda3/envs/deliverables/lib/python3.12/site-packages (from cssselect2>=0.1->weasyprint) (0.5.1)\n",
            "Requirement already satisfied: zopfli>=0.1.4 in /Users/andrewroberts/anaconda3/envs/deliverables/lib/python3.12/site-packages (from fonttools[woff]>=4.0.0->weasyprint) (0.2.3)\n",
            "Requirement already satisfied: brotli>=1.0.1 in /Users/andrewroberts/anaconda3/envs/deliverables/lib/python3.12/site-packages (from fonttools[woff]>=4.0.0->weasyprint) (1.1.0)\n",
            "Requirement already satisfied: six>=1.9 in /Users/andrewroberts/anaconda3/envs/deliverables/lib/python3.12/site-packages (from html5lib>=1.1->weasyprint) (1.16.0)\n",
            "Requirement already satisfied: certifi in /Users/andrewroberts/anaconda3/envs/deliverables/lib/python3.12/site-packages (from httpx<1,>=0.23.0->OpenAI) (2023.11.17)\n",
            "Requirement already satisfied: httpcore==1.* in /Users/andrewroberts/anaconda3/envs/deliverables/lib/python3.12/site-packages (from httpx<1,>=0.23.0->OpenAI) (1.0.2)\n",
            "Requirement already satisfied: h11<0.15,>=0.13 in /Users/andrewroberts/anaconda3/envs/deliverables/lib/python3.12/site-packages (from httpcore==1.*->httpx<1,>=0.23.0->OpenAI) (0.14.0)\n",
            "Requirement already satisfied: annotated-types>=0.4.0 in /Users/andrewroberts/anaconda3/envs/deliverables/lib/python3.12/site-packages (from pydantic<3,>=1.9.0->OpenAI) (0.6.0)\n",
            "Requirement already satisfied: pydantic-core==2.14.5 in /Users/andrewroberts/anaconda3/envs/deliverables/lib/python3.12/site-packages (from pydantic<3,>=1.9.0->OpenAI) (2.14.5)\n",
            "Note: you may need to restart the kernel to use updated packages.\n"
          ]
        }
      ],
      "source": [
        "%pip install OpenAI markdown mdx_truly_sane_lists weasyprint python-dotenv pango pdflatex"
      ]
    },
    {
      "cell_type": "code",
      "execution_count": 337,
      "metadata": {
        "id": "3_jkcGWaQvvs"
      },
      "outputs": [
        {
          "data": {
            "text/plain": [
              "True"
            ]
          },
          "execution_count": 337,
          "metadata": {},
          "output_type": "execute_result"
        }
      ],
      "source": [
        "import os\n",
        "\n",
        "from dotenv import load_dotenv\n",
        "load_dotenv()  # Load the environment variables from .env file"
      ]
    },
    {
      "cell_type": "markdown",
      "metadata": {},
      "source": [
        "Set up the OpenAI Assistant"
      ]
    },
    {
      "cell_type": "code",
      "execution_count": 338,
      "metadata": {},
      "outputs": [],
      "source": [
        "from openai import OpenAI\n",
        "client = OpenAI()\n",
        "\n",
        "#  get the prompt from the file system\n",
        "with open('prompt.md', 'r') as file:\n",
        "    # Read the entire content of the file into a single string variable\n",
        "    prompt = file.read()\n",
        "\n",
        "# simple retrieve of the Assistant - not necessary because we are doing an update\n",
        "# my_assistant = client.beta.assistants.retrieve(\"asst_3WQiw8VJ91XWikievImBqwrZ\")\n",
        "\n",
        "# update the assistant with the latest prompt\n",
        "my_assistant = client.beta.assistants.update(\n",
        "  \"asst_3WQiw8VJ91XWikievImBqwrZ\",\n",
        "  instructions=prompt,\n",
        "  name=\"Interview Playbook Generator\",\n",
        "  tools=[{\"type\": \"retrieval\"}],\n",
        "  model=\"gpt-4-1106-preview\"\n",
        "  # model=\"gpt-3.5-turbo-1106\"\n",
        ")"
      ]
    },
    {
      "cell_type": "code",
      "execution_count": 339,
      "metadata": {
        "id": "ianKdgCtS-Yp"
      },
      "outputs": [],
      "source": [
        "# create a thread\n",
        "my_thread = client.beta.threads.create()\n",
        "\n",
        "import time\n",
        "\n",
        "def create_run(client, my_thread, my_assistant, content, file_ids=None):\n",
        "    \"\"\"\n",
        "    Create a message, run it, and display the response.\n",
        "\n",
        "    Args:\n",
        "    client (Client): The API client.\n",
        "    my_thread (Thread): The thread to post the message to.\n",
        "    my_assistant (Assistant): The assistant to use for the run.\n",
        "    content (str): The content of the message.\n",
        "    file_ids (list, optional): List of file IDs to attach to the message.\n",
        "\n",
        "    Returns:\n",
        "    str: The response content.\n",
        "\n",
        "    Raises:\n",
        "    ValueError: If any of the parameters are invalid.\n",
        "    RuntimeError: If the run does not complete successfully.\n",
        "    \"\"\"\n",
        "\n",
        "    if not all([client, my_thread, my_assistant, content]):\n",
        "        raise ValueError(\"Invalid parameters provided.\")\n",
        "\n",
        "    extra_instructions = \"\"\" ONLY return the content as John Gruber's markdown with no delimiters and with no commentary whatsoever.\"\"\"\n",
        "\n",
        "    # Create the message\n",
        "    thread_message = client.beta.threads.messages.create(\n",
        "        my_thread.id,\n",
        "        role=\"user\",\n",
        "        content=content + extra_instructions,\n",
        "        file_ids=file_ids or []\n",
        "    )\n",
        "\n",
        "    # Hard code the values for max_retries and wait_seconds\n",
        "    max_retries = 120\n",
        "    wait_seconds = 0.5\n",
        "\n",
        "    # Create a run\n",
        "    run = client.beta.threads.runs.create(\n",
        "        thread_id=my_thread.id,\n",
        "        assistant_id=my_assistant.id\n",
        "    )\n",
        "\n",
        "    # Check the run's status\n",
        "    for _ in range(max_retries):\n",
        "        run = client.beta.threads.runs.retrieve(\n",
        "            thread_id=my_thread.id,\n",
        "            run_id=run.id)\n",
        "        if run.status == \"completed\":\n",
        "            break\n",
        "        time.sleep(wait_seconds)\n",
        "    else:\n",
        "        raise RuntimeError(\"Run did not complete successfully.\")\n",
        "\n",
        "    # Retrieve and return the response\n",
        "    all_messages = client.beta.threads.messages.list(thread_id=my_thread.id)\n",
        "    return all_messages.data[0].content[0].text.value + \"\\n\\n\"\n"
      ]
    },
    {
      "cell_type": "markdown",
      "metadata": {
        "id": "DxSAZm5tzT62"
      },
      "source": [
        "## Initial File Upload and Prompt"
      ]
    },
    {
      "cell_type": "code",
      "execution_count": 340,
      "metadata": {
        "colab": {
          "base_uri": "https://localhost:8080/"
        },
        "id": "G23reYVLTmQc",
        "outputId": "e29e96de-754f-455e-d526-b5e3f459e266"
      },
      "outputs": [],
      "source": [
        "import time\n",
        "\n",
        "# Which example to run\n",
        "choice = 'medical-assistant'\n",
        "#choice = 'infra-engineer'\n",
        "#choice = 'customer-success-manager'\n",
        "#choice = 'real-estate-litigator'\n",
        "\n",
        "destination_directory = \"examples/\" + choice + \"/\"\n",
        "html_destination = destination_directory + 'playbook.html'\n",
        "pdf_destination = destination_directory + 'playbook.pdf'\n",
        "markdown_destination = destination_directory + 'playbook.md'\n",
        "word_destination = destination_directory + 'playbook.docx'\n",
        "\n",
        "company_file = \"examples/\" + choice + \"/about-company.md\"\n",
        "\n",
        "# Upload the company description\n",
        "file_company_values = client.files.create(\n",
        "  file=open(company_file, \"rb\"),\n",
        "  purpose=\"assistants\"\n",
        ")\n",
        "\n",
        "job_description_file = \"examples/\" + choice + \"/job-description.md\"\n",
        "# Open the file and read the contents\n",
        "with open(job_description_file, 'r') as file:\n",
        "    # Read the entire content of the file into a single string variable\n",
        "    job_description = file.read()\n",
        "\n",
        "# Upload the job description file\n",
        "file_job_description = client.files.create(\n",
        "  file=open(job_description_file, \"rb\"),\n",
        "  purpose=\"assistants\"\n",
        ")\n",
        "\n",
        "# give OpenAI time to process the file\n",
        "time.sleep(10)\n"
      ]
    },
    {
      "cell_type": "markdown",
      "metadata": {
        "id": "1wzWtt6hzFsR"
      },
      "source": [
        "# Priming the Pump"
      ]
    },
    {
      "cell_type": "code",
      "execution_count": 341,
      "metadata": {},
      "outputs": [
        {
          "name": "stdout",
          "output_type": "stream",
          "text": [
            "# About Pacific Wellness Group - Academic Healthcare Consortium\n",
            "\n",
            "Based on the search results, here is a summary of the key information about the mission, vision, and values of Pacific Wellness Group - Academic Healthcare Consortium:\n",
            "\n",
            "## Mission:\n",
            "- To be the premier community network for the Pacific Wellness Group System, delivering the best patient experience with the most effective clinical outcomes (per Academic Medicine Partners website).\n",
            "\n",
            "## Vision:\n",
            "- Healing humanity through science and compassion, one patient at a time.\n",
            "\n",
            "## Values:\n",
            "- Innovation - embracing innovation, change and continuous improvement to raise quality of care and shape the future of medicine \n",
            "- Connection - cultivating community, connection and care for each other to nurture trust, respect, belonging and shared purpose\n",
            "- Teamwork - collaborating across roles, ranks, units and departments to unlock possibilities for greater impact and fulfillment\n",
            "- Mentorship - nurturing and pursuing ongoing professional growth to enjoy impactful and fulfilling careers\n",
            "- Participation - freely sharing opinions and valuing diverse backgrounds and contributions to improve decision-making, outcomes and engagement\n",
            "- Action - uniting diverse perspectives and expertise for the greater good (per Academic School of Medicine principles)\n",
            "\n",
            "The mission focuses on being a premier community network delivering excellent patient experience and outcomes by partnering with Pacific Wellness Group. The vision is about compassionate, science-based care for humanity. The values emphasize innovation, connection, teamwork, mentorship, participation, and action to fulfill the mission and vision.\n",
            "\n",
            "\n"
          ]
        }
      ],
      "source": [
        "# Refresh the context to ensure it has read the files\n",
        "primer_values = create_run(client,my_thread,my_assistant,\"\"\"\n",
        "            Write a detailed description of the company values from the about company file, using the company name.\n",
        "            \"\"\", [file_company_values.id])\n",
        "print(primer_values)"
      ]
    },
    {
      "cell_type": "code",
      "execution_count": 342,
      "metadata": {
        "colab": {
          "base_uri": "https://localhost:8080/"
        },
        "id": "ip0AjmHHB2nQ",
        "outputId": "445a12aa-467a-4aaf-a22f-1ebc0a5e14d7"
      },
      "outputs": [
        {
          "name": "stdout",
          "output_type": "stream",
          "text": [
            "# Medical Assistant II\n",
            "\n",
            "## Technical Competencies\n",
            "\n",
            "### Clinical Task Proficiency\n",
            "Expertise in performing daily clinical tasks such as checking vital signs, patient preparation, and assisting with medical procedures. \n",
            "- **Vital Signs**: Accurately measuring and recording patient vital signs.\n",
            "- **Patient Preparation**: Effective patient preparation for examinations and procedures.\n",
            "- **Procedure Assistance**: Assisting healthcare professionals during medical procedures.\n",
            "- **Infection Control**: Maintaining high standards of hygiene and infection control practices.\n",
            "\n",
            "### Medical Knowledge\n",
            "Advanced understanding of medical terminologies, procedures, and patient care protocols as applicable in a clinical setting. \n",
            "- **Medical Terminology**: Proficient in medical vocabulary used in a clinical setting.\n",
            "- **Patient Care Protocols**: Knowledgeable about patient care standards and protocols.\n",
            "- **Procedural Knowledge**: Familiarity with common medical procedures done at the clinic.\n",
            "- **Policy Adherence**: Implementing clinical policies and procedures with precision.\n",
            "\n",
            "### Electronic Health Record (EHR) Management\n",
            "Skill in using electronic systems to manage patient data, including record-keeping and responding to patient portal messages.\n",
            "- **Data Entry**: Ensuring accurate entry of patient information in EHR systems.\n",
            "- **Patient Communication**: Managing patient portal messages professionally.\n",
            "- **Information Security**: Protecting patient privacy and confidential information.\n",
            "- **Efficiency**: Streamlining data management to enhance patient care delivery.\n",
            "\n",
            "### Technical Equipment Handling\n",
            "Competence in the safe and effective use of clinical equipment and machinery.\n",
            "- **Equipment Operation**: Operating clinical equipment with expertise.\n",
            "- **Maintenance**: Performing routine checks and maintenance of medical machinery.\n",
            "- **Troubleshooting**: Resolving basic technical issues with equipment.\n",
            "- **Safety Procedures**: Adhering to safety protocols while handling medical technology.\n",
            "\n",
            "### BLS Procedures\n",
            "Proficient in Basic Life Support (BLS) procedures, ready to respond to emergency situations within the clinic.\n",
            "- **CPR Certification**: Maintaining current BLS certification.\n",
            "- **Emergency Response**: Reacting promptly and effectively during medical emergencies.\n",
            "- **AED Usage**: Knowledge and skill in using Automated External Defibrillators.\n",
            "- **First Aid**: Providing first aid treatment as needed.\n",
            "\n",
            "## Behavioral Competencies\n",
            "\n",
            "### Service Excellence\n",
            "Commitment to executing world-class service and patient care, embodying the C-I-CARE values.\n",
            "- **Patient Interaction**: Consistently providing compassionate care during patient interactions.\n",
            "- **Service Standards**: Upholding the C-I-CARE framework in every aspect of patient service.\n",
            "- **Responsiveness**: Addressing patient needs promptly and effectively.\n",
            "- **Feedback Incorporation**: Taking action on feedback to improve patient care experience.\n",
            "\n",
            "### Team Collaboration\n",
            "Collaborating with the healthcare team to provide comprehensive care, demonstrating strong teamwork aligned with Pacific Wellness Group's value of synergy.\n",
            "- **Cross-Departmental Coordination**: Working effectively with different departments for patient care.\n",
            "- **Conflict Resolution**: Managing and resolving conflicts constructively within the team.\n",
            "- **Shared Learning**: Engaging in knowledge sharing to improve team capability.\n",
            "- **Supportive Engagement**: Providing support to team members whenever needed.\n",
            "\n",
            "### Communication Skills\n",
            "Utilizing professional verbal and written communication skills to interact with patients, colleagues, and other healthcare providers.\n",
            "- **Patient Communication**: Delivering clear and compassionate communication to patients.\n",
            "- **Documentation Practice**: Documenting patient interactions and treatment accurately.\n",
            "- **Interprofessional Communication**: Communicating effectively with other healthcare professionals.\n",
            "- **Cultural Sensitivity**: Respecting diverse backgrounds and perspectives.\n",
            "\n",
            "### Continuous Improvement\n",
            "Embracing innovation and participating in continuous improvement initiatives in line with the value of innovation.\n",
            "- **Skill Enhancement**: Pursuing opportunities for professional development.\n",
            "- **Quality Improvement**: Contributing ideas for operational or procedural improvements.\n",
            "- **Adaptability**: Adapting to technology upgrades and innovation within the clinical setting.\n",
            "- **Feedback Seeking**: Soliciting feedback to improve personal and team performance.\n",
            "\n",
            "### Organizational Skills\n",
            "Demonstrating strong organizational abilities to manage multiple tasks efficiently, maintaining quality in all aspects of work.\n",
            "- **Time Management**: Prioritizing tasks and managing time effectively to ensure smooth clinic operations.\n",
            "- **Attention to Detail**: Paying attention to details, reducing the chance of errors.\n",
            "- **Resource Allocation**: Optimizing the use of resources to enhance patient care.\n",
            "- **Work Ethic**: Maintaining high standards of professionalism and work ethic.\n",
            "\n",
            "\n"
          ]
        }
      ],
      "source": [
        "# Refresh the context to ensure it has read the files and create context. Not included in final doc.\n",
        "primer_job = create_run(client,my_thread,my_assistant,\"\"\"\n",
        "            Write the job title contained in the job description file.\n",
        "            Then, create the list of 5 technical competencies, which MUST cover the areas mentioned in the\n",
        "            requirements in the job description. Create the list of 5 behavioral\n",
        "            competencies, with a focus on the company values but still covering all requirements in the\n",
        "            job description. Where possible, describe a competency in a way that aligns with the company values.\n",
        "            Each competency should have a title followed by a short description.\n",
        "            For each competency, list 3 or 4 subcompetencies and their descriptions to enable more deep exploration.\n",
        "            \"\"\", [file_job_description.id])\n",
        "print(primer_job)\n"
      ]
    },
    {
      "cell_type": "markdown",
      "metadata": {
        "id": "IlR4qmAwOGV3"
      },
      "source": [
        "# Create Introduction"
      ]
    },
    {
      "cell_type": "code",
      "execution_count": 343,
      "metadata": {},
      "outputs": [
        {
          "name": "stdout",
          "output_type": "stream",
          "text": [
            "Interview Playbook for Medical Assistant II\n",
            "\n",
            "\n"
          ]
        }
      ],
      "source": [
        "playbook_title = create_run(client,my_thread,my_assistant,\"\"\"\n",
        "            Produce the title for the playbook with no markdown.\n",
        "            \"\"\")\n",
        "print(playbook_title)"
      ]
    },
    {
      "cell_type": "code",
      "execution_count": 344,
      "metadata": {},
      "outputs": [
        {
          "name": "stdout",
          "output_type": "stream",
          "text": [
            "This Interview Playbook is designed to equip the hiring team with a structured approach to evaluate candidates for the role of Department Attorney at Maxwell Fairview. The position of Department Attorney is a vital role within the company, requiring a blend of extensive legal expertise and strong interpersonal skills. The competencies outlined here align with the firm's values of unparalleled service, respect, and inclusion, and ensure the selection of a candidate who embodies these principles. The objectives of the interview include assessing technical skills, behavioral qualities, and overall fit with the company culture and values.\n",
            "\n",
            "\n"
          ]
        }
      ],
      "source": [
        "introduction = create_run(client,my_thread,my_assistant,\"\"\"\n",
        "            Generate the introduction for the guide with no headings\n",
        "            \"\"\")\n",
        "print(intro)"
      ]
    },
    {
      "cell_type": "code",
      "execution_count": 345,
      "metadata": {
        "colab": {
          "base_uri": "https://localhost:8080/"
        },
        "id": "C5zuFj7K5r9z",
        "outputId": "882110c3-fe5b-489c-b865-66e1a185b383"
      },
      "outputs": [
        {
          "name": "stdout",
          "output_type": "stream",
          "text": [
            "The interview for the Medical Assistant II position is structured to take place over a span of 45-60 minutes and is divided into several parts to assess both technical and behavioral competencies.\n",
            "\n",
            "- The first 10 minutes are allocated for introductions and an overview of the role and company.\n",
            "- This is followed by a 20-minute segment dedicated to evaluating the technical competencies: Clinical Task Proficiency, Medical Knowledge, EHR Management, Technical Equipment Handling, and BLS Procedures.\n",
            "- The subsequent 20 minutes will focus on behavioral competencies such as Service Excellence, Team Collaboration, Communication Skills, Continuous Improvement, and Organizational Skills. During this time, the interviewers will explore the candidates' past experiences and their alignment with company values.\n",
            "- The final 10-15 minutes are reserved for the candidate's questions and a wrap-up of the interview, providing a clear understanding of the subsequent steps in the hiring process.\n",
            "\n",
            "\n"
          ]
        }
      ],
      "source": [
        "interview_structure = create_run(client,my_thread,my_assistant,\"\"\"\n",
        "            Generate the Interview Structure with no headings. Include mention of the competencies in the interview structure.\n",
        "            \"\"\")\n",
        "print(interview_structure)"
      ]
    },
    {
      "cell_type": "markdown",
      "metadata": {
        "id": "wbojM0Og4s_m"
      },
      "source": [
        "# Create Evaluation Criteria"
      ]
    },
    {
      "cell_type": "code",
      "execution_count": 346,
      "metadata": {
        "colab": {
          "base_uri": "https://localhost:8080/"
        },
        "id": "WoY0tlUkkCdk",
        "outputId": "4867b20f-788c-41c4-fb5a-76fb49d99171"
      },
      "outputs": [
        {
          "name": "stdout",
          "output_type": "stream",
          "text": [
            "## Evaluation Criteria\n",
            "\n",
            "The evaluation criteria for the Medical Assistant II position are centered around a comprehensive understanding of both technical and behavioral competencies. Each competency will be assessed through the interview process, with careful attention to how the candidate's qualifications and character align with the company's mission and values.\n",
            "\n",
            "| Competency                 | Assessment | Comments |\n",
            "|----------------------------|------------|----------|\n",
            "| Clinical Task Proficiency  |            |          |\n",
            "| Medical Knowledge          |            |          |\n",
            "| EHR Management             |            |          |\n",
            "| Technical Equipment Handling |          |          |\n",
            "| BLS Procedures             |            |          |\n",
            "| Service Excellence         |            |          |\n",
            "| Team Collaboration         |            |          |\n",
            "| Communication Skills       |            |          |\n",
            "| Continuous Improvement     |            |          |\n",
            "| Organizational Skills      |            |          |\n",
            "| Practical Assignment       |            |          |\n",
            "| Team Interaction           |            |          |\n",
            "\n",
            "### Rating Guide\n",
            "1. Much below expectations - Needs significant improvement or not present\n",
            "2. Below expectations - Shows some elements of competence but lacks consistency\n",
            "3. Meets expectations - Satisfactory performance, consistently competent\n",
            "4. Exceeds expectations - Often exceeds standard and displays high levels of skill\n",
            "5. Far exceeds expectations - Consistently superior performance, setting a benchmark for others\n",
            "\n",
            "\n"
          ]
        }
      ],
      "source": [
        "eval_criteria = create_run(client,my_thread,my_assistant,\"\"\"\n",
        "    Generate the Evaluation Critera section.\n",
        "    \"\"\")\n",
        "print(eval_criteria)"
      ]
    },
    {
      "cell_type": "markdown",
      "metadata": {
        "id": "9XgTU1JEzfEa"
      },
      "source": [
        "# Create Technical Assessment"
      ]
    },
    {
      "cell_type": "code",
      "execution_count": 347,
      "metadata": {
        "colab": {
          "base_uri": "https://localhost:8080/"
        },
        "id": "6W7Mp4JwzhNW",
        "outputId": "1cf9a68e-dae6-46fc-ccc6-3c614387094c"
      },
      "outputs": [
        {
          "name": "stdout",
          "output_type": "stream",
          "text": [
            "## Technical Assessment\n",
            "\n",
            "For the Medical Assistant II role, the technical assessment focuses on evaluating the hands-on skills and medical knowledge that are essential to the job. The assessment will determine the candidate's capacity to perform clinical tasks effectively and efficiently, thereby ensuring the highest quality of patient care, in alignment with Pacific Wellness Group's mission and values.\n",
            "\n",
            "### Technical Competence 1: Clinical Task Proficiency\n",
            "\n",
            "Clinical Task Proficiency is crucial for a Medical Assistant II, as it involves direct patient interactions and a wide range of essential clinical tasks. This competency is fundamental to ensuring that all procedures are conducted safely and effectively, in line with the high standards of patient care expected at Pacific Wellness Group.\n",
            "\n",
            "#### Lead Question\n",
            "\n",
            "> **\"Walk us through the process you would follow to prepare a patient for a minor surgical procedure and how you assist during the procedure. What steps do you take to ensure the patient feels comfortable and that all safety protocols are followed?\"**\n",
            "\n",
            "_Look for detail-oriented responses that demonstrate a strong grasp of procedure, patient care, and safety considerations._\n",
            "\n",
            "#### Diving Deeper\n",
            "\n",
            "- **Vital Signs**: \"Please explain how you would address discrepancies when monitoring vital signs and what your response would be to an abnormal reading.\"\n",
            "- **Patient Preparation**: \"Describe your approach to dealing with anxious patients during preparation.\"\n",
            "- **Procedure Assistance**: \"How do you manage unexpected complications during a medical procedure and assist the healthcare professional effectively?\"\n",
            "- **Infection Control**: \"Explain the infection control protocols you follow and why they are essential.\"\n",
            "\n",
            "#### Scenario\n",
            "\n",
            "Imagine a situation where you are prepping a patient for a routine procedure, and you notice the patient displays signs of distress and a rapid increase in heart rate. Additionally, the regular equipment you use is currently unavailable due to maintenance.\n",
            "\n",
            "_How does the candidate prioritize patient care and safety, adapt to the lack of equipment, and demonstrate problem-solving under pressure? Look for adaptability, resourcefulness, and effective communication._\n",
            "\n",
            "\n"
          ]
        }
      ],
      "source": [
        "technical_assessment_1 = create_run(client,my_thread,my_assistant,\"Generate the first Technical Assessment\")\n",
        "print(technical_assessment_1)\n"
      ]
    },
    {
      "cell_type": "code",
      "execution_count": 348,
      "metadata": {
        "colab": {
          "base_uri": "https://localhost:8080/"
        },
        "id": "xf9T4lGVTLoI",
        "outputId": "6f3a3677-a864-4d9e-8370-872d9851b091"
      },
      "outputs": [
        {
          "name": "stdout",
          "output_type": "stream",
          "text": [
            "### Technical Competence 2: Medical Knowledge\n",
            "\n",
            "Deep familiarity with medical terminology, patient care protocols, and procedures informs a Medical Assistant II's ability to communicate effectively with healthcare professionals and deliver high-quality patient care, reflecting Pacific Wellness Group's commitment to excellence and continuous improvement.\n",
            "\n",
            "#### Lead Question\n",
            "\n",
            "> **\"Can you describe a time when your medical knowledge significantly impacted the outcome of a patient’s care? How did you apply your understanding of patient care protocols to communicate effectively with other healthcare team members?\"**\n",
            "\n",
            "_Look for instances where comprehensive medical knowledge was applied in a practical, impactful way, demonstrating both understanding and the ability to collaborate for better patient outcomes._\n",
            "\n",
            "#### Diving Deeper\n",
            "\n",
            "- **Medical Terminology**: \"Discuss how you ensure your use of medical terminology is both accurate and understandable to patients and team members.\"\n",
            "- **Patient Care Protocols**: \"Give an example of how you have adapted patient care protocols to address a unique patient situation.\"\n",
            "- **Procedural Knowledge**: \"Please explain how staying updated on the latest medical procedures helps you contribute to a patient's treatment plan.\"\n",
            "- **Policy Adherence**: \"How do you balance following strict clinical policies with individualized care for patients?\"\n",
            "\n",
            "#### Scenario\n",
            "\n",
            "You are in a situation where you need to assist in a medical procedure that you are not frequently involved in. The lead physician relies on your medical terminology knowledge and understanding of the steps involved to maintain an efficient and error-free environment.\n",
            "\n",
            "_How would the candidate ensure clarity and correctness in communications and actions throughout the procedure? Assessment should focus on medical knowledge application, adaptability, and effective teamwork._\n",
            "\n",
            "\n"
          ]
        }
      ],
      "source": [
        "technical_assessment_2 = create_run(client,my_thread,my_assistant,\"\"\"\n",
        "    Generate the 2nd Technical Assessment. Don't include the main section header.\n",
        "    \"\"\")\n",
        "print(technical_assessment_2)"
      ]
    },
    {
      "cell_type": "code",
      "execution_count": 349,
      "metadata": {
        "colab": {
          "base_uri": "https://localhost:8080/"
        },
        "id": "7nLQIDWITOVT",
        "outputId": "3795c8bd-60b3-4f36-b717-79fe16e370ef"
      },
      "outputs": [
        {
          "name": "stdout",
          "output_type": "stream",
          "text": [
            "### Technical Competence 3: Electronic Health Record (EHR) Management\n",
            "\n",
            "Proficiency in EHR Management reflects a Medical Assistant II's ability to handle patient data with accuracy and care, a critical component of modern healthcare that aligns with Pacific Wellness Group’s values of innovation and participation.\n",
            "\n",
            "#### Lead Question\n",
            "\n",
            "> **\"Describe your process for ensuring accuracy and security when entering patient data into an EHR system. Can you give an example where your attention to detail in EHR management made a difference in patient care or clinic operations?\"**\n",
            "\n",
            "_Look for a systematic approach to data management and examples of problem-solving that safeguard patient confidentiality and promote data integrity._\n",
            "\n",
            "#### Diving Deeper\n",
            "\n",
            "- **Data Entry**: \"What steps do you take to verify the information before updating it into the patient's record?\"\n",
            "- **Patient Communication**: \"How do you manage and prioritize patient message responses through the EHR portal?\"\n",
            "- **Information Security**: \"Describe a time when you identified a potential security threat in EHR management and the action you took.\"\n",
            "- **Efficiency**: \"Discuss a situation where you improved the efficiency of EHR management without compromising data integrity or security.\"\n",
            "\n",
            "#### Scenario\n",
            "\n",
            "You are tasked with managing a high volume of patient records during a clinic’s transition to a new EHR system. The process must be completed within a tight deadline, and you must also maintain ongoing communication with patients through the portal.\n",
            "\n",
            "_How does the candidate demonstrate effective prioritization and management skills in a high-pressure situation while maintaining the accuracy of data entry? Look for approaches that showcase efficiency, meticulous attention to detail, and adaptability._\n",
            "\n",
            "\n"
          ]
        }
      ],
      "source": [
        "technical_assessment_3 = create_run(client,my_thread,my_assistant,\"Generate the 3rd Technical Assessment. Don't include the main section header.\")\n",
        "print(technical_assessment_3)"
      ]
    },
    {
      "cell_type": "code",
      "execution_count": 350,
      "metadata": {
        "colab": {
          "base_uri": "https://localhost:8080/"
        },
        "id": "18RhkvioTRTW",
        "outputId": "84099d49-b302-4a1f-da7c-a0eaf770596f"
      },
      "outputs": [
        {
          "name": "stdout",
          "output_type": "stream",
          "text": [
            "### Technical Competence 4: Technical Equipment Handling\n",
            "\n",
            "The ability to handle technical equipment with proficiency underscores a Medical Assistant II's role in ensuring operational excellence and patient safety, in line with Pacific Wellness Group's commitment to innovation and quality care.\n",
            "\n",
            "#### Lead Question\n",
            "\n",
            "> **\"In a clinical setting, you are often required to operate and maintain a range of technical equipment. Please describe the process you follow for the regular maintenance and operation of a piece of equipment you are familiar with.\"**\n",
            "\n",
            "_Look for a detailed understanding of the equipment's operation and maintenance, as well as adherence to safety standards._\n",
            "\n",
            "#### Diving Deeper\n",
            "\n",
            "- **Equipment Operation**: \"Please give examples of medical equipment you are experienced with and the training you underwent to operate them proficiently.\"\n",
            "- **Maintenance**: \"How do you ensure the equipment you are responsible for is always functioning properly and ready for use?\"\n",
            "- **Troubleshooting**: \"Describe a time when you encountered a technical issue with a piece of equipment and how you resolved it.\"\n",
            "- **Safety Procedures**: \"Can you explain the safety procedures you follow when operating any kind of clinical equipment?\"\n",
            "\n",
            "#### Scenario\n",
            "\n",
            "You are in the middle of a busy day at the clinic when a crucial piece of equipment fails. There's no immediate technical support available, and you need to find a solution to avoid delaying patient care.\n",
            "\n",
            "_How does the candidate handle such a situation, ensuring minimal disruption to the clinic’s operations while maintaining safety standards and quality care? Look for resourcefulness, problem-solving abilities, and the capability to ensure continuous patient care._\n",
            "\n",
            "\n"
          ]
        }
      ],
      "source": [
        "technical_assessment_4 = create_run(client,my_thread,my_assistant,\"Generate the 4th Technical Assessment. Don't include the main section header.\")\n",
        "print(technical_assessment_4)"
      ]
    },
    {
      "cell_type": "code",
      "execution_count": 351,
      "metadata": {
        "colab": {
          "base_uri": "https://localhost:8080/"
        },
        "id": "2W1k4KMwTWYo",
        "outputId": "c8b18291-db52-4cdc-d768-601f1d0ed93e"
      },
      "outputs": [
        {
          "name": "stdout",
          "output_type": "stream",
          "text": [
            "### Technical Competence 5: BLS Procedures\n",
            "\n",
            "Mastery of Basic Life Support (BLS) procedures is a vital skill for a Medical Assistant II, aligned with Pacific Wellness Group's values of action and participation, to provide immediate care in life-threatening situations.\n",
            "\n",
            "#### Lead Question\n",
            "\n",
            "> **\"Tell us about a time when you had to use your BLS training in a real-life scenario. What actions did you take, and how did you ensure the safety and well-being of the patient and others present?\"**\n",
            "\n",
            "_Look for examples of quick decision-making, practical application of BLS skills, and the impact of such actions on the patient's outcome._\n",
            "\n",
            "#### Diving Deeper\n",
            "\n",
            "- **CPR Certification**: \"How do you keep your CPR certification current, and what additional steps do you take to ensure you're prepared for an emergency?\"\n",
            "- **Emergency Response**: \"Explain the steps you would take if you were the first to respond to a patient in cardiac arrest in the clinic.\"\n",
            "- **AED Usage**: \"Describe your experience with using an Automated External Defibrillator (AED) during an emergency situation.\"\n",
            "- **First Aid**: \"Can you give an example of a time when you provided effective first aid treatment before further medical help was available?\"\n",
            "\n",
            "#### Scenario\n",
            "\n",
            "You notice a fellow Medical Assistant suddenly collapse in the break room during your lunch. You quickly determine they are unresponsive and not breathing normally.\n",
            "\n",
            "_How does the candidate react to this critical situation? Look for composed execution of BLS procedures and the ability to communicate effectively with the emergency response team._\n",
            "\n",
            "\n"
          ]
        }
      ],
      "source": [
        "technical_assessment_5 = create_run(client,my_thread,my_assistant,\"Generate the 5th Technical Assessment. Don't include the main section header.\")\n",
        "print(technical_assessment_5)"
      ]
    },
    {
      "cell_type": "code",
      "execution_count": 352,
      "metadata": {
        "id": "TqPsbclGTZmJ"
      },
      "outputs": [],
      "source": [
        "technical_assessment = technical_assessment_1 + technical_assessment_2 + technical_assessment_3 + technical_assessment_4 + technical_assessment_5"
      ]
    },
    {
      "cell_type": "markdown",
      "metadata": {
        "id": "GXQquee34Q9k"
      },
      "source": [
        "# Create Behavioral Assessment"
      ]
    },
    {
      "cell_type": "code",
      "execution_count": 353,
      "metadata": {
        "colab": {
          "base_uri": "https://localhost:8080/"
        },
        "id": "_14Q6lQO4N9R",
        "outputId": "88dc7806-c0c0-4633-d569-05600795c014"
      },
      "outputs": [
        {
          "name": "stdout",
          "output_type": "stream",
          "text": [
            "## Behavioral Assessment\n",
            "\n",
            "In assessing behavioral competencies for the Medical Assistant II role, we seek to understand how candidates exhibit their professional behaviors in various situations. This assessment helps in determining their alignment with Pacific Wellness Group's values and their potential to contribute positively to the working environment and patient care.\n",
            "\n",
            "### Behavioral Competence 1: Service Excellence\n",
            "\n",
            "Service Excellence is about providing exceptional care and service, reflecting the caring and patient-centered ethos of Pacific Wellness Group.\n",
            "\n",
            "#### Lead Question\n",
            "\n",
            "> **\"Provide an example of a time when you went above and beyond for a patient. What was the situation, and why did you go the extra mile?\"**\n",
            "\n",
            "_Look for instances where the candidate demonstrates a genuine commitment to patient care and the ability to embody the company's C-I-CARE values._\n",
            "\n",
            "#### Diving Deeper\n",
            "\n",
            "- **Patient Interaction**: \"Tell me about a time when you had to manage a difficult patient situation and how you resolved it while maintaining a high level of service.\"\n",
            "- **Service Standards**: \"How do you ensure that every patient you interact with receives care that aligns with our C-I-CARE values?\"\n",
            "- **Responsiveness**: \"Describe a scenario where you had to respond quickly to a patient’s needs. What actions did you take, and what was the outcome?\"\n",
            "- **Feedback Incorporation**: \"How do you use patient or peer feedback to improve your level of service?\"\n",
            "\n",
            "#### Scenario\n",
            "\n",
            "Imagine you are the only Medical Assistant available when several patients in the waiting room become agitated due to longer than usual wait times.\n",
            "\n",
            "_How does the candidate handle the situation to de-escalate tension, ensure patient satisfaction, and maintain high service standards? Look for communication skills, empathy, problem-solving, and an ability to incorporate feedback effectively._\n",
            "\n",
            "\n"
          ]
        }
      ],
      "source": [
        "behavioral_assessment_1 = create_run(client,my_thread,my_assistant,\"Generate the 1st Behavioral Assessment section.\")\n",
        "print(behavioral_assessment_1)"
      ]
    },
    {
      "cell_type": "code",
      "execution_count": 354,
      "metadata": {
        "colab": {
          "base_uri": "https://localhost:8080/"
        },
        "id": "HT3Q_lDjg6SO",
        "outputId": "67bc20fe-4fab-48db-987f-5b48d582516e"
      },
      "outputs": [
        {
          "name": "stdout",
          "output_type": "stream",
          "text": [
            "### Behavioral Competence 2: Team Collaboration\n",
            "\n",
            "Effective Team Collaboration is essential to provide comprehensive care, aligning with Pacific Wellness Group's value of teamwork which emphasizes the importance of unity and cooperation among staff.\n",
            "\n",
            "#### Lead Question\n",
            "\n",
            "> **\"Can you talk about a time when you had to collaborate with a team under challenging circumstances? What role did you play, and what was the outcome?\"**\n",
            "\n",
            "_Look for responses that reflect the candidate's ability to work cohesively with others, navigate difficulties, and contribute to positive team dynamics._\n",
            "\n",
            "#### Diving Deeper\n",
            "\n",
            "- **Cross-Departmental Coordination**: \"Describe an instance where you had to coordinate with another department to solve a patient care issue.\"\n",
            "- **Conflict Resolution**: \"Explain your approach to resolving disagreements within the team.\"\n",
            "- **Shared Learning**: \"Provide an example of when you learned something valuable from a team member and how it improved your work.\"\n",
            "- **Supportive Engagement**: \"Tell us about a time when you supported a colleague who was struggling with their workload.\"\n",
            "\n",
            "#### Scenario\n",
            "\n",
            "During a particularly busy day at the clinic, you notice tension rising among team members due to the stressful workload, which could potentially impact patient care.\n",
            "\n",
            "_How does the candidate facilitate teamwork and manage conflict to maintain a harmonious and effective work environment? Look for examples of leadership, empathy, and conflict resolution skills._\n",
            "\n",
            "\n"
          ]
        }
      ],
      "source": [
        "behavioral_assessment_2 = create_run(client,my_thread,my_assistant,\"Generate the 2nd Behavioral Assessment section. Don't include the main section header.\")\n",
        "print(behavioral_assessment_2)"
      ]
    },
    {
      "cell_type": "code",
      "execution_count": 355,
      "metadata": {
        "colab": {
          "base_uri": "https://localhost:8080/"
        },
        "id": "lWl-q-ZFhQNU",
        "outputId": "b318ec29-e27e-4df6-ea4b-b2c899155452"
      },
      "outputs": [
        {
          "name": "stdout",
          "output_type": "stream",
          "text": [
            "### Behavioral Competence 3: Communication Skills\n",
            "\n",
            "Strong Communication Skills are vital for effective patient engagement and collaboration with healthcare teams, reflecting Pacific Wellness Group's commitment to providing a clear, compassionate, and professional exchange of information.\n",
            "\n",
            "#### Lead Question\n",
            "\n",
            "> **\"Provide an example of a situation where effective communication was critical to the success of a patient's treatment plan. What was your approach and how did it affect the outcome?\"**\n",
            "\n",
            "_Look for instances that demonstrate the candidate’s ability to clearly articulate critical information and show sensitivity towards patients' and colleagues' needs._\n",
            "\n",
            "#### Diving Deeper\n",
            "\n",
            "- **Patient Communication**: \"How do you tailor your communication to ensure that patients with different levels of health literacy can understand their care plan?\"\n",
            "- **Documentation Practice**: \"Discuss the importance of documentation accuracy and how you maintain it in your day-to-day responsibilities.\"\n",
            "- **Interprofessional Communication**: \"Describe a scenario where you successfully bridged a communication gap between different healthcare professionals.\"\n",
            "- **Cultural Sensitivity**: \"Tell us about a time when cultural sensitivity in communication was necessary and how you handled it.\"\n",
            "\n",
            "#### Scenario\n",
            "\n",
            "A patient under your care is showing signs of non-compliance with their health plan due to misunderstandings of medical instructions.\n",
            "\n",
            "_How does the candidate address misconceptions and promote compliance through effective communication? Look for empathy, adaptability, and the ability to convey complex information in an accessible manner._\n",
            "\n",
            "\n"
          ]
        }
      ],
      "source": [
        "behavioral_assessment_3 = create_run(client,my_thread,my_assistant,\"Generate the 3rd Behavioral Assessment section. Don't include the main section header.\")\n",
        "print(behavioral_assessment_3)"
      ]
    },
    {
      "cell_type": "code",
      "execution_count": 356,
      "metadata": {
        "colab": {
          "base_uri": "https://localhost:8080/"
        },
        "id": "wQKG2ZxmhTbF",
        "outputId": "47f44f15-4bc9-496e-8d2a-89e1e4852337"
      },
      "outputs": [
        {
          "name": "stdout",
          "output_type": "stream",
          "text": [
            "### Behavioral Competence 4: Continuous Improvement\n",
            "\n",
            "Continuous Improvement is about embracing changes and seeking ways to enhance personal and organizational growth, resonating with Pacific Wellness Group’s value of innovation.\n",
            "\n",
            "#### Lead Question\n",
            "\n",
            "> **\"Describe a time when you identified an area for improvement within your role or team's processes. What initiative did you take to address it, and what was the result?\"**\n",
            "\n",
            "_Look for evidence of a proactive approach to identifying opportunities for improvement and the candidate's willingness to take initiative in alignment with the company's innovative spirit._\n",
            "\n",
            "#### Diving Deeper\n",
            "\n",
            "- **Skill Enhancement**: \"How have you pursued additional training or education to improve your performance and patient care?\"\n",
            "- **Quality Improvement**: \"Can you provide an example of a quality improvement project you were involved in and what contributions you made?\"\n",
            "- **Adaptability**: \"Talk about a moment when you had to adapt to a significant change at work. How did you handle the transition?\"\n",
            "- **Feedback Seeking**: \"How do you approach feedback, and can you share an instance where feedback led you to make a positive change in your work?\"\n",
            "\n",
            "#### Scenario\n",
            "\n",
            "The clinic is introducing a new EHR system, and whilst it promises greater long-term efficiency, the transition period is proving challenging for the staff.\n",
            "\n",
            "_How does the candidate contribute to a smooth transition and encourage colleagues to engage with the new system positively? Look for resilience, ability to embrace change, and leadership in learning and adaptation._\n",
            "\n",
            "\n"
          ]
        }
      ],
      "source": [
        "behavioral_assessment_4 = create_run(client,my_thread,my_assistant,\"Generate the 4th Behavioral Assessment section. Don't include the main section header.\")\n",
        "print(behavioral_assessment_4)"
      ]
    },
    {
      "cell_type": "code",
      "execution_count": 357,
      "metadata": {
        "colab": {
          "base_uri": "https://localhost:8080/"
        },
        "id": "gwcBpL0ZhWxW",
        "outputId": "181af5bf-40d9-4c21-d709-4b2fac9062c5"
      },
      "outputs": [
        {
          "name": "stdout",
          "output_type": "stream",
          "text": [
            "### Behavioral Competence 5: Organizational Skills\n",
            "\n",
            "Organizational Skills are critical for managing the complexities of a clinical environment, ensuring efficient use of time and resources, and maintaining an exceptional level of patient care, supporting Pacific Wellness Group's high standards of operational excellence.\n",
            "\n",
            "#### Lead Question\n",
            "\n",
            "> **\"How do you manage your tasks and responsibilities in a fast-paced environment to ensure that all patient needs are met without compromising care quality?\"**\n",
            "\n",
            "_Look for clear strategies for prioritization, multitasking, and maintaining composure under pressure._\n",
            "\n",
            "#### Diving Deeper\n",
            "\n",
            "- **Time Management**: \"Discuss your approach to prioritizing urgent and non-urgent tasks throughout the day.\"\n",
            "- **Attention to Detail**: \"Describe a situation where your attention to detail prevented an error in patient care or clinic operations.\"\n",
            "- **Resource Allocation**: \"Explain how you optimize the use of resources at hand to ensure the best possible patient care.\"\n",
            "- **Work Ethic**: \"Tell us about a time when your strong work ethic was recognized by your peers or supervisors.\"\n",
            "\n",
            "#### Scenario\n",
            "\n",
            "You are tasked with coordinating patient flow on a day when the clinic is understaffed, and there's an unexpected surge in appointments.\n",
            "\n",
            "_How does the candidate ensure efficient operations without allowing the quality of care to diminish? Look for methods of effective problem-solving, prioritization, and the capacity to adapt to unexpected demands._\n",
            "\n",
            "\n"
          ]
        }
      ],
      "source": [
        "behavioral_assessment_5 = create_run(client,my_thread,my_assistant,\"Generate the 5th Behavioral Assessment section. Don't include the main section header.\")\n",
        "print(behavioral_assessment_5)"
      ]
    },
    {
      "cell_type": "code",
      "execution_count": 358,
      "metadata": {
        "id": "GN20fqZPhhkS"
      },
      "outputs": [],
      "source": [
        "behavioral_assessment = behavioral_assessment_1 + behavioral_assessment_2 + behavioral_assessment_3 + behavioral_assessment_4 + behavioral_assessment_5"
      ]
    },
    {
      "cell_type": "markdown",
      "metadata": {
        "id": "7A6ZM1-G4dQn"
      },
      "source": [
        "# Create Practical Assignment"
      ]
    },
    {
      "cell_type": "code",
      "execution_count": 359,
      "metadata": {
        "colab": {
          "base_uri": "https://localhost:8080/"
        },
        "id": "N_xZRljj4cMB",
        "outputId": "1cfa5c1e-2bea-48d8-a100-1036e0dcfd4b"
      },
      "outputs": [
        {
          "name": "stdout",
          "output_type": "stream",
          "text": [
            "## Practical Assignment\n",
            "\n",
            "The practical assignment for the Medical Assistant II candidate involves a hands-on simulation to evaluate their expertise in clinical tasks and patient interaction. The assignment will consist of a standardized patient scenario where the candidate demonstrates their competency in preparing a patient for a procedure, taking vital signs, and inputting data into an EHR system, all the while maintaining clear communication and adherence to safety protocols.\n",
            "\n",
            "### Objectives:\n",
            "- To assess the candidate's applied clinical skills and their ability to perform routine tasks under pressure.\n",
            "- To evaluate the candidate's proficiency with EHR management and their consideration for data accuracy and security.\n",
            "- To observe the candidate's communication skills and service excellence when interacting with patients.\n",
            "\n",
            "### Evaluation Criteria:\n",
            "- Accuracy: Ensuring that the vital signs are taken and recorded correctly.\n",
            "- Efficiency: Completing all tasks within the given timeframe without compromising the quality of work.\n",
            "- Communication: Effectively explaining procedures to the patient and ensuring understanding.\n",
            "- Professionalism: Displaying a high standard of professional conduct and empathy towards the patient.\n",
            "\n",
            "Interviewers should assess the candidate's approach and solution to the practical assignment, considering how well they integrate technical skill with patient-centered care. Attention should be given to the candidate’s ability to remain calm, focused, and compassionate throughout the scenario.\n",
            "\n",
            "\n"
          ]
        }
      ],
      "source": [
        "practical_assignment = create_run(client,my_thread,my_assistant,\"Generate the Practical Assignment section.\")\n",
        "print(practical_assignment)\n"
      ]
    },
    {
      "cell_type": "markdown",
      "metadata": {
        "id": "WuW7-2ie4niI"
      },
      "source": [
        "# Create Team Interaction"
      ]
    },
    {
      "cell_type": "code",
      "execution_count": 360,
      "metadata": {
        "colab": {
          "base_uri": "https://localhost:8080/"
        },
        "id": "Tzl6B_wB4prG",
        "outputId": "9cc5ab6e-c357-4ed9-93f1-c00270d5749d"
      },
      "outputs": [
        {
          "name": "stdout",
          "output_type": "stream",
          "text": [
            "## Team Interaction\n",
            "\n",
            "Incorporating team interaction into the interview process serves to evaluate the candidate's ability to integrate effectively into the existing clinic staff dynamics and contribute positively to Pacific Wellness Group's collaborative environment.\n",
            "\n",
            "### Rationale:\n",
            "Team interaction is key to observing the candidate's interpersonal skills, adaptability to the clinic culture, and potential for synergistic work relationships.\n",
            "\n",
            "### Discussion Points:\n",
            "- Candidate’s experience in working with interdisciplinary teams.\n",
            "- Approach to conflict resolution and maintaining positive team dynamics.\n",
            "- Techniques for effective cross-departmental coordination and communication.\n",
            "\n",
            "### Activities:\n",
            "- Candidate participates in a mock team meeting to discuss patient care planning.\n",
            "- Informal meet-and-greet with potential colleagues, providing insight into the candidate's interpersonal communication style.\n",
            "- Collaboration in a brief problem-solving exercise to gauge teamwork and creativity.\n",
            "\n",
            "Evaluating the candidate's interaction with the team offers a deeper insight into their potential fit within Pacific Wellness Group, aligning with the values of teamwork and connection.\n",
            "\n",
            "\n"
          ]
        }
      ],
      "source": [
        "team_interaction = create_run(client,my_thread,my_assistant,\"Generate the Team Interaction section.\")\n",
        "print(team_interaction)"
      ]
    },
    {
      "cell_type": "markdown",
      "metadata": {
        "id": "fwB0KPJM4qSI"
      },
      "source": [
        "# Create Candidate Q&A"
      ]
    },
    {
      "cell_type": "code",
      "execution_count": 361,
      "metadata": {
        "colab": {
          "base_uri": "https://localhost:8080/"
        },
        "id": "9iEeRg924sST",
        "outputId": "14834dc6-7fd1-4eff-f336-c5fb9cd76a3d"
      },
      "outputs": [
        {
          "name": "stdout",
          "output_type": "stream",
          "text": [
            "## Candidate Q&A\n",
            "\n",
            "Candidates often come prepared with questions about the role, team, and company. Below are possible questions from the candidate along with informed responses that accurately represent Pacific Wellness Group and its values.\n",
            "\n",
            "1. **\"What opportunities for professional development does Pacific Wellness Group offer?\"**\n",
            "   - At Pacific Wellness Group, we take pride in our employees' growth and offer various professional development programs, including continuing education, mentorship, and leadership training.\n",
            "\n",
            "2. **\"How does Pacific Wellness Group integrate innovation in its daily operations?\"**\n",
            "   - Innovation is one of our core values. We regularly implement new healthcare technologies, encourage our staff to participate in improvement initiatives, and foster a culture where innovative ideas are valued and explored.\n",
            "\n",
            "3. **\"Can you describe the teamwork dynamics within the clinic?\"**\n",
            "   - Our clinic operates on a foundation of mutual respect and collaboration. Teams across departments work closely to ensure the most effective and comprehensive patient care, in line with Pacific Wellness Group's commitment to teamwork.\n",
            "\n",
            "4. **\"What are the common challenges faced by the Medical Assistant II, and how is support provided?\"**\n",
            "   - Challenges can vary, but they often involve managing high patient volumes and coordinating care among multiple providers. We support our staff through clear communication channels, teamwork, and resources for stress management.\n",
            "\n",
            "5. **\"How does the clinic measure and ensure high standards of patient care?\"**\n",
            "   - We employ regular audits, patient feedback systems, and adherence to clinical care protocols to maintain excellence in patient care. Continuous improvement is sought through ongoing training and quality improvement initiatives.\n",
            "\n",
            "6. **\"What is the process for providing feedback and suggestions within the team?\"**\n",
            "   - We embrace an open-door policy for feedback and employ multiple platforms for suggestions — from direct discussions with supervisors to team meetings and anonymous feedback tools — to ensure everyone's voice is heard.\n",
            "\n",
            "\n"
          ]
        }
      ],
      "source": [
        "candidate_questions = create_run(client,my_thread,my_assistant,\"\"\"\n",
        "    Generate the Candidate Q&A section. Include example answers.\n",
        "    \"\"\")\n",
        "print(candidate_questions)"
      ]
    },
    {
      "cell_type": "markdown",
      "metadata": {
        "id": "14LWju-TkCyZ"
      },
      "source": [
        "# Finalize the Playbook HTML"
      ]
    },
    {
      "cell_type": "markdown",
      "metadata": {
        "id": "hxk5korrTkks"
      },
      "source": [
        "## Convert the markdown to HTML"
      ]
    },
    {
      "cell_type": "markdown",
      "metadata": {
        "id": "LM_V2VoceTjx"
      },
      "source": [
        "We are doing this in chunks so that we can do more useful things with it in the HTML output"
      ]
    },
    {
      "cell_type": "code",
      "execution_count": 441,
      "metadata": {
        "id": "saH2GGfdTjzh"
      },
      "outputs": [],
      "source": [
        "import markdown\n",
        "\n",
        "# Convert Markdown to HTML\n",
        "html_job_description = markdown.markdown(job_description, extensions=['extra','mdx_truly_sane_lists'])\n",
        "html_playbook_title = markdown.markdown(playbook_title, extensions=['extra','mdx_truly_sane_lists'])\n",
        "html_intro = markdown.markdown(intro, extensions=['extra','mdx_truly_sane_lists'])\n",
        "html_interview_structure = markdown.markdown(interview_structure, extensions=['extra','mdx_truly_sane_lists'])\n",
        "html_technical_assessment = markdown.markdown(technical_assessment, extensions=['extra','mdx_truly_sane_lists'])\n",
        "html_behavioral_assessment = markdown.markdown(behavioral_assessment, extensions=['extra','mdx_truly_sane_lists'])\n",
        "html_practical_assignment = markdown.markdown(practical_assignment, extensions=['extra','mdx_truly_sane_lists'])\n",
        "html_candidate_questions = markdown.markdown(candidate_questions, extensions=['extra','mdx_truly_sane_lists'])\n",
        "html_team_interaction = markdown.markdown(team_interaction, extensions=['extra','mdx_truly_sane_lists'])\n",
        "html_eval_criteria = markdown.markdown(eval_criteria, extensions=['extra','mdx_truly_sane_lists'])\n",
        "\n",
        "\n",
        "html_technical_assessment_1 = markdown.markdown(technical_assessment_1, extensions=['extra','mdx_truly_sane_lists'])\n",
        "html_technical_assessment_2 = markdown.markdown(technical_assessment_2, extensions=['extra','mdx_truly_sane_lists'])\n",
        "html_technical_assessment_3 = markdown.markdown(technical_assessment_3, extensions=['extra','mdx_truly_sane_lists'])\n",
        "html_technical_assessment_4 = markdown.markdown(technical_assessment_4, extensions=['extra','mdx_truly_sane_lists'])\n",
        "html_technical_assessment_5 = markdown.markdown(technical_assessment_5, extensions=['extra','mdx_truly_sane_lists'])\n",
        "\n",
        "html_behavioral_assessment_1 = markdown.markdown(behavioral_assessment_1, extensions=['extra','mdx_truly_sane_lists'])\n",
        "html_behavioral_assessment_2 = markdown.markdown(behavioral_assessment_2, extensions=['extra','mdx_truly_sane_lists'])\n",
        "html_behavioral_assessment_3 = markdown.markdown(behavioral_assessment_3, extensions=['extra','mdx_truly_sane_lists'])\n",
        "html_behavioral_assessment_4 = markdown.markdown(behavioral_assessment_4, extensions=['extra','mdx_truly_sane_lists'])\n",
        "html_behavioral_assessment_5 = markdown.markdown(behavioral_assessment_5, extensions=['extra','mdx_truly_sane_lists'])\n",
        "\n"
      ]
    },
    {
      "cell_type": "markdown",
      "metadata": {
        "id": "S9YOnvQrds_P"
      },
      "source": [
        "## Build the HTML"
      ]
    },
    {
      "cell_type": "markdown",
      "metadata": {
        "id": "b-59Vx2xdrsb"
      },
      "source": [
        "Borrowed colors from this [color palette](https://color.adobe.com/PALETTE-mini-06:-Transparent-color-theme-15d8c4a6-b06a-4530-bf5b-3fc8102ccd69)"
      ]
    },
    {
      "cell_type": "code",
      "execution_count": 448,
      "metadata": {
        "id": "HZ5d6Q8ij_Rd"
      },
      "outputs": [],
      "source": [
        "# Open the file and read the contents\n",
        "with open('styles.css', 'r') as file:\n",
        "    # Read the entire content of the file into a single string variable\n",
        "    styles = file.read()\n",
        "\n",
        "\n",
        "html_notes = \"\"\"<h4>Notes</h4><div class='notes'>\n",
        "    <div class=\"dotted-line\"></div>\n",
        "    <div class=\"dotted-line\"></div>\n",
        "    <div class=\"dotted-line\"></div>\n",
        "    <div class=\"dotted-line\"></div>\n",
        "    <div class=\"dotted-line\"></div>\n",
        "    <div class=\"dotted-line\"></div>\n",
        "    <div class=\"rating-container\">\n",
        "    <label for=\"rating-line\">Rating (1-5):</label>\n",
        "    <div id=\"rating-line\" class=\"short-dotted-line\"></div>\n",
        "    </div>\n",
        "</div>\"\"\"\n",
        "\n",
        "html_short_notes = \"\"\"<h4>Notes</h4><div class='notes'>\n",
        "    <div class=\"dotted-line\"></div>\n",
        "    <div class=\"dotted-line\"></div>\n",
        "    <div class=\"dotted-line\"></div>\n",
        "    <div class=\"rating-container\">\n",
        "    <label for=\"rating-line\">Rating (1-5):</label>\n",
        "    <div class=\"short-dotted-line\"></div>\n",
        "    </div>\n",
        "</div>\"\"\"\n",
        "\n",
        "from datetime import datetime\n",
        "\n",
        "# Getting today's date in a nicely formatted string for US English\n",
        "publication_date = datetime.now().strftime(\"%B %d, %Y\")\n",
        "\n",
        "\n",
        "# Open the HTML file and read its content\n",
        "with open('template.html', 'r') as file:\n",
        "    html_template = file.read()\n",
        "\n",
        "# Replace the placeholders with the actual variables\n",
        "html_content = html_template.format(\n",
        "    styles=styles,\n",
        "    html_playbook_title=html_playbook_title,\n",
        "    publication_date=publication_date,\n",
        "    html_intro=html_intro,\n",
        "    html_interview_structure=html_interview_structure,\n",
        "    html_job_description=html_job_description,\n",
        "    html_eval_criteria=html_eval_criteria,\n",
        "    html_technical_assessment_1=html_technical_assessment_1,\n",
        "    html_short_notes=html_short_notes,\n",
        "    html_technical_assessment_2=html_technical_assessment_2,\n",
        "    html_notes=html_notes,\n",
        "    html_technical_assessment_3=html_technical_assessment_3,\n",
        "    html_technical_assessment_4=html_technical_assessment_4,\n",
        "    html_technical_assessment_5=html_technical_assessment_5,\n",
        "    html_behavioral_assessment_1=html_behavioral_assessment_1,\n",
        "    html_behavioral_assessment_2=html_behavioral_assessment_2,\n",
        "    html_behavioral_assessment_3=html_behavioral_assessment_3,\n",
        "    html_behavioral_assessment_4=html_behavioral_assessment_4,\n",
        "    html_behavioral_assessment_5=html_behavioral_assessment_5,\n",
        "    html_practical_assignment=html_practical_assignment,\n",
        "    html_team_interaction=html_team_interaction,\n",
        "    html_candidate_questions=html_candidate_questions\n",
        ")\n",
        "\n",
        "# Write HTML string to a file\n",
        "with open(html_destination, 'w') as file:\n",
        "    file.write(html_content)\n",
        "\n",
        "\n",
        "# Display the Markdown-formatted text in the notebook\n",
        "# from IPython.display import display, HTML\n",
        "# display(HTML(html_content))\n"
      ]
    },
    {
      "cell_type": "markdown",
      "metadata": {
        "id": "O616O7upoV-T"
      },
      "source": [
        "# Create the Documents"
      ]
    },
    {
      "cell_type": "markdown",
      "metadata": {
        "id": "D04s7TxrS98T"
      },
      "source": [
        "### Create PDF from HTML"
      ]
    },
    {
      "cell_type": "code",
      "execution_count": 449,
      "metadata": {
        "colab": {
          "base_uri": "https://localhost:8080/",
          "height": 225
        },
        "id": "IvxTVtggloVo",
        "outputId": "8ba9612a-1bea-4daa-93d4-35291600f0e8"
      },
      "outputs": [],
      "source": [
        "from weasyprint import HTML\n",
        "\n",
        "# Convert HTML to PDF using WeasyPrint\n",
        "#HTML('playbook.html').write_pdf('playbook.pdf', stylesheets=['style.css'], presentational_hints=True)\n",
        "HTML(html_destination).write_pdf(pdf_destination, stylesheets=['styles.css'], full_fonts=True, hinting=True, presentational_hints=True)\n",
        "\n"
      ]
    },
    {
      "cell_type": "markdown",
      "metadata": {
        "id": "lQyaspI3Tbu0"
      },
      "source": [
        "## Create a markdown version\n",
        "\n",
        "For use in GitHub as an example"
      ]
    },
    {
      "cell_type": "code",
      "execution_count": 553,
      "metadata": {},
      "outputs": [
        {
          "name": "stdout",
          "output_type": "stream",
          "text": [
            "December 26, 2023 2:02 PM\n"
          ]
        }
      ],
      "source": [
        "notes_snippet_md = \"\"\"##### Notes\\n\n",
        "\\\\__________________________________________________________________________________________\n",
        "\\\\__________________________________________________________________________________________\n",
        "\\\\__________________________________________________________________________________________\n",
        "\\\\__________________________________________________________________________________________\n",
        "\\\\__________________________________________________________________________________________\n",
        "\\\\__________________________________________________________________________________________\\n\n",
        "Rating (1-5): \\\\__________\\n\\n\\n\"\"\"\n",
        "\n",
        "from datetime import datetime\n",
        "\n",
        "# Get the current date and time\n",
        "now = datetime.now()\n",
        "\n",
        "# Format the date and time in a nice readable format\n",
        "formatted_now = now.strftime(\"%B %d, %Y %-I:%M %p\")\n",
        "\n",
        "print(formatted_now)\n",
        "\n",
        "playbook_md = (\n",
        "            \"---\\n\" + \n",
        "            \"title: \" + playbook_title  + \"\\n\\n\" +\n",
        "            \"author: Created by [Deliverables.ai](https://github.com/androb/deliverables)\\n\" +\n",
        "            \"date: \" + formatted_now + \"\\n\"\n",
        "            \"---\\n\" + \n",
        "            \"## Introduction\" + \"\\n\\n\" +\n",
        "            introduction + \"\\n\\n\" +\n",
        "            \"### Interview Structure\" + \"\\n\\n\" +\n",
        "            interview_structure + \"\\n\\n\" +\n",
        "            \"### Job Description\" + \"\\n\\n\" +\n",
        "            job_description + \"\\n\\n\" +\n",
        "            eval_criteria + \"\\n\\n\" +\n",
        "            technical_assessment_1 + \"\\n\\n\" +\n",
        "            notes_snippet_md +\n",
        "            technical_assessment_2 + \"\\n\\n\" +\n",
        "            notes_snippet_md +\n",
        "            technical_assessment_3 + \"\\n\\n\" +\n",
        "            notes_snippet_md +\n",
        "            technical_assessment_4 + \"\\n\\n\" +\n",
        "            notes_snippet_md +\n",
        "            technical_assessment_5 + \"\\n\\n\" +\n",
        "            notes_snippet_md +\n",
        "            behavioral_assessment_1 + \"\\n\\n\" +\n",
        "            notes_snippet_md +\n",
        "            behavioral_assessment_2 + \"\\n\\n\" +\n",
        "            notes_snippet_md +\n",
        "            behavioral_assessment_3 + \"\\n\\n\" +\n",
        "            notes_snippet_md +\n",
        "            behavioral_assessment_4 + \"\\n\\n\" +\n",
        "            notes_snippet_md +\n",
        "            behavioral_assessment_5 + \"\\n\\n\" +\n",
        "            notes_snippet_md +\n",
        "            practical_assignment + \"\\n\\n\" +\n",
        "            notes_snippet_md +\n",
        "            team_interaction + \"\\n\\n\" +\n",
        "            notes_snippet_md +\n",
        "            candidate_questions + \"\\n\\n\" )\n",
        "\n",
        "# Write playbook to a text file\n",
        "with open(markdown_destination, 'w') as file:\n",
        "    file.write(playbook_md)"
      ]
    },
    {
      "cell_type": "markdown",
      "metadata": {
        "id": "3E7xN0QjS6p5"
      },
      "source": [
        "### Create Word Document from Markdown"
      ]
    },
    {
      "cell_type": "code",
      "execution_count": 569,
      "metadata": {
        "id": "sAhMgYsb0lp3"
      },
      "outputs": [],
      "source": [
        "# Convert from markdown to docx\n",
        "!pandoc -s {markdown_destination} -o {word_destination} --reference-doc=\"custom-reference.docx\" --toc=True --shift-heading-level-by -1\n",
        "!pandoc -s {markdown_destination} -o {html_destination} --template=html-reference --toc=True\n",
        "\n",
        "\n",
        "# use this extension to shift headings to differ between HTML and docx\n",
        "# --shift-heading-level-by -1\n",
        "\n",
        "# Convert from markdown to PDF via HTML\n",
        "# !pandoc --pdf-engine \"weasyprint\" -s {markdown_destination} -o {pdf_destination} --reference-doc=\"custom-reference.docx\" --toc=True\n",
        "# !pandoc --pdf-engine \"weasyprint\" -s {word_destination} -o {pdf_destination}\n"
      ]
    },
    {
      "cell_type": "code",
      "execution_count": 542,
      "metadata": {},
      "outputs": [],
      "source": [
        "pptx_destination = destination_directory + \"playbook.pptx\"\n",
        "!pandoc -s {markdown_destination} -o {pptx_destination}"
      ]
    }
  ],
  "metadata": {
    "colab": {
      "provenance": []
    },
    "kernelspec": {
      "display_name": "Python 3",
      "name": "python3"
    },
    "language_info": {
      "codemirror_mode": {
        "name": "ipython",
        "version": 3
      },
      "file_extension": ".py",
      "mimetype": "text/x-python",
      "name": "python",
      "nbconvert_exporter": "python",
      "pygments_lexer": "ipython3",
      "version": "3.12.0"
    }
  },
  "nbformat": 4,
  "nbformat_minor": 0
}
