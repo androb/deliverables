{
  "cells": [
    {
      "cell_type": "markdown",
      "metadata": {},
      "source": [
        "# Setup"
      ]
    },
    {
      "cell_type": "code",
      "execution_count": 31,
      "metadata": {
        "colab": {
          "base_uri": "https://localhost:8080/"
        },
        "id": "azLYd2_T9j3p",
        "outputId": "f99c4218-325c-4b2c-dea4-fe8a12b2f281"
      },
      "outputs": [
        {
          "name": "stdout",
          "output_type": "stream",
          "text": [
            "Requirement already satisfied: OpenAI in /Users/andrewroberts/anaconda3/envs/deliverables/lib/python3.12/site-packages (1.6.0)\n",
            "Requirement already satisfied: markdown in /Users/andrewroberts/anaconda3/envs/deliverables/lib/python3.12/site-packages (3.5.1)\n",
            "Requirement already satisfied: mdx_truly_sane_lists in /Users/andrewroberts/anaconda3/envs/deliverables/lib/python3.12/site-packages (1.3)\n",
            "Requirement already satisfied: weasyprint in /Users/andrewroberts/anaconda3/envs/deliverables/lib/python3.12/site-packages (60.2)\n",
            "Requirement already satisfied: python-dotenv in /Users/andrewroberts/anaconda3/envs/deliverables/lib/python3.12/site-packages (1.0.0)\n",
            "Requirement already satisfied: pango in /Users/andrewroberts/anaconda3/envs/deliverables/lib/python3.12/site-packages (0.0.1)\n",
            "Requirement already satisfied: anyio<5,>=3.5.0 in /Users/andrewroberts/anaconda3/envs/deliverables/lib/python3.12/site-packages (from OpenAI) (4.2.0)\n",
            "Requirement already satisfied: distro<2,>=1.7.0 in /Users/andrewroberts/anaconda3/envs/deliverables/lib/python3.12/site-packages (from OpenAI) (1.8.0)\n",
            "Requirement already satisfied: httpx<1,>=0.23.0 in /Users/andrewroberts/anaconda3/envs/deliverables/lib/python3.12/site-packages (from OpenAI) (0.25.2)\n",
            "Requirement already satisfied: pydantic<3,>=1.9.0 in /Users/andrewroberts/anaconda3/envs/deliverables/lib/python3.12/site-packages (from OpenAI) (2.5.2)\n",
            "Requirement already satisfied: sniffio in /Users/andrewroberts/anaconda3/envs/deliverables/lib/python3.12/site-packages (from OpenAI) (1.3.0)\n",
            "Requirement already satisfied: tqdm>4 in /Users/andrewroberts/anaconda3/envs/deliverables/lib/python3.12/site-packages (from OpenAI) (4.66.1)\n",
            "Requirement already satisfied: typing-extensions<5,>=4.7 in /Users/andrewroberts/anaconda3/envs/deliverables/lib/python3.12/site-packages (from OpenAI) (4.9.0)\n",
            "Requirement already satisfied: pydyf>=0.8.0 in /Users/andrewroberts/anaconda3/envs/deliverables/lib/python3.12/site-packages (from weasyprint) (0.8.0)\n",
            "Requirement already satisfied: cffi>=0.6 in /Users/andrewroberts/anaconda3/envs/deliverables/lib/python3.12/site-packages (from weasyprint) (1.16.0)\n",
            "Requirement already satisfied: html5lib>=1.1 in /Users/andrewroberts/anaconda3/envs/deliverables/lib/python3.12/site-packages (from weasyprint) (1.1)\n",
            "Requirement already satisfied: tinycss2>=1.0.0 in /Users/andrewroberts/anaconda3/envs/deliverables/lib/python3.12/site-packages (from weasyprint) (1.2.1)\n",
            "Requirement already satisfied: cssselect2>=0.1 in /Users/andrewroberts/anaconda3/envs/deliverables/lib/python3.12/site-packages (from weasyprint) (0.7.0)\n",
            "Requirement already satisfied: Pyphen>=0.9.1 in /Users/andrewroberts/anaconda3/envs/deliverables/lib/python3.12/site-packages (from weasyprint) (0.14.0)\n",
            "Requirement already satisfied: Pillow>=9.1.0 in /Users/andrewroberts/anaconda3/envs/deliverables/lib/python3.12/site-packages (from weasyprint) (10.1.0)\n",
            "Requirement already satisfied: fonttools>=4.0.0 in /Users/andrewroberts/anaconda3/envs/deliverables/lib/python3.12/site-packages (from fonttools[woff]>=4.0.0->weasyprint) (4.47.0)\n",
            "Requirement already satisfied: idna>=2.8 in /Users/andrewroberts/anaconda3/envs/deliverables/lib/python3.12/site-packages (from anyio<5,>=3.5.0->OpenAI) (3.6)\n",
            "Requirement already satisfied: pycparser in /Users/andrewroberts/anaconda3/envs/deliverables/lib/python3.12/site-packages (from cffi>=0.6->weasyprint) (2.21)\n",
            "Requirement already satisfied: webencodings in /Users/andrewroberts/anaconda3/envs/deliverables/lib/python3.12/site-packages (from cssselect2>=0.1->weasyprint) (0.5.1)\n",
            "Requirement already satisfied: zopfli>=0.1.4 in /Users/andrewroberts/anaconda3/envs/deliverables/lib/python3.12/site-packages (from fonttools[woff]>=4.0.0->weasyprint) (0.2.3)\n",
            "Requirement already satisfied: brotli>=1.0.1 in /Users/andrewroberts/anaconda3/envs/deliverables/lib/python3.12/site-packages (from fonttools[woff]>=4.0.0->weasyprint) (1.1.0)\n",
            "Requirement already satisfied: six>=1.9 in /Users/andrewroberts/anaconda3/envs/deliverables/lib/python3.12/site-packages (from html5lib>=1.1->weasyprint) (1.16.0)\n",
            "Requirement already satisfied: certifi in /Users/andrewroberts/anaconda3/envs/deliverables/lib/python3.12/site-packages (from httpx<1,>=0.23.0->OpenAI) (2023.11.17)\n",
            "Requirement already satisfied: httpcore==1.* in /Users/andrewroberts/anaconda3/envs/deliverables/lib/python3.12/site-packages (from httpx<1,>=0.23.0->OpenAI) (1.0.2)\n",
            "Requirement already satisfied: h11<0.15,>=0.13 in /Users/andrewroberts/anaconda3/envs/deliverables/lib/python3.12/site-packages (from httpcore==1.*->httpx<1,>=0.23.0->OpenAI) (0.14.0)\n",
            "Requirement already satisfied: annotated-types>=0.4.0 in /Users/andrewroberts/anaconda3/envs/deliverables/lib/python3.12/site-packages (from pydantic<3,>=1.9.0->OpenAI) (0.6.0)\n",
            "Requirement already satisfied: pydantic-core==2.14.5 in /Users/andrewroberts/anaconda3/envs/deliverables/lib/python3.12/site-packages (from pydantic<3,>=1.9.0->OpenAI) (2.14.5)\n",
            "Note: you may need to restart the kernel to use updated packages.\n"
          ]
        }
      ],
      "source": [
        "%pip install OpenAI markdown mdx_truly_sane_lists weasyprint python-dotenv pango"
      ]
    },
    {
      "cell_type": "code",
      "execution_count": 32,
      "metadata": {
        "id": "3_jkcGWaQvvs"
      },
      "outputs": [
        {
          "data": {
            "text/plain": [
              "True"
            ]
          },
          "execution_count": 32,
          "metadata": {},
          "output_type": "execute_result"
        }
      ],
      "source": [
        "import os\n",
        "\n",
        "from dotenv import load_dotenv\n",
        "load_dotenv()  # Load the environment variables from .env file"
      ]
    },
    {
      "cell_type": "markdown",
      "metadata": {},
      "source": [
        "Set up the OpenAI Assistant"
      ]
    },
    {
      "cell_type": "code",
      "execution_count": 33,
      "metadata": {},
      "outputs": [],
      "source": [
        "from openai import OpenAI\n",
        "client = OpenAI()\n",
        "\n",
        "#  get the prompt from the file system\n",
        "with open('prompt.md', 'r') as file:\n",
        "    # Read the entire content of the file into a single string variable\n",
        "    prompt = file.read()\n",
        "\n",
        "# simple retrieve of the Assistant - not necessary because we are doing an update\n",
        "# my_assistant = client.beta.assistants.retrieve(\"asst_3WQiw8VJ91XWikievImBqwrZ\")\n",
        "\n",
        "# update the assistant with the latest prompt\n",
        "my_assistant = client.beta.assistants.update(\n",
        "  \"asst_3WQiw8VJ91XWikievImBqwrZ\",\n",
        "  instructions=prompt,\n",
        "  name=\"Interview Playbook Generator\",\n",
        "  tools=[{\"type\": \"retrieval\"}],\n",
        "  model=\"gpt-4-1106-preview\"\n",
        "  # model=\"gpt-3.5-turbo-1106\"\n",
        ")"
      ]
    },
    {
      "cell_type": "code",
      "execution_count": 34,
      "metadata": {
        "id": "ianKdgCtS-Yp"
      },
      "outputs": [],
      "source": [
        "# create a thread\n",
        "my_thread = client.beta.threads.create()\n",
        "\n",
        "import time\n",
        "\n",
        "def create_run(client, my_thread, my_assistant, content, file_ids=None):\n",
        "    \"\"\"\n",
        "    Create a message, run it, and display the response.\n",
        "\n",
        "    Args:\n",
        "    client (Client): The API client.\n",
        "    my_thread (Thread): The thread to post the message to.\n",
        "    my_assistant (Assistant): The assistant to use for the run.\n",
        "    content (str): The content of the message.\n",
        "    file_ids (list, optional): List of file IDs to attach to the message.\n",
        "\n",
        "    Returns:\n",
        "    str: The response content.\n",
        "\n",
        "    Raises:\n",
        "    ValueError: If any of the parameters are invalid.\n",
        "    RuntimeError: If the run does not complete successfully.\n",
        "    \"\"\"\n",
        "\n",
        "    if not all([client, my_thread, my_assistant, content]):\n",
        "        raise ValueError(\"Invalid parameters provided.\")\n",
        "\n",
        "    extra_instructions = \"\"\" ONLY return the content as John Gruber's markdown with no delimiters and with no commentary whatsoever.\"\"\"\n",
        "\n",
        "    # Create the message\n",
        "    thread_message = client.beta.threads.messages.create(\n",
        "        my_thread.id,\n",
        "        role=\"user\",\n",
        "        content=content + extra_instructions,\n",
        "        file_ids=file_ids or []\n",
        "    )\n",
        "\n",
        "    # Hard code the values for max_retries and wait_seconds\n",
        "    max_retries = 120\n",
        "    wait_seconds = 0.5\n",
        "\n",
        "    # Create a run\n",
        "    run = client.beta.threads.runs.create(\n",
        "        thread_id=my_thread.id,\n",
        "        assistant_id=my_assistant.id\n",
        "    )\n",
        "\n",
        "    # Check the run's status\n",
        "    for _ in range(max_retries):\n",
        "        run = client.beta.threads.runs.retrieve(\n",
        "            thread_id=my_thread.id,\n",
        "            run_id=run.id)\n",
        "        if run.status == \"completed\":\n",
        "            break\n",
        "        time.sleep(wait_seconds)\n",
        "    else:\n",
        "        raise RuntimeError(\"Run did not complete successfully.\")\n",
        "\n",
        "    # Retrieve and return the response\n",
        "    all_messages = client.beta.threads.messages.list(thread_id=my_thread.id)\n",
        "    return all_messages.data[0].content[0].text.value + \"\\n\\n\"\n"
      ]
    },
    {
      "cell_type": "markdown",
      "metadata": {
        "id": "DxSAZm5tzT62"
      },
      "source": [
        "## Initial File Upload and Prompt"
      ]
    },
    {
      "cell_type": "code",
      "execution_count": 35,
      "metadata": {
        "colab": {
          "base_uri": "https://localhost:8080/"
        },
        "id": "G23reYVLTmQc",
        "outputId": "e29e96de-754f-455e-d526-b5e3f459e266"
      },
      "outputs": [],
      "source": [
        "import time\n",
        "\n",
        "# Which example to run\n",
        "#choice = 'medical-assistant'\n",
        "#choice = 'infra-engineer'\n",
        "#choice = 'customer-success-manager'\n",
        "choice = 'real-estate-litigator'\n",
        "\n",
        "destination_directory = \"examples/\" + choice + \"/\"\n",
        "html_destination = destination_directory + 'playbook.html'\n",
        "pdf_destination = destination_directory + 'playbook.pdf'\n",
        "markdown_destination = destination_directory + 'playbook.md'\n",
        "word_destination = destination_directory + 'playbook.docx'\n",
        "\n",
        "company_file = \"examples/\" + choice + \"/about-company.md\"\n",
        "\n",
        "# Upload the company description\n",
        "file_company_values = client.files.create(\n",
        "  file=open(company_file, \"rb\"),\n",
        "  purpose=\"assistants\"\n",
        ")\n",
        "\n",
        "job_description_file = \"examples/\" + choice + \"/job-description.md\"\n",
        "# Open the file and read the contents\n",
        "with open(job_description_file, 'r') as file:\n",
        "    # Read the entire content of the file into a single string variable\n",
        "    job_description = file.read()\n",
        "\n",
        "# Upload the job description file\n",
        "file_job_description = client.files.create(\n",
        "  file=open(job_description_file, \"rb\"),\n",
        "  purpose=\"assistants\"\n",
        ")\n",
        "\n",
        "# give OpenAI time to process the file\n",
        "time.sleep(5)\n"
      ]
    },
    {
      "cell_type": "markdown",
      "metadata": {
        "id": "1wzWtt6hzFsR"
      },
      "source": [
        "# Priming the Pump"
      ]
    },
    {
      "cell_type": "code",
      "execution_count": 36,
      "metadata": {},
      "outputs": [
        {
          "name": "stdout",
          "output_type": "stream",
          "text": [
            "## Nixon Peabody: Mission, Vision, and Values\n",
            "\n",
            "### Values\n",
            "Nixon Peabody’s values highlight their commitment to the following principles:\n",
            "\n",
            "- **Unparalleled Service:** Emphasis on service excellence and ensuring client success, striving to exceed expectations.\n",
            "  \n",
            "- **Rich Experience:** Leveraging collective expertise to provide innovative legal solutions.\n",
            "\n",
            "- **Unshakeable Trust:** Cultivating enduring relationships through trustworthy actions and behaviors.\n",
            "\n",
            "- **Respectful Inclusion:** Fostering diversity, integrity, and respect within the culture, promoting diverse ideas for effective solutions.\n",
            "\n",
            "Additionally, Nixon Peabody is dedicated to diversity, equity, and inclusion, sustainability, social responsibility, and technological innovation to enhance client services. These values guide the firm in delivering superior legal services with a strong ethical foundation and a positive societal impact.\n",
            "\n",
            "\n"
          ]
        }
      ],
      "source": [
        "# Refresh the context to ensure it has read the files\n",
        "primer_values = create_run(client,my_thread,my_assistant,\"\"\"\n",
        "            Write a detailed description of the company values from the about company file, using the company name.\n",
        "            \"\"\", [file_company_values.id])\n",
        "print(primer_values)"
      ]
    },
    {
      "cell_type": "code",
      "execution_count": 61,
      "metadata": {
        "colab": {
          "base_uri": "https://localhost:8080/"
        },
        "id": "ip0AjmHHB2nQ",
        "outputId": "445a12aa-467a-4aaf-a22f-1ebc0a5e14d7"
      },
      "outputs": [
        {
          "name": "stdout",
          "output_type": "stream",
          "text": [
            "## Real Estate Litigation Department Attorney\n",
            "\n",
            "### Technical Competencies\n",
            "\n",
            "#### Commercial and Real Estate Litigation Experience\n",
            "- **Contractual Dispute Resolution**: Proficiency in handling disputes arising from real estate contracts, including interpretation and enforcement.\n",
            "- **Property Title Litigation**: Expertise in title issues, easements, and boundary disputes.\n",
            "- **Construction Law**: Knowledge of construction-related litigation, including defects, delays, and mechanic liens.\n",
            "- **Land Use and Zoning**: Understanding of land use policies, zoning disputes, and environmental considerations in litigation.\n",
            "\n",
            "#### Client Service in Fast-Paced Environment\n",
            "- **Client Communication**: Exceptional skills in client counseling and delivering legal updates promptly.\n",
            "- **Case Prioritization**: Ability to effectively manage and prioritize a high volume of cases.\n",
            "- **Strategic Agility**: Skill in rapidly developing and adjusting strategies to meet changing client needs.\n",
            "- **Crisis Management**: Experience in handling urgent legal issues with poise and efficiency.\n",
            "\n",
            "#### California Bar Admission\n",
            "- **State-Specific Laws**: Deep knowledge of California-specific real estate and commercial laws.\n",
            "- **Local Court Procedures**: Familiarity with San Francisco's local court procedures and filing requirements.\n",
            "- **Legal Compliance**: Ensuring all actions and documents comply with state regulations and ethical standards.\n",
            "- **Continuing Legal Education**: Commitment to ongoing learning about updates in California law.\n",
            "\n",
            "#### Varied Caseload Management\n",
            "- **Caseload Organization**: Strong organizational systems for managing diverse caseloads efficiently.\n",
            "- **Time Management**: Effective time allocation ensuring critical deadlines are met.\n",
            "- **Legal Task Delegation**: Ability to delegate tasks appropriately within a case team.\n",
            "- **Case Review and Strategy**: Rigorous case analysis to formulate winning strategies.\n",
            "\n",
            "#### Complex Legal Issue Resolution\n",
            "- **Problem-Solving**: Innovative and effective resolution of complex legal problems.\n",
            "- **Negotiation Skills**: Proficient in negotiation strategies to reach favorable settlements.\n",
            "- **Legal Research and Writing**: Strong capabilities in legal research and crafting persuasive arguments.\n",
            "- **Courtroom Advocacy**: Skilled advocacy in trial and appellate court settings.\n",
            "\n",
            "### Behavioral Competencies\n",
            "\n",
            "#### Client-Centric Focus\n",
            "- **Understanding Client Goals**: Deeply comprehending client objectives to guide case strategies.\n",
            "- **Empathy and Rapport**: Building strong relationships based on understanding and trust.\n",
            "- **Adaptive Communication**: Tailoring communication style to meet clients' preferences and needs.\n",
            "- **Outcome-Driven Service**: Delivering outcomes that align with client expectations and legal possibilities.\n",
            "\n",
            "#### Collaboration within a Diverse Team\n",
            "- **Intercultural Competence**: Engaging effectively with a culturally diverse team in accordance with the firm's inclusivity goals.\n",
            "- **Team Communication**: Ensuring clear, supportive communication among team members.\n",
            "- **Constructive Conflict Resolution**: Resolving differences within the team constructively and respectfully.\n",
            "- **Shared Success Mentality**: Emphasizing team success and shared achievements over individual accolades.\n",
            "\n",
            "#### Adaptive to a Fast-Paced Environment\n",
            "- **Stress Management**: Staying composed and effective under pressure.\n",
            "- **Quick Decision-Making**: Making sound decisions swiftly in response to fast-moving case dynamics.\n",
            "- **Ace Multitasking**: Handling multiple responsibilities simultaneously without compromising quality.\n",
            "- **Openness to Change**: Embracing procedural and policy changes positively.\n",
            "\n",
            "#### Ethical Practice and Responsibility\n",
            "- **Integrity**: Upholding the highest ethical standards in all legal practices.\n",
            "- **Professional Responsibility**: Acting responsibly and with accountability in all professional matters.\n",
            "- **Confidentiality**: Safeguarding client information with utmost discretion.\n",
            "- **Regulatory Compliance**: Adhering strictly to all relevant legal and firm policies.\n",
            "\n",
            "#### Continuous Learning and Skill Development\n",
            "- **Self-Initiated Learning**: Proactively pursuing new knowledge and skills in real estate law.\n",
            "- **Feedback Receptivity**: Welcoming and incorporating feedback to improve performance.\n",
            "- **Legal Trend Analysis**: Keeping abreast of and adapting to new trends and changes in real estate litigation.\n",
            "- **Learning Agility**: Quickly assimilating new information to enhance legal practice.\n",
            "\n",
            "\n"
          ]
        }
      ],
      "source": [
        "# Refresh the context to ensure it has read the files and create context. Not included in final doc.\n",
        "primer_job = create_run(client,my_thread,my_assistant,\"\"\"\n",
        "            Write the job title contained in the job description file.\n",
        "            Then, create the list of 5 technical competencies, which MUST cover the areas mentioned in the\n",
        "            requirements in the job description. Create the list of 5 behavioral\n",
        "            competencies, with a focus on the company values but still covering all requirements in the\n",
        "            job description. Where possible, describe a competency in a way that aligns with the company values.\n",
        "            Each competency should have a title followed by a short description.\n",
        "            For each competency, list 3 or 4 subcompetencies and their descriptions to enable more deep exploration.\n",
        "            \"\"\", [file_job_description.id])\n",
        "print(primer_job)\n"
      ]
    },
    {
      "cell_type": "markdown",
      "metadata": {
        "id": "IlR4qmAwOGV3"
      },
      "source": [
        "# Create Introduction"
      ]
    },
    {
      "cell_type": "code",
      "execution_count": 62,
      "metadata": {
        "colab": {
          "base_uri": "https://localhost:8080/"
        },
        "id": "C5zuFj7K5r9z",
        "outputId": "882110c3-fe5b-489c-b865-66e1a185b383"
      },
      "outputs": [
        {
          "name": "stdout",
          "output_type": "stream",
          "text": [
            "# Interview Playbook for Real Estate Litigation Department Attorney\n",
            "\n",
            "## Introduction\n",
            "\n",
            "This Interview Playbook is designed to guide the assessment of candidates for the position of Real Estate Litigation Department Attorney. It ensures a structured approach to evaluate their alignment with the key technical and behavioral competencies required for this critical role at the firm. The candidate's expertise in handling complex real estate litigation, their ability to deliver exceptional client service, and their preparedness to work collaboratively in a diverse and fast-paced environment will be the focus of the evaluation.\n",
            "\n",
            "### Interview Structure\n",
            "\n",
            "The interview should be broken down into the following sections:\n",
            "\n",
            "1. **Introduction (5-10 minutes)**\n",
            "   - Greeting and establishing rapport with the candidate.\n",
            "   - Providing a brief overview of the firm and the expectations for the Real Estate Litigation Department Attorney position.\n",
            "\n",
            "2. **Technical Competency Assessment (40-60 minutes)**\n",
            "   - Evaluating Commercial and Real Estate Litigation Experience.\n",
            "   - Discussing Client Service in a Fast-Paced Environment.\n",
            "   - Confirming California Bar Admission and local legal knowledge.\n",
            "   - Assessing Varied Caseload Management skills.\n",
            "   - Discussing approaches to Complex Legal Issue Resolution.\n",
            "\n",
            "3. **Behavioral Competency Assessment (30-40 minutes)**\n",
            "   - Probing Client-Centric Focus with situational questions.\n",
            "   - Observing the ability to Collaborate within a Diverse Team.\n",
            "   - Testing adaptability to a Fast-Paced Environment.\n",
            "   - Assessing Ethical Practice and Responsibility.\n",
            "   - Discussing strategies for Continuous Learning and Skill Development.\n",
            "\n",
            "4. **Case Studies / Role-Playing (20-30 minutes)**\n",
            "   - Presenting the candidate with real-world scenarios to address, simulating the complexities they will encounter in their role.\n",
            "\n",
            "5. **Closure and Next Steps (10-15 minutes)**\n",
            "   - Allowing the candidate to ask questions about the position and the firm.\n",
            "   - Outlining the follow-up process after the interview.\n",
            "\n",
            "The entire interview should span approximately 1.5 to 2.5 hours. This length allows for a deep dive into the competencies and gives the candidate an opportunity to showcase their qualifications in a comprehensive manner.\n",
            "\n",
            "\n"
          ]
        }
      ],
      "source": [
        "introduction = create_run(client,my_thread,my_assistant,\"\"\"\n",
        "            Generate the Introduction with the Candidate Profle (only if applicable) and Interview Structure. Be sure to include mention of the competencies in the interview structure.\n",
        "            \"\"\")\n",
        "print(introduction)"
      ]
    },
    {
      "cell_type": "markdown",
      "metadata": {
        "id": "wbojM0Og4s_m"
      },
      "source": [
        "# Create Evaluation Criteria"
      ]
    },
    {
      "cell_type": "code",
      "execution_count": 63,
      "metadata": {
        "colab": {
          "base_uri": "https://localhost:8080/"
        },
        "id": "WoY0tlUkkCdk",
        "outputId": "4867b20f-788c-41c4-fb5a-76fb49d99171"
      },
      "outputs": [
        {
          "name": "stdout",
          "output_type": "stream",
          "text": [
            "## Evaluation Criteria\n",
            "\n",
            "The following job scorecard is designed to ensure an objective and comprehensive evaluation of the Real Estate Litigation Department Attorney candidate. It takes into account the specific competencies necessary for the role. Interviewers can score each competency and provide comments on the candidate's performance.\n",
            "\n",
            "| Competency                               | Assessment | Comments |\n",
            "|------------------------------------------|------------|----------|\n",
            "| Commercial and Real Estate Litigation Experience |            |          |\n",
            "| Client Service in Fast-Paced Environment |            |          |\n",
            "| California Bar Admission                |            |          |\n",
            "| Varied Caseload Management              |            |          |\n",
            "| Complex Legal Issue Resolution          |            |          |\n",
            "| Client-Centric Focus                    |            |          |\n",
            "| Collaboration within a Diverse Team     |            |          |\n",
            "| Adaptive to a Fast-Paced Environment    |            |          |\n",
            "| Ethical Practice and Responsibility     |            |          |\n",
            "| Continuous Learning and Skill Development |          |          |\n",
            "\n",
            "Rating Guide:\n",
            "\n",
            "1. **Far Below Expectations** - Does not meet the basic requirements of the role.\n",
            "2. **Below Expectations** - Has some of the skills but would require additional training.\n",
            "3. **Meets Expectations** - Adequately meets the role's requirements.\n",
            "4. **Exceeds Expectations** - Shows a high level of skill and exceeds the role's requirements.\n",
            "5. **Far Exceeds Expectations** - Exceptionally exceeds all expectations and has the potential to make a significant impact in the role.\n",
            "\n",
            "\n"
          ]
        }
      ],
      "source": [
        "eval_criteria = create_run(client,my_thread,my_assistant,\"\"\"\n",
        "    Generate the Evaluation Critera section.\n",
        "    \"\"\")\n",
        "print(eval_criteria)"
      ]
    },
    {
      "cell_type": "markdown",
      "metadata": {
        "id": "9XgTU1JEzfEa"
      },
      "source": [
        "# Create Technical Assessment"
      ]
    },
    {
      "cell_type": "code",
      "execution_count": 65,
      "metadata": {
        "colab": {
          "base_uri": "https://localhost:8080/"
        },
        "id": "6W7Mp4JwzhNW",
        "outputId": "1cf9a68e-dae6-46fc-ccc6-3c614387094c"
      },
      "outputs": [
        {
          "name": "stdout",
          "output_type": "stream",
          "text": [
            "## Technical Assessment\n",
            "\n",
            "Assessing technical skills allows us to accurately gauge a candidate's legal acumen specifically related to commercial and real estate litigation.\n",
            "\n",
            "### Technical Competence 1: Commercial and Real Estate Litigation Experience\n",
            "\n",
            "_Should exhibit a comprehensive understanding of real estate laws and be adept at managing legal processes involved in real estate disputes._\n",
            "\n",
            "#### Lead Question\n",
            "\n",
            "\"Can you walk us through your most complex commercial or real estate litigation case, detailing the legal strategy you developed and its outcome?\"\n",
            "_Tip: Look for the ability to develop and articulate a clear strategy based on intricate knowledge of real estate law._\n",
            "\n",
            "#### Probing Questions\n",
            "\n",
            "- \"How do you approach a case with potential conflicts in contractual terms and conditions?\"\n",
            "  _Tip: Assess the candidate’s analytical skills in contract interpretation and dispute resolution._\n",
            "\n",
            "- \"Describe your experience with a property title or boundary dispute and how you resolved it.\"\n",
            "  _Tip: Seek insights into the candidate's expertise in navigating title litigations._\n",
            "\n",
            "- \"What challenges have you faced in construction litigation, specifically related to defects or delays?\"\n",
            "  _Tip: Evaluate the candidate’s ability to handle the unique aspects of construction law._\n",
            "\n",
            "- \"Can you give an example of a land use or zoning issue you've dealt with and the resolution you achieved?\"\n",
            "  _Tip: Determine the candidate’s proficiency in dealing with land use challenges and government regulations._\n",
            "\n",
            "#### Scenario\n",
            "\n",
            "\"A developer is faced with a sudden historic preservation claim on a property under development, which could halt the project indefinitely. Construct a legal strategy that balances the developer's interests with the regulatory frameworks.\"\n",
            "_Tip: The response should evaluate the candidate's ability to balance commercial interests with legal compliance and the public interest._\n",
            "\n",
            "\n"
          ]
        }
      ],
      "source": [
        "technical_assessment_1 = create_run(client,my_thread,my_assistant,\"Generate the first Technical Assessment\")\n",
        "print(technical_assessment_1)\n"
      ]
    },
    {
      "cell_type": "code",
      "execution_count": 66,
      "metadata": {
        "colab": {
          "base_uri": "https://localhost:8080/"
        },
        "id": "xf9T4lGVTLoI",
        "outputId": "6f3a3677-a864-4d9e-8370-872d9851b091"
      },
      "outputs": [
        {
          "name": "stdout",
          "output_type": "stream",
          "text": [
            "### Technical Competence 2: Client Service in Fast-Paced Environment\n",
            "\n",
            "_Excellence in servicing clients, particularly in a demanding and fast-paced environment, ensuring that the client's needs are met with efficiency and precision._\n",
            "\n",
            "#### Lead Question\n",
            "\n",
            "\"Describe a time when you had to quickly adjust your legal strategy to accommodate a client's urgent request. How did you handle the pressure and what was the outcome?\"\n",
            "\n",
            "_Tip: Look for examples that demonstrate the ability to deliver under pressure while maintaining high-quality client service._\n",
            "\n",
            "#### Probing Questions\n",
            "\n",
            "- \"How do you prioritize and manage a high volume of cases without compromising on the quality of client service?\"\n",
            "  _Tip: Evaluate the candidate’s prioritization and time management skills._\n",
            "\n",
            "- \"Can you share an experience where you needed to rapidly change your approach due to sudden shifts in a case's dynamics?\"\n",
            "  _Tip: Assess strategic agility and the ability to respond effectively to unexpected changes._\n",
            "\n",
            "- \"Discuss how you maintained client communication and trust during a particularly complex or extended legal matter.\"\n",
            "  _Tip: Look for communication strategies that maintain transparency and manage client expectations._\n",
            "\n",
            "- \"Tell us about a crisis you managed for a client, the steps you took to resolve it, and the impact on the case.\"\n",
            "  _Tip: Determine the candidate's crisis management skills and their impact on client satisfaction._\n",
            "\n",
            "#### Scenario\n",
            "\n",
            "\"A major client confronts you with an issue that requires immediate action, but you are already managing a significant workload. Describe your process for addressing the client's issue without delaying other work.\"\n",
            "\n",
            "_Tip: The scenario should test the candidate’s ability to multitask and manage client expectations during high-stress situations._\n",
            "\n",
            "\n"
          ]
        }
      ],
      "source": [
        "technical_assessment_2 = create_run(client,my_thread,my_assistant,\"Generate the 2nd Technical Assessment. Don't include the main section header.\")\n",
        "print(technical_assessment_2)"
      ]
    },
    {
      "cell_type": "code",
      "execution_count": 67,
      "metadata": {
        "colab": {
          "base_uri": "https://localhost:8080/"
        },
        "id": "7nLQIDWITOVT",
        "outputId": "3795c8bd-60b3-4f36-b717-79fe16e370ef"
      },
      "outputs": [
        {
          "name": "stdout",
          "output_type": "stream",
          "text": [
            "### Technical Competence 3: California Bar Admission\n",
            "\n",
            "_Requires an in-depth knowledge of California-specific laws and procedures, crucial for effective practice within the state's jurisdiction._\n",
            "\n",
            "#### Lead Question\n",
            "\n",
            "\"How do you ensure compliance with California's unique legal landscape in your practice, and could you provide an example where your state-specific knowledge had a significant impact on a case outcome?\"\n",
            "\n",
            "_Tip: Seek detailed examples of how the candidate’s state-specific knowledge positively influenced a case._\n",
            "\n",
            "#### Probing Questions\n",
            "\n",
            "- \"What are some key considerations you keep in mind when dealing with California-specific real estate laws?\"\n",
            "  _Tip: Evaluate the candidate's understanding of local nuances in real estate law._\n",
            "\n",
            "- \"Describe a time when familiarity with San Francisco's local court procedures gave you an advantage in a case.\"\n",
            "  _Tip: Look for instances where procedural know-how led to tactical benefits._\n",
            "\n",
            "- \"How do you stay updated with changes in California litigation regulations and integrate these into your practice?\"\n",
            "  _Tip: Determine the candidate’s methods for staying current with state-specific legal developments._\n",
            "\n",
            "- \"Can you provide an example of a successful outcome you achieved by meticulously adhering to state regulations and ethical standards?\"\n",
            "  _Tip: Assess the candidate's commitment to legal compliance and ethical practice._\n",
            "\n",
            "#### Scenario\n",
            "\n",
            "\"You are representing a client in a dispute involving California’s Proposition 65. The opposing party alleges non-compliance with the detailed warning requirements. Draft a brief outline of your defense strategy, highlighting key California statutes and regulations you would rely on.\"\n",
            "\n",
            "_Tip: The candidate’s response should reflect a deep understanding of California-specific legal issues and an ability to formulate a strong legal argument under local statutes._\n",
            "\n",
            "\n"
          ]
        }
      ],
      "source": [
        "technical_assessment_3 = create_run(client,my_thread,my_assistant,\"Generate the 3rd Technical Assessment. Don't include the main section header.\")\n",
        "print(technical_assessment_3)"
      ]
    },
    {
      "cell_type": "code",
      "execution_count": 68,
      "metadata": {
        "colab": {
          "base_uri": "https://localhost:8080/"
        },
        "id": "18RhkvioTRTW",
        "outputId": "84099d49-b302-4a1f-da7c-a0eaf770596f"
      },
      "outputs": [
        {
          "name": "stdout",
          "output_type": "stream",
          "text": [
            "### Technical Competence 4: Varied Caseload Management\n",
            "\n",
            "_Effective management of a diverse and extensive caseload is expected, with a focus on organization, time management, delegation, and strategic case review._\n",
            "\n",
            "#### Lead Question\n",
            "\n",
            "\"Managing a varied caseload requires strong organizational skills. Describe your system for keeping track of different cases and their respective deadlines.\"\n",
            "\n",
            "_Tip: Look for evidence of sophisticated organization and time management systems._\n",
            "\n",
            "#### Probing Questions\n",
            "\n",
            "- \"How do you determine the priority level of cases when everything seems urgent?\"\n",
            "  _Tip: Evaluate the candidate’s ability to prioritize tasks based on urgency and importance._\n",
            "\n",
            "- \"What has been your experience with delegating tasks within a legal team, and how do you ensure quality is maintained?\"\n",
            "  _Tip: Assess the candidate’s approach to teamwork and delegation._\n",
            "\n",
            "- \"Discuss how you conduct a strategic review of your cases and how that influences their outcomes.\"\n",
            "  _Tip: Determine the candidate’s strategy development process and its efficacy._\n",
            "\n",
            "- \"Tell us about a time when you had to adjust your caseload management approach due to external pressures, like shifts in the law or client needs.\"\n",
            "  _Tip: Look for adaptability in case management style._\n",
            "\n",
            "#### Scenario\n",
            "\n",
            "\"A client brings in a complex multi-faceted case that requires various legal expertise areas, and you're leading the case team. Outline how you would assign tasks and manage the case to ensure a comprehensive and timely approach.\"\n",
            "\n",
            "_Tip: The response should illuminate the candidate's ability to oversee a complex caseload, ensuring thorough coverage without sacrificing attention to detail._\n",
            "\n",
            "\n"
          ]
        }
      ],
      "source": [
        "technical_assessment_4 = create_run(client,my_thread,my_assistant,\"Generate the 4th Technical Assessment. Don't include the main section header.\")\n",
        "print(technical_assessment_4)"
      ]
    },
    {
      "cell_type": "code",
      "execution_count": 69,
      "metadata": {
        "colab": {
          "base_uri": "https://localhost:8080/"
        },
        "id": "2W1k4KMwTWYo",
        "outputId": "c8b18291-db52-4cdc-d768-601f1d0ed93e"
      },
      "outputs": [
        {
          "name": "stdout",
          "output_type": "stream",
          "text": [
            "### Technical Competence 5: Complex Legal Issue Resolution\n",
            "\n",
            "_Ability to navigate and resolve intricate legal issues effectively, employing negotiation, research, writing, and advocacy skills._\n",
            "\n",
            "#### Lead Question\n",
            "\n",
            "\"Describe your process for untangling a complex real estate litigation matter from initial problem identification to resolution.\"\n",
            "\n",
            "_Tip: Expect detailed problem-solving methodology and strategic planning._\n",
            "\n",
            "#### Probing Questions\n",
            "\n",
            "- \"What techniques do you use in negotiation to ensure you achieve the best possible outcome for your client?\"\n",
            "  _Tip: Assess negotiation skills and the ability to attain favorable resolutions._\n",
            "\n",
            "- \"How do you approach legal research when confronted with a unique issue, and what resources do you rely on?\"\n",
            "  _Tip: Look for comprehensive research strategies and resourcefulness._\n",
            "\n",
            "- \"Discuss a written argument you crafted that had a significant impact on the decision in a case.\"\n",
            "  _Tip: Evaluate legal writing skills and the ability to persuade through documentation._\n",
            "\n",
            "- \"Describe your most compelling courtroom advocacy moment and the preparation that went into it.\"\n",
            "  _Tip: Seek examples of courtroom savvy and preparation leading to successful outcomes._\n",
            "\n",
            "#### Scenario\n",
            "\n",
            "\"Consider a scenario where you represent a landlord in a complex eviction case that has garnered media attention and public interest. How would you handle the legal and public relations aspects to protect your client's reputation and legal interests?\"\n",
            "\n",
            "_Tip: The candidate’s approach should show a balance between legal strategy and sensitivity to public perceptions._\n",
            "\n",
            "\n"
          ]
        }
      ],
      "source": [
        "technical_assessment_5 = create_run(client,my_thread,my_assistant,\"Generate the 5th Technical Assessment. Don't include the main section header.\")\n",
        "print(technical_assessment_5)"
      ]
    },
    {
      "cell_type": "code",
      "execution_count": 70,
      "metadata": {
        "id": "TqPsbclGTZmJ"
      },
      "outputs": [],
      "source": [
        "technical_assessment = technical_assessment_1 + technical_assessment_2 + technical_assessment_3 + technical_assessment_4 + technical_assessment_5"
      ]
    },
    {
      "cell_type": "markdown",
      "metadata": {
        "id": "GXQquee34Q9k"
      },
      "source": [
        "# Create Behavioral Assessment"
      ]
    },
    {
      "cell_type": "code",
      "execution_count": 71,
      "metadata": {
        "colab": {
          "base_uri": "https://localhost:8080/"
        },
        "id": "_14Q6lQO4N9R",
        "outputId": "88dc7806-c0c0-4633-d569-05600795c014"
      },
      "outputs": [
        {
          "name": "stdout",
          "output_type": "stream",
          "text": [
            "## Behavioral Assessment\n",
            "\n",
            "Behavioral competencies are as crucial as technical ones, providing insights into the candidate's interpersonal skills and alignment with company culture.\n",
            "\n",
            "### Behavioral Competence 1: Client-Centric Focus\n",
            "\n",
            "_Demonstrates a dedication to understanding and fulfilling client needs, ensuring that every action taken is with the client's best interest in mind._\n",
            "\n",
            "#### Lead Question\n",
            "\n",
            "\"Reflect on a time when you had to make a tough decision that was in the best interest of the client, potentially at the expense of your firm's immediate interests.\"\n",
            "\n",
            "_Tip: Look for examples that show the candidate puts client needs first._\n",
            "\n",
            "#### Probing Questions\n",
            "\n",
            "- \"How do you navigate situations where the client's goals and legal realities do not align?\"\n",
            "  _Tip: Assess how the candidate manages client expectations._\n",
            "\n",
            "- \"Describe a lasting relationship you have developed with a client. What actions do you believe fostered this relationship?\"\n",
            "  _Tip: Seek understanding of how they build rapport and trust._\n",
            "\n",
            "- \"Share an example of how you have customized your communication to successfully guide a client through a legal process.\"\n",
            "  _Tip: Evaluate the candidate's adaptability in communication styles._\n",
            "\n",
            "- \"What do you consider to be the most important factor in delivering client outcomes, and how do you ensure its presence in your work?\"\n",
            "  _Tip: Determine whether their focus is on results that align with client expectations._\n",
            "\n",
            "#### Scenario\n",
            "\n",
            "\"A high-value client expresses dissatisfaction with the direction of a case you are leading. They are considering taking their business to another firm. How do you address their concerns and retain their business?\"\n",
            "\n",
            "_Tip: The scenario should test the candidate’s client service ethic and ability to handle criticism productively._\n",
            "\n",
            "\n"
          ]
        }
      ],
      "source": [
        "behavioral_assessment_1 = create_run(client,my_thread,my_assistant,\"Generate the 1st Behavioral Assessment section.\")\n",
        "print(behavioral_assessment_1)"
      ]
    },
    {
      "cell_type": "code",
      "execution_count": 72,
      "metadata": {
        "colab": {
          "base_uri": "https://localhost:8080/"
        },
        "id": "HT3Q_lDjg6SO",
        "outputId": "67bc20fe-4fab-48db-987f-5b48d582516e"
      },
      "outputs": [
        {
          "name": "stdout",
          "output_type": "stream",
          "text": [
            "### Behavioral Competence 2: Collaboration within a Diverse Team\n",
            "\n",
            "_Valuing and contributing to teamwork, with an emphasis on respecting diverse perspectives and fostering a collaborative work environment._\n",
            "\n",
            "#### Lead Question\n",
            "\n",
            "\"Give us an example of a time when you worked as part of a diverse team to achieve a common goal. What did you learn from that experience?\"\n",
            "\n",
            "_Tip: Look for insight into the candidate's ability to work with diverse individuals and learn from different viewpoints._\n",
            "\n",
            "#### Probing Questions\n",
            "\n",
            "- \"How do you approach a situation where your team members have differing opinions on a case?\"\n",
            "  _Tip: Assess the candidate’s conflict resolution and consensus-building skills._\n",
            "\n",
            "- \"What methods have you employed in the past to ensure clear and constructive team communication?\"\n",
            "  _Tip: Evaluate the mechanisms they use to facilitate effective team communication._\n",
            "\n",
            "- \"Discuss a moment when you took the initiative to support a team member who needed assistance. What prompted you to act and what was the result?\"\n",
            "  _Tip: Examine their commitment to the team and willingness to lend support._\n",
            "\n",
            "- \"Tell us about a time when your team fell short of a goal. How did you address it and what was the outcome?\"\n",
            "  _Tip: Look for the ability to reflect on team failures constructively and implement changes._\n",
            "\n",
            "#### Scenario\n",
            "\n",
            "\"A project is at risk due to clashing approaches among team members. As a leader, outline how you would handle the disagreements and get the team back on track.\"\n",
            "\n",
            "_Tip: This response should highlight the candidate’s leadership and team building skills._\n",
            "\n",
            "\n"
          ]
        }
      ],
      "source": [
        "behavioral_assessment_2 = create_run(client,my_thread,my_assistant,\"Generate the 2nd Behavioral Assessment section. Don't include the main section header.\")\n",
        "print(behavioral_assessment_2)"
      ]
    },
    {
      "cell_type": "code",
      "execution_count": 73,
      "metadata": {
        "colab": {
          "base_uri": "https://localhost:8080/"
        },
        "id": "lWl-q-ZFhQNU",
        "outputId": "b318ec29-e27e-4df6-ea4b-b2c899155452"
      },
      "outputs": [
        {
          "name": "stdout",
          "output_type": "stream",
          "text": [
            "### Behavioral Competence 3: Adaptive to a Fast-Paced Environment\n",
            "\n",
            "_Thrives in dynamic, high-pressure situations, demonstrating resilience, quick decision-making, and effective multitasking capabilities._\n",
            "\n",
            "#### Lead Question\n",
            "\n",
            "\"Can you discuss a time when you had to quickly adapt to a fast-paced change in your work environment? How did you maintain your effectiveness?\"\n",
            "\n",
            "_Tip: Observe the candidate's ability to maintain composure and efficiency under rapid change._\n",
            "\n",
            "#### Probing Questions\n",
            "\n",
            "- \"How do you manage stress in a high-pressure situation without it affecting your performance?\"\n",
            "  _Tip: Gauge the candidate's stress management strategies and resilience._\n",
            "\n",
            "- \"Describe a situation where you had to make a critical decision quickly. What was the situation and how did you approach it?\"\n",
            "  _Tip: Assess decision-making skills under time constraints._\n",
            "\n",
            "- \"Tell me about a time when you had to juggle multiple responsibilities at once. How did you ensure all tasks were completed successfully?\"\n",
            "  _Tip: Evaluate the candidate's multitasking abilities and organizational skills._\n",
            "\n",
            "- \"What strategies do you use to stay agile and responsive in a constantly changing legal landscape?\"\n",
            "  _Tip: Look for adaptability and a proactive approach to continuous change._\n",
            "\n",
            "#### Scenario\n",
            "\n",
            "\"You are required to handle an emergency client matter on the day of a crucial filing deadline. How would you balance the immediate needs of your client with the need to meet the deadline?\"\n",
            "\n",
            "_Tip: The candidate’s answer should showcase their ability to prioritize and effectively manage competing demands._\n",
            "\n",
            "\n"
          ]
        }
      ],
      "source": [
        "behavioral_assessment_3 = create_run(client,my_thread,my_assistant,\"Generate the 3rd Behavioral Assessment section. Don't include the main section header.\")\n",
        "print(behavioral_assessment_3)"
      ]
    },
    {
      "cell_type": "code",
      "execution_count": 74,
      "metadata": {
        "colab": {
          "base_uri": "https://localhost:8080/"
        },
        "id": "wQKG2ZxmhTbF",
        "outputId": "47f44f15-4bc9-496e-8d2a-89e1e4852337"
      },
      "outputs": [
        {
          "name": "stdout",
          "output_type": "stream",
          "text": [
            "### Behavioral Competence 4: Ethical Practice and Responsibility\n",
            "\n",
            "_Dedicated to upholding the highest standards of integrity and responsible conduct in all professional matters, ensuring the trust of clients and the respect of peers._\n",
            "\n",
            "#### Lead Question\n",
            "\n",
            "\"Provide an example of a difficult ethical dilemma you have faced in your career and how you resolved it.\"\n",
            "\n",
            "_Tip: Look for a clear ethical stance and appropriate resolution actions._\n",
            "\n",
            "#### Probing Questions\n",
            "\n",
            "- \"How do you maintain professional responsibility, particularly when under tight deadlines or client pressure?\"\n",
            "  _Tip: Assess the candidate’s ability to withstand pressure without compromising ethical standards._\n",
            "\n",
            "- \"Describe how you ensure confidentiality in sensitive client situations.\"\n",
            "  _Tip: Evaluate the candidate’s procedures for protecting privileged information._\n",
            "\n",
            "- \"Tell us about a time when you identified a regulatory compliance issue and the steps you took to correct it.\"\n",
            "  _Tip: Determine the candidate’s proactiveness and knowledge in dealing with compliance matters._\n",
            "\n",
            "- \"Share a situation where maintaining professional integrity impacted your work or case outcome.\"\n",
            "  _Tip: Gauge the importance the candidate places on integrity in their decision-making._\n",
            "\n",
            "#### Scenario\n",
            "\n",
            "\"During preparations for a case, you discover a document that could weaken your position but has not been requested by the opposition. Ethically, you are obligated to disclose this document. Explain how you would handle the situation.\"\n",
            "\n",
            "_Tip: The scenario should test the candidate's commitment to ethical practice, even when it may not be in their immediate interest._\n",
            "\n",
            "\n"
          ]
        }
      ],
      "source": [
        "behavioral_assessment_4 = create_run(client,my_thread,my_assistant,\"Generate the 4th Behavioral Assessment section. Don't include the main section header.\")\n",
        "print(behavioral_assessment_4)"
      ]
    },
    {
      "cell_type": "code",
      "execution_count": 75,
      "metadata": {
        "colab": {
          "base_uri": "https://localhost:8080/"
        },
        "id": "gwcBpL0ZhWxW",
        "outputId": "181af5bf-40d9-4c21-d709-4b2fac9062c5"
      },
      "outputs": [
        {
          "name": "stdout",
          "output_type": "stream",
          "text": [
            "### Behavioral Competence 5: Continuous Learning and Skill Development\n",
            "\n",
            "_Demonstrates a commitment to personal and professional growth, actively keeping abreast of legal trends, and utilizing feedback to enhance performance._\n",
            "\n",
            "#### Lead Question\n",
            "\n",
            "\"Describe a situation where you had to learn a new area of law quickly to assist a client. How did you approach this learning challenge?\"\n",
            "\n",
            "_Tip: Evaluate the candidate's learning agility and dedication to professional development._\n",
            "\n",
            "#### Probing Questions\n",
            "\n",
            "- \"How do you stay current with the latest developments in real estate litigation?\"\n",
            "  _Tip: Assess methods for ongoing education and staying informed._\n",
            "\n",
            "- \"Can you give an example of a time when you received constructive feedback? How did you respond and what was the result?\"\n",
            "  _Tip: Gauge receptivity to feedback and the ability to use it for improvement._\n",
            "\n",
            "- \"Share your experience with implementing a new technology or process within your legal practice.\"\n",
            "  _Tip: Look for adaptability and initiative to enhance work processes._\n",
            "\n",
            "- \"Describe how you have taken the initiative to develop a new skill that has benefited your legal career.\"\n",
            "  _Tip: Determine proactiveness in self-directed learning and skill acquisition._\n",
            "\n",
            "#### Scenario\n",
            "\n",
            "\"You have just attended a seminar on a new legal technology platform that could significantly improve your department's efficiency. How would you go about advocating for its adoption?\"\n",
            "\n",
            "_Tip: The answer should showcase the candidate's ability to translate learning into practical benefits for the organization._\n",
            "\n",
            "\n"
          ]
        }
      ],
      "source": [
        "behavioral_assessment_5 = create_run(client,my_thread,my_assistant,\"Generate the 5th Behavioral Assessment section. Don't include the main section header.\")\n",
        "print(behavioral_assessment_5)"
      ]
    },
    {
      "cell_type": "code",
      "execution_count": 76,
      "metadata": {
        "id": "GN20fqZPhhkS"
      },
      "outputs": [],
      "source": [
        "behavioral_assessment = behavioral_assessment_1 + behavioral_assessment_2 + behavioral_assessment_3 + behavioral_assessment_4 + behavioral_assessment_5"
      ]
    },
    {
      "cell_type": "markdown",
      "metadata": {
        "id": "7A6ZM1-G4dQn"
      },
      "source": [
        "# Create Practical Assignment"
      ]
    },
    {
      "cell_type": "code",
      "execution_count": 77,
      "metadata": {
        "colab": {
          "base_uri": "https://localhost:8080/"
        },
        "id": "N_xZRljj4cMB",
        "outputId": "1cfa5c1e-2bea-48d8-a100-1036e0dcfd4b"
      },
      "outputs": [
        {
          "name": "stdout",
          "output_type": "stream",
          "text": [
            "## Practical Assignment\n",
            "\n",
            "The practical assignment for the Real Estate Litigation Department Attorney role will evaluate the candidate's abilities to apply their legal knowledge and skills in a real-world context.\n",
            "\n",
            "**Assignment:** The candidate will be given a hypothetical but realistic case scenario involving a complex real estate dispute. They will be tasked with drafting a motion to dismiss, including legal arguments and supporting evidence.\n",
            "\n",
            "**Objectives:**\n",
            "\n",
            "- To assess the candidate’s legal analytical skills.\n",
            "- To evaluate their ability to write clear, persuasive legal documents.\n",
            "- To judge their strategic thinking in formulating arguments.\n",
            "\n",
            "**Evaluation Criteria:**\n",
            "\n",
            "- **Clarity of Argument**: The motion should present a clear and logical argument.\n",
            "- **Persuasiveness**: It should be convincing, with well-supported claims.\n",
            "- **Knowledge of Law**: The motion must demonstrate a deep understanding of applicable laws and precedents.\n",
            "- **Attention to Detail**: The candidate should show attention to detail in the preparation of the document.\n",
            "\n",
            "The practical assignment is a crucial part of the evaluation process as it provides direct insight into the candidate’s work and thought process, reflecting their potential as an attorney within the firm.\n",
            "\n",
            "\n"
          ]
        }
      ],
      "source": [
        "practical_assignment = create_run(client,my_thread,my_assistant,\"Generate the Practical Assignment section.\")\n",
        "print(practical_assignment)\n"
      ]
    },
    {
      "cell_type": "markdown",
      "metadata": {
        "id": "WuW7-2ie4niI"
      },
      "source": [
        "# Create Team Interaction"
      ]
    },
    {
      "cell_type": "code",
      "execution_count": 78,
      "metadata": {
        "colab": {
          "base_uri": "https://localhost:8080/"
        },
        "id": "Tzl6B_wB4prG",
        "outputId": "9cc5ab6e-c357-4ed9-93f1-c00270d5749d"
      },
      "outputs": [
        {
          "name": "stdout",
          "output_type": "stream",
          "text": [
            "## Team Fit\n",
            "\n",
            "Evaluating how a candidate interacts with the team provides critical insights into their potential fit within the firm's culture and work environment.\n",
            "\n",
            "**Discussion Points:**\n",
            "\n",
            "- The candidate's ability to engage in a collaborative work style.\n",
            "- Openness to different perspectives and constructive feedback.\n",
            "- Willingness to share knowledge and contribute to the team's success.\n",
            "- Approach to conflict resolution within a team setting.\n",
            "\n",
            "**Activities:**\n",
            "\n",
            "- Collaborative problem-solving exercises related to real estate litigation.\n",
            "- Group discussions on hypothetical cases or recent legal developments.\n",
            "- Simulations of team meetings to plan strategy for complex cases.\n",
            "\n",
            "Observing the candidate in these interactions will allow for an assessment of their communication skills, adaptability, and compatibility with the team and overall firm culture.\n",
            "\n",
            "\n"
          ]
        }
      ],
      "source": [
        "team_interaction = create_run(client,my_thread,my_assistant,\"Generate the Team Interaction section.\")\n",
        "print(team_interaction)"
      ]
    },
    {
      "cell_type": "markdown",
      "metadata": {
        "id": "fwB0KPJM4qSI"
      },
      "source": [
        "# Create Candidate Q&A"
      ]
    },
    {
      "cell_type": "code",
      "execution_count": 79,
      "metadata": {
        "colab": {
          "base_uri": "https://localhost:8080/"
        },
        "id": "9iEeRg924sST",
        "outputId": "14834dc6-7fd1-4eff-f336-c5fb9cd76a3d"
      },
      "outputs": [
        {
          "name": "stdout",
          "output_type": "stream",
          "text": [
            "## Candidate Q&A\n",
            "\n",
            "Candidates often have questions about the role, the firm, and the expectations. Here are six potential questions with comprehensive answers that reflect the firm’s practices and culture.\n",
            "\n",
            "**Question:** \"What opportunities for professional growth does the firm offer?\"\n",
            "\n",
            "**Answer:** \"We have a robust professional development program that includes mentorship, ongoing legal education, and opportunities to work on diverse and challenging cases.\"\n",
            "\n",
            "**Question:** \"How does the firm ensure work-life balance for its attorneys?\"\n",
            "\n",
            "**Answer:** \"We encourage work-life balance through flexible work arrangements, supportive team structures, and an understanding that personal well-being is crucial to professional success.\"\n",
            "\n",
            "**Question:** \"Can you tell me more about the firm’s culture and how new attorneys are integrated into the team?\"\n",
            "\n",
            "**Answer:** \"Our firm prides itself on a collegial atmosphere where new attorneys are welcomed with mentorship opportunities and inclusive team projects to ensure smooth integration.\"\n",
            "\n",
            "**Question:** \"What kind of support can I expect when handling complex cases?\"\n",
            "\n",
            "**Answer:** \"You will have access to our research teams, experienced paralegals, and senior attorneys to guide you through complex legal challenges.\"\n",
            "\n",
            "**Question:** \"How does the firm approach innovation in legal practice?\"\n",
            "\n",
            "**Answer:** \"We encourage attorneys to leverage cutting-edge legal technologies and provide platforms for innovation in legal strategies and processes.\"\n",
            "\n",
            "**Question:** \"What community engagement or pro bono work does the firm participate in?\"\n",
            "\n",
            "**Answer:** \"We are committed to giving back to the community through pro bono work and service initiatives, reinforcing our responsibility to contribute to society’s well-being.\"\n",
            "\n",
            "\n"
          ]
        }
      ],
      "source": [
        "candidate_questions = create_run(client,my_thread,my_assistant,\"\"\"\n",
        "    Generate the Candidate Q&A section. Include example answers.\n",
        "    \"\"\")\n",
        "print(candidate_questions)"
      ]
    },
    {
      "cell_type": "markdown",
      "metadata": {
        "id": "14LWju-TkCyZ"
      },
      "source": [
        "# Finalize the Playbook HTML"
      ]
    },
    {
      "cell_type": "markdown",
      "metadata": {
        "id": "lQyaspI3Tbu0"
      },
      "source": [
        "## Create a markdown version\n",
        "\n",
        "For use in GitHub as an example"
      ]
    },
    {
      "cell_type": "code",
      "execution_count": 80,
      "metadata": {
        "id": "byUTb57wTXRG"
      },
      "outputs": [],
      "source": [
        "playbook_md = (introduction + \"\\n\\n\" +\n",
        "            job_description + \"\\n\\n\" +\n",
        "            eval_criteria + \"\\n\\n\" +\n",
        "            technical_assessment + \"\\n\\n\" +\n",
        "            behavioral_assessment + \"\\n\\n\" +\n",
        "            practical_assignment + \"\\n\\n\" +\n",
        "            candidate_questions + \"\\n\\n\" +\n",
        "            team_interaction + \"\\n\\n\" )\n",
        "\n",
        "# Write playbook to a text file\n",
        "with open(markdown_destination, 'w') as file:\n",
        "    file.write(playbook_md)"
      ]
    },
    {
      "cell_type": "markdown",
      "metadata": {
        "id": "hxk5korrTkks"
      },
      "source": [
        "## Convert the markdown to HTML"
      ]
    },
    {
      "cell_type": "markdown",
      "metadata": {
        "id": "LM_V2VoceTjx"
      },
      "source": [
        "We are doing this in chunks so that we can do more useful things with it in the HTML output"
      ]
    },
    {
      "cell_type": "code",
      "execution_count": 81,
      "metadata": {
        "id": "saH2GGfdTjzh"
      },
      "outputs": [],
      "source": [
        "import markdown\n",
        "\n",
        "# Convert Markdown to HTML\n",
        "html_playbook = markdown.markdown(playbook_md, extensions=['extra','mdx_truly_sane_lists'])\n",
        "\n",
        "# Convert Markdown to HTML\n",
        "html_job_description = markdown.markdown(job_description, extensions=['extra','mdx_truly_sane_lists'])\n",
        "html_introduction = markdown.markdown(introduction, extensions=['extra','mdx_truly_sane_lists'])\n",
        "html_technical_assessment = markdown.markdown(technical_assessment, extensions=['extra','mdx_truly_sane_lists'])\n",
        "html_behavioral_assessment = markdown.markdown(behavioral_assessment, extensions=['extra','mdx_truly_sane_lists'])\n",
        "html_practical_assignment = markdown.markdown(practical_assignment, extensions=['extra','mdx_truly_sane_lists'])\n",
        "html_candidate_questions = markdown.markdown(candidate_questions, extensions=['extra','mdx_truly_sane_lists'])\n",
        "html_team_interaction = markdown.markdown(team_interaction, extensions=['extra','mdx_truly_sane_lists'])\n",
        "html_eval_criteria = markdown.markdown(eval_criteria, extensions=['extra','mdx_truly_sane_lists'])\n",
        "\n",
        "\n",
        "html_technical_assessment_1 = markdown.markdown(technical_assessment_1, extensions=['extra','mdx_truly_sane_lists'])\n",
        "html_technical_assessment_2 = markdown.markdown(technical_assessment_2, extensions=['extra','mdx_truly_sane_lists'])\n",
        "html_technical_assessment_3 = markdown.markdown(technical_assessment_3, extensions=['extra','mdx_truly_sane_lists'])\n",
        "html_technical_assessment_4 = markdown.markdown(technical_assessment_4, extensions=['extra','mdx_truly_sane_lists'])\n",
        "html_technical_assessment_5 = markdown.markdown(technical_assessment_5, extensions=['extra','mdx_truly_sane_lists'])\n",
        "\n",
        "html_behavioral_assessment_1 = markdown.markdown(behavioral_assessment_1, extensions=['extra','mdx_truly_sane_lists'])\n",
        "html_behavioral_assessment_2 = markdown.markdown(behavioral_assessment_2, extensions=['extra','mdx_truly_sane_lists'])\n",
        "html_behavioral_assessment_3 = markdown.markdown(behavioral_assessment_3, extensions=['extra','mdx_truly_sane_lists'])\n",
        "html_behavioral_assessment_4 = markdown.markdown(behavioral_assessment_4, extensions=['extra','mdx_truly_sane_lists'])\n",
        "html_behavioral_assessment_5 = markdown.markdown(behavioral_assessment_5, extensions=['extra','mdx_truly_sane_lists'])\n",
        "\n"
      ]
    },
    {
      "cell_type": "markdown",
      "metadata": {
        "id": "S9YOnvQrds_P"
      },
      "source": [
        "## Build the HTML"
      ]
    },
    {
      "cell_type": "markdown",
      "metadata": {
        "id": "b-59Vx2xdrsb"
      },
      "source": [
        "Borrowed colors from this [color palette](https://color.adobe.com/PALETTE-mini-06:-Transparent-color-theme-15d8c4a6-b06a-4530-bf5b-3fc8102ccd69)"
      ]
    },
    {
      "cell_type": "code",
      "execution_count": 82,
      "metadata": {
        "id": "HZ5d6Q8ij_Rd"
      },
      "outputs": [],
      "source": [
        "# Open the file and read the contents\n",
        "with open('styles.css', 'r') as file:\n",
        "    # Read the entire content of the file into a single string variable\n",
        "    styles = file.read()\n",
        "\n",
        "\n",
        "html_notes = \"\"\"<h4>Notes</h4><div class='notes'>\n",
        "    <div class=\"dotted-line\"></div>\n",
        "    <div class=\"dotted-line\"></div>\n",
        "    <div class=\"dotted-line\"></div>\n",
        "    <div class=\"dotted-line\"></div>\n",
        "    <div class=\"dotted-line\"></div>\n",
        "    <div class=\"dotted-line\"></div>\n",
        "    <div class=\"rating-container\">\n",
        "    <label for=\"rating-line\">Rating (1-5):</label>\n",
        "    <div id=\"rating-line\" class=\"short-dotted-line\"></div>\n",
        "    </div>\n",
        "</div>\"\"\"\n",
        "\n",
        "html_short_notes = \"\"\"<h4>Notes</h4><div class='notes'>\n",
        "    <div class=\"dotted-line\"></div>\n",
        "    <div class=\"dotted-line\"></div>\n",
        "    <div class=\"dotted-line\"></div>\n",
        "    <div class=\"rating-container\">\n",
        "    <label for=\"rating-line\">Rating (1-5):</label>\n",
        "    <div class=\"short-dotted-line\"></div>\n",
        "    </div>\n",
        "</div>\"\"\"\n",
        "\n",
        "from datetime import datetime\n",
        "\n",
        "# Getting today's date in a nicely formatted string for US English\n",
        "publication_date = datetime.now().strftime(\"%B %d, %Y\")\n",
        "\n",
        "\n",
        "# Define the HTML template\n",
        "html_content = rf\"\"\"\n",
        "<meta charset=\"utf-8\">\n",
        "<html>\n",
        "<head>\n",
        "  <link href=\"https://fonts.googleapis.com/css2?family=Source%20Sans%20Pro\" rel=\"stylesheet\">\n",
        "  <link href=\"https://fonts.googleapis.com/css2?family=Libre%20Baskerville\" rel=\"stylesheet\">\n",
        "  <style>\n",
        "  {styles}\n",
        "  </style>\n",
        "</head>\n",
        "<body>\n",
        "    <section class=\"intro\" id=\"intro\">\n",
        "    <div class=\"publication-date\">Published on {publication_date} by the <a href=\"https://github.com/androb/deliverables/tree/main/interviewplaybook\">Interview Playbook Generator</a>.</div>\n",
        "    {html_introduction}\n",
        "    </section>\n",
        "    <section class='main' id=\"contents\">\n",
        "      <h1>Table of Contents</h1>\n",
        "      <ul>\n",
        "        <li><a href=\"#job_description\">Job Description</a></li>\n",
        "        <li><a href=\"#eval_criteria\">Evaluation Criteria</a></li>\n",
        "        <li><a href=\"#technical_assessment_1\">Technical Assessment</a></li>\n",
        "        <li><a href=\"#behavioral_assessment_1\">Behavioral Assessment</a></li>\n",
        "        <li><a href=\"#practical_assignment\">Practical Assignment</a></li>\n",
        "        <li><a href=\"#team_interaction\">Team Interaction</a></li>\n",
        "        <li><a href=\"#candidate_questions\">Candidate Questions</a></li>\n",
        "      </ul>\n",
        "    </section>\n",
        "    <section class='main' id=\"job_description\">\n",
        "    {html_job_description}\n",
        "    </section>\n",
        "    <section class='main' id=\"eval_criteria\">\n",
        "    {html_eval_criteria}\n",
        "    </section>\n",
        "    <section class='main' id=\"technical_assessment_1\">\n",
        "      {html_technical_assessment_1}\n",
        "     {html_short_notes}\n",
        "    </section>\n",
        "    <section class='main' id=\"technical_assessment_2\">\n",
        "      {html_technical_assessment_2}\n",
        "     {html_notes}\n",
        "    </section>\n",
        "        <section class='main' id=\"technical_assessment_3\">\n",
        "      {html_technical_assessment_3}\n",
        "     {html_notes}\n",
        "    </section>\n",
        "    <section class='main' id=\"technical_assessment_4\">\n",
        "      {html_technical_assessment_4}\n",
        "     {html_notes}\n",
        "    </section>\n",
        "        <section class='main' id=\"technical_assessment_5\">\n",
        "      {html_technical_assessment_5}\n",
        "     {html_notes}\n",
        "    </section>\n",
        "    <section class=\"main\" id=\"behavioral_assessment_1\">\n",
        "    {html_behavioral_assessment_1}\n",
        "     {html_short_notes}\n",
        "    </section>\n",
        "    <section class=\"main\" id=\"behavioral_assessment_2\">\n",
        "    {html_behavioral_assessment_2}\n",
        "     {html_notes}\n",
        "    </section>\n",
        "    <section class=\"main\" id=\"behavioral_assessment_3\">\n",
        "    {html_behavioral_assessment_3}\n",
        "     {html_notes}\n",
        "    </section>\n",
        "        <section class=\"main\" id=\"behavioral_assessment_4\">\n",
        "    {html_behavioral_assessment_4}\n",
        "     {html_notes}\n",
        "    </section>\n",
        "        <section class=\"main\" id=\"behavioral_assessment_5\">\n",
        "    {html_behavioral_assessment_5}\n",
        "     {html_notes}\n",
        "    </section>\n",
        "    <section class=\"main\" id=\"practical_assignment\">\n",
        "    {html_practical_assignment}\n",
        "    {html_notes}\n",
        "    </section>\n",
        "    <section class=\"main\" id=\"team_interaction\">\n",
        "    {html_team_interaction}\n",
        "    {html_notes}\n",
        "    </section>\n",
        "    <section class=\"main\" id=\"candidate_questions\">\n",
        "    {html_candidate_questions}\n",
        "    </section>\n",
        "\n",
        "</body>\n",
        "</html>\"\"\"\n",
        "\n",
        "# Write HTML string to a file\n",
        "with open(html_destination, 'w') as file:\n",
        "    file.write(html_content)\n",
        "\n"
      ]
    },
    {
      "cell_type": "markdown",
      "metadata": {
        "id": "1u3ZnTgHdSRQ"
      },
      "source": [
        "Display the HTML content here so we can review it"
      ]
    },
    {
      "cell_type": "code",
      "execution_count": 83,
      "metadata": {
        "colab": {
          "base_uri": "https://localhost:8080/",
          "height": 1000
        },
        "id": "5emj-h1RdP-q",
        "outputId": "1c599aba-2474-4e0a-df68-dab478b51270"
      },
      "outputs": [],
      "source": [
        "# Display the Markdown-formatted text in the notebook\n",
        "from IPython.display import display, HTML\n",
        "# display(HTML(html_content))"
      ]
    },
    {
      "cell_type": "markdown",
      "metadata": {
        "id": "O616O7upoV-T"
      },
      "source": [
        "# Create the Documents"
      ]
    },
    {
      "cell_type": "markdown",
      "metadata": {
        "id": "D04s7TxrS98T"
      },
      "source": [
        "Create the PDF"
      ]
    },
    {
      "cell_type": "code",
      "execution_count": 84,
      "metadata": {
        "colab": {
          "base_uri": "https://localhost:8080/",
          "height": 225
        },
        "id": "IvxTVtggloVo",
        "outputId": "8ba9612a-1bea-4daa-93d4-35291600f0e8"
      },
      "outputs": [],
      "source": [
        "from weasyprint import HTML\n",
        "\n",
        "# Convert HTML to PDF using WeasyPrint\n",
        "#HTML('playbook.html').write_pdf('playbook.pdf', stylesheets=['style.css'], presentational_hints=True)\n",
        "HTML(html_destination).write_pdf(pdf_destination, presentational_hints=True)\n",
        "\n"
      ]
    },
    {
      "cell_type": "markdown",
      "metadata": {
        "id": "3E7xN0QjS6p5"
      },
      "source": [
        "Create the Word document"
      ]
    },
    {
      "cell_type": "code",
      "execution_count": 85,
      "metadata": {
        "id": "sAhMgYsb0lp3"
      },
      "outputs": [
        {
          "name": "stdout",
          "output_type": "stream",
          "text": [
            "examples/real-estate-litigator/playbook.html\n",
            "examples/real-estate-litigator/playbook.docx\n",
            "[WARNING] Could not deduce format from file extension \n",
            "  Defaulting to markdown\n",
            "[WARNING] Could not deduce format from file extension \n",
            "  Defaulting to html\n",
            "pandoc: html_destination: withBinaryFile: does not exist (No such file or directory)\n"
          ]
        }
      ],
      "source": [
        "# Convert HTML to Docx\n",
        "print(html_destination)\n",
        "print(word_destination)\n",
        "!pandoc -s html_destination -o word_destination\n",
        "\n",
        "# from google.colab import files\n",
        "# files.download('playbook.docx')"
      ]
    }
  ],
  "metadata": {
    "colab": {
      "provenance": []
    },
    "kernelspec": {
      "display_name": "Python 3",
      "name": "python3"
    },
    "language_info": {
      "codemirror_mode": {
        "name": "ipython",
        "version": 3
      },
      "file_extension": ".py",
      "mimetype": "text/x-python",
      "name": "python",
      "nbconvert_exporter": "python",
      "pygments_lexer": "ipython3",
      "version": "3.12.0"
    }
  },
  "nbformat": 4,
  "nbformat_minor": 0
}
