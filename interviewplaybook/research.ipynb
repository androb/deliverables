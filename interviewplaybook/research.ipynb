{
 "cells": [
  {
   "cell_type": "code",
   "execution_count": 5,
   "metadata": {},
   "outputs": [
    {
     "name": "stdout",
     "output_type": "stream",
     "text": [
      "Collecting langchain-openai\n",
      "  Downloading langchain_openai-0.0.3-py3-none-any.whl.metadata (2.5 kB)\n",
      "Collecting langchain-core<0.2,>=0.1.13 (from langchain-openai)\n",
      "  Downloading langchain_core-0.1.13-py3-none-any.whl.metadata (5.9 kB)\n",
      "Requirement already satisfied: numpy<2,>=1 in /Users/andrewroberts/anaconda3/envs/deliverables/lib/python3.12/site-packages (from langchain-openai) (1.26.3)\n",
      "Collecting openai<2.0.0,>=1.6.1 (from langchain-openai)\n",
      "  Using cached openai-1.8.0-py3-none-any.whl.metadata (18 kB)\n",
      "Requirement already satisfied: tiktoken<0.6.0,>=0.5.2 in /Users/andrewroberts/anaconda3/envs/deliverables/lib/python3.12/site-packages (from langchain-openai) (0.5.2)\n",
      "Requirement already satisfied: PyYAML>=5.3 in /Users/andrewroberts/anaconda3/envs/deliverables/lib/python3.12/site-packages (from langchain-core<0.2,>=0.1.13->langchain-openai) (6.0.1)\n",
      "Requirement already satisfied: anyio<5,>=3 in /Users/andrewroberts/anaconda3/envs/deliverables/lib/python3.12/site-packages (from langchain-core<0.2,>=0.1.13->langchain-openai) (4.2.0)\n",
      "Requirement already satisfied: jsonpatch<2.0,>=1.33 in /Users/andrewroberts/anaconda3/envs/deliverables/lib/python3.12/site-packages (from langchain-core<0.2,>=0.1.13->langchain-openai) (1.33)\n",
      "Collecting langsmith<0.0.84,>=0.0.83 (from langchain-core<0.2,>=0.1.13->langchain-openai)\n",
      "  Downloading langsmith-0.0.83-py3-none-any.whl.metadata (10 kB)\n",
      "Requirement already satisfied: packaging<24.0,>=23.2 in /Users/andrewroberts/anaconda3/envs/deliverables/lib/python3.12/site-packages (from langchain-core<0.2,>=0.1.13->langchain-openai) (23.2)\n",
      "Requirement already satisfied: pydantic<3,>=1 in /Users/andrewroberts/anaconda3/envs/deliverables/lib/python3.12/site-packages (from langchain-core<0.2,>=0.1.13->langchain-openai) (2.5.2)\n",
      "Requirement already satisfied: requests<3,>=2 in /Users/andrewroberts/anaconda3/envs/deliverables/lib/python3.12/site-packages (from langchain-core<0.2,>=0.1.13->langchain-openai) (2.31.0)\n",
      "Requirement already satisfied: tenacity<9.0.0,>=8.1.0 in /Users/andrewroberts/anaconda3/envs/deliverables/lib/python3.12/site-packages (from langchain-core<0.2,>=0.1.13->langchain-openai) (8.2.3)\n",
      "Requirement already satisfied: distro<2,>=1.7.0 in /Users/andrewroberts/anaconda3/envs/deliverables/lib/python3.12/site-packages (from openai<2.0.0,>=1.6.1->langchain-openai) (1.8.0)\n",
      "Requirement already satisfied: httpx<1,>=0.23.0 in /Users/andrewroberts/anaconda3/envs/deliverables/lib/python3.12/site-packages (from openai<2.0.0,>=1.6.1->langchain-openai) (0.25.2)\n",
      "Requirement already satisfied: sniffio in /Users/andrewroberts/anaconda3/envs/deliverables/lib/python3.12/site-packages (from openai<2.0.0,>=1.6.1->langchain-openai) (1.3.0)\n",
      "Requirement already satisfied: tqdm>4 in /Users/andrewroberts/anaconda3/envs/deliverables/lib/python3.12/site-packages (from openai<2.0.0,>=1.6.1->langchain-openai) (4.66.1)\n",
      "Requirement already satisfied: typing-extensions<5,>=4.7 in /Users/andrewroberts/anaconda3/envs/deliverables/lib/python3.12/site-packages (from openai<2.0.0,>=1.6.1->langchain-openai) (4.9.0)\n",
      "Requirement already satisfied: regex>=2022.1.18 in /Users/andrewroberts/anaconda3/envs/deliverables/lib/python3.12/site-packages (from tiktoken<0.6.0,>=0.5.2->langchain-openai) (2023.12.25)\n",
      "Requirement already satisfied: idna>=2.8 in /Users/andrewroberts/anaconda3/envs/deliverables/lib/python3.12/site-packages (from anyio<5,>=3->langchain-core<0.2,>=0.1.13->langchain-openai) (3.6)\n",
      "Requirement already satisfied: certifi in /Users/andrewroberts/anaconda3/envs/deliverables/lib/python3.12/site-packages (from httpx<1,>=0.23.0->openai<2.0.0,>=1.6.1->langchain-openai) (2023.11.17)\n",
      "Requirement already satisfied: httpcore==1.* in /Users/andrewroberts/anaconda3/envs/deliverables/lib/python3.12/site-packages (from httpx<1,>=0.23.0->openai<2.0.0,>=1.6.1->langchain-openai) (1.0.2)\n",
      "Requirement already satisfied: h11<0.15,>=0.13 in /Users/andrewroberts/anaconda3/envs/deliverables/lib/python3.12/site-packages (from httpcore==1.*->httpx<1,>=0.23.0->openai<2.0.0,>=1.6.1->langchain-openai) (0.14.0)\n",
      "Requirement already satisfied: jsonpointer>=1.9 in /Users/andrewroberts/anaconda3/envs/deliverables/lib/python3.12/site-packages (from jsonpatch<2.0,>=1.33->langchain-core<0.2,>=0.1.13->langchain-openai) (2.4)\n",
      "Requirement already satisfied: annotated-types>=0.4.0 in /Users/andrewroberts/anaconda3/envs/deliverables/lib/python3.12/site-packages (from pydantic<3,>=1->langchain-core<0.2,>=0.1.13->langchain-openai) (0.6.0)\n",
      "Requirement already satisfied: pydantic-core==2.14.5 in /Users/andrewroberts/anaconda3/envs/deliverables/lib/python3.12/site-packages (from pydantic<3,>=1->langchain-core<0.2,>=0.1.13->langchain-openai) (2.14.5)\n",
      "Requirement already satisfied: charset-normalizer<4,>=2 in /Users/andrewroberts/anaconda3/envs/deliverables/lib/python3.12/site-packages (from requests<3,>=2->langchain-core<0.2,>=0.1.13->langchain-openai) (3.3.2)\n",
      "Requirement already satisfied: urllib3<3,>=1.21.1 in /Users/andrewroberts/anaconda3/envs/deliverables/lib/python3.12/site-packages (from requests<3,>=2->langchain-core<0.2,>=0.1.13->langchain-openai) (2.1.0)\n",
      "Downloading langchain_openai-0.0.3-py3-none-any.whl (28 kB)\n",
      "Downloading langchain_core-0.1.13-py3-none-any.whl (228 kB)\n",
      "\u001b[2K   \u001b[90m━━━━━━━━━━━━━━━━━━━━━━━━━━━━━━━━━━━━━━━━\u001b[0m \u001b[32m228.7/228.7 kB\u001b[0m \u001b[31m1.5 MB/s\u001b[0m eta \u001b[36m0:00:00\u001b[0ma \u001b[36m0:00:01\u001b[0m\n",
      "\u001b[?25hUsing cached openai-1.8.0-py3-none-any.whl (222 kB)\n",
      "Downloading langsmith-0.0.83-py3-none-any.whl (49 kB)\n",
      "\u001b[2K   \u001b[90m━━━━━━━━━━━━━━━━━━━━━━━━━━━━━━━━━━━━━━━━\u001b[0m \u001b[32m49.3/49.3 kB\u001b[0m \u001b[31m3.5 MB/s\u001b[0m eta \u001b[36m0:00:00\u001b[0m\n",
      "\u001b[?25hInstalling collected packages: openai, langsmith, langchain-core, langchain-openai\n",
      "  Attempting uninstall: openai\n",
      "    Found existing installation: openai 1.6.0\n",
      "    Uninstalling openai-1.6.0:\n",
      "      Successfully uninstalled openai-1.6.0\n",
      "  Attempting uninstall: langsmith\n",
      "    Found existing installation: langsmith 0.0.77\n",
      "    Uninstalling langsmith-0.0.77:\n",
      "      Successfully uninstalled langsmith-0.0.77\n",
      "  Attempting uninstall: langchain-core\n",
      "    Found existing installation: langchain-core 0.1.5\n",
      "    Uninstalling langchain-core-0.1.5:\n",
      "      Successfully uninstalled langchain-core-0.1.5\n",
      "Successfully installed langchain-core-0.1.13 langchain-openai-0.0.3 langsmith-0.0.83 openai-1.8.0\n",
      "Note: you may need to restart the kernel to use updated packages.\n"
     ]
    }
   ],
   "source": [
    "%pip install langchain-openai"
   ]
  },
  {
   "cell_type": "code",
   "execution_count": 6,
   "metadata": {},
   "outputs": [],
   "source": [
    "import openai\n",
    "import os\n",
    "\n",
    "os.environ[\"OPENAI_API_KEY\"] = os.getenv(\"OPENAI_API_KEY\")"
   ]
  },
  {
   "cell_type": "code",
   "execution_count": 7,
   "metadata": {},
   "outputs": [],
   "source": [
    "from langchain_openai import ChatOpenAI\n",
    "\n",
    "llm = ChatOpenAI()"
   ]
  },
  {
   "cell_type": "code",
   "execution_count": 8,
   "metadata": {},
   "outputs": [
    {
     "data": {
      "text/plain": [
       "AIMessage(content=\"Langsmith can help with testing in several ways:\\n\\n1. Test Automation: Langsmith can assist in automating the testing process by generating test scripts and executing them. It can generate a variety of test cases based on the provided inputs, ensuring comprehensive coverage. This helps in saving time and effort compared to manual testing.\\n\\n2. Test Data Generation: Langsmith can generate test data that covers a wide range of scenarios and edge cases. This helps in testing the software's robustness and ensures that all possible scenarios are considered. It can also generate large volumes of test data for performance testing.\\n\\n3. Test Case Generation: Langsmith can generate test cases based on the software's requirements or specifications. It can analyze the inputs and outputs of the system and generate test cases that cover all possible scenarios. This helps in ensuring that the software is thoroughly tested.\\n\\n4. Error Detection: Langsmith can analyze the software's code and identify potential errors or bugs. It can perform static code analysis and detect issues like null pointer exceptions, potential memory leaks, or other coding mistakes. This helps in eliminating errors before the software is deployed for testing.\\n\\n5. Test Coverage Analysis: Langsmith can analyze the code and determine the areas that are covered or not covered by the tests. It can identify the parts of the software that need more testing and provide suggestions for improving test coverage. This helps in ensuring that all critical parts of the software are thoroughly tested.\\n\\nOverall, Langsmith's capabilities in test automation, test data generation, test case generation, error detection, and test coverage analysis can significantly enhance the testing process, improve the quality of the software, and reduce the time and effort required for testing.\")"
      ]
     },
     "execution_count": 8,
     "metadata": {},
     "output_type": "execute_result"
    }
   ],
   "source": [
    "llm.invoke(\"how can langsmith help with testing?\")"
   ]
  }
 ],
 "metadata": {
  "kernelspec": {
   "display_name": "deliverables",
   "language": "python",
   "name": "python3"
  },
  "language_info": {
   "codemirror_mode": {
    "name": "ipython",
    "version": 3
   },
   "file_extension": ".py",
   "mimetype": "text/x-python",
   "name": "python",
   "nbconvert_exporter": "python",
   "pygments_lexer": "ipython3",
   "version": "3.12.0"
  }
 },
 "nbformat": 4,
 "nbformat_minor": 2
}
